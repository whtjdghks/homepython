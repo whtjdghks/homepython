{
 "cells": [
  {
   "cell_type": "markdown",
   "id": "800f0e34",
   "metadata": {},
   "source": [
    "# import re  (정규화)\n",
    "R ,Python ,Spring ,JSP,JAVA,JavaScript 다 사용한다"
   ]
  },
  {
   "cell_type": "code",
   "execution_count": null,
   "id": "967b6b9e",
   "metadata": {},
   "outputs": [],
   "source": [
    "import pandas as pd\n",
    "\n",
    "file_path = '../data/chipotle.tsv'\n",
    "\n",
    "chipo = pd.read_csv(file_path, sep='\\t')\n",
    "\n",
    "print(chipo.shape)  # 안써도 무방\n",
    "print('------------------------')\n",
    "print(chipo.info())\n"
   ]
  },
  {
   "cell_type": "code",
   "execution_count": null,
   "id": "428c7647",
   "metadata": {},
   "outputs": [],
   "source": [
    "chipo.head(10)\n",
    "\n",
    "print(chipo.columns)\n",
    "print('-------------------------------------------------')\n",
    "print(chipo.index)"
   ]
  },
  {
   "cell_type": "code",
   "execution_count": null,
   "id": "5e8382d8",
   "metadata": {},
   "outputs": [],
   "source": [
    "chipo['order_id']=chipo['order_id'].astype(str)\n",
    "print(chipo.describe())"
   ]
  },
  {
   "cell_type": "markdown",
   "id": "a1d1ba07",
   "metadata": {},
   "source": [
    "# order_id 개수 , item_name 개수"
   ]
  },
  {
   "cell_type": "code",
   "execution_count": null,
   "id": "8d17084e",
   "metadata": {},
   "outputs": [],
   "source": [
    "print(len(chipo['order_id'].unique())) \n",
    "# . unique() 유일값 을 알 수 있음\n",
    "# 고유열 확인용\n",
    "print(len(chipo['item_name'].unique()))"
   ]
  },
  {
   "cell_type": "markdown",
   "id": "b6fb3045",
   "metadata": {},
   "source": [
    "# 가장많이 주문한 아이템 Top10 구하기"
   ]
  },
  {
   "cell_type": "code",
   "execution_count": null,
   "id": "25d9d7a7",
   "metadata": {},
   "outputs": [],
   "source": [
    "item_count =chipo['item_name'].value_counts()[:10]\n",
    "for idx,(val,cnt) in enumerate(item_count.iteritems(),1):\n",
    "    print(\"Top\",idx,\":\",val,cnt)"
   ]
  },
  {
   "cell_type": "markdown",
   "id": "54c31104",
   "metadata": {},
   "source": [
    "# 아이템별 주문 개수와 총량"
   ]
  },
  {
   "cell_type": "code",
   "execution_count": null,
   "id": "bbca3f68",
   "metadata": {},
   "outputs": [],
   "source": [
    "order_count = chipo.groupby('item_name')['order_id'].count()\n",
    "order_count[:10]"
   ]
  }
 ],
 "metadata": {
  "kernelspec": {
   "display_name": "Python 3",
   "language": "python",
   "name": "python3"
  },
  "language_info": {
   "codemirror_mode": {
    "name": "ipython",
    "version": 3
   },
   "file_extension": ".py",
   "mimetype": "text/x-python",
   "name": "python",
   "nbconvert_exporter": "python",
   "pygments_lexer": "ipython3",
   "version": "3.8.8"
  }
 },
 "nbformat": 4,
 "nbformat_minor": 5
}
