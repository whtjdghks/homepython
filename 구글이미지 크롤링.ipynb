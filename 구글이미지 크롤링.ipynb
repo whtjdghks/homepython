{
 "cells": [
  {
   "cell_type": "code",
   "execution_count": 40,
   "id": "2ad0d62a",
   "metadata": {},
   "outputs": [
    {
     "name": "stdout",
     "output_type": "stream",
     "text": [
      "검색 하고 싶은 이미지 : 인간\n",
      "수집 개수 : 1\n",
      "확인된 이미지 개수 :  84\n"
     ]
    }
   ],
   "source": [
    "from selenium import webdriver\n",
    "from bs4 import BeautifulSoup as soups\n",
    "\n",
    "def search_selenium(search_name, search_path, search_limit) :\n",
    "    search_url = \"https://www.google.com/search?q=\" + str(search_name) + \"&hl=ko&tbm=isch\"\n",
    "    \n",
    "    path = webdriver.Chrome('C:/Users/R3600/drv/chromedriver.exe') \n",
    "    # 크롬드라이버 경로  및 파일명 입력 해주세요 △\n",
    "    path.get(search_url)\n",
    "    \n",
    "    image_count = len(path.find_elements_by_tag_name(\"img\"))\n",
    "    # 이미 갯수를 여기서  △ 확인\n",
    "    print(\"확인된 이미지 개수 : \", image_count) \n",
    "\n",
    "    path.implicitly_wait(2) # 2초 대기\n",
    "\n",
    "    for i in range( search_limit ) :\n",
    "        #image = path.find_elements_by_tag_name(\"img\")[i]\n",
    "        image = path.find_elements_by_css_selector('#islrg > div.islrc > div:nth-child(1) > a.wXeWr.islib.nfEiy > div.bRMDJf.islir > img')[i]\n",
    "        image.screenshot(\"C:/Users/R3600/빅데이터 수집/\" + str(i) + \".png\")\n",
    "\n",
    "    path.close()\n",
    "\n",
    "if __name__ == \"__main__\" :\n",
    "\n",
    "    search_name = input(\"검색 하고 싶은 이미지 : \")\n",
    "    search_limit = int(input(\"수집 개수 : \"))\n",
    "    search_path = \"Your Path\"\n",
    "    # search_maybe(search_name, search_limit, search_path)\n",
    "    search_selenium(search_name, search_path, search_limit)"
   ]
  }
 ],
 "metadata": {
  "kernelspec": {
   "display_name": "Python 3",
   "language": "python",
   "name": "python3"
  },
  "language_info": {
   "codemirror_mode": {
    "name": "ipython",
    "version": 3
   },
   "file_extension": ".py",
   "mimetype": "text/x-python",
   "name": "python",
   "nbconvert_exporter": "python",
   "pygments_lexer": "ipython3",
   "version": "3.8.8"
  }
 },
 "nbformat": 4,
 "nbformat_minor": 5
}
