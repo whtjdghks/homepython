{
 "cells": [
  {
   "cell_type": "code",
   "execution_count": 2,
   "id": "335b1d52",
   "metadata": {},
   "outputs": [],
   "source": [
    "import numpy as np\n",
    "import pandas as pd\n",
    "import matplotlib.pyplot as plt"
   ]
  },
  {
   "cell_type": "code",
   "execution_count": 3,
   "id": "ca3ce994",
   "metadata": {},
   "outputs": [],
   "source": [
    "plt.rc('font', family='Malgun Gothic')\n",
    "cnt, PNG, UNDERBAR = 0, '.png', '_'\n",
    "CHART_NAME = 'brokenLineExam'"
   ]
  },
  {
   "cell_type": "code",
   "execution_count": 4,
   "id": "efead159",
   "metadata": {},
   "outputs": [
    {
     "name": "stdout",
     "output_type": "stream",
     "text": [
      "brokenLineExam_01.png 파일이 저장되었습니다.\n"
     ]
    },
    {
     "data": {
      "text/plain": [
       "<Figure size 432x288 with 0 Axes>"
      ]
     },
     "metadata": {},
     "output_type": "display_data"
    }
   ],
   "source": [
    "cnt += 1\n",
    "savefile = CHART_NAME + UNDERBAR + str(cnt).zfill(2) + PNG\n",
    "plt.savefig(savefile, dpi=400)\n",
    "print(savefile + ' 파일이 저장되었습니다.')"
   ]
  },
  {
   "cell_type": "code",
   "execution_count": null,
   "id": "c9d2c1f4",
   "metadata": {},
   "outputs": [],
   "source": []
  }
 ],
 "metadata": {
  "kernelspec": {
   "display_name": "Python 3",
   "language": "python",
   "name": "python3"
  },
  "language_info": {
   "codemirror_mode": {
    "name": "ipython",
    "version": 3
   },
   "file_extension": ".py",
   "mimetype": "text/x-python",
   "name": "python",
   "nbconvert_exporter": "python",
   "pygments_lexer": "ipython3",
   "version": "3.8.8"
  }
 },
 "nbformat": 4,
 "nbformat_minor": 5
}
