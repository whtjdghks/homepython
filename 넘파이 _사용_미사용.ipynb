{
 "cells": [
  {
   "cell_type": "markdown",
   "id": "45847515",
   "metadata": {},
   "source": [
    "# 넘파이를 사용했을 때와 사용하지 않았을때 차이\n"
   ]
  },
  {
   "cell_type": "code",
   "execution_count": null,
   "id": "b9ff147c",
   "metadata": {},
   "outputs": [],
   "source": [
    "# 넘파이 사용\n",
    "import matplotlib.pyplot as plt\n",
    "import numpy as np\n",
    "dice = np.random.choice(6,10)\n",
    "\n",
    "plt.hist(dice,bins = 6)\n",
    "plt.show()"
   ]
  },
  {
   "cell_type": "code",
   "execution_count": null,
   "id": "9ec7b57a",
   "metadata": {},
   "outputs": [],
   "source": [
    "# 넘파이를 안쓸때\n",
    "import matplotlib.pyplot as plt\n",
    "import random\n",
    "dice=[]\n",
    "\n",
    "for i in range(10):\n",
    "    dice.append(random.randint(1,6))\n",
    "\n",
    "plt.hist(dice,bins = 6)\n",
    "plt.show()"
   ]
  },
  {
   "cell_type": "code",
   "execution_count": null,
   "id": "8cc3f5f5",
   "metadata": {},
   "outputs": [],
   "source": [
    "import matplotlib.pyplot as plt\n",
    "import numpy as np\n",
    "\n",
    "dice = np.random.choice(6,10000,p=[0.1,0.2,0.3,0.2,0.1,0.1])\n",
    "plt.hist(dice,bins=6) # 0,1,2,3,4,5 중 랜덤으로 추출한 숫자를 히스토그램 표현\n",
    "plt.show()"
   ]
  },
  {
   "cell_type": "markdown",
   "id": "263f3496",
   "metadata": {},
   "source": [
    "# 넘파이 버블 차트 그리기"
   ]
  },
  {
   "cell_type": "code",
   "execution_count": null,
   "id": "c927ab05",
   "metadata": {},
   "outputs": [],
   "source": [
    "import matplotlib.pyplot as plt\n",
    "import numpy as np\n",
    "\n",
    "x = np.random.randint(10,100,200)\n",
    "y = np.random.randint(10,100,200)\n",
    "size = np.random.randint(100)*100\n",
    "\n",
    "plt.scatter(x,y,s=size,c=x,cmap='jet',alpha = 0.7)\n",
    "plt.colorbar()\n",
    "plt.show()"
   ]
  },
  {
   "cell_type": "markdown",
   "id": "09a28fae",
   "metadata": {},
   "source": [
    "# 넘파이 array 활용"
   ]
  },
  {
   "cell_type": "code",
   "execution_count": null,
   "id": "e1a5b7f5",
   "metadata": {},
   "outputs": [],
   "source": [
    "import matplotlib.pyplot as plt\n",
    "import numpy as np\n",
    "\n",
    "a = np.arange(-np.pi , np.pi,np.pi/100)\n",
    "plt.plot(a,np.sin(a))\n",
    "plt.show()"
   ]
  },
  {
   "cell_type": "markdown",
   "id": "8e98991d",
   "metadata": {},
   "source": [
    "# 넘파이 array 활용2 "
   ]
  },
  {
   "cell_type": "code",
   "execution_count": null,
   "id": "b62088fb",
   "metadata": {},
   "outputs": [],
   "source": [
    "import matplotlib.pyplot as plt\n",
    "import numpy as np\n",
    "\n",
    "a = np.arange(-np.pi , np.pi,np.pi/100)\n",
    "plt.plot(a,np.sin(a))\n",
    "plt.plot(a,np.cos(a))\n",
    "plt.plot(a+np.pi/2,np.sin(a))\n",
    "plt.show()"
   ]
  },
  {
   "cell_type": "markdown",
   "id": "18f8d6c9",
   "metadata": {},
   "source": [
    "# 넘파이 array 활용 3"
   ]
  },
  {
   "cell_type": "code",
   "execution_count": null,
   "id": "f95443f5",
   "metadata": {},
   "outputs": [],
   "source": [
    "import matplotlib.pyplot as plt\n",
    "import numpy as np\n",
    "\n",
    "x = np.random.randint(-100,100,1000)\n",
    "y = np.random.randint(-100,100,1000)\n",
    "size = np.random.randint(100)*2\n",
    "\n",
    "mask1 =abs(x)>50\n",
    "mask2 =abs(y)>50\n",
    "\n",
    "x=x[mask1+mask2]\n",
    "y=y[mask1+mask2]\n",
    "\n",
    "plt.scatter(x,y,s=size,c=x,cmap='jet',alpha = 0.7)\n",
    "plt.colorbar()\n",
    "plt.show()"
   ]
  },
  {
   "cell_type": "markdown",
   "id": "ac397957",
   "metadata": {},
   "source": [
    "# numpy 와 pandas 활용"
   ]
  },
  {
   "cell_type": "code",
   "execution_count": null,
   "id": "85a9c76b",
   "metadata": {},
   "outputs": [],
   "source": [
    "import pandas as pd\n",
    "import numpy as np\n",
    "import matplotlib.pyplot as plt\n",
    "\n",
    "plt.rc('font',family='Malgun Gothic')\n",
    "df = pd.read_csv('../data/age.csv',encoding='cp949',index_col = 0)\n",
    "df = df.div(df['총인구수'],axis=0)\n",
    "\n",
    "del df['총인구수'],df['연령구간인구수']\n",
    "\n",
    "name = input('원하는 지역의 이름을 입력해 주세요 : ')\n",
    "a = df.index.str.contains(name)\n",
    "df2=df[a]\n",
    "\n",
    "df.loc[np.power(df.sub(df2.iloc[0],axis=1),2).sum(axis=1).sort_values().index[:5]].T.plot()\n",
    "plt.show()\n"
   ]
  }
 ],
 "metadata": {
  "kernelspec": {
   "display_name": "Python 3",
   "language": "python",
   "name": "python3"
  },
  "language_info": {
   "codemirror_mode": {
    "name": "ipython",
    "version": 3
   },
   "file_extension": ".py",
   "mimetype": "text/x-python",
   "name": "python",
   "nbconvert_exporter": "python",
   "pygments_lexer": "ipython3",
   "version": "3.8.8"
  }
 },
 "nbformat": 4,
 "nbformat_minor": 5
}
