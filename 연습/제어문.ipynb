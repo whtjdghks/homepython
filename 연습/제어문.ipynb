{
 "cells": [
  {
   "cell_type": "code",
   "execution_count": 1,
   "id": "51d2deb9",
   "metadata": {
    "scrolled": true
   },
   "outputs": [
    {
     "name": "stdout",
     "output_type": "stream",
     "text": [
      "유비가 1번 방문 했습니다.\n",
      "유비가 2번 방문 했습니다.\n",
      "유비가 3번 방문 했습니다.\n",
      "제갈량이 유비 곁으로 갑니다.\n"
     ]
    }
   ],
   "source": [
    "meet = 0\n",
    "while meet <4: #유비가 제갈량을 방문횟수가 4보다 작을 동안 방문합니다\n",
    "    meet = meet+1 # 방문횟수 증가\n",
    "    print(\"유비가 %d번 방문 했습니다.\"% meet)\n",
    "    if meet ==3: #세 번 만났기 때문에 방문을 종료함\n",
    "        print(\"제갈량이 유비 곁으로 갑니다.\")\n",
    "        break # while문을 빠져나온다"
   ]
  },
  {
   "cell_type": "code",
   "execution_count": 2,
   "id": "6359e2fe",
   "metadata": {
    "scrolled": false
   },
   "outputs": [
    {
     "name": "stdout",
     "output_type": "stream",
     "text": [
      "\n",
      "\n",
      "1.유비\n",
      "\n",
      "2.관우\n",
      "\n",
      "3.장비\n",
      "\n",
      "4.제갈량\n",
      "\n",
      "숫자를 입력하시오 : \n",
      "4\n"
     ]
    }
   ],
   "source": [
    "member = \"\"\"\n",
    "\n",
    "1.유비\n",
    "\n",
    "2.관우\n",
    "\n",
    "3.장비\n",
    "\n",
    "4.제갈량\n",
    "\n",
    "숫자를 입력하시오 : \"\"\"\n",
    "\n",
    "num = 0\n",
    "while num!=4:\n",
    "    print(member) \n",
    "    num = int(input()) # 4나오면 정지"
   ]
  },
  {
   "cell_type": "code",
   "execution_count": 7,
   "id": "14768bf9",
   "metadata": {
    "scrolled": true
   },
   "outputs": [
    {
     "name": "stdout",
     "output_type": "stream",
     "text": [
      "파이썬1\n",
      "파이썬2\n",
      "파이썬3\n",
      "파이썬4\n",
      "파이썬5\n",
      "파이썬6\n",
      "파이썬7\n",
      "파이썬8\n",
      "파이썬9\n",
      "파이썬10\n"
     ]
    }
   ],
   "source": [
    "i = 1\n",
    "while i <11:\n",
    "    print(\"파이썬\"+str(i))\n",
    "    i=i+1"
   ]
  },
  {
   "cell_type": "code",
   "execution_count": 8,
   "id": "ea3cf010",
   "metadata": {
    "scrolled": true
   },
   "outputs": [
    {
     "name": "stdout",
     "output_type": "stream",
     "text": [
      "파\n",
      "이\n",
      "썬\n",
      " \n",
      "프\n",
      "로\n",
      "그\n",
      "래\n",
      "밍\n"
     ]
    }
   ],
   "source": [
    "str = \"파이썬 프로그래밍\"\n",
    "\n",
    "for ch in str:\n",
    "    print(ch)"
   ]
  },
  {
   "cell_type": "markdown",
   "id": "da198b93",
   "metadata": {},
   "source": [
    "# for"
   ]
  },
  {
   "cell_type": "code",
   "execution_count": 3,
   "id": "ca0933a8",
   "metadata": {
    "scrolled": true
   },
   "outputs": [
    {
     "name": "stdout",
     "output_type": "stream",
     "text": [
      "유비\n",
      "관우\n",
      "장비\n",
      "제갈량\n"
     ]
    }
   ],
   "source": [
    "tempList=['유비','관우','장비','제갈량']\n",
    "for i in tempList:\n",
    "    print(i)"
   ]
  },
  {
   "cell_type": "code",
   "execution_count": 4,
   "id": "e8486420",
   "metadata": {
    "scrolled": true
   },
   "outputs": [
    {
     "name": "stdout",
     "output_type": "stream",
     "text": [
      "3\n",
      "7\n",
      "11\n"
     ]
    }
   ],
   "source": [
    "i =[(1,2),(3,4),(5,6)]\n",
    "for (first,last) in i:\n",
    "    print(first+last)"
   ]
  },
  {
   "cell_type": "code",
   "execution_count": 5,
   "id": "8443e84b",
   "metadata": {},
   "outputs": [
    {
     "name": "stdout",
     "output_type": "stream",
     "text": [
      "10\n"
     ]
    }
   ],
   "source": [
    "sum = 0\n",
    "\n",
    "for a in range(1,5):\n",
    "    sum = sum+a\n",
    "print(sum)"
   ]
  },
  {
   "cell_type": "code",
   "execution_count": 6,
   "id": "58e0430f",
   "metadata": {},
   "outputs": [
    {
     "name": "stdout",
     "output_type": "stream",
     "text": [
      "2 * 1 = 2\n",
      "2 * 2 = 4\n",
      "2 * 3 = 6\n",
      "2 * 4 = 8\n",
      "2 * 5 = 10\n",
      "2 * 6 = 12\n",
      "2 * 7 = 14\n",
      "2 * 8 = 16\n",
      "2 * 9 = 18\n",
      "\n",
      "\n",
      "3 * 1 = 3\n",
      "3 * 2 = 6\n",
      "3 * 3 = 9\n",
      "3 * 4 = 12\n",
      "3 * 5 = 15\n",
      "3 * 6 = 18\n",
      "3 * 7 = 21\n",
      "3 * 8 = 24\n",
      "3 * 9 = 27\n",
      "\n",
      "\n",
      "4 * 1 = 4\n",
      "4 * 2 = 8\n",
      "4 * 3 = 12\n",
      "4 * 4 = 16\n",
      "4 * 5 = 20\n",
      "4 * 6 = 24\n",
      "4 * 7 = 28\n",
      "4 * 8 = 32\n",
      "4 * 9 = 36\n",
      "\n",
      "\n",
      "5 * 1 = 5\n",
      "5 * 2 = 10\n",
      "5 * 3 = 15\n",
      "5 * 4 = 20\n",
      "5 * 5 = 25\n",
      "5 * 6 = 30\n",
      "5 * 7 = 35\n",
      "5 * 8 = 40\n",
      "5 * 9 = 45\n",
      "\n",
      "\n",
      "6 * 1 = 6\n",
      "6 * 2 = 12\n",
      "6 * 3 = 18\n",
      "6 * 4 = 24\n",
      "6 * 5 = 30\n",
      "6 * 6 = 36\n",
      "6 * 7 = 42\n",
      "6 * 8 = 48\n",
      "6 * 9 = 54\n",
      "\n",
      "\n",
      "7 * 1 = 7\n",
      "7 * 2 = 14\n",
      "7 * 3 = 21\n",
      "7 * 4 = 28\n",
      "7 * 5 = 35\n",
      "7 * 6 = 42\n",
      "7 * 7 = 49\n",
      "7 * 8 = 56\n",
      "7 * 9 = 63\n",
      "\n",
      "\n",
      "8 * 1 = 8\n",
      "8 * 2 = 16\n",
      "8 * 3 = 24\n",
      "8 * 4 = 32\n",
      "8 * 5 = 40\n",
      "8 * 6 = 48\n",
      "8 * 7 = 56\n",
      "8 * 8 = 64\n",
      "8 * 9 = 72\n",
      "\n",
      "\n",
      "9 * 1 = 9\n",
      "9 * 2 = 18\n",
      "9 * 3 = 27\n",
      "9 * 4 = 36\n",
      "9 * 5 = 45\n",
      "9 * 6 = 54\n",
      "9 * 7 = 63\n",
      "9 * 8 = 72\n",
      "9 * 9 = 81\n",
      "\n",
      "\n"
     ]
    }
   ],
   "source": [
    "for a in range(2,10):\n",
    "    for b in range(1,10):\n",
    "        print(a,\"*\",b,\"=\",a*b)\n",
    "        if b ==9:\n",
    "            print(\"\\n\")"
   ]
  },
  {
   "cell_type": "markdown",
   "id": "75f59226",
   "metadata": {},
   "source": [
    "# break / continue"
   ]
  },
  {
   "cell_type": "code",
   "execution_count": 10,
   "id": "9bd82ba2",
   "metadata": {
    "scrolled": true
   },
   "outputs": [
    {
     "name": "stdout",
     "output_type": "stream",
     "text": [
      "2 x 1 = 2\n",
      "2 x 2 = 4\n",
      "2 x 3 = 6\n",
      "2 x 4 = 8\n",
      "2 x 5 = 10\n",
      "2 x 6 = 12\n",
      "2 x 7 = 14\n",
      "2 x 8 = 16\n",
      "2 x 9 = 18\n",
      "3 x 1 = 3\n",
      "3 x 2 = 6\n",
      "3 x 3 = 9\n",
      "3 x 4 = 12\n",
      "3 x 5 = 15\n",
      "3 x 6 = 18\n",
      "3 x 7 = 21\n",
      "3 x 8 = 24\n",
      "3 x 9 = 27\n",
      "4 x 1 = 4\n",
      "4 x 2 = 8\n",
      "4 x 3 = 12\n",
      "4 x 4 = 16\n",
      "4 x 5 = 20\n",
      "4 x 6 = 24\n",
      "4 x 7 = 28\n",
      "4 x 8 = 32\n",
      "4 x 9 = 36\n",
      "5 x 1 = 5\n",
      "5 x 2 = 10\n",
      "5 x 3 = 15\n",
      "5 x 4 = 20\n",
      "5 x 5 = 25\n",
      "5 x 6 = 30\n",
      "5 x 7 = 35\n",
      "5 x 8 = 40\n",
      "5 x 9 = 45\n"
     ]
    }
   ],
   "source": [
    "for col in range(2,10):\n",
    "    if col >5:\n",
    "        break\n",
    "    for row in range(1,10):\n",
    "        print(col,\"x\",row,\"=\",col*row)"
   ]
  },
  {
   "cell_type": "code",
   "execution_count": 11,
   "id": "5b4b7895",
   "metadata": {},
   "outputs": [
    {
     "name": "stdout",
     "output_type": "stream",
     "text": [
      "1 은 홀수 입니다.\n",
      "3 은 홀수 입니다.\n",
      "5 은 홀수 입니다.\n",
      "7 은 홀수 입니다.\n",
      "9 은 홀수 입니다.\n"
     ]
    }
   ],
   "source": [
    "for n in range(1,11):\n",
    "    if n %2 ==0:\n",
    "        continue\n",
    "    print(n,\"은 홀수 입니다.\")"
   ]
  }
 ],
 "metadata": {
  "kernelspec": {
   "display_name": "Python 3",
   "language": "python",
   "name": "python3"
  },
  "language_info": {
   "codemirror_mode": {
    "name": "ipython",
    "version": 3
   },
   "file_extension": ".py",
   "mimetype": "text/x-python",
   "name": "python",
   "nbconvert_exporter": "python",
   "pygments_lexer": "ipython3",
   "version": "3.8.8"
  }
 },
 "nbformat": 4,
 "nbformat_minor": 5
}
