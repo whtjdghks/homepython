{
 "cells": [
  {
   "cell_type": "code",
   "execution_count": 1,
   "id": "b72834d3",
   "metadata": {
    "scrolled": true
   },
   "outputs": [
    {
     "name": "stdout",
     "output_type": "stream",
     "text": [
      "1 번 학생은 88점으로 합격입니다\n",
      "2 번 학생은 30점으로 불합격입니다\n",
      "3 번 학생은 61점으로 합격입니다\n",
      "4 번 학생은 55점으로 불합격입니다\n",
      "5 번 학생은 95점으로 합격입니다\n"
     ]
    }
   ],
   "source": [
    "result = [88,30,61,55,95]\n",
    "\n",
    "for i in range(0,5):\n",
    "    if result[i] >=60:\n",
    "        ispass = '합격'\n",
    "    else:\n",
    "        ispass = '불합격'\n",
    "    print(\"%d 번 학생은 %d점으로 %s입니다\"%(i+1,result[i],ispass))"
   ]
  },
  {
   "cell_type": "code",
   "execution_count": 2,
   "id": "490c4d25",
   "metadata": {
    "scrolled": true
   },
   "outputs": [
    {
     "name": "stdout",
     "output_type": "stream",
     "text": [
      "1\n",
      "2\n",
      "3\n",
      "4\n",
      "5\n",
      "6\n",
      "7\n",
      "8\n",
      "9\n",
      "10\n",
      "11\n",
      "12\n",
      "13\n",
      "14\n",
      "15\n",
      "16\n",
      "17\n",
      "18\n",
      "19\n",
      "20\n",
      "21\n",
      "22\n",
      "23\n",
      "24\n",
      "25\n",
      "26\n",
      "27\n",
      "28\n",
      "29\n",
      "30\n",
      "31\n",
      "32\n",
      "33\n",
      "34\n",
      "35\n",
      "36\n",
      "37\n",
      "38\n",
      "39\n",
      "40\n",
      "41\n",
      "42\n",
      "43\n",
      "44\n",
      "45\n",
      "46\n",
      "47\n",
      "48\n",
      "49\n",
      "50\n",
      "51\n",
      "52\n",
      "53\n",
      "54\n",
      "55\n",
      "56\n",
      "57\n",
      "58\n",
      "59\n",
      "60\n",
      "61\n",
      "62\n",
      "63\n",
      "64\n",
      "65\n",
      "66\n",
      "67\n",
      "68\n",
      "69\n",
      "70\n",
      "71\n",
      "72\n",
      "73\n",
      "74\n",
      "75\n",
      "76\n",
      "77\n",
      "78\n",
      "79\n",
      "80\n",
      "81\n",
      "82\n",
      "83\n",
      "84\n",
      "85\n",
      "86\n",
      "87\n",
      "88\n",
      "89\n",
      "90\n",
      "91\n",
      "92\n",
      "93\n",
      "94\n",
      "95\n",
      "96\n",
      "97\n",
      "98\n",
      "99\n",
      "100\n"
     ]
    }
   ],
   "source": [
    "for i in range(1,101):\n",
    "    print(i)"
   ]
  },
  {
   "cell_type": "code",
   "execution_count": 5,
   "id": "1150bc49",
   "metadata": {
    "scrolled": true
   },
   "outputs": [
    {
     "name": "stdout",
     "output_type": "stream",
     "text": [
      "2,4,6,8,10,12,14,16,18,20,22,24,26,28,30,32,34,36,38,40,42,44,46,48,50,52,54,56,58,60,62,64,66,68,70,72,74,76,78,80,82,84,86,88,90,92,94,96,98,100,"
     ]
    }
   ],
   "source": [
    "for i in range(1,101):\n",
    "    if not(i&1):\n",
    "        print(i,end=\",\")"
   ]
  },
  {
   "cell_type": "code",
   "execution_count": 6,
   "id": "6b8e548c",
   "metadata": {
    "scrolled": true
   },
   "outputs": [
    {
     "name": "stdout",
     "output_type": "stream",
     "text": [
      "1,3,5,7,9,11,13,15,17,19,21,23,25,27,29,31,33,35,37,39,41,43,45,47,49,51,53,55,57,59,61,63,65,67,69,71,73,75,77,79,81,83,85,87,89,91,93,95,97,9\n"
     ]
    }
   ],
   "source": [
    "result = \"\"\n",
    "for i in range(1,101):\n",
    "    if i &1:\n",
    "        result+=\"%d,\"%i\n",
    "print(result[0:len(result)-2])"
   ]
  },
  {
   "cell_type": "code",
   "execution_count": 7,
   "id": "097e6377",
   "metadata": {},
   "outputs": [
    {
     "name": "stdout",
     "output_type": "stream",
     "text": [
      "1부터 100사이의 숫자 중 3의배수의 총합:1683\n"
     ]
    }
   ],
   "source": [
    "result = 0\n",
    "\n",
    "for i in range(1,101):\n",
    "    if not(i%3):\n",
    "        result +=i\n",
    "        \n",
    "print(\"1부터 100사이의 숫자 중 3의배수의 총합:{0}\".format(result))"
   ]
  },
  {
   "cell_type": "code",
   "execution_count": 9,
   "id": "487d16d8",
   "metadata": {},
   "outputs": [
    {
     "name": "stdout",
     "output_type": "stream",
     "text": [
      "{'A':3,'O':3,'B':2,'AB':2}\n"
     ]
    }
   ],
   "source": [
    "#딕셔너리 구조사용\n",
    "result ={\"A\":0,\"B\":0,\"AB\":0,\"O\":0}\n",
    "students = ['A','A','A','O','B','B','O','AB','AB','O']\n",
    "\n",
    "# 반복문을 돌면서 딕셔너리 값 증가\n",
    "for s in students:\n",
    "    result[s]+=1\n",
    "print(\"{'A':%d,'O':%d,'B':%d,'AB':%d}\"%(result[\"A\"],result[\"O\"],result[\"B\"],result[\"AB\"]))"
   ]
  },
  {
   "cell_type": "code",
   "execution_count": 10,
   "id": "34353f0c",
   "metadata": {},
   "outputs": [
    {
     "name": "stdout",
     "output_type": "stream",
     "text": [
      "454\n"
     ]
    }
   ],
   "source": [
    "students = [85,65,77,83,75,22,98,88,38,100]\n",
    "result = 0\n",
    "# 길이가0이 될때까지 반복\n",
    "\n",
    "while len(students):\n",
    "    \n",
    "    #원소를 하나꺼내서 K에 넣는다, 길이가 1감소됨\n",
    "    k=students.pop()\n",
    "    \n",
    "    #원소가 90보다 크다면 결과값에 더한다\n",
    "    if k>=80:\n",
    "        result+=k\n",
    "print(result)"
   ]
  },
  {
   "cell_type": "code",
   "execution_count": 11,
   "id": "db42cc81",
   "metadata": {
    "scrolled": false
   },
   "outputs": [
    {
     "name": "stdout",
     "output_type": "stream",
     "text": [
      "*****\n",
      "****\n",
      "***\n",
      "**\n",
      "*\n"
     ]
    }
   ],
   "source": [
    "i = 5\n",
    "while i:\n",
    "    print(\"*\"*i)\n",
    "    i-=1"
   ]
  },
  {
   "cell_type": "code",
   "execution_count": 16,
   "id": "2d0a647c",
   "metadata": {
    "scrolled": true
   },
   "outputs": [
    {
     "name": "stdout",
     "output_type": "stream",
     "text": [
      "*******\n",
      "*****\n",
      "***\n",
      "*\n"
     ]
    }
   ],
   "source": [
    "i,k=7,0\n",
    "while i>=0:\n",
    "    print(\"{0}{1}\".format((\"\"*k),(\"*\"*i)))\n",
    "    i-=2\n",
    "    k+=1"
   ]
  },
  {
   "cell_type": "markdown",
   "id": "3c88a41c",
   "metadata": {},
   "source": [
    "### 어떤 한 양의 정수를 입력하여 그 숫자에 0~9가 몇 번 사용되었는지 표시하십시오."
   ]
  },
  {
   "cell_type": "code",
   "execution_count": 25,
   "id": "00471cdc",
   "metadata": {},
   "outputs": [
    {
     "name": "stdout",
     "output_type": "stream",
     "text": [
      "50\n",
      "0 1 2 3 4 5 6 7 8 9\n",
      "1 0 0 0 0 1 0 0 0 0\n"
     ]
    }
   ],
   "source": [
    "##### 횟수를 저장하는 리스트 생성\n",
    "array =[0]*10\n",
    "num = int(input())\n",
    "result=\"\"\n",
    "\n",
    "# num이 0이 될때까지 반복하며 숫자체크\n",
    "while num:\n",
    "    array[num%10]+=1\n",
    "    num//=10\n",
    "    \n",
    "#0~9 까지 출력\n",
    "for i in range(0,10):\n",
    "    result+=\"%d \"%i\n",
    "print(result[0:len(result)-1])\n",
    "\n",
    "#변수 초기화\n",
    "result=\"\"\n",
    "#나온횟수 출력하기\n",
    "for i in range(0,10):\n",
    "    result+=\"%d \"%array[i]\n",
    "print(result[0:len(result)-1])"
   ]
  },
  {
   "cell_type": "code",
   "execution_count": 26,
   "id": "a95c5e22",
   "metadata": {
    "scrolled": true
   },
   "outputs": [
    {
     "name": "stdout",
     "output_type": "stream",
     "text": [
      "*\n",
      "**\n",
      "***\n",
      "****\n",
      "*****\n"
     ]
    }
   ],
   "source": [
    "for i in range(1,6):\n",
    "    print(\"{0}{1}\".format(\"\"*(5-i),\"*\"*i))"
   ]
  },
  {
   "cell_type": "code",
   "execution_count": 28,
   "id": "0b7c4c09",
   "metadata": {},
   "outputs": [
    {
     "name": "stdout",
     "output_type": "stream",
     "text": [
      "6\n",
      "110\n"
     ]
    }
   ],
   "source": [
    "a = int(input())\n",
    "#a를 2진수로 변환\n",
    "#o는 8진수 x는 16진수 X는 대문자 16진수\n",
    "print(format(a, 'b'))"
   ]
  }
 ],
 "metadata": {
  "kernelspec": {
   "display_name": "Python 3",
   "language": "python",
   "name": "python3"
  },
  "language_info": {
   "codemirror_mode": {
    "name": "ipython",
    "version": 3
   },
   "file_extension": ".py",
   "mimetype": "text/x-python",
   "name": "python",
   "nbconvert_exporter": "python",
   "pygments_lexer": "ipython3",
   "version": "3.8.8"
  }
 },
 "nbformat": 4,
 "nbformat_minor": 5
}
