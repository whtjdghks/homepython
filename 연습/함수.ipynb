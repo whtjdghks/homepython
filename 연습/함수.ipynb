{
 "cells": [
  {
   "cell_type": "code",
   "execution_count": 2,
   "id": "4b7affd1",
   "metadata": {
    "scrolled": true
   },
   "outputs": [
    {
     "name": "stdout",
     "output_type": "stream",
     "text": [
      "3\n"
     ]
    }
   ],
   "source": [
    "def sum(a,b):\n",
    "    return a+b\n",
    "\n",
    "a=1\n",
    "b=2\n",
    "c=sum(a,b)\n",
    "\n",
    "print(c)"
   ]
  },
  {
   "cell_type": "code",
   "execution_count": 3,
   "id": "394842a6",
   "metadata": {
    "scrolled": true
   },
   "outputs": [
    {
     "name": "stdout",
     "output_type": "stream",
     "text": [
      "hi\n"
     ]
    }
   ],
   "source": [
    "def hi():\n",
    "    return 'hi'\n",
    "x = hi()\n",
    "print(x)"
   ]
  },
  {
   "cell_type": "code",
   "execution_count": 4,
   "id": "d9c77d2e",
   "metadata": {},
   "outputs": [
    {
     "name": "stdout",
     "output_type": "stream",
     "text": [
      "2X8의 곱은 16 입니다\n"
     ]
    }
   ],
   "source": [
    "def multi(a,b):\n",
    "    print('%dX%d의 곱은 %d 입니다'%(a,b,a*b))\n",
    "    \n",
    "multi(2,8)"
   ]
  },
  {
   "cell_type": "code",
   "execution_count": 5,
   "id": "6b8b48c4",
   "metadata": {},
   "outputs": [
    {
     "name": "stdout",
     "output_type": "stream",
     "text": [
      "55\n"
     ]
    }
   ],
   "source": [
    "def sumMany(*args):\n",
    "    sum = 0\n",
    "    for i in args:\n",
    "        sum=sum+i\n",
    "    return sum\n",
    "\n",
    "temp = sumMany(1,2,3,4,5,6,7,8,9,10)\n",
    "print(temp)"
   ]
  },
  {
   "cell_type": "markdown",
   "id": "b5271dfa",
   "metadata": {},
   "source": [
    "# I/O 함수\n"
   ]
  },
  {
   "cell_type": "code",
   "execution_count": 6,
   "id": "81f97eda",
   "metadata": {},
   "outputs": [
    {
     "name": "stdout",
     "output_type": "stream",
     "text": [
      "문자열을 입력하세요:안녕하세요~ 반가워요~ 잘있어요~ 다시 만나요\n"
     ]
    }
   ],
   "source": [
    "temp = input(\"문자열을 입력하세요:\")"
   ]
  },
  {
   "cell_type": "code",
   "execution_count": 7,
   "id": "6cdb43b3",
   "metadata": {
    "scrolled": true
   },
   "outputs": [
    {
     "name": "stdout",
     "output_type": "stream",
     "text": [
      "안녕하세요~ 반가워요~ 잘있어요~ 다시 만나요\n"
     ]
    }
   ],
   "source": [
    "print(temp)"
   ]
  },
  {
   "cell_type": "code",
   "execution_count": 10,
   "id": "979a6249",
   "metadata": {},
   "outputs": [],
   "source": [
    "f = open(\"./test2.txt\",'w')\n",
    "f.close()"
   ]
  },
  {
   "cell_type": "code",
   "execution_count": 11,
   "id": "0d17ca3c",
   "metadata": {},
   "outputs": [],
   "source": [
    "PATH = './test2.txt'\n",
    "\n",
    "f= open(PATH,'w')\n",
    "\n",
    "for i in range(1,6):\n",
    "    line = '%d 번째 줄.\\n'%i\n",
    "    f.write(line)\n",
    "    \n",
    "f.close()"
   ]
  },
  {
   "cell_type": "code",
   "execution_count": 12,
   "id": "eabbe3a7",
   "metadata": {
    "scrolled": true
   },
   "outputs": [
    {
     "name": "stdout",
     "output_type": "stream",
     "text": [
      "1 번째 줄.\n",
      "\n",
      "2 번째 줄.\n",
      "\n",
      "3 번째 줄.\n",
      "\n",
      "4 번째 줄.\n",
      "\n",
      "5 번째 줄.\n",
      "\n"
     ]
    }
   ],
   "source": [
    "f= open('./test2.txt','r')\n",
    "\n",
    "line = f.readlines()\n",
    "\n",
    "for i in line:\n",
    "    print(i)\n",
    "    "
   ]
  },
  {
   "cell_type": "code",
   "execution_count": null,
   "id": "c7eecc42",
   "metadata": {},
   "outputs": [],
   "source": [
    "# 내용추가"
   ]
  },
  {
   "cell_type": "code",
   "execution_count": 15,
   "id": "bfa284cc",
   "metadata": {},
   "outputs": [],
   "source": [
    "f= open('./test2.txt','a')\n",
    "\n",
    "for i in range(6,11):\n",
    "    line  = '%d 번째 줄\\n'%i\n",
    "    f.write(line)\n",
    "    \n",
    "f.close()"
   ]
  }
 ],
 "metadata": {
  "kernelspec": {
   "display_name": "Python 3",
   "language": "python",
   "name": "python3"
  },
  "language_info": {
   "codemirror_mode": {
    "name": "ipython",
    "version": 3
   },
   "file_extension": ".py",
   "mimetype": "text/x-python",
   "name": "python",
   "nbconvert_exporter": "python",
   "pygments_lexer": "ipython3",
   "version": "3.8.8"
  }
 },
 "nbformat": 4,
 "nbformat_minor": 5
}
