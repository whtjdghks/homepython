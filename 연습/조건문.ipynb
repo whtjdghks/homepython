{
 "cells": [
  {
   "cell_type": "code",
   "execution_count": null,
   "id": "ac35ecf1",
   "metadata": {},
   "outputs": [],
   "source": []
  },
  {
   "cell_type": "markdown",
   "id": "73960b6a",
   "metadata": {},
   "source": [
    "#### 변수 y의 값이 윤년이면 “윤년입니다”를 출력하고 아니라면 “윤년이 아닙니다”라고 출력하는 프로그램을 만든다. 윤년은 2월 29일이 있는 해로 다음과 같이 정해진다.서력 기원 연수가 4로 나누어 떨어지는 해는 윤년으로 한다(2004년, 2008년, 2012년, 2016년, 2020년, 2024년, …).이 중에서 100으로 나누어 떨어지는 해는 평년으로 한다(1900년, 2100년, 2200년, 2300년, 2500년, …).이 중에서 400으로 나누어 떨어지는 해는 윤년으로 둔다(1600년, 2000년, 2400년, …)."
   ]
  },
  {
   "cell_type": "code",
   "execution_count": 35,
   "id": "11c8e528",
   "metadata": {
    "scrolled": true
   },
   "outputs": [
    {
     "name": "stdout",
     "output_type": "stream",
     "text": [
      "1980\n",
      "윤년입니다.\n"
     ]
    }
   ],
   "source": [
    "y = int(input())\n",
    "\n",
    "if y % 4 ==0:\n",
    "    if y%100==0:\n",
    "        if y%400==0:\n",
    "            print(\"윤년입니다\")\n",
    "        else:\n",
    "            print(\"평년입니다\")      \n",
    "    else:\n",
    "        print(\"윤년입니다.\")\n",
    "else:\n",
    "    print(\"윤년이 아닙니다\")\n",
    "    "
   ]
  },
  {
   "cell_type": "markdown",
   "id": "53c1ac18",
   "metadata": {},
   "source": [
    "#### 예를 들어 중학교에서 팔굽혀펴기 시험을 보는데 남자는 10번 이상을 해야 합격(Pass)이고 아니면 불합격(Fail)이다. 여자는 5번 이상을 해야 합격이라면 다음과 같이 프로그램을 만들 수 있다."
   ]
  },
  {
   "cell_type": "code",
   "execution_count": 70,
   "id": "fc835bf2",
   "metadata": {},
   "outputs": [
    {
     "name": "stdout",
     "output_type": "stream",
     "text": [
      "여자\n",
      "10\n",
      "성공\n"
     ]
    }
   ],
   "source": [
    "sex = input()\n",
    "pushup =int(input())\n",
    "\n",
    "if sex ==\"남자\":\n",
    "        if sex == \"남자\" and pushup >=10:\n",
    "            print(\"성공\")\n",
    "        else:\n",
    "            print(\"실패\")\n",
    "            \n",
    "else:\n",
    "    if sex == \"여자\" and pushup >=5:\n",
    "        print(\"성공\")\n",
    "    else:\n",
    "        print(\"실패\")"
   ]
  }
 ],
 "metadata": {
  "kernelspec": {
   "display_name": "Python 3",
   "language": "python",
   "name": "python3"
  },
  "language_info": {
   "codemirror_mode": {
    "name": "ipython",
    "version": 3
   },
   "file_extension": ".py",
   "mimetype": "text/x-python",
   "name": "python",
   "nbconvert_exporter": "python",
   "pygments_lexer": "ipython3",
   "version": "3.8.8"
  }
 },
 "nbformat": 4,
 "nbformat_minor": 5
}
