{
 "cells": [
  {
   "cell_type": "markdown",
   "id": "e257eb6f",
   "metadata": {},
   "source": [
    "# 클래스와 객체"
   ]
  },
  {
   "cell_type": "code",
   "execution_count": 1,
   "id": "1596c2d7",
   "metadata": {},
   "outputs": [],
   "source": [
    "class Horse:\n",
    "    def __init__(self,age,height,color,xpos,ypos):\n",
    "        self.age = age\n",
    "        self.height =height\n",
    "        self.color = color\n",
    "        self.xpos = xpos\n",
    "        self.ypos = ypos\n",
    "        self.velocity = 0"
   ]
  },
  {
   "cell_type": "markdown",
   "id": "10ca73b1",
   "metadata": {},
   "source": [
    "### 인스턴스화"
   ]
  },
  {
   "cell_type": "code",
   "execution_count": 2,
   "id": "2a6e9924",
   "metadata": {},
   "outputs": [],
   "source": [
    "if __name__ == '__main__':\n",
    "    danbi = Horse(5,160,'brown',0,0)"
   ]
  },
  {
   "cell_type": "code",
   "execution_count": 3,
   "id": "6c6f777d",
   "metadata": {},
   "outputs": [
    {
     "name": "stdout",
     "output_type": "stream",
     "text": [
      "<__main__.Horse object at 0x000002DBA6BA3D90>\n"
     ]
    }
   ],
   "source": []
  }
 ],
 "metadata": {
  "kernelspec": {
   "display_name": "Python 3",
   "language": "python",
   "name": "python3"
  },
  "language_info": {
   "codemirror_mode": {
    "name": "ipython",
    "version": 3
   },
   "file_extension": ".py",
   "mimetype": "text/x-python",
   "name": "python",
   "nbconvert_exporter": "python",
   "pygments_lexer": "ipython3",
   "version": "3.8.8"
  }
 },
 "nbformat": 4,
 "nbformat_minor": 5
}
