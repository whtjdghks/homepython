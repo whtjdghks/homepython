{
 "cells": [
  {
   "cell_type": "markdown",
   "id": "e257eb6f",
   "metadata": {},
   "source": [
    "# 클래스와 객체"
   ]
  },
  {
   "cell_type": "code",
   "execution_count": 1,
   "id": "1596c2d7",
   "metadata": {},
   "outputs": [],
   "source": [
    "class Horse:\n",
    "    def __init__(self,age,height,color,xpos,ypos):\n",
    "        self.age = age\n",
    "        self.height =height\n",
    "        self.color = color\n",
    "        self.xpos = xpos\n",
    "        self.ypos = ypos\n",
    "        self.velocity = 0"
   ]
  },
  {
   "cell_type": "markdown",
   "id": "143f1c2b",
   "metadata": {},
   "source": [
    "# 클래스 변수"
   ]
  },
  {
   "cell_type": "code",
   "execution_count": 1,
   "id": "441497d4",
   "metadata": {},
   "outputs": [
    {
     "name": "stdout",
     "output_type": "stream",
     "text": [
      "python\n",
      "python\n"
     ]
    }
   ],
   "source": [
    "class Alphabets:\n",
    "    __str = \"\"\n",
    "    def __init__(self,text):\n",
    "        self.text =text\n",
    "        Alphabets.__str+=text\n",
    "    def print_class_variable(self):\n",
    "        print(Alphabets.__str)\n",
    "        \n",
    "if __name__=='__main__':\n",
    "    o1 = Alphabets('p')\n",
    "    o2 = Alphabets('y')\n",
    "    o3 = Alphabets('t')\n",
    "    o4 = Alphabets('h')\n",
    "    o5 = Alphabets('o')\n",
    "    o6 = Alphabets('n')\n",
    "    \n",
    "    o1.print_class_variable()\n",
    "    o5.print_class_variable()"
   ]
  },
  {
   "cell_type": "markdown",
   "id": "16ab4d91",
   "metadata": {},
   "source": [
    "# 클래스 선언"
   ]
  },
  {
   "cell_type": "code",
   "execution_count": 11,
   "id": "7918c750",
   "metadata": {},
   "outputs": [],
   "source": [
    "class Dog: #클래스 선언\n",
    "    name = '삼식이'\n",
    "    age = 3\n",
    "    bread = '골든 리트리버'\n",
    "    \n",
    "    def bark(self):\n",
    "        print(self.name+'가 멍멍하고 짖는다.')"
   ]
  },
  {
   "cell_type": "markdown",
   "id": "085eba6b",
   "metadata": {},
   "source": [
    "# 인스턴스 생성\n",
    "인스턴스(instance)란 클래스를 기반으로 생성된 객체(object)를 가리킵니다.\n",
    "\n",
    "파이썬에서는 클래스명에 소괄호(())를 사용하여 해당 클래스의 인스턴스를 생성할 수 있습니다.\n",
    "\n",
    "생성된 인스턴스에 닷(.) 연산자를 사용하면 해당 클래스의 속성이나 메소드를 호출할 수 있습니다.<br>\n",
    "\n",
    "> 인스턴스명 = 클래스명()"
   ]
  },
  {
   "cell_type": "code",
   "execution_count": 12,
   "id": "e7ede1e3",
   "metadata": {},
   "outputs": [
    {
     "name": "stdout",
     "output_type": "stream",
     "text": [
      "골든 리트리버\n",
      "삼식이가 멍멍하고 짖는다\n"
     ]
    }
   ],
   "source": [
    "class Dog:\n",
    "    name = '삼식이'\n",
    "    age = 3\n",
    "    breed = '골든 리트리버'\n",
    "    \n",
    "    def bark(self):\n",
    "        print(self.name + '가 멍멍하고 짖는다')\n",
    "        \n",
    "my_dog = Dog() # 인스턴스 생성\n",
    "\n",
    "print(my_dog.breed) #인스턴스의 속성 접근\n",
    "my_dog.bark()"
   ]
  },
  {
   "cell_type": "markdown",
   "id": "e306da70",
   "metadata": {},
   "source": [
    "# 상속"
   ]
  },
  {
   "cell_type": "code",
   "execution_count": 6,
   "id": "c4faa497",
   "metadata": {},
   "outputs": [
    {
     "name": "stdout",
     "output_type": "stream",
     "text": [
      "Neigh\n",
      "Bow-Wow\n"
     ]
    }
   ],
   "source": [
    "import math\n",
    "\n",
    "class Animal:\n",
    "    def __init__(self,age,height,color,xpos,ypos):\n",
    "        self.age = age\n",
    "        self.height=height\n",
    "        self.color = color\n",
    "        self.xposition = xpos\n",
    "        self.yposition = ypos\n",
    "        self.velocity = 0\n",
    "        \n",
    "    def sound(self):\n",
    "        pass\n",
    "    \n",
    "class Horse(Animal):\n",
    "    def __init__(self,age,height,color,xpos,ypos):\n",
    "        Animal.__init__(self,age,height,color,xpos,ypos)\n",
    "        \n",
    "    def sound(self):\n",
    "        print('Neigh')\n",
    "        \n",
    "    def run(self,xdistance,ydistance,time):\n",
    "        self.xposition+=xdistance\n",
    "        self.yposition+=ydistance\n",
    "        total_distance = math.sqrt((xdistance+xdistance)*(ydistance+ydistance))\n",
    "        self.velocity =total_distance/time\n",
    "        \n",
    "class Dog(Animal):\n",
    "    def __init__(self,age,height,color,xpos,ypos):\n",
    "        Animal.__init__(self,age,height,color,xpos,ypos)\n",
    "        \n",
    "    def sound(self):\n",
    "        print('Bow-Wow')\n",
    "        \n",
    "if __name__=='__main__':\n",
    "    danbi = Horse(5,160,'brown',0,0)\n",
    "    choco = Dog(10,100,'black',50,30)\n",
    "    danbi.sound()\n",
    "    choco.sound()"
   ]
  },
  {
   "cell_type": "markdown",
   "id": "1a854913",
   "metadata": {},
   "source": [
    "# 오버라이딩(Overriding) <br>\n",
    "오버라이딩(Overriding)이란 부모 클래스로부터 상속받은 특성을 자식 클래스에서 재정의하는 것을 의미합니다.\n",
    "\n",
    "위의 예제에서 자식 클래스의 생성자는 부모 클래스의 생성자를 오버라이딩하여 작성된 것입니다."
   ]
  },
  {
   "cell_type": "code",
   "execution_count": 7,
   "id": "034a806a",
   "metadata": {
    "scrolled": true
   },
   "outputs": [
    {
     "name": "stdout",
     "output_type": "stream",
     "text": [
      "Neigh\n",
      "Bow-Wow\n"
     ]
    }
   ],
   "source": [
    "if __name__=='__main__':\n",
    "    danbi = Horse(5,160,'brown',0,0)\n",
    "    choco = Dog(10,100,'black',50,30)\n",
    "    danbi.sound()\n",
    "    choco.sound()"
   ]
  },
  {
   "cell_type": "markdown",
   "id": "c891e893",
   "metadata": {},
   "source": [
    "# 다중 상속(Multiplex Inheritance) <br>\n",
    "다중 상속이란 여러 개의 부모 클래스로부터 동시에 특성을 물려받는 것을 의미합니다.\n",
    "\n",
    "C++이나 JAVA 등 일반적인 프로그래밍 언어에서는 보통 다중상속을 허용하지 않고 있습니다.\n",
    "\n",
    " \n",
    "\n",
    "하지만 파이썬에서는 이러한 다중 상속을 허용하며, 자식 클래스를 생성할 때 <br>\n",
    "클래스명 뒤 괄호 안에 특성을 물려받고 싶은 부모 클래스들을 콤마(,)를 사용하여 나열하면 됩니다"
   ]
  },
  {
   "cell_type": "code",
   "execution_count": 10,
   "id": "817e1a55",
   "metadata": {},
   "outputs": [
    {
     "ename": "SyntaxError",
     "evalue": "unexpected EOF while parsing (<ipython-input-10-43e29af7ca8f>, line 1)",
     "output_type": "error",
     "traceback": [
      "\u001b[1;36m  File \u001b[1;32m\"<ipython-input-10-43e29af7ca8f>\"\u001b[1;36m, line \u001b[1;32m1\u001b[0m\n\u001b[1;33m    class WolfDog(Wolf,Dog):\u001b[0m\n\u001b[1;37m                            ^\u001b[0m\n\u001b[1;31mSyntaxError\u001b[0m\u001b[1;31m:\u001b[0m unexpected EOF while parsing\n"
     ]
    }
   ],
   "source": [
    "class WolfDog(Wolf,Dog):"
   ]
  }
 ],
 "metadata": {
  "kernelspec": {
   "display_name": "Python 3",
   "language": "python",
   "name": "python3"
  },
  "language_info": {
   "codemirror_mode": {
    "name": "ipython",
    "version": 3
   },
   "file_extension": ".py",
   "mimetype": "text/x-python",
   "name": "python",
   "nbconvert_exporter": "python",
   "pygments_lexer": "ipython3",
   "version": "3.8.8"
  }
 },
 "nbformat": 4,
 "nbformat_minor": 5
}
