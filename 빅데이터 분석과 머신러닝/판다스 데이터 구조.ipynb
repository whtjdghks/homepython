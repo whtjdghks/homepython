{
 "cells": [
  {
   "cell_type": "markdown",
   "id": "c899e3eb",
   "metadata": {},
   "source": [
    "# 시리즈 만들기"
   ]
  },
  {
   "cell_type": "code",
   "execution_count": 3,
   "id": "09c57d61",
   "metadata": {
    "scrolled": false
   },
   "outputs": [
    {
     "name": "stdout",
     "output_type": "stream",
     "text": [
      "강아지       Dog\n",
      "고양이       Cat\n",
      "호랑이     Tiger\n",
      "사자       Lion\n",
      "원숭이    Monkey\n",
      "dtype: object\n"
     ]
    }
   ],
   "source": [
    "import pandas as pd\n",
    "\n",
    "sd1 = pd.Series(['Dog','Cat','Tiger','Lion','Monkey'],index = ['강아지','고양이','호랑이','사자','원숭이'])\n",
    "\n",
    "print(sd1)"
   ]
  },
  {
   "cell_type": "markdown",
   "id": "8c2e740b",
   "metadata": {},
   "source": [
    "# 딕셔너리 만들기"
   ]
  },
  {
   "cell_type": "code",
   "execution_count": 6,
   "id": "36ba1e13",
   "metadata": {},
   "outputs": [
    {
     "name": "stdout",
     "output_type": "stream",
     "text": [
      "<class 'pandas.core.series.Series'>\n",
      "a    1\n",
      "b    2\n",
      "c    3\n",
      "dtype: int64\n"
     ]
    }
   ],
   "source": [
    "import pandas as pd\n",
    "\n",
    "dict_data = {'a':1,'b':2,'c':3}\n",
    "sd2 = pd.Series(dict_data)\n",
    "\n",
    "print(type(sd2))\n",
    "\n",
    "print(sd2)"
   ]
  },
  {
   "cell_type": "markdown",
   "id": "bd34d7e6",
   "metadata": {},
   "source": [
    "# 딕셔너리 만들기 2"
   ]
  },
  {
   "cell_type": "code",
   "execution_count": 7,
   "id": "5e022bb8",
   "metadata": {},
   "outputs": [
    {
     "name": "stdout",
     "output_type": "stream",
     "text": [
      "        나이\n",
      "동물        \n",
      "Dog      7\n",
      "Cat      9\n",
      "Tiger    2\n",
      "Lion     3\n",
      "Monkey   1\n"
     ]
    }
   ],
   "source": [
    "import pandas as pd\n",
    "\n",
    "dict_data = {'동물':['Dog','Cat','Tiger','Lion','Monkey'],'나이':[7,9,2,3,1]}\n",
    "df1 = pd.DataFrame(dict_data)\n",
    "\n",
    "type(df1)\n",
    "\n",
    "# print(df1) 인덱스가 동물이 아닌 숫자로 나옴\n",
    "print(df1.set_index('동물'))"
   ]
  },
  {
   "cell_type": "code",
   "execution_count": 9,
   "id": "e9915688",
   "metadata": {},
   "outputs": [
    {
     "name": "stdout",
     "output_type": "stream",
     "text": [
      "<class 'pandas.core.frame.DataFrame'>\n",
      "    동물 나이 성별\n",
      "0   인간  3  남\n",
      "1  원숭이  4  여\n",
      "2   사자  5  여\n",
      "3  호랑이  6  남\n",
      "4  강아지  7  여\n"
     ]
    }
   ],
   "source": [
    "# 연습\n",
    "\n",
    "dict_data = {'동물':['인간','원숭이','사자','호랑이','강아지'],'나이':['3','4','5','6','7'],'성별':['남','여','여','남','여']}\n",
    "\n",
    "df1 = pd.DataFrame(dict_data)\n",
    "\n",
    "print(type(df1))\n",
    "\n",
    "print(df1)"
   ]
  },
  {
   "cell_type": "markdown",
   "id": "0d1ae613",
   "metadata": {},
   "source": [
    "# 리스트 만들기"
   ]
  },
  {
   "cell_type": "code",
   "execution_count": 8,
   "id": "b286e19c",
   "metadata": {
    "scrolled": false
   },
   "outputs": [
    {
     "data": {
      "text/plain": [
       "강아지       Dog\n",
       "고양이       Cat\n",
       "호랑이     Tiger\n",
       "사자       Lion\n",
       "원숭이    Monkey\n",
       "dtype: object"
      ]
     },
     "execution_count": 8,
     "metadata": {},
     "output_type": "execute_result"
    }
   ],
   "source": [
    "import pandas as pd\n",
    "\n",
    "list_data = pd.Series(['Dog','Cat','Tiger','Lion','Monkey'],index=['강아지','고양이','호랑이','사자','원숭이'])\n",
    "\n",
    "sd3 = pd.Series(list_data)\n",
    "\n",
    "sd3"
   ]
  },
  {
   "cell_type": "code",
   "execution_count": 8,
   "id": "2e31505a",
   "metadata": {},
   "outputs": [
    {
     "name": "stdout",
     "output_type": "stream",
     "text": [
      "       동물 나이\n",
      "0     Dog  7\n",
      "1     Cat  9\n",
      "2   Tiger  2\n",
      "3    Lion  3\n",
      "4  Monkey  1\n"
     ]
    }
   ],
   "source": [
    "import pandas as pd\n",
    "\n",
    "df2 = pd.DataFrame([['Dog','7'],['Cat','9'],['Tiger','2'],['Lion','3'],['Monkey','1']],\n",
    "                  index = ['0','1','2','3','4'],columns=['동물','나이'])\n",
    "\n",
    "print(df2)"
   ]
  },
  {
   "cell_type": "markdown",
   "id": "ebea53fd",
   "metadata": {},
   "source": [
    "# 튜플 만들기"
   ]
  },
  {
   "cell_type": "code",
   "execution_count": 9,
   "id": "af137533",
   "metadata": {},
   "outputs": [
    {
     "data": {
      "text/plain": [
       "이름             이순신\n",
       "생년월일    1991-03-15\n",
       "성별               남\n",
       "dtype: object"
      ]
     },
     "execution_count": 9,
     "metadata": {},
     "output_type": "execute_result"
    }
   ],
   "source": [
    "import pandas as pd\n",
    "\n",
    "tup_data = ('이순신','1991-03-15','남')\n",
    "\n",
    "sd4 = pd.Series(tup_data,index=['이름','생년월일','성별'])\n",
    "\n",
    "sd4"
   ]
  },
  {
   "cell_type": "code",
   "execution_count": null,
   "id": "fc5e1061",
   "metadata": {},
   "outputs": [],
   "source": []
  }
 ],
 "metadata": {
  "kernelspec": {
   "display_name": "Python 3",
   "language": "python",
   "name": "python3"
  },
  "language_info": {
   "codemirror_mode": {
    "name": "ipython",
    "version": 3
   },
   "file_extension": ".py",
   "mimetype": "text/x-python",
   "name": "python",
   "nbconvert_exporter": "python",
   "pygments_lexer": "ipython3",
   "version": "3.8.8"
  }
 },
 "nbformat": 4,
 "nbformat_minor": 5
}
