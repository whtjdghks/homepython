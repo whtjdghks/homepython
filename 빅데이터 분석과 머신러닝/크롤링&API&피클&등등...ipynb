{
 "cells": [
  {
   "cell_type": "code",
   "execution_count": 1,
   "id": "0f698b11",
   "metadata": {
    "scrolled": true
   },
   "outputs": [
    {
     "name": "stderr",
     "output_type": "stream",
     "text": [
      "C:\\Users\\j\\anaconda3\\lib\\site-packages\\IPython\\core\\interactiveshell.py:3165: DtypeWarning: Columns (4,6) have mixed types.Specify dtype option on import or set low_memory=False.\n",
      "  has_raised = await self.run_ast_nodes(code_ast.body, cell_name,\n"
     ]
    },
    {
     "data": {
      "text/html": [
       "<div>\n",
       "<style scoped>\n",
       "    .dataframe tbody tr th:only-of-type {\n",
       "        vertical-align: middle;\n",
       "    }\n",
       "\n",
       "    .dataframe tbody tr th {\n",
       "        vertical-align: top;\n",
       "    }\n",
       "\n",
       "    .dataframe thead th {\n",
       "        text-align: right;\n",
       "    }\n",
       "</style>\n",
       "<table border=\"1\" class=\"dataframe\">\n",
       "  <thead>\n",
       "    <tr style=\"text-align: right;\">\n",
       "      <th></th>\n",
       "      <th>자전거번호</th>\n",
       "      <th>대여일시</th>\n",
       "      <th>대여 대여소번호</th>\n",
       "      <th>대여 대여소명</th>\n",
       "      <th>대여거치대</th>\n",
       "      <th>반납일시</th>\n",
       "      <th>반납대여소번호</th>\n",
       "      <th>반납대여소명</th>\n",
       "      <th>반납거치대</th>\n",
       "      <th>이용시간</th>\n",
       "      <th>이용거리</th>\n",
       "    </tr>\n",
       "  </thead>\n",
       "  <tbody>\n",
       "    <tr>\n",
       "      <th>0</th>\n",
       "      <td>SPB-30385</td>\n",
       "      <td>2021-05-31 23:07:00</td>\n",
       "      <td>3571</td>\n",
       "      <td>화양 APT(횡단보도 옆)</td>\n",
       "      <td>0</td>\n",
       "      <td>2021-06-01 00:00:00</td>\n",
       "      <td>3538</td>\n",
       "      <td>서울숲 IT캐슬</td>\n",
       "      <td>0</td>\n",
       "      <td>53.0</td>\n",
       "      <td>2502.80</td>\n",
       "    </tr>\n",
       "    <tr>\n",
       "      <th>1</th>\n",
       "      <td>SPB-46321</td>\n",
       "      <td>2021-05-31 23:37:19</td>\n",
       "      <td>1911</td>\n",
       "      <td>구로디지털단지역 앞</td>\n",
       "      <td>0</td>\n",
       "      <td>2021-06-01 00:00:02</td>\n",
       "      <td>1843</td>\n",
       "      <td>독산고등학교</td>\n",
       "      <td>0</td>\n",
       "      <td>22.0</td>\n",
       "      <td>1630.00</td>\n",
       "    </tr>\n",
       "    <tr>\n",
       "      <th>2</th>\n",
       "      <td>SPB-48119</td>\n",
       "      <td>2021-05-31 23:48:40</td>\n",
       "      <td>3860</td>\n",
       "      <td>건국대학교 정문 앞</td>\n",
       "      <td>0</td>\n",
       "      <td>2021-06-01 00:00:03</td>\n",
       "      <td>3586</td>\n",
       "      <td>군자역 비채온 오피스텔</td>\n",
       "      <td>0</td>\n",
       "      <td>11.0</td>\n",
       "      <td>1420.00</td>\n",
       "    </tr>\n",
       "    <tr>\n",
       "      <th>3</th>\n",
       "      <td>SPB-55360</td>\n",
       "      <td>2021-05-31 23:47:52</td>\n",
       "      <td>2222</td>\n",
       "      <td>사당역 12번출구 뒤</td>\n",
       "      <td>0</td>\n",
       "      <td>2021-06-01 00:00:05</td>\n",
       "      <td>2228</td>\n",
       "      <td>뒷벌공원 옆</td>\n",
       "      <td>0</td>\n",
       "      <td>12.0</td>\n",
       "      <td>1350.00</td>\n",
       "    </tr>\n",
       "    <tr>\n",
       "      <th>4</th>\n",
       "      <td>SPB-54699</td>\n",
       "      <td>2021-05-31 23:51:14</td>\n",
       "      <td>1955</td>\n",
       "      <td>디지털입구 교차로</td>\n",
       "      <td>0</td>\n",
       "      <td>2021-06-01 00:00:08</td>\n",
       "      <td>1856</td>\n",
       "      <td>모두의학교</td>\n",
       "      <td>0</td>\n",
       "      <td>8.0</td>\n",
       "      <td>930.00</td>\n",
       "    </tr>\n",
       "    <tr>\n",
       "      <th>...</th>\n",
       "      <td>...</td>\n",
       "      <td>...</td>\n",
       "      <td>...</td>\n",
       "      <td>...</td>\n",
       "      <td>...</td>\n",
       "      <td>...</td>\n",
       "      <td>...</td>\n",
       "      <td>...</td>\n",
       "      <td>...</td>\n",
       "      <td>...</td>\n",
       "      <td>...</td>\n",
       "    </tr>\n",
       "    <tr>\n",
       "      <th>3445939</th>\n",
       "      <td>SPB-36886</td>\n",
       "      <td>2021-06-30 22:44:14</td>\n",
       "      <td>152</td>\n",
       "      <td>마포구민체육센터 앞</td>\n",
       "      <td>0</td>\n",
       "      <td>2021-07-01 04:48:33</td>\n",
       "      <td>126</td>\n",
       "      <td>서강대 후문 옆</td>\n",
       "      <td>0</td>\n",
       "      <td>364.0</td>\n",
       "      <td>10153.36</td>\n",
       "    </tr>\n",
       "    <tr>\n",
       "      <th>3445940</th>\n",
       "      <td>SPB-30409</td>\n",
       "      <td>2021-06-30 22:45:19</td>\n",
       "      <td>152</td>\n",
       "      <td>마포구민체육센터 앞</td>\n",
       "      <td>0</td>\n",
       "      <td>2021-07-01 04:52:25</td>\n",
       "      <td>437</td>\n",
       "      <td>대흥역 1번출구</td>\n",
       "      <td>0</td>\n",
       "      <td>367.0</td>\n",
       "      <td>10100.71</td>\n",
       "    </tr>\n",
       "    <tr>\n",
       "      <th>3445941</th>\n",
       "      <td>SPB-46230</td>\n",
       "      <td>2021-06-30 22:43:43</td>\n",
       "      <td>152</td>\n",
       "      <td>마포구민체육센터 앞</td>\n",
       "      <td>0</td>\n",
       "      <td>2021-07-01 04:52:27</td>\n",
       "      <td>437</td>\n",
       "      <td>대흥역 1번출구</td>\n",
       "      <td>0</td>\n",
       "      <td>368.0</td>\n",
       "      <td>430.00</td>\n",
       "    </tr>\n",
       "    <tr>\n",
       "      <th>3445942</th>\n",
       "      <td>SPB-41691</td>\n",
       "      <td>2021-06-30 22:11:14</td>\n",
       "      <td>2220</td>\n",
       "      <td>반포본동 주민센터 앞</td>\n",
       "      <td>0</td>\n",
       "      <td>2021-07-01 04:55:29</td>\n",
       "      <td>2526</td>\n",
       "      <td>반포경남쇼핑 앞</td>\n",
       "      <td>0</td>\n",
       "      <td>404.0</td>\n",
       "      <td>0.00</td>\n",
       "    </tr>\n",
       "    <tr>\n",
       "      <th>3445943</th>\n",
       "      <td>SPB-52274</td>\n",
       "      <td>2021-06-30 22:12:10</td>\n",
       "      <td>2220</td>\n",
       "      <td>반포본동 주민센터 앞</td>\n",
       "      <td>0</td>\n",
       "      <td>2021-07-01 04:55:30</td>\n",
       "      <td>2526</td>\n",
       "      <td>반포경남쇼핑 앞</td>\n",
       "      <td>0</td>\n",
       "      <td>403.0</td>\n",
       "      <td>4541.22</td>\n",
       "    </tr>\n",
       "  </tbody>\n",
       "</table>\n",
       "<p>3445944 rows × 11 columns</p>\n",
       "</div>"
      ],
      "text/plain": [
       "             자전거번호                 대여일시  대여 대여소번호         대여 대여소명 대여거치대  \\\n",
       "0        SPB-30385  2021-05-31 23:07:00      3571  화양 APT(횡단보도 옆)     0   \n",
       "1        SPB-46321  2021-05-31 23:37:19      1911      구로디지털단지역 앞     0   \n",
       "2        SPB-48119  2021-05-31 23:48:40      3860      건국대학교 정문 앞     0   \n",
       "3        SPB-55360  2021-05-31 23:47:52      2222     사당역 12번출구 뒤     0   \n",
       "4        SPB-54699  2021-05-31 23:51:14      1955       디지털입구 교차로     0   \n",
       "...            ...                  ...       ...             ...   ...   \n",
       "3445939  SPB-36886  2021-06-30 22:44:14       152      마포구민체육센터 앞     0   \n",
       "3445940  SPB-30409  2021-06-30 22:45:19       152      마포구민체육센터 앞     0   \n",
       "3445941  SPB-46230  2021-06-30 22:43:43       152      마포구민체육센터 앞     0   \n",
       "3445942  SPB-41691  2021-06-30 22:11:14      2220     반포본동 주민센터 앞     0   \n",
       "3445943  SPB-52274  2021-06-30 22:12:10      2220     반포본동 주민센터 앞     0   \n",
       "\n",
       "                        반납일시 반납대여소번호        반납대여소명  반납거치대   이용시간      이용거리  \n",
       "0        2021-06-01 00:00:00    3538      서울숲 IT캐슬      0   53.0   2502.80  \n",
       "1        2021-06-01 00:00:02    1843        독산고등학교      0   22.0   1630.00  \n",
       "2        2021-06-01 00:00:03    3586  군자역 비채온 오피스텔      0   11.0   1420.00  \n",
       "3        2021-06-01 00:00:05    2228        뒷벌공원 옆      0   12.0   1350.00  \n",
       "4        2021-06-01 00:00:08    1856         모두의학교      0    8.0    930.00  \n",
       "...                      ...     ...           ...    ...    ...       ...  \n",
       "3445939  2021-07-01 04:48:33     126      서강대 후문 옆      0  364.0  10153.36  \n",
       "3445940  2021-07-01 04:52:25     437      대흥역 1번출구      0  367.0  10100.71  \n",
       "3445941  2021-07-01 04:52:27     437      대흥역 1번출구      0  368.0    430.00  \n",
       "3445942  2021-07-01 04:55:29    2526      반포경남쇼핑 앞      0  404.0      0.00  \n",
       "3445943  2021-07-01 04:55:30    2526      반포경남쇼핑 앞      0  403.0   4541.22  \n",
       "\n",
       "[3445944 rows x 11 columns]"
      ]
     },
     "execution_count": 1,
     "metadata": {},
     "output_type": "execute_result"
    }
   ],
   "source": [
    "import pandas as pd\n",
    "# 파일 경로를 file_path 변수에 저장\n",
    "file_path = 'C:/data/공공자전거 대여이력 정보_2021.06.csv'\n",
    "\n",
    "# read csv() 함수로 데이터 프레임 변환\n",
    "df1 = pd.read_csv(file_path,encoding='cp949')\n",
    "df1"
   ]
  },
  {
   "cell_type": "code",
   "execution_count": null,
   "id": "979d3dd6",
   "metadata": {},
   "outputs": [],
   "source": []
  },
  {
   "cell_type": "code",
   "execution_count": 203,
   "id": "83244d38",
   "metadata": {
    "scrolled": false
   },
   "outputs": [],
   "source": [
    "a=df1['반납대여소명'].value_counts()\n",
    "b=df1['대여 대여소명'].value_counts()"
   ]
  },
  {
   "cell_type": "code",
   "execution_count": 219,
   "id": "02e1525b",
   "metadata": {
    "collapsed": true
   },
   "outputs": [
    {
     "name": "stdout",
     "output_type": "stream",
     "text": [
      "반납대여소 TOP10 \n",
      "========================================\n",
      "뚝섬유원지역 1번출구 앞        16016\n",
      "여의나루역 1번출구 앞         14000\n",
      "마포구민체육센터 앞           12321\n",
      "봉림교 교통섬              11346\n",
      "마곡나루역 2번 출구          10652\n",
      "롯데월드타워(잠실역2번출구 쪽)     9520\n",
      "신대방역 2번 출구            8564\n",
      "발산역 1번, 9번 인근 대여소     7843\n",
      "당산육갑문                 7805\n",
      "목동역5번출구 교통정보센터 앞      7719\n",
      "Name: 반납대여소명, dtype: int64\n",
      "========================================\n",
      "대여 대여소 TOP10 :\n",
      "========================================\n",
      "뚝섬유원지역 1번출구 앞        15011\n",
      "여의나루역 1번출구 앞         14436\n",
      "봉림교 교통섬              11109\n",
      "마포구민체육센터 앞           10963\n",
      "마곡나루역 2번 출구          10689\n",
      "롯데월드타워(잠실역2번출구 쪽)     9517\n",
      "신대방역 2번 출구            8054\n",
      "발산역 1번, 9번 인근 대여소     7784\n",
      "마곡역교차로                7597\n",
      "당산육갑문                 7574\n",
      "Name: 대여 대여소명, dtype: int64\n"
     ]
    }
   ],
   "source": [
    "TOP10모음(True)"
   ]
  },
  {
   "cell_type": "code",
   "execution_count": 229,
   "id": "143bd1e9",
   "metadata": {},
   "outputs": [
    {
     "ename": "ModuleNotFoundError",
     "evalue": "No module named 'plotly'",
     "output_type": "error",
     "traceback": [
      "\u001b[1;31m---------------------------------------------------------------------------\u001b[0m",
      "\u001b[1;31mModuleNotFoundError\u001b[0m                       Traceback (most recent call last)",
      "\u001b[1;32m<ipython-input-229-6361d2547ebc>\u001b[0m in \u001b[0;36m<module>\u001b[1;34m\u001b[0m\n\u001b[1;32m----> 1\u001b[1;33m \u001b[1;32mimport\u001b[0m \u001b[0mplotly\u001b[0m\u001b[1;33m\u001b[0m\u001b[1;33m\u001b[0m\u001b[0m\n\u001b[0m",
      "\u001b[1;31mModuleNotFoundError\u001b[0m: No module named 'plotly'"
     ]
    }
   ],
   "source": [
    "import "
   ]
  },
  {
   "cell_type": "code",
   "execution_count": 2,
   "id": "e23f1de8",
   "metadata": {},
   "outputs": [],
   "source": [
    "#  피클 저장\n",
    "# 머신러닝 사이킷런 라이브러리를 통해 모델을 학습후에 저장할 때 많이 사용한다\n",
    "# 저장 할때 to_pickle\n",
    "# 불러올때 read_pickle\n",
    "import pickle\n",
    "import pandas as pd\n",
    "\n",
    "temp = pd.DataFrame({'a':[1],'b':[2]})\n",
    "\n",
    "# 데이터 저장\n",
    "temp.to_pickle('filename.pkl')\n",
    "\n",
    "# 데이터 로드\n",
    "data = pd.read_pickle('filename.pkl')"
   ]
  },
  {
   "cell_type": "code",
   "execution_count": 3,
   "id": "8f38d21c",
   "metadata": {},
   "outputs": [
    {
     "data": {
      "text/html": [
       "<div>\n",
       "<style scoped>\n",
       "    .dataframe tbody tr th:only-of-type {\n",
       "        vertical-align: middle;\n",
       "    }\n",
       "\n",
       "    .dataframe tbody tr th {\n",
       "        vertical-align: top;\n",
       "    }\n",
       "\n",
       "    .dataframe thead th {\n",
       "        text-align: right;\n",
       "    }\n",
       "</style>\n",
       "<table border=\"1\" class=\"dataframe\">\n",
       "  <thead>\n",
       "    <tr style=\"text-align: right;\">\n",
       "      <th></th>\n",
       "      <th>a</th>\n",
       "      <th>b</th>\n",
       "    </tr>\n",
       "  </thead>\n",
       "  <tbody>\n",
       "    <tr>\n",
       "      <th>0</th>\n",
       "      <td>1</td>\n",
       "      <td>2</td>\n",
       "    </tr>\n",
       "  </tbody>\n",
       "</table>\n",
       "</div>"
      ],
      "text/plain": [
       "   a  b\n",
       "0  1  2"
      ]
     },
     "execution_count": 3,
     "metadata": {},
     "output_type": "execute_result"
    }
   ],
   "source": [
    "pd.read_pickle('./filename.pkl')"
   ]
  },
  {
   "cell_type": "markdown",
   "id": "230c2881",
   "metadata": {},
   "source": [
    "# 공공데이터 테스트 기본코드 API"
   ]
  },
  {
   "cell_type": "code",
   "execution_count": 4,
   "id": "5d07c175",
   "metadata": {},
   "outputs": [
    {
     "name": "stdout",
     "output_type": "stream",
     "text": [
      "병원명 :  [<yadmnm>온누리건강약국</yadmnm>]\n",
      "종별코드명: [<sggucdnm>중랑구</sggucdnm>]\n",
      "시도명 : [<sidocdnm>서울</sidocdnm>]\n",
      "주소: [<addr>서울특별시 중랑구 봉화산로 215 1층 (신내동)</addr>]\n",
      "전화번호: [<telno>02-3422-3097</telno>]\n"
     ]
    }
   ],
   "source": [
    "import pandas as pd\n",
    "from bs4 import BeautifulSoup\n",
    "import requests\n",
    "from openpyxl.workbook import Workbook\n",
    "\n",
    "# 공공데이터 포털에서 발급받으키를 호출\n",
    "apikey = 'q0%2BNJ0Uk3ewaZ7FGkGdTWJ182KvZOo9zKJiXwFAtfWDPbIb1wJsVyDTbGUDdWdqImvt01ZDGmj2PSqKCZwCSgw%3D%3D'\n",
    "\n",
    "\n",
    "# 약국정보서비스 API\n",
    "api = 'http://apis.data.go.kr/B551182/pharmacyInfoService/getParmacyBasisList?serviceKey=q0%2BNJ0Uk3ewaZ7FGkGdTWJ182KvZOo9zKJiXwFAtfWDPbIb1wJsVyDTbGUDdWdqImvt01ZDGmj2PSqKCZwCSgw%3D%3D&pageNo=1&numOfRows=10&sidoCd=110000&sgguCd=110019&emdongNm=%EC%8B%A0%EB%82%B4%EB%8F%99&yadmNm=%EC%98%A8%EB%88%84%EB%A6%AC%EA%B1%B4%EA%B0%95&xPos=127.0965441345503&yPos=37.60765568913871&radius=3000&type=json&APPID={key}'\n",
    "\n",
    "# 약국 정보 리스트\n",
    "\n",
    "list_drugs = ['병원명','종별코드명','시도명','주소','전화번호']\n",
    "i=0\n",
    "for list_drug in list_drugs:\n",
    "    url = api.format(list_drugs=list_drug , key=apikey)\n",
    "    req = requests.get(url)\n",
    "    re = req.text\n",
    "    soup = BeautifulSoup(re,'html.parser')\n",
    "    \n",
    "    #병원명\n",
    "    yadmnm = soup.find_all('yadmnm')\n",
    "    #종별 코드명\n",
    "    sggucdnm = soup.find_all('sggucdnm')\n",
    "    #시도명\n",
    "    sidocdnm = soup.find_all('sidocdnm')\n",
    "    # 주소\n",
    "    addr = soup.find_all('addr')\n",
    "    #전화번호\n",
    "    telno = soup.find_all('telno')\n",
    "    \n",
    "print('병원명 : ',yadmnm)\n",
    "print('종별코드명:',sggucdnm)\n",
    "print('시도명 :',sidocdnm)\n",
    "print('주소:',addr)\n",
    "print('전화번호:',telno)\n",
    "    \n",
    "    \n"
   ]
  },
  {
   "cell_type": "code",
   "execution_count": 82,
   "id": "0e81e2b1",
   "metadata": {
    "scrolled": true
   },
   "outputs": [],
   "source": [
    "from bs4 import BeautifulSoup as bs\n",
    "from pprint import pprint\n",
    "import requests\n",
    "\n",
    "html = requests.get('https://search.naver.com/search.naver?where=nexearch&sm=tab_etc&pkid=227&qvt=0&query=%EA%B2%BD%EA%B8%B0%EB%8F%84%20%EC%95%88%EC%82%B0%EC%8B%9C%20%EB%8B%A8%EC%9B%90%EA%B5%AC%20%EC%99%80%EB%8F%99%20%EB%AF%B8%EC%84%B8%EB%A8%BC%EC%A7%80')\n",
    "\n",
    "# print(html.text)\n",
    "soup = bs(html.text,'html.parser')\n",
    "\n",
    "# 미세먼지 관련 블록 추출\n",
    "soup.find('div',{'class':'term'})\n",
    "soup.find('div',{'class':'desc'})\n",
    "\n"
   ]
  },
  {
   "cell_type": "code",
   "execution_count": 19,
   "id": "2416ba3e",
   "metadata": {},
   "outputs": [
    {
     "name": "stdout",
     "output_type": "stream",
     "text": [
      "<div class=\"status_wrap\"> <h3 class=\"blind\">오늘의 날씨</h3> <div class=\"weather_graphic\"> <div class=\"weather_main\"> <i class=\"wt_icon ico_wt1\"><span class=\"blind\">맑음</span></i> </div> <div class=\"temperature_text\"> <strong><span class=\"blind\">현재 온도</span>3<span class=\"celsius\">°</span></strong> </div> </div> <div class=\"temperature_info\"> <p class=\"summary\">어제보다 <span class=\"temperature up\">3° <span class=\"blind\">높아요</span> </span> <span class=\"weather before_slash\">맑음</span> </p> <dl class=\"summary_list\"> <dt class=\"term\">강수확률</dt> <dd class=\"desc\">0%</dd> <dt class=\"term\">습도</dt> <dd class=\"desc\">55%</dd> <dt class=\"term\">바람(서풍)</dt> <dd class=\"desc\">2m/s</dd> </dl> </div> <div class=\"report_card_wrap\"> <ul class=\"today_chart_list\"> <li class=\"item_today level2\"> <a href=\"?where=nexearch&amp;sm=tab_etc&amp;pkid=227&amp;qvt=0&amp;query=%EA%B2%BD%EA%B8%B0%EB%8F%84%20%EC%95%88%EC%82%B0%EC%8B%9C%20%EB%8B%A8%EC%9B%90%EA%B5%AC%20%EC%99%80%EB%8F%99%20%EB%AF%B8%EC%84%B8%EB%A8%BC%EC%A7%80\" nocr=\"\" onclick=\"return goOtherCR(this, 'a=nco_x7t*4&amp;r=1&amp;i=88157038_00000065035F&amp;u=' + urlencode(this.href));\"> <strong class=\"title\">미세먼지</strong> <span class=\"txt\">좋음</span> </a> </li> <li class=\"item_today level1\"> <a href=\"?where=nexearch&amp;sm=tab_etc&amp;pkid=227&amp;qvt=0&amp;query=%EA%B2%BD%EA%B8%B0%EB%8F%84%20%EC%95%88%EC%82%B0%EC%8B%9C%20%EB%8B%A8%EC%9B%90%EA%B5%AC%20%EC%99%80%EB%8F%99%20%EC%B4%88%EB%AF%B8%EC%84%B8%EB%A8%BC%EC%A7%80\" nocr=\"\" onclick=\"return goOtherCR(this, 'a=nco_x7t*4&amp;r=1&amp;i=88157038_00000065035F&amp;u=' + urlencode(this.href));\"> <strong class=\"title\">초미세먼지</strong> <span class=\"txt\">보통</span> </a> </li> <li class=\"item_today level2\"> <a href=\"#\" nocr=\"\" onclick=\"goOtherTCR(this, 'a=nco_x7t*4&amp;r=1&amp;i=88157038_00000065035F');return false;\"> <strong class=\"title\">자외선</strong> <span class=\"txt\">좋음</span> </a> </li> <li class=\"item_today type_sun\"> <a href=\"#\" nocr=\"\" onclick=\"goOtherTCR(this, 'a=nco_x7t*4&amp;r=1&amp;i=88157038_00000065035F');return false;\"> <strong class=\"title\">일몰</strong> <span class=\"txt\">17:55</span> </a> </li> </ul> </div> </div>\n"
     ]
    }
   ],
   "source": [
    "from bs4 import BeautifulSoup as bs\n",
    "from pprint import pprint\n",
    "import requests\n",
    "\n",
    "html = requests.get('https://search.naver.com/search.naver?query=%EB%82%A0%EC%94%A8')\n",
    "\n",
    "# print(html.text)\n",
    "soup = bs(html.text,'html.parser')\n",
    "\n",
    "# 미세먼지 관련 블록 추출\n",
    "dustdata_one = soup.find('div',{'class':'status_wrap'})\n",
    "\n",
    "dustdata_all = dustdata_one.findAll('dd')\n",
    "\n",
    "print(dustdata_one)\n",
    "\n"
   ]
  },
  {
   "cell_type": "markdown",
   "id": "da5bc76a",
   "metadata": {},
   "source": [
    "# 텍스트추출"
   ]
  },
  {
   "cell_type": "code",
   "execution_count": 184,
   "id": "d40db504",
   "metadata": {
    "scrolled": false
   },
   "outputs": [
    {
     "name": "stdout",
     "output_type": "stream",
     "text": [
      "강수확률\n",
      "30%\n"
     ]
    }
   ],
   "source": [
    "from bs4 import BeautifulSoup as bs\n",
    "from pprint import pprint\n",
    "import requests\n",
    "\n",
    "html = requests.get('https://search.naver.com/search.naver?query=%EB%82%A0%EC%94%A8')\n",
    "\n",
    "a = []\n",
    "\n",
    "# print(html.text)\n",
    "soup = bs(html.text,'html.parser')\n",
    "\n",
    "# 미세먼지 관련 블록 추출\n",
    "a=soup.findAll('dl',{'class':'summary_list'})\n",
    "\n",
    "print(a[0].find('dt',{'class':'term'}).text)\n",
    "print(a[0].find('dd',{'class':'desc'}).text)\n",
    "\n"
   ]
  },
  {
   "cell_type": "code",
   "execution_count": 185,
   "id": "db92ccc8",
   "metadata": {},
   "outputs": [
    {
     "data": {
      "text/plain": [
       "[<dl class=\"summary_list\"> <dt class=\"term\">강수확률</dt> <dd class=\"desc\">30%</dd> <dt class=\"term\">습도</dt> <dd class=\"desc\">72%</dd> <dt class=\"term\">바람(동풍)</dt> <dd class=\"desc\">1m/s</dd> </dl>,\n",
       " <dl class=\"summary_list\"> <dt class=\"term\">강수확률</dt> <dd class=\"desc\">80%</dd> </dl>,\n",
       " <dl class=\"summary_list\"> <dt class=\"term\">강수확률</dt> <dd class=\"desc\">10%</dd> </dl>,\n",
       " <dl class=\"summary_list\"> <dt class=\"term\">강수확률</dt> <dd class=\"desc\">10%</dd> </dl>,\n",
       " <dl class=\"summary_list\"> <dt class=\"term\">강수확률</dt> <dd class=\"desc\">0%</dd> </dl>]"
      ]
     },
     "execution_count": 185,
     "metadata": {},
     "output_type": "execute_result"
    }
   ],
   "source": [
    "a"
   ]
  },
  {
   "cell_type": "code",
   "execution_count": null,
   "id": "45ce97e2",
   "metadata": {},
   "outputs": [],
   "source": []
  },
  {
   "cell_type": "code",
   "execution_count": 170,
   "id": "96612979",
   "metadata": {},
   "outputs": [
    {
     "data": {
      "text/plain": [
       "[<dl class=\"summary_list\"> <dt class=\"term\">강수확률</dt> <dd class=\"desc\">30%</dd> <dt class=\"term\">습도</dt> <dd class=\"desc\">65%</dd> <dt class=\"term\">바람(남풍)</dt> <dd class=\"desc\">1m/s</dd> </dl>,\n",
       " <dl class=\"summary_list\"> <dt class=\"term\">강수확률</dt> <dd class=\"desc\">80%</dd> </dl>,\n",
       " <dl class=\"summary_list\"> <dt class=\"term\">강수확률</dt> <dd class=\"desc\">10%</dd> </dl>,\n",
       " <dl class=\"summary_list\"> <dt class=\"term\">강수확률</dt> <dd class=\"desc\">10%</dd> </dl>,\n",
       " <dl class=\"summary_list\"> <dt class=\"term\">강수확률</dt> <dd class=\"desc\">0%</dd> </dl>]"
      ]
     },
     "execution_count": 170,
     "metadata": {},
     "output_type": "execute_result"
    }
   ],
   "source": []
  },
  {
   "cell_type": "code",
   "execution_count": 148,
   "id": "c9c674bd",
   "metadata": {
    "scrolled": true
   },
   "outputs": [
    {
     "name": "stdout",
     "output_type": "stream",
     "text": [
      "알고 싶은 구구단은?5\n",
      "5X1=5\n",
      "5X2=10\n",
      "5X3=15\n",
      "5X4=20\n",
      "5X5=25\n",
      "5X6=30\n",
      "5X7=35\n",
      "5X8=40\n",
      "5X9=45\n"
     ]
    }
   ],
   "source": [
    "\n",
    "a = int(input(\"알고 싶은 구구단은?\"))\n",
    "\n",
    "for b in range(1,10):\n",
    "    c = a*b\n",
    "    print('%dX%d=%d'%(a,b,c))\n",
    "    \n",
    "    "
   ]
  },
  {
   "cell_type": "code",
   "execution_count": 153,
   "id": "6fcf27ee",
   "metadata": {},
   "outputs": [
    {
     "name": "stdout",
     "output_type": "stream",
     "text": [
      "2 x 1 = 2\n",
      "2 x 2 = 4\n",
      "2 x 3 = 6\n",
      "2 x 4 = 8\n",
      "2 x 5 = 10\n",
      "2 x 6 = 12\n",
      "2 x 7 = 14\n",
      "2 x 8 = 16\n",
      "2 x 9 = 18\n",
      "===============\n",
      "3 x 1 = 3\n",
      "3 x 2 = 6\n",
      "3 x 3 = 9\n",
      "3 x 4 = 12\n",
      "3 x 5 = 15\n",
      "3 x 6 = 18\n",
      "3 x 7 = 21\n",
      "3 x 8 = 24\n",
      "3 x 9 = 27\n",
      "===============\n",
      "4 x 1 = 4\n",
      "4 x 2 = 8\n",
      "4 x 3 = 12\n",
      "4 x 4 = 16\n",
      "4 x 5 = 20\n",
      "4 x 6 = 24\n",
      "4 x 7 = 28\n",
      "4 x 8 = 32\n",
      "4 x 9 = 36\n",
      "===============\n",
      "5 x 1 = 5\n",
      "5 x 2 = 10\n",
      "5 x 3 = 15\n",
      "5 x 4 = 20\n",
      "5 x 5 = 25\n",
      "5 x 6 = 30\n",
      "5 x 7 = 35\n",
      "5 x 8 = 40\n",
      "5 x 9 = 45\n",
      "===============\n",
      "6 x 1 = 6\n",
      "6 x 2 = 12\n",
      "6 x 3 = 18\n",
      "6 x 4 = 24\n",
      "6 x 5 = 30\n",
      "6 x 6 = 36\n",
      "6 x 7 = 42\n",
      "6 x 8 = 48\n",
      "6 x 9 = 54\n",
      "===============\n",
      "7 x 1 = 7\n",
      "7 x 2 = 14\n",
      "7 x 3 = 21\n",
      "7 x 4 = 28\n",
      "7 x 5 = 35\n",
      "7 x 6 = 42\n",
      "7 x 7 = 49\n",
      "7 x 8 = 56\n",
      "7 x 9 = 63\n",
      "===============\n",
      "8 x 1 = 8\n",
      "8 x 2 = 16\n",
      "8 x 3 = 24\n",
      "8 x 4 = 32\n",
      "8 x 5 = 40\n",
      "8 x 6 = 48\n",
      "8 x 7 = 56\n",
      "8 x 8 = 64\n",
      "8 x 9 = 72\n",
      "===============\n",
      "9 x 1 = 9\n",
      "9 x 2 = 18\n",
      "9 x 3 = 27\n",
      "9 x 4 = 36\n",
      "9 x 5 = 45\n",
      "9 x 6 = 54\n",
      "9 x 7 = 63\n",
      "9 x 8 = 72\n",
      "9 x 9 = 81\n",
      "===============\n"
     ]
    }
   ],
   "source": [
    "for a in range(2,10):\n",
    "    for b in range(1,10):\n",
    "        \n",
    "        c= a*b\n",
    "        print('%d x %d = %d'%(a,b,c))\n",
    "    print(\"=\"*15) # 끝나고 돌때 선 긋기\n",
    "        \n",
    "    "
   ]
  },
  {
   "cell_type": "code",
   "execution_count": null,
   "id": "81bde583",
   "metadata": {},
   "outputs": [],
   "source": [
    "[<dl class=\"summary_list\"> <dt class=\"term\">강수확률</dt> <dd class=\"desc\">0%</dd> <dt class=\"term\">습도</dt> <dd class=\"desc\">64%</dd> <dt class=\"term\">바람(남서풍)</dt> <dd class=\"desc\">0m/s</dd> </dl>,\n",
    " <dl class=\"summary_list\"> <dt class=\"term\">강수확률</dt> <dd class=\"desc\">80%</dd> </dl>,\n",
    " <dl class=\"summary_list\"> <dt class=\"term\">강수확률</dt> <dd class=\"desc\">10%</dd> </dl>,\n",
    " <dl class=\"summary_list\"> <dt class=\"term\">강수확률</dt> <dd class=\"desc\">10%</dd> </dl>,\n",
    " <dl class=\"summary_list\"> <dt class=\"term\">강수확률</dt> <dd class=\"desc\">0%</dd> </dl>]"
   ]
  }
 ],
 "metadata": {
  "kernelspec": {
   "display_name": "Python 3",
   "language": "python",
   "name": "python3"
  },
  "language_info": {
   "codemirror_mode": {
    "name": "ipython",
    "version": 3
   },
   "file_extension": ".py",
   "mimetype": "text/x-python",
   "name": "python",
   "nbconvert_exporter": "python",
   "pygments_lexer": "ipython3",
   "version": "3.8.8"
  }
 },
 "nbformat": 4,
 "nbformat_minor": 5
}
