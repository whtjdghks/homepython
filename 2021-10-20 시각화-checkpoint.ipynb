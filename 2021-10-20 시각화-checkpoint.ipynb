{
 "cells": [
  {
   "cell_type": "code",
   "execution_count": null,
   "id": "ff2a021e",
   "metadata": {},
   "outputs": [],
   "source": [
    "# 그래프 시각화\n",
    "import csv\n",
    "import matplotlib.pyplot as plt\n",
    "f=open('./19040101_20190117.csv') #경로\n",
    "data = csv.reader(f)\n",
    "next(data)\n",
    "result=[]\n",
    "\n",
    "for row in data:\n",
    "    if(row[-1]) !='':\n",
    "        result.append(float(row[-1]))\n",
    "plt.figure(figsize=(10,2),dpi=300) # 가로 10인치 세로 2인치 dpi 인쇄단위\n",
    "plt.plot(result,'r') # red의 r \n",
    "plt.show"
   ]
  },
  {
   "cell_type": "markdown",
   "id": "a7d16379",
   "metadata": {},
   "source": [
    "# 날짜 추출"
   ]
  },
  {
   "cell_type": "code",
   "execution_count": null,
   "id": "99912c72",
   "metadata": {},
   "outputs": [],
   "source": [
    "s = \"hello python\"\n",
    "print(s.split())"
   ]
  },
  {
   "cell_type": "code",
   "execution_count": null,
   "id": "fa14c546",
   "metadata": {
    "scrolled": true
   },
   "outputs": [],
   "source": [
    "date ='2021-10-20'\n",
    "print(date.split('-'))"
   ]
  },
  {
   "cell_type": "code",
   "execution_count": null,
   "id": "c29f2bb7",
   "metadata": {},
   "outputs": [],
   "source": [
    "print(date.split('-')[0])\n",
    "print(date.split('-')[1])\n",
    "print(date.split('-')[2])\n"
   ]
  },
  {
   "cell_type": "code",
   "execution_count": null,
   "id": "462ebd23",
   "metadata": {},
   "outputs": [],
   "source": [
    "# 8월에 해당하는 온도 시각화\n",
    "import csv\n",
    "import matplotlib.pyplot as plt\n",
    "\n",
    "f=open('./19040101_20190117.csv') #경로\n",
    "data = csv.reader(f)\n",
    "next(data)\n",
    "result=[]\n",
    "\n",
    "\n",
    "for row in data:\n",
    "    if row[-1]!='':\n",
    "        if row[0].split('-')[1] =='08':\n",
    "            result.append(float(row[-1]))\n",
    "        \n",
    "\n",
    "plt.plot(result,'hotpink') # red의 r \n",
    "plt.show()"
   ]
  },
  {
   "cell_type": "code",
   "execution_count": null,
   "id": "d53af22e",
   "metadata": {},
   "outputs": [],
   "source": [
    "# 8월에 해당하는 온도 시각화\n",
    "import csv\n",
    "import matplotlib.pyplot as plt\n",
    "\n",
    "f=open('./19040101_20190117.csv') #경로\n",
    "data = csv.reader(f)\n",
    "next(data)\n",
    "result=[]\n",
    "\n",
    "\n",
    "for row in data:\n",
    "    if row[-1]!='':\n",
    "        if row[0].split('-')[1] =='08':\n",
    "            result.append(float(row[-1]))\n",
    "        \n",
    "plt.figure(figsize=(10,2),dpi=300) # 가로 10인치 세로 2인치 dpi 인쇄단위\n",
    "plt.plot(result,'hotpink') # red의 r \n",
    "plt.show()"
   ]
  },
  {
   "cell_type": "code",
   "execution_count": null,
   "id": "3e1ca524",
   "metadata": {
    "scrolled": true
   },
   "outputs": [],
   "source": [
    "# 매년 2월 14일\n",
    "import csv\n",
    "import matplotlib.pyplot as plt\n",
    "\n",
    "f=open('./19040101_20190117.csv') #경로\n",
    "data = csv.reader(f)\n",
    "next(data)\n",
    "result=[]\n",
    "\n",
    "\n",
    "for row in data:\n",
    "    if row[-1]!='':\n",
    "        if row[0].split('-')[1] =='02'and row[0].split('-')[2] =='14':\n",
    "            result.append(float(row[-1]))\n",
    "        \n",
    "\n",
    "plt.plot(result,'hotpink') # red의 r \n",
    "plt.show()"
   ]
  },
  {
   "cell_type": "code",
   "execution_count": null,
   "id": "cf88ccdf",
   "metadata": {
    "scrolled": true
   },
   "outputs": [],
   "source": [
    "# 매년 3월 17일\n",
    "import csv\n",
    "import matplotlib.pyplot as plt\n",
    "\n",
    "f=open('./19040101_20190117.csv') #경로\n",
    "data = csv.reader(f)\n",
    "next(data)\n",
    "result=[]\n",
    "\n",
    "\n",
    "for row in data:\n",
    "    if row[-1]!='':\n",
    "        if row[0].split('-')[1] =='03'and row[0].split('-')[2] =='17':\n",
    "            result.append(float(row[-1]))\n",
    "        \n",
    "\n",
    "plt.plot(result,'hotpink') # red의 r \n",
    "plt.show()"
   ]
  },
  {
   "cell_type": "code",
   "execution_count": null,
   "id": "01f29e2e",
   "metadata": {
    "scrolled": true
   },
   "outputs": [],
   "source": [
    "# 지구 온난화로 예전보다 온도가 상승한다고 한다.\n",
    "# 좀더 자세히 1983년이후\n",
    "# 매년 3월 17일\n",
    "import csv\n",
    "import matplotlib.pyplot as plt\n",
    "\n",
    "f=open('./19040101_20190117.csv') #경로\n",
    "data = csv.reader(f)\n",
    "next(data)\n",
    "\n",
    "hight=[]\n",
    "low = []\n",
    "\n",
    "\n",
    "\n",
    "for row in data:\n",
    "    if row[-1]!='' and row[-2]!='':\n",
    "        if 1983 <=int(row[0].split('-')[0]): #1983년이휴\n",
    "            if row[0].split('-')[1] =='03'and row[0].split('-')[2] =='17':\n",
    "                hight.append(float(row[-1]))\n",
    "                low.append(float(row[-2]))\n",
    "                \n",
    "\n",
    "plt.plot(hight,'hotpink') # red의 r \n",
    "plt.plot(low ,'skyblue')\n",
    "plt.rc('font',family='MalgunGothic')\n",
    "plt.title('내 생일을 기온 변화 그래프')\n",
    "plt.show()"
   ]
  },
  {
   "cell_type": "code",
   "execution_count": null,
   "id": "1c3e9006",
   "metadata": {
    "scrolled": true
   },
   "outputs": [],
   "source": [
    "# 지구 온난화로 예전보다 온도가 상승한다고 한다.\n",
    "\n",
    "# 매년 3월 17일\n",
    "import csv\n",
    "import matplotlib.pyplot as plt\n",
    "\n",
    "f=open('./19040101_20190117.csv') #경로\n",
    "data = csv.reader(f)\n",
    "next(data)\n",
    "\n",
    "hight=[] #최고 온도 변수 생성\n",
    "low = [] # 최저 온도 변수 생성\n",
    "\n",
    "\n",
    "\n",
    "for row in data:\n",
    "    if row[-1]!='' and row[-2]!='': #최고와 최저 온도 결측치 제거\n",
    "        \n",
    "        if 1983 <=int(row[0].split('-')[0]): #1983년이후 데이터만 사용\n",
    "            \n",
    "            if row[0].split('-')[1] =='02'and row[0].split('-')[2] =='14': #생일\n",
    "                \n",
    "                hight.append(float(row[-1])) # 최고 온도를 hight 리스트에 저장\n",
    "                \n",
    "                low.append(float(row[-2])) # 최고 온도를 low 리스트에 저장\n",
    "                \n",
    "plt.rc('font',family='Malgun Gothic')  # 맑은 고딕사용\n",
    "\n",
    "plt.title('내 생일을 기온 변화 그래프') # 제목설정\n",
    "\n",
    "plt.plot(hight,'hotpink',label=\"최고 온도\")  #색상과 레이블\n",
    "\n",
    "plt.plot(low ,'skyblue',label='최저 온도')\n",
    "\n",
    "plt.legend() # 범례표시\n",
    "\n",
    "plt.show() # 그래프 표시"
   ]
  },
  {
   "cell_type": "markdown",
   "id": "4616aabe",
   "metadata": {},
   "source": [
    "# 히스토 그램"
   ]
  },
  {
   "cell_type": "code",
   "execution_count": null,
   "id": "e31f3c4e",
   "metadata": {
    "scrolled": true
   },
   "outputs": [],
   "source": [
    "import matplotlib.pyplot as plt\n",
    "\n",
    "plt.hist([1,1,2,3,4,5,6,6,7,8,10])\n",
    "plt.show()"
   ]
  },
  {
   "cell_type": "code",
   "execution_count": null,
   "id": "cdd428de",
   "metadata": {},
   "outputs": [],
   "source": [
    "import random\n",
    "\n",
    "print(random.randint(1,6))"
   ]
  },
  {
   "cell_type": "code",
   "execution_count": null,
   "id": "4bf522b5",
   "metadata": {},
   "outputs": [],
   "source": [
    "# 로또 마냥 \n",
    "import random\n",
    "\n",
    "dice =[]\n",
    "for i in range(5):\n",
    "    dice.append(random.randint(1,45))\n",
    "print(dice)"
   ]
  },
  {
   "cell_type": "code",
   "execution_count": null,
   "id": "c5dfe9b1",
   "metadata": {
    "scrolled": true
   },
   "outputs": [],
   "source": [
    "import random\n",
    "import matplotlib.pyplot as plt\n",
    "\n",
    "dice =[]\n",
    "for i in range(5):\n",
    "    dice.append(random.randint(1,45))\n",
    "print(dice)\n",
    "plt.hist(dice , bins =6)\n",
    "plt.show()"
   ]
  },
  {
   "cell_type": "code",
   "execution_count": null,
   "id": "a0f27a8f",
   "metadata": {
    "scrolled": true
   },
   "outputs": [],
   "source": [
    "# 횟수(range) 가 늘어나면 근사치에 가까워진다.\n",
    "\n",
    "import random\n",
    "import matplotlib.pyplot as plt\n",
    "dice = []\n",
    "for i in range(100):\n",
    "    dice.append(random.randint(1,6))\n",
    "    \n",
    "plt.hist(dice , bins =6)\n",
    "plt.show()"
   ]
  },
  {
   "cell_type": "code",
   "execution_count": null,
   "id": "8ecc014f",
   "metadata": {
    "scrolled": true
   },
   "outputs": [],
   "source": [
    "# 시각화 크기 - 히스토그램\n",
    "import csv\n",
    "import matplotlib.pyplot as plt\n",
    "\n",
    "f=open('./19040101_20190117.csv') #경로\n",
    "data = csv.reader(f)\n",
    "next(data)\n",
    "result=[]\n",
    "\n",
    "for row in data:\n",
    "    if row[-1] !='':\n",
    "        result.append(float(row[-1]))\n",
    "        \n",
    "plt.hist(result , bins=100, color ='r')\n",
    "plt.show()"
   ]
  },
  {
   "cell_type": "code",
   "execution_count": null,
   "id": "5a46585b",
   "metadata": {
    "scrolled": true
   },
   "outputs": [],
   "source": [
    "# 매년 8월 최고 온도  - 히스토그램\n",
    "import csv\n",
    "import matplotlib.pyplot as plt\n",
    "\n",
    "f=open('./19040101_20190117.csv') #경로\n",
    "data = csv.reader(f)\n",
    "next(data)\n",
    "aug=[]\n",
    "\n",
    "for row in data:\n",
    "    month = row[0].split('-')[1]\n",
    "    if row[-1] !='':\n",
    "        if month =='08':\n",
    "            aug.append(float(row[-1]))\n",
    "        \n",
    "plt.hist(aug , bins=100, color ='orange')\n",
    "plt.show()"
   ]
  },
  {
   "cell_type": "code",
   "execution_count": null,
   "id": "9c94ff3f",
   "metadata": {
    "scrolled": true
   },
   "outputs": [],
   "source": [
    "# 매년 8월 최고 온도와 1월의 최저온도 시각화\n",
    "\n",
    "import csv\n",
    "import matplotlib.pyplot as plt\n",
    "\n",
    "f=open('./19040101_20190117.csv') #경로\n",
    "data = csv.reader(f)\n",
    "next(data)\n",
    "\n",
    "aug=[]\n",
    "jan=[]\n",
    "\n",
    "for row in data:\n",
    "    month = row[0].split('-')[1]\n",
    "    if row[-1] !='':\n",
    "        if month =='08':\n",
    "            aug.append(float(row[-1]))\n",
    "        if month == '01' :\n",
    "            jan.append(float(row[-1]))\n",
    "        \n",
    "plt.hist(aug , bins=100, color ='r',label='Aug')\n",
    "plt.hist(jan , bins=100, color ='b',label='jan')\n",
    "\n",
    "plt.show()"
   ]
  },
  {
   "cell_type": "markdown",
   "id": "9bf2ec1a",
   "metadata": {},
   "source": [
    " ### 기온 데이터 상자"
   ]
  },
  {
   "cell_type": "code",
   "execution_count": null,
   "id": "d7cbfc65",
   "metadata": {
    "scrolled": true
   },
   "outputs": [],
   "source": [
    "# 랜덤하게 생성해서 돌려봄\n",
    "import matplotlib.pyplot as plt\n",
    "import random\n",
    "\n",
    "result = []\n",
    "\n",
    "for i in range(13):\n",
    "    result.append(random.randint(1,1000))\n",
    "\n",
    "print(sorted(result))\n",
    "\n",
    "plt.boxplot(result)\n",
    "plt.show()\n"
   ]
  },
  {
   "cell_type": "code",
   "execution_count": null,
   "id": "6758e118",
   "metadata": {
    "scrolled": true
   },
   "outputs": [],
   "source": [
    "import csv\n",
    "import matplotlib.pyplot as plt\n",
    "\n",
    "f=open('./19040101_20190117.csv') #경로\n",
    "data = csv.reader(f)\n",
    "next(data)\n",
    "\n",
    "result = []\n",
    "\n",
    "for row in data:\n",
    "    if row[-1]!='':\n",
    "        result.append(float(row[-1]))\n",
    "        \n",
    "plt.boxplot(result)\n",
    "plt.show()"
   ]
  },
  {
   "cell_type": "code",
   "execution_count": null,
   "id": "37e098cf",
   "metadata": {
    "scrolled": true
   },
   "outputs": [],
   "source": [
    "# 두개로 나타내고싶다면?\n",
    "\n",
    "# 매년 8월 최고 온도와 1월의 최저온도 시각화 - Box plot\n",
    "\n",
    "import csv\n",
    "import matplotlib.pyplot as plt\n",
    "\n",
    "f=open('./19040101_20190117.csv') #경로\n",
    "data = csv.reader(f)\n",
    "next(data)\n",
    "\n",
    "aug=[]\n",
    "jan=[]\n",
    "\n",
    "for row in data:\n",
    "    month = row[0].split('-')[1]\n",
    "    if row[-1] !='':\n",
    "        if month =='08':\n",
    "            aug.append(float(row[-1]))\n",
    "        if month == '01' :\n",
    "            jan.append(float(row[-1]))\n",
    "        \n",
    "# plt.boxplot(aug)\n",
    "# plt.boxplot(jan)\n",
    "plt.boxplot([aug,jan]) #보통은 이렇게 많이 묶지\n",
    "plt.show()"
   ]
  },
  {
   "cell_type": "code",
   "execution_count": null,
   "id": "7ac72d24",
   "metadata": {
    "scrolled": true
   },
   "outputs": [],
   "source": [
    "# 월별로 나타내기 - boxplot\n",
    "\n",
    "import csv\n",
    "import matplotlib.pyplot as plt\n",
    "\n",
    "f=open('./19040101_20190117.csv') #경로\n",
    "data = csv.reader(f)\n",
    "next(data)\n",
    "\n",
    "month = [[],[],[],[],[],[],[],[],[],[],[],[]]\n",
    "\n",
    "for row in data:\n",
    "    if row[-1] !='':\n",
    "        month[int(row[0].split('-')[1])-1].append(float(row[-1]))\n",
    "         \n",
    "plt.boxplot(month)\n",
    "plt.show()\n"
   ]
  },
  {
   "cell_type": "code",
   "execution_count": null,
   "id": "83b6ac98",
   "metadata": {
    "scrolled": true
   },
   "outputs": [],
   "source": [
    "# 8월 중 언제가 가장 더운가\n",
    "\n",
    "# 월별로 나타내기 - boxplot\n",
    "\n",
    "import csv\n",
    "import matplotlib.pyplot as plt\n",
    "\n",
    "f=open('./19040101_20190117.csv') #경로\n",
    "data = csv.reader(f)\n",
    "next(data)\n",
    "\n",
    "day = []\n",
    "\n",
    "for i in range(31):\n",
    "    day.append([])\n",
    "    \n",
    "for row in data :\n",
    "    if row[-1] != '':\n",
    "        if row[0].split('-')[1]=='08':\n",
    "            # 최고 온도 값 저장\n",
    "            day[int(row[0].split('-')[2])-1].append(float(row[-1]))\n",
    "            \n",
    "plt.style.use('ggplot')\n",
    "plt.figure(figsize=(10,5),dpi=300)\n",
    "plt.boxplot(day,showfliers=False)\n",
    "\n",
    "plt.show()"
   ]
  },
  {
   "cell_type": "markdown",
   "id": "143fd498",
   "metadata": {},
   "source": [
    "# 인구 구조 시각화\n",
    "\n",
    "www.mois.go.kr"
   ]
  },
  {
   "cell_type": "code",
   "execution_count": null,
   "id": "823fb06c",
   "metadata": {},
   "outputs": [],
   "source": [
    "# www.mois.go.kr - 행정 안전부\n",
    "# 공공데이터를 가지고 데이터 분석을 주로 하는 이유\n",
    "# 정제된 데이터 이기 때문이다.\n",
    "\n",
    "# 데이터 분석에서 : 정제작업 70% , 분석작업 30%\n",
    "\n",
    "# 정제 기술  , 데이터 프레임 ,MogoDB , Redis\n",
    "\n",
    "# 작업 순서\n",
    "\n",
    "# 1. 인구 데이터 파일 읽어오기\n",
    "# 2. 전체 데이터에서 한 줄씩 반복해서 읽어오기\n",
    "# 3. 우리 동네에 대한 데이터 인지 확인하기\n",
    "# 4. 우리 동네일 경우 0세부터 100세 이상까지 인구수를 순서대로 저장\n",
    "# 5. 지정된 연령별 인구수 데이터를 시각화 한다.\n",
    "\n"
   ]
  },
  {
   "cell_type": "code",
   "execution_count": null,
   "id": "4dc347f6",
   "metadata": {},
   "outputs": [],
   "source": [
    "import csv\n",
    "f = open('../data/201902_201902_연령별인구현황_월간.csv')\n",
    "data = csv.reader(f)\n",
    "\n",
    "for row in data:\n",
    "    print(row)"
   ]
  },
  {
   "cell_type": "code",
   "execution_count": null,
   "id": "3d17d93b",
   "metadata": {},
   "outputs": [],
   "source": [
    "import csv\n",
    "f= open('../data/201902_201902_연령별인구현황_월간.csv')\n",
    "data = csv.reader(f)\n",
    "\n",
    "for row in data:\n",
    "    if '신도림' in row[0]: #0이 주소위치\n",
    "        for i in row [3:]:\n",
    "            print(i)"
   ]
  },
  {
   "cell_type": "code",
   "execution_count": null,
   "id": "29b4e18f",
   "metadata": {},
   "outputs": [],
   "source": [
    "import csv\n",
    "f= open('../data/age.csv')\n",
    "data = csv.reader(f)\n",
    "result = []\n",
    "\n",
    "for row in data:\n",
    "    if '신도림' in row[0]: #0이 주소위치\n",
    "        for i in row [3:]: #여기서 나이를 기준을 잡는거다\n",
    "            result.append(int(i))\n",
    "            \n",
    "print(result)"
   ]
  },
  {
   "cell_type": "code",
   "execution_count": null,
   "id": "4af09d3f",
   "metadata": {
    "scrolled": true
   },
   "outputs": [],
   "source": [
    "# 시각화\n",
    "import matplotlib.pyplot as plt\n",
    "\n",
    "plt.style.use('ggplot')\n",
    "plt.plot(result)\n",
    "plt.show()"
   ]
  },
  {
   "cell_type": "code",
   "execution_count": null,
   "id": "f02b38ac",
   "metadata": {
    "scrolled": true
   },
   "outputs": [],
   "source": [
    "# 자신이 살고있는 지역 인구조사\n",
    "\n",
    "import csv\n",
    "\n",
    "f = open('../data/age.csv')\n",
    "data=csv.reader(f)\n",
    "\n",
    "result= []\n",
    "name = input('인구 구조를 알고 싶은 지역의 이름(읍면동 단위)를 입력해주세요 :')\n",
    "\n",
    "for row in data:\n",
    "    if name in row[0]:\n",
    "        for i in row[3:]:\n",
    "            result.append(int(i.replace(',','')))\n",
    "            \n",
    "plt.style.use('ggplot')\n",
    "plt.rc('font',family='Malgun Gothic')\n",
    "plt.title(name+'지역의 인구 구조')\n",
    "plt.plot(result)\n",
    "plt.show()"
   ]
  },
  {
   "cell_type": "markdown",
   "id": "71a9bd78",
   "metadata": {},
   "source": [
    "### 막대 그래프"
   ]
  },
  {
   "cell_type": "code",
   "execution_count": null,
   "id": "875e3fe0",
   "metadata": {
    "scrolled": true
   },
   "outputs": [],
   "source": [
    "# 히스토는 붙어있는것 막대는 떨어져있는것\n",
    "\n",
    "import matplotlib.pyplot as plt\n",
    "\n",
    "plt.bar([0,1,2,4,6,10],[1,2,3,5,6,7])\n",
    "plt.show()"
   ]
  },
  {
   "cell_type": "code",
   "execution_count": null,
   "id": "6d28f5a7",
   "metadata": {
    "scrolled": true
   },
   "outputs": [],
   "source": [
    "# range()\n",
    "\n",
    "import matplotlib.pyplot as plt\n",
    "\n",
    "plt.bar(range(6),[1,2,3,5,6,7])\n",
    "plt.show()"
   ]
  },
  {
   "cell_type": "code",
   "execution_count": null,
   "id": "26d4e6b6",
   "metadata": {
    "scrolled": true
   },
   "outputs": [],
   "source": [
    "import csv\n",
    "import matplotlib.pyplot as plt\n",
    "\n",
    "f= open('../data/age.csv')\n",
    "data = csv.reader(f)\n",
    "\n",
    "result = []\n",
    "\n",
    "for row in data:\n",
    "    if '신도림' in row[0]:\n",
    "        for i in row[3:]:\n",
    "            result.append(int(i))\n",
    "            \n",
    "print(result)\n",
    "\n",
    "plt.style.use('ggplot')\n",
    "#plt.figure(figsize=(12,5))\n",
    "plt.barh(range(101),result)\n",
    "plt.show()"
   ]
  },
  {
   "cell_type": "markdown",
   "id": "aa0d848f",
   "metadata": {},
   "source": [
    " # 항아리 모양 그래프 그리기"
   ]
  },
  {
   "cell_type": "code",
   "execution_count": null,
   "id": "1fd437a8",
   "metadata": {},
   "outputs": [],
   "source": [
    "import csv\n",
    "\n",
    "\n",
    "f= open('../data/gender.csv')\n",
    "data = csv.reader(f)\n",
    "\n",
    "m = []\n",
    "f = []\n",
    "\n",
    "for row in data:\n",
    "    if '신도림' in row[0]:\n",
    "        for i in range(0,101):\n",
    "            m.append(int(row[i+3]))\n",
    "            f.append(int(row[-(i+3)]))\n",
    "            \n",
    "\n",
    "f.reverse() # 리스트 값 역순\n",
    "                \n",
    "        \n"
   ]
  },
  {
   "cell_type": "code",
   "execution_count": null,
   "id": "704bf384",
   "metadata": {},
   "outputs": [],
   "source": [
    "import csv\n",
    " \n",
    "f= open('../data/gender.csv')\n",
    "data = csv.reader(f)\n",
    "\n",
    "m = []\n",
    "f = []\n",
    "\n",
    "for row in data:\n",
    "    if '신도림' in row[0]:\n",
    "        for i in row[3:104]:\n",
    "            m.append(-int(i)) # 남성 데이터 리스트 저장\n",
    "            \n",
    "        for i in row[106:]:\n",
    "            f.append(int(i)) # 여성 데이터 리스트 저장"
   ]
  },
  {
   "cell_type": "markdown",
   "id": "fc2b1d1c",
   "metadata": {},
   "source": [
    "# 시각화\n"
   ]
  },
  {
   "cell_type": "code",
   "execution_count": null,
   "id": "b78e4904",
   "metadata": {
    "scrolled": true
   },
   "outputs": [],
   "source": [
    "import matplotlib.pyplot as plt\n",
    "\n",
    "plt.rc('font',family='Malgun Gothic')\n",
    "plt.title('신도림 지역의 남녀 성별 인구 분포')\n",
    "\n",
    "plt.barh(range(101), m,label='남성')\n",
    "plt.barh(range(101), f,label='여성')\n",
    "plt.legend()\n",
    "plt.show()"
   ]
  },
  {
   "cell_type": "code",
   "execution_count": null,
   "id": "6ec76d6e",
   "metadata": {
    "scrolled": true
   },
   "outputs": [],
   "source": [
    "import matplotlib.pyplot as plt\n",
    "\n",
    "plt.barh(range(101),m)\n",
    "plt.barh(range(101),f)\n",
    "plt.show()"
   ]
  },
  {
   "cell_type": "markdown",
   "id": "25f3f321",
   "metadata": {},
   "source": [
    "# 남녀 성별 인구분포 찾아보기"
   ]
  },
  {
   "cell_type": "code",
   "execution_count": null,
   "id": "e79f432b",
   "metadata": {
    "scrolled": false
   },
   "outputs": [],
   "source": [
    "import csv\n",
    "import matplotlib.pyplot as plt\n",
    "\n",
    "\n",
    "f= open('../data/gender.csv')\n",
    "data = csv.reader(f)\n",
    "\n",
    "m = []\n",
    "f = []\n",
    "\n",
    "name = input('찾고싶은 지역의 이름을 알려주세요')\n",
    "\n",
    "for row in data:\n",
    "    if name in row[0]:\n",
    "        for i in row[3:104]:\n",
    "            m.append(-int(i)) # 남성 데이터 리스트 저장\n",
    "            \n",
    "        for i in row[106:]:\n",
    "            f.append(int(i)) # 여성 데이터 리스트 저장\n",
    "            \n",
    "plt.style.use('ggplot')\n",
    "plt.figure(figsize = (10,5),dpi = 300)\n",
    "plt.rc('font',family='Malgun Gothic')\n",
    "plt.rcParams['axes.unicode_minus']=False\n",
    "plt.title(name + ' 지역의 남녀 성별 인구 분포')\n",
    "\n",
    "plt.barh(range(101),m,label='남성')\n",
    "plt.barh(range(101),f,label = '여성')\n",
    "plt.legend()\n",
    "plt.show()"
   ]
  },
  {
   "cell_type": "markdown",
   "id": "4a3bd48d",
   "metadata": {},
   "source": [
    "# 혈액형에 따른 분포"
   ]
  },
  {
   "cell_type": "code",
   "execution_count": null,
   "id": "e66c8bae",
   "metadata": {
    "scrolled": true
   },
   "outputs": [],
   "source": [
    "# 선그래프 , 산점도 , 히스토그램 , 바그래프\n",
    "# 원그래프\n",
    "\n",
    "import matplotlib.pyplot as plt\n",
    "\n",
    "size = [2441,2313,1031,1233]\n",
    "\n",
    "plt.axis('equal')\n",
    "plt.pie(size)\n",
    "plt.show()"
   ]
  },
  {
   "cell_type": "markdown",
   "id": "0bfed59d",
   "metadata": {},
   "source": [
    "### 레이블 표시"
   ]
  },
  {
   "cell_type": "code",
   "execution_count": null,
   "id": "8c6b1f9e",
   "metadata": {
    "scrolled": true
   },
   "outputs": [],
   "source": [
    "import matplotlib.pyplot as plt\n",
    "\n",
    "plt.rc('font',family = 'malgun gothic')\n",
    "\n",
    "size = [2441,2313,1031,1233]\n",
    "\n",
    "label = ['A형','B형','AB형','O형']\n",
    "plt.axis('equal')\n",
    "plt.pie(size,labels=label)\n",
    "plt.show()"
   ]
  },
  {
   "cell_type": "markdown",
   "id": "972ef48d",
   "metadata": {},
   "source": [
    "### 비율 및 범례 표시"
   ]
  },
  {
   "cell_type": "code",
   "execution_count": null,
   "id": "d6d3e462",
   "metadata": {},
   "outputs": [],
   "source": [
    "import matplotlib.pyplot as plt\n",
    "\n",
    "plt.rc('font',family = 'malgun gothic')\n",
    "\n",
    "size = [2441,2313,1031,1233]\n",
    "\n",
    "\n",
    "label = ['A형','B형','AB형','O형']\n",
    "\n",
    "plt.axis('equal')\n",
    "plt.pie(size,labels=label,autopct='%.1f%%')# 비율표시 autopct\n",
    "plt.legend()# 범례\n",
    "plt.show()"
   ]
  },
  {
   "cell_type": "markdown",
   "id": "f76a6eec",
   "metadata": {},
   "source": [
    "### 비율 및 범례 표시 + 색상"
   ]
  },
  {
   "cell_type": "code",
   "execution_count": null,
   "id": "971c0b72",
   "metadata": {
    "scrolled": true
   },
   "outputs": [],
   "source": [
    "import matplotlib.pyplot as plt\n",
    "\n",
    "plt.rc('font',family = 'malgun gothic')\n",
    "\n",
    "size = [2441,2313,1031,1233]\n",
    "\n",
    "\n",
    "label = ['A형','B형','AB형','O형']\n",
    "\n",
    "color =['darkmagenta','deeppink','hotpink','pink']\n",
    "\n",
    "plt.axis('equal')\n",
    "plt.pie(size,labels=label,autopct='%.1f%%',colors=color)# 비율표시 autopct\n",
    "plt.legend()# 범례\n",
    "plt.show()"
   ]
  },
  {
   "cell_type": "markdown",
   "id": "d2ccafcf",
   "metadata": {},
   "source": [
    "# 산점도"
   ]
  },
  {
   "cell_type": "code",
   "execution_count": null,
   "id": "878d4c24",
   "metadata": {
    "scrolled": false
   },
   "outputs": [],
   "source": [
    "import matplotlib.pyplot as plt\n",
    "import random\n",
    "\n",
    "x = []\n",
    "y = []\n",
    "size = []\n",
    "\n",
    "for i in range(100):\n",
    "    x.append(random.randint(50,100))\n",
    "    y.append(random.randint(50,100))\n",
    "    size.append(random.randint(10,100))\n",
    "    \n",
    "plt.scatter(x,y,s=size)\n",
    "plt.show()"
   ]
  },
  {
   "cell_type": "code",
   "execution_count": null,
   "id": "6fa182d6",
   "metadata": {},
   "outputs": [],
   "source": [
    "import matplotlib.pyplot as plt\n",
    "import random\n",
    "\n",
    "x = []\n",
    "y = []\n",
    "size = []\n",
    "\n",
    "for i in range(100):\n",
    "    x.append(random.randint(50,100))\n",
    "    y.append(random.randint(50,100))\n",
    "    size.append(random.randint(10,100))\n",
    "    \n",
    " \n",
    "plt.scatter(x,y,s=size,c=size,cmap='jet')\n",
    "plt.colorbar() #크기에 따른 색상 바\n",
    "plt.show()"
   ]
  },
  {
   "cell_type": "code",
   "execution_count": null,
   "id": "0adad6fb",
   "metadata": {
    "scrolled": true
   },
   "outputs": [],
   "source": [
    "import matplotlib.pyplot as plt\n",
    "import random\n",
    "\n",
    "x = []\n",
    "y = []\n",
    "size = []\n",
    "\n",
    "for i in range(100):\n",
    "    x.append(random.randint(50,100))\n",
    "    y.append(random.randint(50,100))\n",
    "    size.append(random.randint(10,100))\n",
    "    \n",
    " \n",
    "plt.scatter(x,y,s=size,c=size,cmap='jet',alpha=0.6) # alpha 투명도 조정\n",
    "plt.colorbar() #크기에 따른 색상 바\n",
    "plt.show()"
   ]
  }
 ],
 "metadata": {
  "kernelspec": {
   "display_name": "Python 3",
   "language": "python",
   "name": "python3"
  },
  "language_info": {
   "codemirror_mode": {
    "name": "ipython",
    "version": 3
   },
   "file_extension": ".py",
   "mimetype": "text/x-python",
   "name": "python",
   "nbconvert_exporter": "python",
   "pygments_lexer": "ipython3",
   "version": "3.8.8"
  }
 },
 "nbformat": 4,
 "nbformat_minor": 5
}
