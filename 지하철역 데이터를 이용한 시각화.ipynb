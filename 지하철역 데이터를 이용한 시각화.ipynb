{
 "cells": [
  {
   "cell_type": "code",
   "execution_count": null,
   "id": "d0ca45ce",
   "metadata": {},
   "outputs": [],
   "source": [
    "import csv\n",
    "\n",
    "f=open('../data/subwaytime.csv')\n",
    "data=csv.reader(f)\n",
    "\n",
    "for row in data:\n",
    "    print(row)"
   ]
  },
  {
   "cell_type": "code",
   "execution_count": null,
   "id": "b0ea3034",
   "metadata": {
    "scrolled": true
   },
   "outputs": [],
   "source": [
    "# 위의 데이터를 참조해서 두가지 조건을 해결해야 한다.\n",
    "# 1 ) 제목이 두줄인 것을 제거\n",
    "# 2 ) 4번 인덱스 부터 정수로 변환해야한다. ( 계산을 해야하기 때문에)\n",
    "\n",
    "import csv\n",
    "\n",
    "f=open('../data/subwaytime.csv')\n",
    "data=csv.reader(f)\n",
    "\n",
    "next(data)\n",
    "next(data)\n",
    "\n",
    "# 데이터에서 삭제할때 공백이 발생할 수 있으니 확인후 없애야한다.\n",
    "\n",
    "for row in data : \n",
    "    row[4:]=map(int,row[4:]) # 뒤에있는 데이터를 앞의 형식으로 변환\n",
    "    print(row)\n",
    "    \n",
    "# 숫자로 변환 시키면 따옴표가 사라진다"
   ]
  },
  {
   "cell_type": "markdown",
   "id": "6ac64d8f",
   "metadata": {},
   "source": [
    "# 숫자로 변환된 데이터를 시각화"
   ]
  },
  {
   "cell_type": "code",
   "execution_count": null,
   "id": "9dbd529a",
   "metadata": {},
   "outputs": [],
   "source": [
    "import csv\n",
    "import matplotlib.pyplot as plt # 시각화\n",
    "\n",
    "\n",
    "f=open('../data/subwaytime.csv')\n",
    "data=csv.reader(f)\n",
    "\n",
    "\n",
    "\n",
    "next(data)\n",
    "next(data)\n",
    "result =[]\n",
    "# 데이터에서 삭제할때 공백이 발생할 수 있으니 확인후 없애야한다.\n",
    "\n",
    "for row in data : \n",
    "    row[4:]=map(int,row[4:]) # 뒤에있는 데이터를 앞의 형식으로 변환\n",
    "    result.append(row[10])\n",
    "\n",
    "plt.style.use('ggplot')\n",
    "plt.bar(range(len(result)),result)\n",
    "plt.show()\n",
    "# 숫자로 변환 시키면 따옴표가 사라진다"
   ]
  },
  {
   "cell_type": "code",
   "execution_count": null,
   "id": "0b079034",
   "metadata": {},
   "outputs": [],
   "source": [
    "# 숫자로 변환된 데이터 시각화\n",
    "# 연속적인 시각화를 위한 정렬\n",
    "\n",
    "\n",
    "import csv\n",
    "import matplotlib.pyplot as plt # 시각화\n",
    "\n",
    "\n",
    "f=open('../data/subwaytime.csv')\n",
    "data=csv.reader(f)\n",
    "\n",
    "\n",
    "\n",
    "next(data)\n",
    "next(data)\n",
    "result =[]\n",
    "# 데이터에서 삭제할때 공백이 발생할 수 있으니 확인후 없애야한다.\n",
    "\n",
    "for row in data : \n",
    "    row[4:]=map(int,row[4:]) # 뒤에있는 데이터를 앞의 형식으로 변환\n",
    "    result.append(row[10])\n",
    "\n",
    "# 시각화 시작\n",
    "result.sort()\n",
    "plt.style.use('ggplot') # 그래프 스타일에 적용\n",
    "plt.figure(figsize=(20,20)) # 사이즈 조절\n",
    "plt.bar(range(len(result)),result) # 값\n",
    "\n",
    "plt.show()\n",
    "# 숫자로 변환 시키면 따옴표가 사라진다"
   ]
  },
  {
   "cell_type": "markdown",
   "id": "ce5ba9ae",
   "metadata": {},
   "source": [
    "### 그래프 확인시\n",
    "### 딱 한 곳이 유독 높다는 것\n",
    "### 598개 역중 85% 정도인 역은 5만명이 안되고 15% 정도만 5만명\n",
    "### 출근 시간 7~9시 까지 승차인원을 합치면 어느 정도일까\n",
    "### 인덱스가 10 , 12 ,14 로 계산\n"
   ]
  },
  {
   "cell_type": "code",
   "execution_count": null,
   "id": "ffe44674",
   "metadata": {
    "scrolled": true
   },
   "outputs": [],
   "source": [
    "\n",
    "\n",
    "# 숫자로 변환된 데이터 시각화\n",
    "# 연속적인 시각화를 위한 정렬\n",
    "\n",
    "\n",
    "import csv\n",
    "import matplotlib.pyplot as plt # 시각화\n",
    "\n",
    "\n",
    "f=open('../data/subwaytime.csv')\n",
    "data=csv.reader(f)\n",
    "\n",
    "\n",
    "\n",
    "next(data)\n",
    "next(data)\n",
    "result =[]\n",
    "# 데이터에서 삭제할때 공백이 발생할 수 있으니 확인후 없애야한다.\n",
    "\n",
    "for row in data : \n",
    "    row[4:]=map(int,row[4:]) # 뒤에있는 데이터를 앞의 형식으로 변환\n",
    "    \n",
    "    result.append(sum(row[10:15:2])) # + 여기가 달라짐\n",
    "\n",
    "# 시각화 시작\n",
    "result.sort()\n",
    "plt.style.use('ggplot') # 그래프 스타일에 적용\n",
    "plt.figure(figsize=(20,20)) # 사이즈 조절\n",
    "plt.bar(range(len(result)),result) # 값\n",
    "\n",
    "plt.show()\n",
    "# 숫자로 변환 시키면 따옴표가 사라진다"
   ]
  },
  {
   "cell_type": "markdown",
   "id": "f2f58ece",
   "metadata": {},
   "source": [
    "# 최대 값 추출"
   ]
  },
  {
   "cell_type": "code",
   "execution_count": null,
   "id": "6e7a1c76",
   "metadata": {},
   "outputs": [],
   "source": [
    "import csv\n",
    "import matplotlib.pyplot as plt # 시각화\n",
    "\n",
    "\n",
    "f=open('../data/subwaytime.csv')\n",
    "data=csv.reader(f)\n",
    "\n",
    "\n",
    "\n",
    "next(data)\n",
    "next(data)\n",
    "mx = 0\n",
    "mx_station= ''\n",
    "# 데이터에서 삭제할때 공백이 발생할 수 있으니 확인후 없애야한다.\n",
    "\n",
    "for row in data : \n",
    "    row[4:]=map(int,row[4:]) # 뒤에있는 데이터를 앞의 형식으로 변환\n",
    "    if sum(row[10:15:2])>mx: # 여기서 부터 최대값 추출을 위한 값\n",
    "        mx = sum(row[10:15:2])\n",
    "        mx_station = row[3]+'('+row[1]+')' \n",
    "\n",
    "print(mx_station , mx)\n",
    "    \n",
    "\n",
    "\n"
   ]
  },
  {
   "cell_type": "markdown",
   "id": "23574d06",
   "metadata": {},
   "source": [
    "## 출퇴근 시간대 사람들이 가장 많이 타고 내리는 역 찾기"
   ]
  },
  {
   "cell_type": "code",
   "execution_count": null,
   "id": "7c406bf3",
   "metadata": {},
   "outputs": [],
   "source": [
    "\n",
    "\n",
    "import csv\n",
    "import matplotlib.pyplot as plt # 시각화\n",
    "\n",
    "\n",
    "f=open('../data/subwaytime.csv')\n",
    "data=csv.reader(f)\n",
    "\n",
    "\n",
    "\n",
    "next(data)\n",
    "next(data)\n",
    "mx = 0\n",
    "mx_station= ''\n",
    "# 데이터에서 삭제할때 공백이 발생할 수 있으니 확인후 없애야한다.\n",
    "\n",
    "for row in data : \n",
    "    row[4:]=map(int,row[4:]) # 뒤에있는 데이터를 앞의 형식으로 변환\n",
    "    a = row[11:16:2]\n",
    "    if sum(a)>mx: # 여기서 부터 내리는역 설정\n",
    "        mx = sum(a)\n",
    "        mx_station = row[3]+'('+row[1]+')' \n",
    "\n",
    "print(mx_station , mx)\n",
    "    "
   ]
  },
  {
   "cell_type": "code",
   "execution_count": null,
   "id": "9776d48e",
   "metadata": {},
   "outputs": [],
   "source": [
    "# 밤 11시에 사람들이 가장 많이 승차하는 역\n",
    "\n",
    "import csv\n",
    "import matplotlib.pyplot as plt # 시각화\n",
    "\n",
    "\n",
    "f=open('../data/subwaytime.csv')\n",
    "data=csv.reader(f)\n",
    "\n",
    "\n",
    "\n",
    "next(data)\n",
    "next(data)\n",
    "mx = 0\n",
    "mx_station= ''\n",
    "\n",
    "t = int(input('몇 시의 승차 인원이 가장 많은 역은? :'))\n",
    "\n",
    "for row in data : \n",
    "    row[4:]=map(int,row[4:])\n",
    "    a = row[4+(t-4)*2]\n",
    "    \n",
    "    if a >mx: \n",
    "        mx = a\n",
    "        mx_station = row[3]+'('+row[1]+')' \n",
    "\n",
    "print(mx_station , mx)"
   ]
  },
  {
   "cell_type": "code",
   "execution_count": null,
   "id": "a2cc17a2",
   "metadata": {
    "scrolled": false
   },
   "outputs": [],
   "source": [
    "# 시간대 별로 가장 많이 타고 내리는 역\n",
    "# 밤 11시에 사람들이 가장 많이 승차하는 역\n",
    "\n",
    "import csv\n",
    "import matplotlib.pyplot as plt # 시각화\n",
    "\n",
    "\n",
    "f=open('../data/subwaytime.csv')\n",
    "data=csv.reader(f)\n",
    "\n",
    "\n",
    "\n",
    "next(data)\n",
    "next(data)\n",
    "mx = [0]*24\n",
    "mx_station= ['']*24\n",
    "\n",
    "for row in data : \n",
    "    row[4:]=map(int,row[4:])\n",
    "    for j in range(24):\n",
    "        a = row[4+(t-4)*2]\n",
    "        a = row[j*2+4]\n",
    "        if a >mx[j]: \n",
    "            mx[j] = a\n",
    "            mx_station[j] = row[3]\n",
    "\n",
    "print(mx_station)\n",
    "\n",
    "print(mx)"
   ]
  },
  {
   "cell_type": "code",
   "execution_count": null,
   "id": "32ff89a4",
   "metadata": {
    "scrolled": true
   },
   "outputs": [],
   "source": [
    "import matplotlib.pyplot as plt\n",
    "%config InlineBackend.figure_format='retina' # 그래프 글씨 뚜렷\n",
    "plt.rcParams['font.family'] = ('Malgun Gothic')\n",
    "\n",
    "plt.bar(range(24),mx)\n",
    "plt.xticks(range(24),mx_station,rotation=90)\n",
    "plt.show()"
   ]
  },
  {
   "cell_type": "code",
   "execution_count": null,
   "id": "6b8f4f66",
   "metadata": {},
   "outputs": [],
   "source": [
    "# 역에 시간대 별로 숫자 표시\n",
    "\n",
    "import matplotlib.pyplot as plt\n",
    "import csv\n",
    "import matplotlib.pyplot as plt # 시각화\n",
    "\n",
    "%config InlineBackend.figure_format='retina' # 그래프 글씨 뚜렷\n",
    "f=open('../data/subwaytime.csv')\n",
    "data=csv.reader(f)\n",
    "\n",
    "\n",
    "\n",
    "next(data)\n",
    "next(data)\n",
    "mx = [0]*24\n",
    "mx_station= ['']*24\n",
    "\n",
    "for row in data : \n",
    "    row[4:]=map(int,row[4:])\n",
    "    for j in range(24):\n",
    "        a = row[4+(t-4)*2]\n",
    "        a = row[j*2+4]\n",
    "        if a >mx[j]: \n",
    "            mx[j] = a\n",
    "            mx_station[j] = row[3] +'('+str((j+4)%24)+'시)'\n",
    "\n",
    "\n",
    "plt.rcParams['font.family'] = ('Malgun Gothic')\n",
    "plt.bar(range(24),mx)\n",
    "plt.xticks(range(24),mx_station,rotation=90)\n",
    "plt.show()"
   ]
  },
  {
   "cell_type": "markdown",
   "id": "804a805c",
   "metadata": {},
   "source": [
    "# 지하철 시간대별 승하차 인원 추이를 나타내는 코드"
   ]
  },
  {
   "cell_type": "code",
   "execution_count": null,
   "id": "1f30869d",
   "metadata": {
    "scrolled": true
   },
   "outputs": [],
   "source": [
    "\n",
    "import matplotlib.pyplot as plt\n",
    "import csv\n",
    "import matplotlib.pyplot as plt # 시각화\n",
    "\n",
    "%config InlineBackend.figure_format='retina' # 그래프 글씨 뚜렷\n",
    "f=open('../data/subwaytime.csv')\n",
    "data=csv.reader(f)\n",
    "\n",
    "\n",
    "\n",
    "next(data)\n",
    "next(data)\n",
    "s_in = [0]*24\n",
    "s_out= [0]*24\n",
    "\n",
    "for row in data : \n",
    "    row[4:]=map(int,row[4:])\n",
    "    for i in range(24):\n",
    "          s_in[i]+=row[4+i*2]\n",
    "          s_out[i]+=row[5+i*2]\n",
    "\n",
    "plt.rcParams['font.family'] = ('Malgun Gothic')\n",
    "\n",
    "plt.title('지하철 시간대별 승하차 인원 추이')\n",
    "\n",
    "plt.bar(range(24),s_in,color='red') \n",
    "plt.bar(range(24),s_out,color='blue')\n",
    "\n",
    "plt.plot(s_in,label = '승차')\n",
    "plt.plot(s_out,label = '하차')\n",
    "plt.legend()\n",
    "\n",
    "\n",
    "plt.xticks(range(24),range(4,28))\n",
    "\n",
    "plt.show()"
   ]
  },
  {
   "cell_type": "markdown",
   "id": "26e969a5",
   "metadata": {},
   "source": [
    "# 넘파이를 사용했을 때와 사용하지 않았을때 차이\n"
   ]
  },
  {
   "cell_type": "code",
   "execution_count": null,
   "id": "5c32584a",
   "metadata": {
    "scrolled": true
   },
   "outputs": [],
   "source": [
    "# 넘파이 사용\n",
    "import matplotlib.pyplot as plt\n",
    "import numpy as np\n",
    "dice = np.random.choice(6,10)\n",
    "\n",
    "plt.hist(dice,bins = 6)\n",
    "plt.show()"
   ]
  },
  {
   "cell_type": "code",
   "execution_count": null,
   "id": "93f436cc",
   "metadata": {
    "scrolled": true
   },
   "outputs": [],
   "source": [
    "# 넘파이를 안쓸때\n",
    "import matplotlib.pyplot as plt\n",
    "import random\n",
    "dice=[]\n",
    "\n",
    "for i in range(10):\n",
    "    dice.append(random.randint(1,6))\n",
    "\n",
    "plt.hist(dice,bins = 6)\n",
    "plt.show()"
   ]
  },
  {
   "cell_type": "code",
   "execution_count": null,
   "id": "f4006a23",
   "metadata": {},
   "outputs": [],
   "source": [
    "import matplotlib.pyplot as plt\n",
    "import numpy as np\n",
    "\n",
    "dice = np.random.choice(6,10000,p=[0.1,0.2,0.3,0.2,0.1,0.1])\n",
    "plt.hist(dice,bins=6) # 0,1,2,3,4,5 중 랜덤으로 추출한 숫자를 히스토그램 표현\n",
    "plt.show()"
   ]
  },
  {
   "cell_type": "code",
   "execution_count": null,
   "id": "54fc1630",
   "metadata": {
    "scrolled": true
   },
   "outputs": [],
   "source": [
    "# 넘파이 버블 차트 그리기\n",
    "\n",
    "import matplotlib.pyplot as plt\n",
    "import numpy as np\n",
    "\n",
    "x = np.random.randint(10,100,200)\n",
    "y = np.random.randint(10,100,200)\n",
    "size = np.random.randint(100)*100\n",
    "\n",
    "plt.scatter(x,y,s=size,c=x,cmap='jet',alpha = 0.7)\n",
    "plt.colorbar()\n",
    "plt.show()"
   ]
  },
  {
   "cell_type": "markdown",
   "id": "cbd56422",
   "metadata": {},
   "source": [
    "# 넘파이 array 활용"
   ]
  },
  {
   "cell_type": "code",
   "execution_count": null,
   "id": "984d5b97",
   "metadata": {
    "scrolled": true
   },
   "outputs": [],
   "source": [
    "import matplotlib.pyplot as plt\n",
    "import numpy as np\n",
    "\n",
    "a = np.arange(-np.pi , np.pi,np.pi/100)\n",
    "plt.plot(a,np.sin(a))\n",
    "plt.show()"
   ]
  },
  {
   "cell_type": "markdown",
   "id": "15ff4d06",
   "metadata": {},
   "source": [
    "# 넘파이 array 활용2 "
   ]
  },
  {
   "cell_type": "code",
   "execution_count": null,
   "id": "100a4e35",
   "metadata": {
    "scrolled": true
   },
   "outputs": [],
   "source": [
    "import matplotlib.pyplot as plt\n",
    "import numpy as np\n",
    "\n",
    "a = np.arange(-np.pi , np.pi,np.pi/100)\n",
    "plt.plot(a,np.sin(a))\n",
    "plt.plot(a,np.cos(a))\n",
    "plt.plot(a+np.pi/2,np.sin(a))\n",
    "plt.show()"
   ]
  },
  {
   "cell_type": "markdown",
   "id": "8272539a",
   "metadata": {},
   "source": [
    "# 넘파이 array 활용 3"
   ]
  },
  {
   "cell_type": "code",
   "execution_count": null,
   "id": "09c35a26",
   "metadata": {
    "scrolled": true
   },
   "outputs": [],
   "source": [
    "import matplotlib.pyplot as plt\n",
    "import numpy as np\n",
    "\n",
    "x = np.random.randint(-100,100,1000)\n",
    "y = np.random.randint(-100,100,1000)\n",
    "size = np.random.randint(100)*2\n",
    "\n",
    "mask1 =abs(x)>50\n",
    "mask2 =abs(y)>50\n",
    "\n",
    "x=x[mask1+mask2]\n",
    "y=y[mask1+mask2]\n",
    "\n",
    "plt.scatter(x,y,s=size,c=x,cmap='jet',alpha = 0.7)\n",
    "plt.colorbar()\n",
    "plt.show()"
   ]
  },
  {
   "cell_type": "markdown",
   "id": "a81b6af8",
   "metadata": {},
   "source": [
    "# numpy 와 pandas 활용"
   ]
  },
  {
   "cell_type": "code",
   "execution_count": 3,
   "id": "7e5cda95",
   "metadata": {
    "scrolled": false
   },
   "outputs": [
    {
     "name": "stdout",
     "output_type": "stream",
     "text": [
      "원하는 지역의 이름을 입력해 주세요 : 와동\n"
     ]
    },
    {
     "data": {
      "image/png": "[encoded data removed]",
      "text/plain": [
       "<Figure size 432x288 with 1 Axes>"
      ]
     },
     "metadata": {
      "needs_background": "light"
     },
     "output_type": "display_data"
    }
   ],
   "source": [
    "import pandas as pd\n",
    "import numpy as np\n",
    "import matplotlib.pyplot as plt\n",
    "\n",
    "plt.rc('font',family='Malgun Gothic')\n",
    "df = pd.read_csv('../data/age.csv',encoding='cp949',index_col = 0)\n",
    "df = df.div(df['총인구수'],axis=0)\n",
    "\n",
    "del df['총인구수'],df['연령구간인구수']\n",
    "\n",
    "name = input('원하는 지역의 이름을 입력해 주세요 : ')\n",
    "a = df.index.str.contains(name)\n",
    "df2=df[a]\n",
    "\n",
    "df.loc[np.power(df.sub(df2.iloc[0],axis=1),2).sum(axis=1).sort_values().index[:5]].T.plot()\n",
    "plt.show()\n"
   ]
  },
  {
   "cell_type": "markdown",
   "id": "57ecebad",
   "metadata": {},
   "source": [
    "# import re  (정규화)\n",
    "R ,Python ,Spring ,JSP,JAVA,JavaScript"
   ]
  },
  {
   "cell_type": "code",
   "execution_count": 8,
   "id": "95ae2f6c",
   "metadata": {
    "scrolled": true
   },
   "outputs": [
    {
     "name": "stdout",
     "output_type": "stream",
     "text": [
      "(4622, 5)\n",
      "------------------------\n",
      "<class 'pandas.core.frame.DataFrame'>\n",
      "RangeIndex: 4622 entries, 0 to 4621\n",
      "Data columns (total 5 columns):\n",
      " #   Column              Non-Null Count  Dtype \n",
      "---  ------              --------------  ----- \n",
      " 0   order_id            4622 non-null   int64 \n",
      " 1   quantity            4622 non-null   int64 \n",
      " 2   item_name           4622 non-null   object\n",
      " 3   choice_description  3376 non-null   object\n",
      " 4   item_price          4622 non-null   object\n",
      "dtypes: int64(2), object(3)\n",
      "memory usage: 180.7+ KB\n",
      "None\n"
     ]
    }
   ],
   "source": [
    "import pandas as pd\n",
    "\n",
    "file_path = '../data/chipotle.tsv'\n",
    "\n",
    "chipo = pd.read_csv(file_path, sep='\\t')\n",
    "\n",
    "print(chipo.shape)  # 안써도 무방\n",
    "print('------------------------')\n",
    "print(chipo.info())\n"
   ]
  },
  {
   "cell_type": "code",
   "execution_count": 16,
   "id": "6ecf0b0a",
   "metadata": {
    "scrolled": true
   },
   "outputs": [
    {
     "name": "stdout",
     "output_type": "stream",
     "text": [
      "Index(['order_id', 'quantity', 'item_name', 'choice_description',\n",
      "       'item_price'],\n",
      "      dtype='object')\n",
      "-------------------------------------------------\n",
      "RangeIndex(start=0, stop=4622, step=1)\n"
     ]
    }
   ],
   "source": [
    "chipo.head(10)\n",
    "\n",
    "print(chipo.columns)\n",
    "print('-------------------------------------------------')\n",
    "print(chipo.index)"
   ]
  },
  {
   "cell_type": "code",
   "execution_count": 17,
   "id": "dd642383",
   "metadata": {
    "scrolled": true
   },
   "outputs": [
    {
     "name": "stdout",
     "output_type": "stream",
     "text": [
      "          quantity\n",
      "count  4622.000000\n",
      "mean      1.075725\n",
      "std       0.410186\n",
      "min       1.000000\n",
      "25%       1.000000\n",
      "50%       1.000000\n",
      "75%       1.000000\n",
      "max      15.000000\n"
     ]
    }
   ],
   "source": [
    "chipo['order_id']=chipo['order_id'].astype(str)\n",
    "print(chipo.describe())"
   ]
  },
  {
   "cell_type": "code",
   "execution_count": 20,
   "id": "30ebc10a",
   "metadata": {
    "scrolled": true
   },
   "outputs": [
    {
     "name": "stdout",
     "output_type": "stream",
     "text": [
      "1834\n",
      "50\n"
     ]
    }
   ],
   "source": [
    "# order_id 개수 , item_name 개수\n",
    "\n",
    "print(len(chipo['order_id'].unique())) # . unique() 유일값 을 알 수 있음\n",
    "print(len(chipo['item_name'].unique()))\n"
   ]
  },
  {
   "cell_type": "markdown",
   "id": "bbd24f89",
   "metadata": {},
   "source": []
  },
  {
   "cell_type": "code",
   "execution_count": 24,
   "id": "054b00fd",
   "metadata": {
    "scrolled": false
   },
   "outputs": [
    {
     "name": "stdout",
     "output_type": "stream",
     "text": [
      "Top 1 : Chicken Bowl 726\n",
      "Top 2 : Chicken Burrito 553\n",
      "Top 3 : Chips and Guacamole 479\n",
      "Top 4 : Steak Burrito 368\n",
      "Top 5 : Canned Soft Drink 301\n",
      "Top 6 : Chips 211\n",
      "Top 7 : Steak Bowl 211\n",
      "Top 8 : Bottled Water 162\n",
      "Top 9 : Chicken Soft Tacos 115\n",
      "Top 10 : Chicken Salad Bowl 110\n"
     ]
    }
   ],
   "source": [
    "item_count =chipo['item_name'].value_counts()[:10]\n",
    "for idx,(val,cnt) in enumerate(item_count.iteritems(),1):\n",
    "    print(\"Top\",idx,\":\",val,cnt)"
   ]
  },
  {
   "cell_type": "markdown",
   "id": "f1576ed2",
   "metadata": {},
   "source": []
  },
  {
   "cell_type": "code",
   "execution_count": 25,
   "id": "26fd8be4",
   "metadata": {},
   "outputs": [
    {
     "data": {
      "text/plain": [
       "item_name\n",
       "6 Pack Soft Drink         54\n",
       "Barbacoa Bowl             66\n",
       "Barbacoa Burrito          91\n",
       "Barbacoa Crispy Tacos     11\n",
       "Barbacoa Salad Bowl       10\n",
       "Barbacoa Soft Tacos       25\n",
       "Bottled Water            162\n",
       "Bowl                       2\n",
       "Burrito                    6\n",
       "Canned Soda              104\n",
       "Name: order_id, dtype: int64"
      ]
     },
     "execution_count": 25,
     "metadata": {},
     "output_type": "execute_result"
    }
   ],
   "source": []
  }
 ],
 "metadata": {
  "kernelspec": {
   "display_name": "Python 3",
   "language": "python",
   "name": "python3"
  },
  "language_info": {
   "codemirror_mode": {
    "name": "ipython",
    "version": 3
   },
   "file_extension": ".py",
   "mimetype": "text/x-python",
   "name": "python",
   "nbconvert_exporter": "python",
   "pygments_lexer": "ipython3",
   "version": "3.8.8"
  }
 },
 "nbformat": 4,
 "nbformat_minor": 5
}
