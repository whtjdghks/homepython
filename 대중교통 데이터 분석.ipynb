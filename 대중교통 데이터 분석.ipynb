{
 "cells": [
  {
   "cell_type": "markdown",
   "id": "df90e3f8",
   "metadata": {},
   "source": [
    "# 대중 교통 데이터 내려받기\n",
    "티머니 홈페이지 : www.t-money.co.kr"
   ]
  },
  {
   "cell_type": "code",
   "execution_count": null,
   "id": "822ab452",
   "metadata": {},
   "outputs": [],
   "source": [
    "\n",
    "\n",
    "import csv\n",
    "\n",
    "f=open('../data/subwayfee.csv')\n",
    "data = csv.reader(f)\n",
    "\n",
    "\n",
    "for row in data:\n",
    "    print(row)\n"
   ]
  },
  {
   "cell_type": "code",
   "execution_count": null,
   "id": "1b71af34",
   "metadata": {},
   "outputs": [],
   "source": [
    "# 헤더 제거\n",
    "\n",
    "import csv\n",
    "\n",
    "f=open('../data/subwayfee.csv')\n",
    "data = csv.reader(f)\n",
    "next(data)# 헤더 제거\n",
    "\n",
    "for row in data:\n",
    "    print(row)"
   ]
  },
  {
   "cell_type": "code",
   "execution_count": null,
   "id": "73a5d4ca",
   "metadata": {},
   "outputs": [],
   "source": [
    "# 4번열 부터 7번열 까지 정수로 변경\n",
    "import csv\n",
    "\n",
    "f=open('../data/subwayfee.csv')\n",
    "data = csv.reader(f)\n",
    "\n",
    "next(data)# 헤더 제거\n",
    "\n",
    "for row in data:\n",
    "    for i in range(4, 8):\n",
    "        row[i] = int(row[i])\n",
    "        \n",
    "    print(row)"
   ]
  },
  {
   "cell_type": "code",
   "execution_count": null,
   "id": "d9ac7ee5",
   "metadata": {},
   "outputs": [],
   "source": [
    "# 유임 승차 비율이 가장 높은 역은?\n",
    "# 1. 모든 역의 데이트를 바탕으로 각 역의 비율 계산\n",
    "# 2. 비율이 가장 높은 역을 찾는다\n",
    "# 3. 비율이 가장 높은 역이 어디인지 , 그 비율이 얼마 인지 출력\n",
    "\n",
    "import csv\n",
    "\n",
    "f=open('../data/subwayfee.csv')\n",
    "data = csv.reader(f)\n",
    "\n",
    "next(data)# 헤더 제거\n",
    "\n",
    "mx=0\n",
    "rate = 0\n",
    "\n",
    "for row in data:\n",
    "    for i in range(4, 8):\n",
    "        row[i] = int(row[i])\n",
    "    if row[6] !=0:\n",
    "        rate = row[4]/row[6]\n",
    "    if rate>mx:\n",
    "        mx = rate\n",
    "        print(row,round(rate,2))"
   ]
  },
  {
   "cell_type": "code",
   "execution_count": null,
   "id": "15ec1ae3",
   "metadata": {},
   "outputs": [],
   "source": [
    "# 유무임 승차 인원을 합쳐서 100,000 명이상인 경우만 찾는 것으로 수정\n",
    "import csv\n",
    "\n",
    "f=open('../data/subwayfee.csv')\n",
    "data = csv.reader(f)\n",
    "\n",
    "next(data)# 헤더 제거\n",
    "\n",
    "mx=0\n",
    "rate = 0\n",
    "\n",
    "for row in data:\n",
    "    for i in range(4, 8):\n",
    "        row[i] = int(row[i])\n",
    "    if row[6] !=0 and (row[4]+row[6]) > 100000:\n",
    "        rate = row[4]/(row[4]+row[6])\n",
    "    if rate>mx:\n",
    "        mx = rate\n",
    "        print(row,round(rate,2))"
   ]
  },
  {
   "cell_type": "code",
   "execution_count": null,
   "id": "9eca4763",
   "metadata": {},
   "outputs": [],
   "source": [
    "# 유임 승차 비율이 가장 높은 역\n",
    "\n",
    "import csv\n",
    "\n",
    "f=open('../data/subwayfee.csv')\n",
    "data = csv.reader(f)\n",
    "\n",
    "next(data)# 헤더 제거\n",
    "\n",
    "mx=0\n",
    "rate = 0\n",
    "mx_station = ''\n",
    "\n",
    "for row in data:\n",
    "    for i in range(4, 8):\n",
    "        row[i] = int(row[i])\n",
    "    if row[6] !=0 and (row[4]+row[6]) > 100000:\n",
    "        rate = row[4]/(row[4]+row[6])\n",
    "    if rate>mx:\n",
    "        mx = rate\n",
    "        mx_station=row[3]+' '+row[1]\n",
    "        \n",
    "print(mx_station,round(mx*100,2))# 유무임 승하차 인원이 가장 많은 역\n",
    "\n",
    "\n"
   ]
  },
  {
   "cell_type": "code",
   "execution_count": null,
   "id": "e38e575f",
   "metadata": {},
   "outputs": [],
   "source": [
    "# 유무임 승하차 인원이 가장 많은 역\n",
    "\n",
    "import csv\n",
    "\n",
    "f=open('../data/subwayfee.csv')\n",
    "data = csv.reader(f)\n",
    "\n",
    "next(data)# 헤더 제거\n",
    "\n",
    "mx=[0]*4\n",
    "mx_station = ['']*4\n",
    "label = ['유임승차','유임하차','무임승차','무임하차']\n",
    "\n",
    "for row in data:\n",
    "    for i in range(4, 8):\n",
    "        row[i] = int(row[i])\n",
    "        if row[i] > mx[i-4]:\n",
    "            mx[i-4] = row[i]\n",
    "            mx_station[i-4] =row[3]+' '+row[1]\n",
    "\n",
    "for i in range(4):\n",
    "    print(label[i]+':'+mx_station[i],mx[i])\n",
    "        \n"
   ]
  },
  {
   "cell_type": "markdown",
   "id": "b9e1dc8c",
   "metadata": {},
   "source": [
    "# 모든 역의 유무임 승하차 비율 시각화"
   ]
  },
  {
   "cell_type": "code",
   "execution_count": null,
   "id": "1d476c57",
   "metadata": {},
   "outputs": [],
   "source": [
    "import csv\n",
    "import matplotlib.pyplot as plt\n",
    "f=open('../data/subwayfee.csv')\n",
    "data = csv.reader(f)\n",
    "\n",
    "next(data)# 헤더 제거\n",
    "\n",
    "mx=[0]*4\n",
    "mx_station = ['']*4\n",
    "label = ['유임승차','유임하차','무임승차','무임하차']\n",
    "\n",
    "for row in data:\n",
    "    for i in range(4, 8):\n",
    "        row[i] = int(row[i])\n",
    "        plt.pie(row[4:8])\n",
    "        plt.axis('equal')\n",
    "        plt.show()\n",
    "        \n",
    "# 이렇게 하면 구분을 할 수가없다."
   ]
  },
  {
   "cell_type": "code",
   "execution_count": null,
   "id": "873ee6de",
   "metadata": {},
   "outputs": [],
   "source": [
    "import csv\n",
    "import matplotlib.pyplot as plt\n",
    "f=open('../data/subwayfee.csv')\n",
    "data = csv.reader(f)\n",
    "\n",
    "next(data)# 헤더 제거\n",
    "\n",
    "mx=[0]*4\n",
    "mx_station = ['']*4\n",
    "label = ['유임승차','유임하차','무임승차','무임하차']\n",
    "\n",
    "c = ['#14ccc0','#389993','#FF1C6A','#CC14AF']\n",
    "plt.rc('font',family='Malgun Gothic')\n",
    "\n",
    "for row in data:\n",
    "    for i in range(4, 8):\n",
    "        row[i] = int(row[i])\n",
    "    plt.figure(dpi=300) #해상도의 질을 결정한다.\n",
    "    plt.title(row[3]+' '+row[1])\n",
    "    plt.pie(row[4:8],labels=label,colors = c,autopct='%1.f%%')\n",
    "    plt.axis('equal')\n",
    "   # plt.savefig(row[3]+' '+row[1]+'.png') # 저장하는거임 주의\n",
    "    plt.show()"
   ]
  }
 ],
 "metadata": {
  "kernelspec": {
   "display_name": "Python 3",
   "language": "python",
   "name": "python3"
  },
  "language_info": {
   "codemirror_mode": {
    "name": "ipython",
    "version": 3
   },
   "file_extension": ".py",
   "mimetype": "text/x-python",
   "name": "python",
   "nbconvert_exporter": "python",
   "pygments_lexer": "ipython3",
   "version": "3.8.8"
  }
 },
 "nbformat": 4,
 "nbformat_minor": 5
}
