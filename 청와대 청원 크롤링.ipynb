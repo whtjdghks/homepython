{
 "cells": [
  {
   "cell_type": "code",
   "execution_count": 1,
   "id": "e8c6d1a3",
   "metadata": {
    "scrolled": true
   },
   "outputs": [],
   "source": [
    "from bs4 import BeautifulSoup"
   ]
  },
  {
   "cell_type": "code",
   "execution_count": 2,
   "id": "4afac127",
   "metadata": {},
   "outputs": [],
   "source": [
    "from selenium import webdriver"
   ]
  },
  {
   "cell_type": "code",
   "execution_count": 3,
   "id": "d0c9ce26",
   "metadata": {},
   "outputs": [],
   "source": [
    "driver = webdriver.Chrome(\"../drv/chromedriver.exe\") #드라이버 등록"
   ]
  },
  {
   "cell_type": "code",
   "execution_count": 4,
   "id": "19094077",
   "metadata": {},
   "outputs": [],
   "source": [
    "driver.get(\"https://www1.president.go.kr/petitions/best\")#드라이버를 통해서 홈페이지 불러오기"
   ]
  },
  {
   "cell_type": "code",
   "execution_count": 5,
   "id": "79ddaf93",
   "metadata": {},
   "outputs": [],
   "source": [
    "soup = BeautifulSoup(driver.page_source,'html.parser') #모든 소스 가져오기"
   ]
  },
  {
   "cell_type": "code",
   "execution_count": 12,
   "id": "8e185eca",
   "metadata": {},
   "outputs": [],
   "source": [
    "for i in soup.select(\"#ont_view > div.cs_area > div > div > div.board.text > div.b_list.category > div.bl_body > ul > li\"):\n",
    "    print(i)"
   ]
  }
 ],
 "metadata": {
  "kernelspec": {
   "display_name": "Python 3",
   "language": "python",
   "name": "python3"
  },
  "language_info": {
   "codemirror_mode": {
    "name": "ipython",
    "version": 3
   },
   "file_extension": ".py",
   "mimetype": "text/x-python",
   "name": "python",
   "nbconvert_exporter": "python",
   "pygments_lexer": "ipython3",
   "version": "3.8.8"
  }
 },
 "nbformat": 4,
 "nbformat_minor": 5
}
