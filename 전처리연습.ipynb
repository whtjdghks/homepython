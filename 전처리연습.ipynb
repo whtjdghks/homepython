{
 "cells": [
  {
   "cell_type": "markdown",
   "id": "7a8370f1",
   "metadata": {},
   "source": [
    "### 데이터 불러오기 / 데이터 요약 확인, 결측치, missing data 확인 / 컬럼데이터 추출)"
   ]
  },
  {
   "cell_type": "code",
   "execution_count": null,
   "id": "1678f74b",
   "metadata": {},
   "outputs": [],
   "source": [
    "import pandas as pd"
   ]
  },
  {
   "cell_type": "code",
   "execution_count": null,
   "id": "7dce4318",
   "metadata": {},
   "outputs": [],
   "source": [
    "df1=pd.read_csv('./example.csv')\n",
    "df1.head()"
   ]
  },
  {
   "cell_type": "markdown",
   "id": "b10fcce7",
   "metadata": {},
   "source": [
    "# 1.데이터 형태 확인 "
   ]
  },
  {
   "cell_type": "code",
   "execution_count": null,
   "id": "b6597151",
   "metadata": {},
   "outputs": [],
   "source": [
    "df1.shape\n",
    "# 20개의 항목이 70만개 가량있음"
   ]
  },
  {
   "cell_type": "code",
   "execution_count": null,
   "id": "36c97e4d",
   "metadata": {},
   "outputs": [],
   "source": [
    "# 데이터의 타입확인\n",
    "df1.info()\n",
    "# object 범주형\n",
    "# int64 integer 데이터\n",
    "# float64 실수형\n",
    "# 실수형 3개 정수형 4개 범주형 13개"
   ]
  },
  {
   "cell_type": "code",
   "execution_count": null,
   "id": "a50c89e1",
   "metadata": {
    "scrolled": true
   },
   "outputs": [],
   "source": [
    "df1.describe()\n",
    "# summary를 알 수 있음 "
   ]
  },
  {
   "cell_type": "code",
   "execution_count": null,
   "id": "ce742389",
   "metadata": {
    "scrolled": true
   },
   "outputs": [],
   "source": [
    "df1.head() #상위 5개\n",
    "df1.tail() #하위 5개"
   ]
  },
  {
   "cell_type": "code",
   "execution_count": null,
   "id": "32ac10af",
   "metadata": {
    "scrolled": true
   },
   "outputs": [],
   "source": [
    "# missing 데이터 확인\n",
    "df1.isnull().sum() #컬럼별 빠진 데이터 확인"
   ]
  },
  {
   "cell_type": "code",
   "execution_count": null,
   "id": "283b8170",
   "metadata": {
    "scrolled": true
   },
   "outputs": [],
   "source": [
    "# 데이터의 컬럼확인\n",
    "df1.columns"
   ]
  },
  {
   "cell_type": "markdown",
   "id": "bd03e49b",
   "metadata": {},
   "source": [
    "# 데이터 추출"
   ]
  },
  {
   "cell_type": "code",
   "execution_count": null,
   "id": "6c0cb1b7",
   "metadata": {
    "scrolled": true
   },
   "outputs": [],
   "source": [
    "df1['구매금액'] # 한개의 데이터만 가져올때 시리즈 형태로 출력이 된다."
   ]
  },
  {
   "cell_type": "code",
   "execution_count": null,
   "id": "dea8f28c",
   "metadata": {
    "scrolled": true
   },
   "outputs": [],
   "source": [
    "# 구매금액의 총합 구하기\n",
    "df1['구매금액'].sum()"
   ]
  },
  {
   "cell_type": "code",
   "execution_count": null,
   "id": "ce001ade",
   "metadata": {},
   "outputs": [],
   "source": [
    "df2=df1[['구매금액','성별']] # [ ] 대괄호가 하나면 시리즈 두 개부터는 데이터 프레임 형태가 된다."
   ]
  },
  {
   "cell_type": "code",
   "execution_count": null,
   "id": "94a78853",
   "metadata": {
    "scrolled": true
   },
   "outputs": [],
   "source": [
    "df2"
   ]
  },
  {
   "cell_type": "code",
   "execution_count": null,
   "id": "647d0235",
   "metadata": {},
   "outputs": [],
   "source": [
    "# 데이터 프레임은 Column /Index / Value 로 구성되어 있다."
   ]
  },
  {
   "cell_type": "code",
   "execution_count": null,
   "id": "f0ec533f",
   "metadata": {
    "scrolled": true
   },
   "outputs": [],
   "source": [
    "df1.columns"
   ]
  },
  {
   "cell_type": "code",
   "execution_count": null,
   "id": "e2d6b01b",
   "metadata": {
    "scrolled": true
   },
   "outputs": [],
   "source": [
    "df1.index"
   ]
  },
  {
   "cell_type": "code",
   "execution_count": null,
   "id": "4ebf6666",
   "metadata": {
    "scrolled": true
   },
   "outputs": [],
   "source": [
    "df1.describe()"
   ]
  },
  {
   "cell_type": "code",
   "execution_count": null,
   "id": "4adcce36",
   "metadata": {},
   "outputs": [],
   "source": [
    "df1.info()"
   ]
  },
  {
   "cell_type": "code",
   "execution_count": null,
   "id": "853784c1",
   "metadata": {},
   "outputs": [],
   "source": [
    "df1[['구매금액','물품대분류','물품중분류']]\n"
   ]
  },
  {
   "cell_type": "markdown",
   "id": "23cb138e",
   "metadata": {},
   "source": [
    "# 데이터 행추출"
   ]
  },
  {
   "cell_type": "code",
   "execution_count": null,
   "id": "787a79b3",
   "metadata": {},
   "outputs": [],
   "source": [
    "df1.iloc[0] # 0번째에 있는 데이터 추출"
   ]
  },
  {
   "cell_type": "code",
   "execution_count": null,
   "id": "8172b89c",
   "metadata": {},
   "outputs": [],
   "source": [
    "df1.iloc[10]"
   ]
  },
  {
   "cell_type": "code",
   "execution_count": null,
   "id": "1f7db7bb",
   "metadata": {},
   "outputs": [],
   "source": [
    "df1.iloc[-1]"
   ]
  },
  {
   "cell_type": "code",
   "execution_count": null,
   "id": "673cf1d0",
   "metadata": {},
   "outputs": [],
   "source": [
    "df1.iloc[0:11]"
   ]
  },
  {
   "cell_type": "code",
   "execution_count": null,
   "id": "b6ee1325",
   "metadata": {},
   "outputs": [],
   "source": [
    "df2=df1.iloc[100:]\n",
    "df2.shape"
   ]
  },
  {
   "cell_type": "markdown",
   "id": "9ccd7a2a",
   "metadata": {},
   "source": [
    "# 데이터 정렬"
   ]
  },
  {
   "cell_type": "code",
   "execution_count": null,
   "id": "d4e507b7",
   "metadata": {},
   "outputs": [],
   "source": [
    "df1.sort_values(by ='구매금액') #오름차순  정렬"
   ]
  },
  {
   "cell_type": "code",
   "execution_count": null,
   "id": "1eb706e7",
   "metadata": {},
   "outputs": [],
   "source": [
    "df1.sort_values(by ='구매금액',ascending=False) #내림차순 정렬"
   ]
  },
  {
   "cell_type": "code",
   "execution_count": null,
   "id": "9a64012b",
   "metadata": {},
   "outputs": [],
   "source": [
    "df1.sort_values(by='구매수량',ascending=False) #내림차순"
   ]
  },
  {
   "cell_type": "code",
   "execution_count": null,
   "id": "4f626406",
   "metadata": {},
   "outputs": [],
   "source": [
    "df1.sort_values(by=['구매수량','연령'],ascending=False)"
   ]
  },
  {
   "cell_type": "code",
   "execution_count": null,
   "id": "bd1a983e",
   "metadata": {},
   "outputs": [],
   "source": [
    "# 구매수량이 높으면서 연령이 낮은 순의 데이터를 추출\n",
    "df1.sort_values(by=['구매수량','연령'],ascending=[False,True]).iloc[:10] \n"
   ]
  },
  {
   "cell_type": "markdown",
   "id": "2b9d9b4e",
   "metadata": {},
   "source": [
    "# 데이터 필터"
   ]
  },
  {
   "cell_type": "code",
   "execution_count": null,
   "id": "d425d7e8",
   "metadata": {},
   "outputs": [],
   "source": [
    "df1['연령대'].value_counts()"
   ]
  },
  {
   "cell_type": "code",
   "execution_count": null,
   "id": "d43942b5",
   "metadata": {
    "scrolled": true
   },
   "outputs": [],
   "source": [
    "cond1=(df1['연령대']=='40대')"
   ]
  },
  {
   "cell_type": "code",
   "execution_count": null,
   "id": "016e6699",
   "metadata": {},
   "outputs": [],
   "source": [
    "df1.loc[cond1] # ~cond1 으로 반대값 가능"
   ]
  },
  {
   "cell_type": "code",
   "execution_count": null,
   "id": "d6ef72f6",
   "metadata": {},
   "outputs": [],
   "source": [
    "df1['성별'].value_counts()"
   ]
  },
  {
   "cell_type": "code",
   "execution_count": null,
   "id": "488981a0",
   "metadata": {},
   "outputs": [],
   "source": [
    "# 연령대가 40대 이면서 성별이 남자 인경우 호출"
   ]
  },
  {
   "cell_type": "code",
   "execution_count": null,
   "id": "388d0b41",
   "metadata": {},
   "outputs": [],
   "source": [
    "#and 조건\n",
    "cond1=(df1['연령대']=='40대')\n",
    "cond2=(df1['성별']=='남')\n",
    "df1.loc[cond1&cond2] "
   ]
  },
  {
   "cell_type": "code",
   "execution_count": null,
   "id": "7e84fd91",
   "metadata": {},
   "outputs": [],
   "source": [
    "# or 조건 |\n",
    "cond1=(df1['연령대']=='40대')\n",
    "cond2=(df1['성별']=='남')\n",
    "df1.loc[cond1|cond2] "
   ]
  },
  {
   "cell_type": "markdown",
   "id": "69e55ed1",
   "metadata": {},
   "source": [
    "# 연습"
   ]
  },
  {
   "cell_type": "markdown",
   "id": "e5411d0b",
   "metadata": {},
   "source": [
    "* 30대 여성 추출 -> 구매 금액이  높은 순서로 정렬\n",
    "* 파일로 저장"
   ]
  },
  {
   "cell_type": "code",
   "execution_count": null,
   "id": "4e7d45fb",
   "metadata": {},
   "outputs": [],
   "source": [
    "cond1=(df1['연령대']=='30대이하')\n",
    "cond2 =(df1['성별']=='여')\n",
    "\n",
    "df3=df1[cond1&cond2].sort_values(by='구매금액',ascending=False) #구매 금액이 높은순을 정령됨\n",
    "\n",
    "df3.shape"
   ]
  },
  {
   "cell_type": "code",
   "execution_count": null,
   "id": "579cc9ec",
   "metadata": {},
   "outputs": [],
   "source": [
    "# 파일로 저장\n",
    "df3.to_csv('result.csv')\n",
    "\n",
    "# 한글이 깨질경우\n",
    "# df3.to_csv('result.csv',encoding='cp949')"
   ]
  },
  {
   "cell_type": "code",
   "execution_count": null,
   "id": "f9d435f9",
   "metadata": {},
   "outputs": [],
   "source": []
  }
 ],
 "metadata": {
  "kernelspec": {
   "display_name": "Python 3",
   "language": "python",
   "name": "python3"
  },
  "language_info": {
   "codemirror_mode": {
    "name": "ipython",
    "version": 3
   },
   "file_extension": ".py",
   "mimetype": "text/x-python",
   "name": "python",
   "nbconvert_exporter": "python",
   "pygments_lexer": "ipython3",
   "version": "3.8.8"
  }
 },
 "nbformat": 4,
 "nbformat_minor": 5
}
