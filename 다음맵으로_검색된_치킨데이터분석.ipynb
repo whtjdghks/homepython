{
 "cells": [
  {
   "cell_type": "code",
   "execution_count": 7,
   "id": "9eb3f3c9",
   "metadata": {
    "scrolled": true
   },
   "outputs": [
    {
     "data": {
      "text/html": [
       "<div>\n",
       "<style scoped>\n",
       "    .dataframe tbody tr th:only-of-type {\n",
       "        vertical-align: middle;\n",
       "    }\n",
       "\n",
       "    .dataframe tbody tr th {\n",
       "        vertical-align: top;\n",
       "    }\n",
       "\n",
       "    .dataframe thead th {\n",
       "        text-align: right;\n",
       "    }\n",
       "</style>\n",
       "<table border=\"1\" class=\"dataframe\">\n",
       "  <thead>\n",
       "    <tr style=\"text-align: right;\">\n",
       "      <th></th>\n",
       "      <th>업종</th>\n",
       "      <th>가게이름</th>\n",
       "      <th>평가점수</th>\n",
       "      <th>평가인원</th>\n",
       "      <th>리뷰갯수</th>\n",
       "      <th>주소</th>\n",
       "      <th>전화</th>\n",
       "      <th>영업시간</th>\n",
       "      <th>링크주소</th>\n",
       "    </tr>\n",
       "  </thead>\n",
       "  <tbody>\n",
       "    <tr>\n",
       "      <th>0</th>\n",
       "      <td>베트남음식</td>\n",
       "      <td>땀땀</td>\n",
       "      <td>3.4</td>\n",
       "      <td>205</td>\n",
       "      <td>2275</td>\n",
       "      <td>서울 강남구 역삼동 817-31</td>\n",
       "      <td>02-554-8892</td>\n",
       "      <td>매일 11:00 ~ 22:00</td>\n",
       "      <td>https://place.map.kakao.com/1238400864#review</td>\n",
       "    </tr>\n",
       "    <tr>\n",
       "      <th>1</th>\n",
       "      <td>디저트카페</td>\n",
       "      <td>카페노티드 청담</td>\n",
       "      <td>3.6</td>\n",
       "      <td>224</td>\n",
       "      <td>1656</td>\n",
       "      <td>서울 강남구 도산대로53길 15 1층</td>\n",
       "      <td>NaN</td>\n",
       "      <td>매일 09:00 ~ 21:00</td>\n",
       "      <td>https://place.map.kakao.com/348276052#review</td>\n",
       "    </tr>\n",
       "    <tr>\n",
       "      <th>2</th>\n",
       "      <td>갈비</td>\n",
       "      <td>몽탄</td>\n",
       "      <td>3.5</td>\n",
       "      <td>192</td>\n",
       "      <td>1310</td>\n",
       "      <td>서울 용산구 백범로99길 50</td>\n",
       "      <td>02-794-8592</td>\n",
       "      <td>매일 12:00 ~ 21:00</td>\n",
       "      <td>https://place.map.kakao.com/220597413#review</td>\n",
       "    </tr>\n",
       "    <tr>\n",
       "      <th>3</th>\n",
       "      <td>국수</td>\n",
       "      <td>명동교자 본점</td>\n",
       "      <td>3.8</td>\n",
       "      <td>557</td>\n",
       "      <td>1260</td>\n",
       "      <td>서울 중구 명동10길 29</td>\n",
       "      <td>02-776-5348</td>\n",
       "      <td>매일 10:30 ~ 21:30</td>\n",
       "      <td>https://place.map.kakao.com/10332413#review</td>\n",
       "    </tr>\n",
       "    <tr>\n",
       "      <th>4</th>\n",
       "      <td>카페</td>\n",
       "      <td>어니언 안국점</td>\n",
       "      <td>3.1</td>\n",
       "      <td>139</td>\n",
       "      <td>1217</td>\n",
       "      <td>서울 종로구 계동길 5</td>\n",
       "      <td>070-7543-2123</td>\n",
       "      <td>토,일 09:00 ~ 22:00</td>\n",
       "      <td>https://place.map.kakao.com/853028118#review</td>\n",
       "    </tr>\n",
       "  </tbody>\n",
       "</table>\n",
       "</div>"
      ],
      "text/plain": [
       "      업종      가게이름  평가점수 평가인원  리뷰갯수                    주소             전화  \\\n",
       "0  베트남음식        땀땀   3.4  205  2275     서울 강남구 역삼동 817-31    02-554-8892   \n",
       "1  디저트카페  카페노티드 청담   3.6  224  1656  서울 강남구 도산대로53길 15 1층            NaN   \n",
       "2     갈비        몽탄   3.5  192  1310      서울 용산구 백범로99길 50    02-794-8592   \n",
       "3     국수   명동교자 본점   3.8  557  1260        서울 중구 명동10길 29    02-776-5348   \n",
       "4     카페   어니언 안국점   3.1  139  1217          서울 종로구 계동길 5  070-7543-2123   \n",
       "\n",
       "                영업시간                                           링크주소  \n",
       "0   매일 11:00 ~ 22:00  https://place.map.kakao.com/1238400864#review  \n",
       "1   매일 09:00 ~ 21:00   https://place.map.kakao.com/348276052#review  \n",
       "2   매일 12:00 ~ 21:00   https://place.map.kakao.com/220597413#review  \n",
       "3   매일 10:30 ~ 21:30    https://place.map.kakao.com/10332413#review  \n",
       "4  토,일 09:00 ~ 22:00   https://place.map.kakao.com/853028118#review  "
      ]
     },
     "execution_count": 7,
     "metadata": {},
     "output_type": "execute_result"
    }
   ],
   "source": [
    "import pandas as pd\n",
    "\n",
    "df1=pd.read_excel('../NomData/다음 서울시 맛집 검색하여 모은자료.xlsx')\n",
    "df1.head()"
   ]
  },
  {
   "cell_type": "code",
   "execution_count": 8,
   "id": "227add62",
   "metadata": {
    "scrolled": true
   },
   "outputs": [
    {
     "data": {
      "text/html": [
       "<div>\n",
       "<style scoped>\n",
       "    .dataframe tbody tr th:only-of-type {\n",
       "        vertical-align: middle;\n",
       "    }\n",
       "\n",
       "    .dataframe tbody tr th {\n",
       "        vertical-align: top;\n",
       "    }\n",
       "\n",
       "    .dataframe thead th {\n",
       "        text-align: right;\n",
       "    }\n",
       "</style>\n",
       "<table border=\"1\" class=\"dataframe\">\n",
       "  <thead>\n",
       "    <tr style=\"text-align: right;\">\n",
       "      <th></th>\n",
       "      <th>업종</th>\n",
       "      <th>가게이름</th>\n",
       "      <th>평가점수</th>\n",
       "      <th>평가인원</th>\n",
       "      <th>리뷰갯수</th>\n",
       "      <th>주소</th>\n",
       "      <th>전화</th>\n",
       "      <th>영업시간</th>\n",
       "      <th>링크주소</th>\n",
       "    </tr>\n",
       "  </thead>\n",
       "  <tbody>\n",
       "    <tr>\n",
       "      <th>316</th>\n",
       "      <td>치킨</td>\n",
       "      <td>한남동한방통닭</td>\n",
       "      <td>4.0</td>\n",
       "      <td>126</td>\n",
       "      <td>299</td>\n",
       "      <td>서울 용산구 대사관로34길 38</td>\n",
       "      <td>02-797-8677</td>\n",
       "      <td>영업시간 월~토 17:00 ~ 02:00</td>\n",
       "      <td>https://place.map.kakao.com/16330571#review</td>\n",
       "    </tr>\n",
       "    <tr>\n",
       "      <th>509</th>\n",
       "      <td>치킨</td>\n",
       "      <td>계열사</td>\n",
       "      <td>2.8</td>\n",
       "      <td>124</td>\n",
       "      <td>237</td>\n",
       "      <td>서울 종로구 백석동길 7</td>\n",
       "      <td>02-391-3566</td>\n",
       "      <td>매일 12:00 ~ 23:30</td>\n",
       "      <td>https://place.map.kakao.com/21303463#review</td>\n",
       "    </tr>\n",
       "    <tr>\n",
       "      <th>624</th>\n",
       "      <td>치킨</td>\n",
       "      <td>서울숲 누룽지통닭구이</td>\n",
       "      <td>3.7</td>\n",
       "      <td>50</td>\n",
       "      <td>216</td>\n",
       "      <td>서울 성동구 왕십리로5길 10</td>\n",
       "      <td>02-462-9920</td>\n",
       "      <td>영업시간 토,일 15:00 ~ 02:00</td>\n",
       "      <td>https://place.map.kakao.com/27417406#review</td>\n",
       "    </tr>\n",
       "    <tr>\n",
       "      <th>1175</th>\n",
       "      <td>치킨</td>\n",
       "      <td>양키통닭</td>\n",
       "      <td>4.1</td>\n",
       "      <td>116</td>\n",
       "      <td>150</td>\n",
       "      <td>서울 영등포구 도림로139길 13 1층</td>\n",
       "      <td>070-8800-0815</td>\n",
       "      <td>토 16:00 ~ 01:00</td>\n",
       "      <td>https://place.map.kakao.com/1142427389#review</td>\n",
       "    </tr>\n",
       "    <tr>\n",
       "      <th>1624</th>\n",
       "      <td>치킨</td>\n",
       "      <td>장작집</td>\n",
       "      <td>4.0</td>\n",
       "      <td>31</td>\n",
       "      <td>122</td>\n",
       "      <td>서울 마포구 월드컵북로6길 19</td>\n",
       "      <td>010-3336-8844</td>\n",
       "      <td>NaN</td>\n",
       "      <td>https://place.map.kakao.com/1191541006#review</td>\n",
       "    </tr>\n",
       "  </tbody>\n",
       "</table>\n",
       "</div>"
      ],
      "text/plain": [
       "      업종         가게이름  평가점수 평가인원  리뷰갯수                     주소             전화  \\\n",
       "316   치킨      한남동한방통닭   4.0  126   299      서울 용산구 대사관로34길 38    02-797-8677   \n",
       "509   치킨          계열사   2.8  124   237          서울 종로구 백석동길 7    02-391-3566   \n",
       "624   치킨  서울숲 누룽지통닭구이   3.7   50   216       서울 성동구 왕십리로5길 10    02-462-9920   \n",
       "1175  치킨         양키통닭   4.1  116   150  서울 영등포구 도림로139길 13 1층  070-8800-0815   \n",
       "1624  치킨          장작집   4.0   31   122      서울 마포구 월드컵북로6길 19  010-3336-8844   \n",
       "\n",
       "                        영업시간                                           링크주소  \n",
       "316   영업시간 월~토 17:00 ~ 02:00    https://place.map.kakao.com/16330571#review  \n",
       "509         매일 12:00 ~ 23:30    https://place.map.kakao.com/21303463#review  \n",
       "624   영업시간 토,일 15:00 ~ 02:00    https://place.map.kakao.com/27417406#review  \n",
       "1175         토 16:00 ~ 01:00  https://place.map.kakao.com/1142427389#review  \n",
       "1624                     NaN  https://place.map.kakao.com/1191541006#review  "
      ]
     },
     "execution_count": 8,
     "metadata": {},
     "output_type": "execute_result"
    }
   ],
   "source": [
    "df1=df1[df1['업종']=='치킨']\n",
    "df1.head()"
   ]
  },
  {
   "cell_type": "markdown",
   "id": "42bddf86",
   "metadata": {},
   "source": [
    "# csv파일로 저장"
   ]
  },
  {
   "cell_type": "code",
   "execution_count": null,
   "id": "8df25e28",
   "metadata": {},
   "outputs": [],
   "source": [
    "# df1.to_csv(f\"~/Desktop/치킨데이터.csv\", index=False, mode='w', encoding='utf-8-sig')"
   ]
  },
  {
   "cell_type": "code",
   "execution_count": 9,
   "id": "1bd59896",
   "metadata": {
    "scrolled": false
   },
   "outputs": [
    {
     "data": {
      "text/html": [
       "<div>\n",
       "<style scoped>\n",
       "    .dataframe tbody tr th:only-of-type {\n",
       "        vertical-align: middle;\n",
       "    }\n",
       "\n",
       "    .dataframe tbody tr th {\n",
       "        vertical-align: top;\n",
       "    }\n",
       "\n",
       "    .dataframe thead th {\n",
       "        text-align: right;\n",
       "    }\n",
       "</style>\n",
       "<table border=\"1\" class=\"dataframe\">\n",
       "  <thead>\n",
       "    <tr style=\"text-align: right;\">\n",
       "      <th></th>\n",
       "      <th>업종</th>\n",
       "      <th>가게이름</th>\n",
       "      <th>평가점수</th>\n",
       "      <th>평가인원</th>\n",
       "      <th>리뷰갯수</th>\n",
       "      <th>주소</th>\n",
       "      <th>Latitude</th>\n",
       "      <th>Longitude</th>\n",
       "      <th>전화</th>\n",
       "      <th>영업시간</th>\n",
       "      <th>링크주소</th>\n",
       "    </tr>\n",
       "  </thead>\n",
       "  <tbody>\n",
       "    <tr>\n",
       "      <th>0</th>\n",
       "      <td>치킨</td>\n",
       "      <td>한남동한방통닭</td>\n",
       "      <td>4.0</td>\n",
       "      <td>126</td>\n",
       "      <td>299</td>\n",
       "      <td>서울 용산구 대사관로34길 38</td>\n",
       "      <td>37.531514</td>\n",
       "      <td>127.00552</td>\n",
       "      <td>02-797-8677</td>\n",
       "      <td>영업시간 월~토 17:00 ~ 02:00</td>\n",
       "      <td>https://place.map.kakao.com/16330571#review</td>\n",
       "    </tr>\n",
       "  </tbody>\n",
       "</table>\n",
       "</div>"
      ],
      "text/plain": [
       "   업종     가게이름  평가점수  평가인원  리뷰갯수                 주소   Latitude  Longitude  \\\n",
       "0  치킨  한남동한방통닭   4.0   126   299  서울 용산구 대사관로34길 38  37.531514  127.00552   \n",
       "\n",
       "            전화                    영업시간  \\\n",
       "0  02-797-8677  영업시간 월~토 17:00 ~ 02:00   \n",
       "\n",
       "                                          링크주소  \n",
       "0  https://place.map.kakao.com/16330571#review  "
      ]
     },
     "execution_count": 9,
     "metadata": {},
     "output_type": "execute_result"
    }
   ],
   "source": [
    "ck=pd.read_csv('./치킨데이터 - 치킨데이터.csv')\n",
    "ck.head(1)"
   ]
  },
  {
   "cell_type": "code",
   "execution_count": 10,
   "id": "2b811abe",
   "metadata": {},
   "outputs": [],
   "source": [
    "ck = pd.DataFrame(ck)"
   ]
  },
  {
   "cell_type": "code",
   "execution_count": 11,
   "id": "a283846b",
   "metadata": {
    "scrolled": true
   },
   "outputs": [
    {
     "data": {
      "text/plain": [
       "<bound method Series.unique of 0          서울 용산구 대사관로34길 38\n",
       "1              서울 종로구 백석동길 7\n",
       "2           서울 성동구 왕십리로5길 10\n",
       "3      서울 영등포구 도림로139길 13 1층\n",
       "4          서울 마포구 월드컵북로6길 19\n",
       "               ...          \n",
       "651            서울 중구 난계로 171\n",
       "652          서울 중구 퇴계로10길 24\n",
       "653            서울 중구 퇴계로 114\n",
       "654           서울 용산구 백범로 313\n",
       "655         서울 용산구 효창원로69길 5\n",
       "Name: 주소, Length: 656, dtype: object>"
      ]
     },
     "execution_count": 11,
     "metadata": {},
     "output_type": "execute_result"
    }
   ],
   "source": [
    "ck['주소'].unique"
   ]
  },
  {
   "cell_type": "markdown",
   "id": "86df55ea",
   "metadata": {},
   "source": [
    "# 구 데이터 추가"
   ]
  },
  {
   "cell_type": "code",
   "execution_count": 240,
   "id": "a6fb077d",
   "metadata": {},
   "outputs": [],
   "source": [
    "def goo(x):\n",
    "        if x in \"서울 종로구\" :\n",
    "                return '종로구'\n",
    "        elif x==\"서울 중구\":\n",
    "                return \"중구\"\n",
    "        elif x==\"서울 용산구\":\n",
    "                return \"용산구\"\n",
    "        elif x==\"서울 성동구\":\n",
    "                return \"성동구\"\n",
    "        elif x==\"서울 광진구\":\n",
    "                return \"광진구\"\n",
    "        elif x==\"서울 동대문구\":\n",
    "                return \"동대문구\"\n",
    "        elif x==\"서울 중랑구\":\n",
    "                return \"중랑구\"\n",
    "        elif x==\"서울 성북구\":\n",
    "                return \"성북구\"\n",
    "        elif x==\"서울 강북구\":\n",
    "                return \"강북구\"\n",
    "        elif x==\"서울 도봉구\":\n",
    "                return \"도봉구\"\n",
    "        elif x==\"서울 노원구\":\n",
    "                return \"노원구\"\n",
    "        elif x==\"서울 은평구\":\n",
    "                return \"은평구\"\n",
    "        elif x==\"서울 서대문구\":\n",
    "                return \"서대문구\"\n",
    "        elif x==\"서울 마포구\":\n",
    "                return \"마포구\"\n",
    "        elif x==\"서울 양천구\":\n",
    "                return \"양천구\"\n",
    "        elif x==\"서울 강서구\":\n",
    "                return \"강서구\"\n",
    "        elif x==\"서울 구로구\":\n",
    "                return \"구로구\"\n",
    "        elif x==\"서울 금천구\":\n",
    "                return \"금천구\"\n",
    "        elif x==\"서울 영등포구\":\n",
    "                return \"영등포구\"\n",
    "        elif x==\"서울 동작구\":\n",
    "                return \"동작구\"\n",
    "        elif x==\"서울 관악구\":\n",
    "                return \"관악구\"\n",
    "        elif x==\"서울 서초구\":\n",
    "                return \"서초구\"\n",
    "        elif x==\"서울 강남구\":\n",
    "                return \"강남구\"\n",
    "        elif x==\"서울 송파구\":\n",
    "                return \"송파구\"\n",
    "        elif x==\"서울 강동구\":\n",
    "                return \"강동구\"\n",
    "        "
   ]
  },
  {
   "cell_type": "code",
   "execution_count": 17,
   "id": "e8937423",
   "metadata": {},
   "outputs": [],
   "source": [
    "    def test(x):\n",
    "        if x == \"서울종로구\" :\n",
    "                return '종로구'\n",
    "        elif x==\"서울 중구\":\n",
    "                return \"중구\"\n",
    "        elif x==\"서울 용산구\":\n",
    "                return \"용산구\"\n",
    "        elif x==\"서울 성동구\":\n",
    "                return \"성동구\"\n",
    "        elif x==\"서울 광진구\":\n",
    "                return \"광진구\"\n",
    "        elif x==\"서울 동대문구\":\n",
    "                return \"동대문구\"\n",
    "        elif x==\"서울 중랑구\":\n",
    "                return \"중랑구\"\n",
    "        elif x==\"서울 성북구\":\n",
    "                return \"성북구\"\n",
    "        elif x==\"서울 강북구\":\n",
    "                return \"강북구\"\n",
    "        elif x==\"서울 도봉구\":\n",
    "                return \"도봉구\"\n",
    "        elif x==\"서울 노원구\":\n",
    "                return \"노원구\"\n",
    "        elif x==\"서울 은평구\":\n",
    "                return \"은평구\"\n",
    "        elif x==\"서울 서대문구\":\n",
    "                return \"서대문구\"\n",
    "        elif x==\"서울 마포구\":\n",
    "                return \"마포구\"\n",
    "        elif x==\"서울 양천구\":\n",
    "                return \"양천구\"\n",
    "        elif x==\"서울 강서구\":\n",
    "                return \"강서구\"\n",
    "        elif x==\"서울 구로구\":\n",
    "                return \"구로구\"\n",
    "        elif x==\"서울 금천구\":\n",
    "                return \"금천구\"\n",
    "        elif x==\"서울 영등포구\":\n",
    "                return \"영등포구\"\n",
    "        elif x==\"서울 동작구\":\n",
    "                return \"동작구\"\n",
    "        elif x==\"서울 관악구\":\n",
    "                return \"관악구\"\n",
    "        elif x==\"서울 서초구\":\n",
    "                return \"서초구\"\n",
    "        elif x==\"서울 강남구\":\n",
    "                return \"강남구\"\n",
    "        elif x==\"서울 송파구\":\n",
    "                return \"송파구\"\n",
    "        elif x==\"서울 강동구\":\n",
    "                return \"강동구\"\n",
    "        "
   ]
  },
  {
   "cell_type": "code",
   "execution_count": 8,
   "id": "2fcd6bff",
   "metadata": {
    "scrolled": true
   },
   "outputs": [],
   "source": [
    "# import sys\n",
    "# sys.setrecursionlimit(10**7)\n",
    "# 커널이 죽어버림\n"
   ]
  },
  {
   "cell_type": "code",
   "execution_count": null,
   "id": "f834fe88",
   "metadata": {},
   "outputs": [],
   "source": []
  },
  {
   "cell_type": "code",
   "execution_count": 18,
   "id": "47ea81c2",
   "metadata": {},
   "outputs": [],
   "source": [
    "\n",
    "ck['구'] = ck['주소'].apply(lambda x:test(x))"
   ]
  },
  {
   "cell_type": "code",
   "execution_count": 19,
   "id": "c37b9ab3",
   "metadata": {},
   "outputs": [
    {
     "data": {
      "text/html": [
       "<div>\n",
       "<style scoped>\n",
       "    .dataframe tbody tr th:only-of-type {\n",
       "        vertical-align: middle;\n",
       "    }\n",
       "\n",
       "    .dataframe tbody tr th {\n",
       "        vertical-align: top;\n",
       "    }\n",
       "\n",
       "    .dataframe thead th {\n",
       "        text-align: right;\n",
       "    }\n",
       "</style>\n",
       "<table border=\"1\" class=\"dataframe\">\n",
       "  <thead>\n",
       "    <tr style=\"text-align: right;\">\n",
       "      <th></th>\n",
       "      <th>업종</th>\n",
       "      <th>가게이름</th>\n",
       "      <th>평가점수</th>\n",
       "      <th>평가인원</th>\n",
       "      <th>리뷰갯수</th>\n",
       "      <th>주소</th>\n",
       "      <th>Latitude</th>\n",
       "      <th>Longitude</th>\n",
       "      <th>전화</th>\n",
       "      <th>영업시간</th>\n",
       "      <th>링크주소</th>\n",
       "      <th>구</th>\n",
       "    </tr>\n",
       "  </thead>\n",
       "  <tbody>\n",
       "    <tr>\n",
       "      <th>0</th>\n",
       "      <td>치킨</td>\n",
       "      <td>한남동한방통닭</td>\n",
       "      <td>4.0</td>\n",
       "      <td>126</td>\n",
       "      <td>299</td>\n",
       "      <td>서울 용산구 대사관로34길 38</td>\n",
       "      <td>37.531514</td>\n",
       "      <td>127.005520</td>\n",
       "      <td>02-797-8677</td>\n",
       "      <td>영업시간 월~토 17:00 ~ 02:00</td>\n",
       "      <td>https://place.map.kakao.com/16330571#review</td>\n",
       "      <td>None</td>\n",
       "    </tr>\n",
       "    <tr>\n",
       "      <th>1</th>\n",
       "      <td>치킨</td>\n",
       "      <td>계열사</td>\n",
       "      <td>2.8</td>\n",
       "      <td>124</td>\n",
       "      <td>237</td>\n",
       "      <td>서울 종로구 백석동길 7</td>\n",
       "      <td>37.592838</td>\n",
       "      <td>126.965594</td>\n",
       "      <td>02-391-3566</td>\n",
       "      <td>매일 12:00 ~ 23:30</td>\n",
       "      <td>https://place.map.kakao.com/21303463#review</td>\n",
       "      <td>None</td>\n",
       "    </tr>\n",
       "    <tr>\n",
       "      <th>2</th>\n",
       "      <td>치킨</td>\n",
       "      <td>서울숲 누룽지통닭구이</td>\n",
       "      <td>3.7</td>\n",
       "      <td>50</td>\n",
       "      <td>216</td>\n",
       "      <td>서울 성동구 왕십리로5길 10</td>\n",
       "      <td>37.546925</td>\n",
       "      <td>127.044399</td>\n",
       "      <td>02-462-9920</td>\n",
       "      <td>영업시간 토,일 15:00 ~ 02:00</td>\n",
       "      <td>https://place.map.kakao.com/27417406#review</td>\n",
       "      <td>None</td>\n",
       "    </tr>\n",
       "    <tr>\n",
       "      <th>3</th>\n",
       "      <td>치킨</td>\n",
       "      <td>양키통닭</td>\n",
       "      <td>4.1</td>\n",
       "      <td>116</td>\n",
       "      <td>150</td>\n",
       "      <td>서울 영등포구 도림로139길 13 1층</td>\n",
       "      <td>37.513624</td>\n",
       "      <td>126.892744</td>\n",
       "      <td>070-8800-0815</td>\n",
       "      <td>토 16:00 ~ 01:00</td>\n",
       "      <td>https://place.map.kakao.com/1142427389#review</td>\n",
       "      <td>None</td>\n",
       "    </tr>\n",
       "    <tr>\n",
       "      <th>4</th>\n",
       "      <td>치킨</td>\n",
       "      <td>장작집</td>\n",
       "      <td>4.0</td>\n",
       "      <td>31</td>\n",
       "      <td>122</td>\n",
       "      <td>서울 마포구 월드컵북로6길 19</td>\n",
       "      <td>37.558287</td>\n",
       "      <td>126.919527</td>\n",
       "      <td>010-3336-8844</td>\n",
       "      <td>NaN</td>\n",
       "      <td>https://place.map.kakao.com/1191541006#review</td>\n",
       "      <td>None</td>\n",
       "    </tr>\n",
       "  </tbody>\n",
       "</table>\n",
       "</div>"
      ],
      "text/plain": [
       "   업종         가게이름  평가점수  평가인원  리뷰갯수                     주소   Latitude  \\\n",
       "0  치킨      한남동한방통닭   4.0   126   299      서울 용산구 대사관로34길 38  37.531514   \n",
       "1  치킨          계열사   2.8   124   237          서울 종로구 백석동길 7  37.592838   \n",
       "2  치킨  서울숲 누룽지통닭구이   3.7    50   216       서울 성동구 왕십리로5길 10  37.546925   \n",
       "3  치킨         양키통닭   4.1   116   150  서울 영등포구 도림로139길 13 1층  37.513624   \n",
       "4  치킨          장작집   4.0    31   122      서울 마포구 월드컵북로6길 19  37.558287   \n",
       "\n",
       "    Longitude             전화                    영업시간  \\\n",
       "0  127.005520    02-797-8677  영업시간 월~토 17:00 ~ 02:00   \n",
       "1  126.965594    02-391-3566        매일 12:00 ~ 23:30   \n",
       "2  127.044399    02-462-9920  영업시간 토,일 15:00 ~ 02:00   \n",
       "3  126.892744  070-8800-0815         토 16:00 ~ 01:00   \n",
       "4  126.919527  010-3336-8844                     NaN   \n",
       "\n",
       "                                            링크주소     구  \n",
       "0    https://place.map.kakao.com/16330571#review  None  \n",
       "1    https://place.map.kakao.com/21303463#review  None  \n",
       "2    https://place.map.kakao.com/27417406#review  None  \n",
       "3  https://place.map.kakao.com/1142427389#review  None  \n",
       "4  https://place.map.kakao.com/1191541006#review  None  "
      ]
     },
     "execution_count": 19,
     "metadata": {},
     "output_type": "execute_result"
    }
   ],
   "source": [
    "ck.head()"
   ]
  },
  {
   "cell_type": "markdown",
   "id": "3af065ec",
   "metadata": {},
   "source": [
    "# 평가점수의 평균보다 높은 점수를 가지고 있는 치킨집 좋은가게"
   ]
  },
  {
   "cell_type": "code",
   "execution_count": 5,
   "id": "94526668",
   "metadata": {},
   "outputs": [
    {
     "data": {
      "text/plain": [
       "2.8388719512195113"
      ]
     },
     "execution_count": 5,
     "metadata": {},
     "output_type": "execute_result"
    }
   ],
   "source": [
    "ck['평가점수'].mean()"
   ]
  },
  {
   "cell_type": "code",
   "execution_count": 6,
   "id": "99ef9c5f",
   "metadata": {
    "scrolled": true
   },
   "outputs": [
    {
     "data": {
      "text/plain": [
       "count    656.000000\n",
       "mean       2.838872\n",
       "std        1.720997\n",
       "min        0.000000\n",
       "25%        1.500000\n",
       "50%        3.000000\n",
       "75%        4.300000\n",
       "max        5.000000\n",
       "Name: 평가점수, dtype: float64"
      ]
     },
     "execution_count": 6,
     "metadata": {},
     "output_type": "execute_result"
    }
   ],
   "source": [
    "ck['평가점수'].describe()"
   ]
  },
  {
   "cell_type": "markdown",
   "id": "138cafc9",
   "metadata": {},
   "source": [
    "# 평균적으로 수치상 괜찮은 가게 들"
   ]
  },
  {
   "cell_type": "code",
   "execution_count": 107,
   "id": "89034450",
   "metadata": {},
   "outputs": [
    {
     "data": {
      "text/html": [
       "<div>\n",
       "<style scoped>\n",
       "    .dataframe tbody tr th:only-of-type {\n",
       "        vertical-align: middle;\n",
       "    }\n",
       "\n",
       "    .dataframe tbody tr th {\n",
       "        vertical-align: top;\n",
       "    }\n",
       "\n",
       "    .dataframe thead th {\n",
       "        text-align: right;\n",
       "    }\n",
       "</style>\n",
       "<table border=\"1\" class=\"dataframe\">\n",
       "  <thead>\n",
       "    <tr style=\"text-align: right;\">\n",
       "      <th></th>\n",
       "      <th>업종</th>\n",
       "      <th>가게이름</th>\n",
       "      <th>평가점수</th>\n",
       "      <th>평가인원</th>\n",
       "      <th>리뷰갯수</th>\n",
       "      <th>주소</th>\n",
       "      <th>Latitude</th>\n",
       "      <th>Longitude</th>\n",
       "      <th>전화</th>\n",
       "      <th>영업시간</th>\n",
       "      <th>링크주소</th>\n",
       "      <th>구</th>\n",
       "    </tr>\n",
       "  </thead>\n",
       "  <tbody>\n",
       "    <tr>\n",
       "      <th>0</th>\n",
       "      <td>치킨</td>\n",
       "      <td>한남동한방통닭</td>\n",
       "      <td>4.0</td>\n",
       "      <td>126</td>\n",
       "      <td>299</td>\n",
       "      <td>서울 용산구 대사관로34길 38</td>\n",
       "      <td>37.531514</td>\n",
       "      <td>127.005520</td>\n",
       "      <td>02-797-8677</td>\n",
       "      <td>영업시간 월~토 17:00 ~ 02:00</td>\n",
       "      <td>https://place.map.kakao.com/16330571#review</td>\n",
       "      <td>None</td>\n",
       "    </tr>\n",
       "    <tr>\n",
       "      <th>2</th>\n",
       "      <td>치킨</td>\n",
       "      <td>서울숲 누룽지통닭구이</td>\n",
       "      <td>3.7</td>\n",
       "      <td>50</td>\n",
       "      <td>216</td>\n",
       "      <td>서울 성동구 왕십리로5길 10</td>\n",
       "      <td>37.546925</td>\n",
       "      <td>127.044399</td>\n",
       "      <td>02-462-9920</td>\n",
       "      <td>영업시간 토,일 15:00 ~ 02:00</td>\n",
       "      <td>https://place.map.kakao.com/27417406#review</td>\n",
       "      <td>None</td>\n",
       "    </tr>\n",
       "    <tr>\n",
       "      <th>3</th>\n",
       "      <td>치킨</td>\n",
       "      <td>양키통닭</td>\n",
       "      <td>4.1</td>\n",
       "      <td>116</td>\n",
       "      <td>150</td>\n",
       "      <td>서울 영등포구 도림로139길 13 1층</td>\n",
       "      <td>37.513624</td>\n",
       "      <td>126.892744</td>\n",
       "      <td>070-8800-0815</td>\n",
       "      <td>토 16:00 ~ 01:00</td>\n",
       "      <td>https://place.map.kakao.com/1142427389#review</td>\n",
       "      <td>None</td>\n",
       "    </tr>\n",
       "    <tr>\n",
       "      <th>4</th>\n",
       "      <td>치킨</td>\n",
       "      <td>장작집</td>\n",
       "      <td>4.0</td>\n",
       "      <td>31</td>\n",
       "      <td>122</td>\n",
       "      <td>서울 마포구 월드컵북로6길 19</td>\n",
       "      <td>37.558287</td>\n",
       "      <td>126.919527</td>\n",
       "      <td>010-3336-8844</td>\n",
       "      <td>NaN</td>\n",
       "      <td>https://place.map.kakao.com/1191541006#review</td>\n",
       "      <td>None</td>\n",
       "    </tr>\n",
       "    <tr>\n",
       "      <th>5</th>\n",
       "      <td>치킨</td>\n",
       "      <td>미락치킨 경복궁본점</td>\n",
       "      <td>3.2</td>\n",
       "      <td>40</td>\n",
       "      <td>119</td>\n",
       "      <td>서울 종로구 자하문로 17-1</td>\n",
       "      <td>37.577592</td>\n",
       "      <td>126.971877</td>\n",
       "      <td>02-736-6741</td>\n",
       "      <td>매일 14:00 ~ 02:00</td>\n",
       "      <td>https://place.map.kakao.com/380922242#review</td>\n",
       "      <td>None</td>\n",
       "    </tr>\n",
       "    <tr>\n",
       "      <th>7</th>\n",
       "      <td>치킨</td>\n",
       "      <td>철인7호치킨 홍대점</td>\n",
       "      <td>5.0</td>\n",
       "      <td>1394</td>\n",
       "      <td>103</td>\n",
       "      <td>서울 마포구 양화로6길 99-3 반지하</td>\n",
       "      <td>37.548498</td>\n",
       "      <td>126.919770</td>\n",
       "      <td>02-324-7175</td>\n",
       "      <td>영업시간 매일 16:00 ~ 02:00</td>\n",
       "      <td>https://place.map.kakao.com/26871883#review</td>\n",
       "      <td>None</td>\n",
       "    </tr>\n",
       "    <tr>\n",
       "      <th>10</th>\n",
       "      <td>치킨</td>\n",
       "      <td>네키드윙즈</td>\n",
       "      <td>4.3</td>\n",
       "      <td>35</td>\n",
       "      <td>83</td>\n",
       "      <td>서울 용산구 녹사평대로 174-11 1층</td>\n",
       "      <td>37.533785</td>\n",
       "      <td>126.989355</td>\n",
       "      <td>NaN</td>\n",
       "      <td>금~일 11:30 ~ 23:00</td>\n",
       "      <td>https://place.map.kakao.com/931679409#review</td>\n",
       "      <td>None</td>\n",
       "    </tr>\n",
       "    <tr>\n",
       "      <th>11</th>\n",
       "      <td>치킨</td>\n",
       "      <td>유진치킨 홍제점</td>\n",
       "      <td>2.9</td>\n",
       "      <td>18</td>\n",
       "      <td>79</td>\n",
       "      <td>서울 서대문구 세무서7길 13</td>\n",
       "      <td>37.591421</td>\n",
       "      <td>126.946061</td>\n",
       "      <td>02-394-9300</td>\n",
       "      <td>화~일 14:00 ~ 23:00</td>\n",
       "      <td>https://place.map.kakao.com/1069880159#review</td>\n",
       "      <td>None</td>\n",
       "    </tr>\n",
       "    <tr>\n",
       "      <th>13</th>\n",
       "      <td>치킨</td>\n",
       "      <td>인근주민 상도점</td>\n",
       "      <td>4.7</td>\n",
       "      <td>29</td>\n",
       "      <td>74</td>\n",
       "      <td>서울 동작구 양녕로 265 1층</td>\n",
       "      <td>37.503699</td>\n",
       "      <td>126.948230</td>\n",
       "      <td>02-817-8599</td>\n",
       "      <td>매일 15:00 ~ 03:00</td>\n",
       "      <td>https://place.map.kakao.com/1446660533#review</td>\n",
       "      <td>None</td>\n",
       "    </tr>\n",
       "    <tr>\n",
       "      <th>14</th>\n",
       "      <td>치킨</td>\n",
       "      <td>양재닭집</td>\n",
       "      <td>3.1</td>\n",
       "      <td>47</td>\n",
       "      <td>73</td>\n",
       "      <td>서울 서초구 남부순환로356길 15 양재시장 지하 1층</td>\n",
       "      <td>37.484268</td>\n",
       "      <td>127.037883</td>\n",
       "      <td>02-572-1741</td>\n",
       "      <td>월~토 12:00 ~ 24:00</td>\n",
       "      <td>https://place.map.kakao.com/12428506#review</td>\n",
       "      <td>None</td>\n",
       "    </tr>\n",
       "    <tr>\n",
       "      <th>15</th>\n",
       "      <td>치킨</td>\n",
       "      <td>대한맥주집 성신여대직영점</td>\n",
       "      <td>4.2</td>\n",
       "      <td>25</td>\n",
       "      <td>71</td>\n",
       "      <td>서울 성북구 동소문로24길 49</td>\n",
       "      <td>37.591442</td>\n",
       "      <td>127.018730</td>\n",
       "      <td>02-924-0815</td>\n",
       "      <td>매일 16:00 ~ 02:00</td>\n",
       "      <td>https://place.map.kakao.com/1436558312#review</td>\n",
       "      <td>None</td>\n",
       "    </tr>\n",
       "    <tr>\n",
       "      <th>16</th>\n",
       "      <td>치킨</td>\n",
       "      <td>한신치킨</td>\n",
       "      <td>4.0</td>\n",
       "      <td>11</td>\n",
       "      <td>71</td>\n",
       "      <td>서울 서초구 신반포로23길 30</td>\n",
       "      <td>37.508747</td>\n",
       "      <td>127.003531</td>\n",
       "      <td>02-596-5990</td>\n",
       "      <td>매일 11:00 ~ 01:00</td>\n",
       "      <td>https://place.map.kakao.com/8611462#review</td>\n",
       "      <td>None</td>\n",
       "    </tr>\n",
       "    <tr>\n",
       "      <th>18</th>\n",
       "      <td>치킨</td>\n",
       "      <td>남원통닭</td>\n",
       "      <td>4.3</td>\n",
       "      <td>14</td>\n",
       "      <td>62</td>\n",
       "      <td>서울 동대문구 홍릉로1길 39</td>\n",
       "      <td>37.580375</td>\n",
       "      <td>127.042767</td>\n",
       "      <td>02-968-9841</td>\n",
       "      <td>매일 10:00 ~ 22:00</td>\n",
       "      <td>https://place.map.kakao.com/27323391#review</td>\n",
       "      <td>None</td>\n",
       "    </tr>\n",
       "    <tr>\n",
       "      <th>19</th>\n",
       "      <td>치킨</td>\n",
       "      <td>계림원 회기역점</td>\n",
       "      <td>4.4</td>\n",
       "      <td>12</td>\n",
       "      <td>62</td>\n",
       "      <td>서울 동대문구 회기로28길 9</td>\n",
       "      <td>37.589427</td>\n",
       "      <td>127.056262</td>\n",
       "      <td>02-959-9292</td>\n",
       "      <td>영업시간 매일 17:00 ~ 02:00</td>\n",
       "      <td>https://place.map.kakao.com/1668979298#review</td>\n",
       "      <td>None</td>\n",
       "    </tr>\n",
       "    <tr>\n",
       "      <th>20</th>\n",
       "      <td>치킨</td>\n",
       "      <td>미친닭 종각본점</td>\n",
       "      <td>3.7</td>\n",
       "      <td>23</td>\n",
       "      <td>61</td>\n",
       "      <td>서울 종로구 우정국로2길 16 1층</td>\n",
       "      <td>37.569412</td>\n",
       "      <td>126.983890</td>\n",
       "      <td>02-722-9992</td>\n",
       "      <td>매일 14:00 ~ 00:00</td>\n",
       "      <td>https://place.map.kakao.com/26884480#review</td>\n",
       "      <td>None</td>\n",
       "    </tr>\n",
       "    <tr>\n",
       "      <th>21</th>\n",
       "      <td>치킨</td>\n",
       "      <td>도담치킨 한양대점</td>\n",
       "      <td>4.0</td>\n",
       "      <td>12</td>\n",
       "      <td>60</td>\n",
       "      <td>서울 성동구 마조로1가길 14</td>\n",
       "      <td>37.560261</td>\n",
       "      <td>127.040069</td>\n",
       "      <td>02-2295-9253</td>\n",
       "      <td>영업시간 매일 16:00 ~ 02:00</td>\n",
       "      <td>https://place.map.kakao.com/1609269590#review</td>\n",
       "      <td>None</td>\n",
       "    </tr>\n",
       "    <tr>\n",
       "      <th>25</th>\n",
       "      <td>치킨</td>\n",
       "      <td>고가네숯불구이통닭</td>\n",
       "      <td>3.1</td>\n",
       "      <td>20</td>\n",
       "      <td>52</td>\n",
       "      <td>서울 동작구 상도로 136</td>\n",
       "      <td>37.502122</td>\n",
       "      <td>126.935019</td>\n",
       "      <td>02-825-0095</td>\n",
       "      <td>NaN</td>\n",
       "      <td>https://place.map.kakao.com/16043925#review</td>\n",
       "      <td>None</td>\n",
       "    </tr>\n",
       "    <tr>\n",
       "      <th>26</th>\n",
       "      <td>치킨</td>\n",
       "      <td>꼬랑치킨</td>\n",
       "      <td>3.0</td>\n",
       "      <td>12</td>\n",
       "      <td>52</td>\n",
       "      <td>서울 성동구 행당로17길 11</td>\n",
       "      <td>37.559381</td>\n",
       "      <td>127.033351</td>\n",
       "      <td>02-2298-8498</td>\n",
       "      <td>영업시간 매일 16:00 ~ 03:00</td>\n",
       "      <td>https://place.map.kakao.com/8824523#review</td>\n",
       "      <td>None</td>\n",
       "    </tr>\n",
       "    <tr>\n",
       "      <th>27</th>\n",
       "      <td>치킨</td>\n",
       "      <td>감계무량 당산본점</td>\n",
       "      <td>3.8</td>\n",
       "      <td>20</td>\n",
       "      <td>50</td>\n",
       "      <td>서울 영등포구 당산로45길 2-1 지하1,지상1층</td>\n",
       "      <td>37.533446</td>\n",
       "      <td>126.901024</td>\n",
       "      <td>02-2634-7708</td>\n",
       "      <td>월~토 15:00 ~ 01:00</td>\n",
       "      <td>https://place.map.kakao.com/352486952#review</td>\n",
       "      <td>None</td>\n",
       "    </tr>\n",
       "    <tr>\n",
       "      <th>29</th>\n",
       "      <td>치킨</td>\n",
       "      <td>사이치킨</td>\n",
       "      <td>3.9</td>\n",
       "      <td>28</td>\n",
       "      <td>46</td>\n",
       "      <td>서울 종로구 백석동길 1</td>\n",
       "      <td>37.594902</td>\n",
       "      <td>126.968743</td>\n",
       "      <td>NaN</td>\n",
       "      <td>NaN</td>\n",
       "      <td>https://place.map.kakao.com/9621624#review</td>\n",
       "      <td>None</td>\n",
       "    </tr>\n",
       "    <tr>\n",
       "      <th>33</th>\n",
       "      <td>치킨</td>\n",
       "      <td>달가득치킨</td>\n",
       "      <td>3.6</td>\n",
       "      <td>16</td>\n",
       "      <td>41</td>\n",
       "      <td>서울 은평구 연서로28길 10 1층</td>\n",
       "      <td>37.617761</td>\n",
       "      <td>126.920968</td>\n",
       "      <td>02-6101-9390</td>\n",
       "      <td>월,수,목,금,토,일 14:30 ~ 01:30</td>\n",
       "      <td>https://place.map.kakao.com/1477357176#review</td>\n",
       "      <td>None</td>\n",
       "    </tr>\n",
       "    <tr>\n",
       "      <th>35</th>\n",
       "      <td>치킨</td>\n",
       "      <td>굽네치킨 염창역점</td>\n",
       "      <td>3.7</td>\n",
       "      <td>13</td>\n",
       "      <td>34</td>\n",
       "      <td>서울 양천구 공항대로 644</td>\n",
       "      <td>37.546679</td>\n",
       "      <td>126.876428</td>\n",
       "      <td>02-2648-9294</td>\n",
       "      <td>매일 12:00 ~ 23:00</td>\n",
       "      <td>https://place.map.kakao.com/514579645#review</td>\n",
       "      <td>None</td>\n",
       "    </tr>\n",
       "    <tr>\n",
       "      <th>37</th>\n",
       "      <td>치킨</td>\n",
       "      <td>참나무숯불통닭</td>\n",
       "      <td>4.8</td>\n",
       "      <td>16</td>\n",
       "      <td>32</td>\n",
       "      <td>서울 영등포구 도림로 382</td>\n",
       "      <td>37.505027</td>\n",
       "      <td>126.897522</td>\n",
       "      <td>02-836-8228</td>\n",
       "      <td>영업시간 월~토 17:00 ~ 01:00</td>\n",
       "      <td>https://place.map.kakao.com/24769374#review</td>\n",
       "      <td>None</td>\n",
       "    </tr>\n",
       "    <tr>\n",
       "      <th>39</th>\n",
       "      <td>치킨</td>\n",
       "      <td>아웃닭 연신내점</td>\n",
       "      <td>4.2</td>\n",
       "      <td>9</td>\n",
       "      <td>31</td>\n",
       "      <td>서울 은평구 연서로29길 20-7 1층</td>\n",
       "      <td>37.619650</td>\n",
       "      <td>126.918398</td>\n",
       "      <td>02-6338-4469</td>\n",
       "      <td>영업시간 토,일 15:00 ~ 01:00</td>\n",
       "      <td>https://place.map.kakao.com/838438667#review</td>\n",
       "      <td>None</td>\n",
       "    </tr>\n",
       "    <tr>\n",
       "      <th>40</th>\n",
       "      <td>치킨</td>\n",
       "      <td>한국통닭 종로3호점</td>\n",
       "      <td>4.4</td>\n",
       "      <td>21</td>\n",
       "      <td>31</td>\n",
       "      <td>서울 종로구 수표로 110-1</td>\n",
       "      <td>37.571042</td>\n",
       "      <td>126.989404</td>\n",
       "      <td>NaN</td>\n",
       "      <td>매일 10:00 ~ 23:00</td>\n",
       "      <td>https://place.map.kakao.com/27494693#review</td>\n",
       "      <td>None</td>\n",
       "    </tr>\n",
       "    <tr>\n",
       "      <th>41</th>\n",
       "      <td>치킨</td>\n",
       "      <td>삼우치킨</td>\n",
       "      <td>3.3</td>\n",
       "      <td>12</td>\n",
       "      <td>31</td>\n",
       "      <td>서울 영등포구 시흥대로 671</td>\n",
       "      <td>37.491599</td>\n",
       "      <td>126.908162</td>\n",
       "      <td>02-844-9292</td>\n",
       "      <td>매일 13:00 ~ 01:00</td>\n",
       "      <td>https://place.map.kakao.com/10432160#review</td>\n",
       "      <td>None</td>\n",
       "    </tr>\n",
       "    <tr>\n",
       "      <th>42</th>\n",
       "      <td>치킨</td>\n",
       "      <td>감미치킨</td>\n",
       "      <td>4.1</td>\n",
       "      <td>16</td>\n",
       "      <td>31</td>\n",
       "      <td>서울 송파구 토성로 55</td>\n",
       "      <td>37.529327</td>\n",
       "      <td>127.116351</td>\n",
       "      <td>02-488-1294</td>\n",
       "      <td>NaN</td>\n",
       "      <td>https://place.map.kakao.com/16047009#review</td>\n",
       "      <td>None</td>\n",
       "    </tr>\n",
       "    <tr>\n",
       "      <th>43</th>\n",
       "      <td>치킨</td>\n",
       "      <td>계림원 남영숙대점</td>\n",
       "      <td>4.0</td>\n",
       "      <td>9</td>\n",
       "      <td>30</td>\n",
       "      <td>서울 용산구 한강대로87길 8</td>\n",
       "      <td>37.544415</td>\n",
       "      <td>126.971429</td>\n",
       "      <td>02-704-4747</td>\n",
       "      <td>영업시간 매일 17:00 ~ 02:00</td>\n",
       "      <td>https://place.map.kakao.com/27277069#review</td>\n",
       "      <td>None</td>\n",
       "    </tr>\n",
       "    <tr>\n",
       "      <th>45</th>\n",
       "      <td>치킨</td>\n",
       "      <td>이수통닭 본점</td>\n",
       "      <td>3.1</td>\n",
       "      <td>28</td>\n",
       "      <td>30</td>\n",
       "      <td>서울 서초구 방배천로 92 세앙아르비체 102동 107,108호</td>\n",
       "      <td>37.484591</td>\n",
       "      <td>126.983380</td>\n",
       "      <td>02-581-8892</td>\n",
       "      <td>영업시간 매일 15:00 ~ 01:30</td>\n",
       "      <td>https://place.map.kakao.com/762088017#review</td>\n",
       "      <td>None</td>\n",
       "    </tr>\n",
       "    <tr>\n",
       "      <th>48</th>\n",
       "      <td>치킨</td>\n",
       "      <td>다글다글</td>\n",
       "      <td>4.7</td>\n",
       "      <td>49</td>\n",
       "      <td>28</td>\n",
       "      <td>서울 관악구 남현길 63-5 1층</td>\n",
       "      <td>37.474088</td>\n",
       "      <td>126.976240</td>\n",
       "      <td>02-583-3231</td>\n",
       "      <td>매일 12:00 ~ 24:00</td>\n",
       "      <td>https://place.map.kakao.com/18358291#review</td>\n",
       "      <td>None</td>\n",
       "    </tr>\n",
       "    <tr>\n",
       "      <th>49</th>\n",
       "      <td>치킨</td>\n",
       "      <td>삼성통닭 본점</td>\n",
       "      <td>3.6</td>\n",
       "      <td>20</td>\n",
       "      <td>27</td>\n",
       "      <td>서울 성북구 고려대로24길 60</td>\n",
       "      <td>37.583417</td>\n",
       "      <td>127.029321</td>\n",
       "      <td>02-922-0077</td>\n",
       "      <td>매일 10:00 ~ 05:00</td>\n",
       "      <td>https://place.map.kakao.com/946837172#review</td>\n",
       "      <td>None</td>\n",
       "    </tr>\n",
       "    <tr>\n",
       "      <th>50</th>\n",
       "      <td>치킨</td>\n",
       "      <td>바른치킨 종각역점</td>\n",
       "      <td>4.8</td>\n",
       "      <td>16</td>\n",
       "      <td>25</td>\n",
       "      <td>서울 종로구 인사동3길 35 1층</td>\n",
       "      <td>37.571463</td>\n",
       "      <td>126.984972</td>\n",
       "      <td>02-722-7778</td>\n",
       "      <td>월~토 15:00 ~ 01:00</td>\n",
       "      <td>https://place.map.kakao.com/2036009778#review</td>\n",
       "      <td>None</td>\n",
       "    </tr>\n",
       "    <tr>\n",
       "      <th>52</th>\n",
       "      <td>치킨</td>\n",
       "      <td>가본통닭</td>\n",
       "      <td>4.7</td>\n",
       "      <td>10</td>\n",
       "      <td>23</td>\n",
       "      <td>서울 동작구 노량진로26길 22</td>\n",
       "      <td>37.511407</td>\n",
       "      <td>126.954524</td>\n",
       "      <td>02-812-7908</td>\n",
       "      <td>매일 12:00 ~ 21:00</td>\n",
       "      <td>https://place.map.kakao.com/12567362#review</td>\n",
       "      <td>None</td>\n",
       "    </tr>\n",
       "    <tr>\n",
       "      <th>53</th>\n",
       "      <td>치킨</td>\n",
       "      <td>종구네통닭</td>\n",
       "      <td>4.6</td>\n",
       "      <td>14</td>\n",
       "      <td>23</td>\n",
       "      <td>서울 동대문구 홍릉로1길 47</td>\n",
       "      <td>37.580154</td>\n",
       "      <td>127.042293</td>\n",
       "      <td>02-967-8449</td>\n",
       "      <td>매일 11:30 ~ 22:00</td>\n",
       "      <td>https://place.map.kakao.com/27446296#review</td>\n",
       "      <td>None</td>\n",
       "    </tr>\n",
       "    <tr>\n",
       "      <th>56</th>\n",
       "      <td>치킨</td>\n",
       "      <td>금강바비큐치킨</td>\n",
       "      <td>4.0</td>\n",
       "      <td>13</td>\n",
       "      <td>22</td>\n",
       "      <td>서울 서초구 사평대로 349</td>\n",
       "      <td>37.503771</td>\n",
       "      <td>127.021293</td>\n",
       "      <td>02-511-0976</td>\n",
       "      <td>매일 11:00 ~ 07:00</td>\n",
       "      <td>https://place.map.kakao.com/2067214806#review</td>\n",
       "      <td>None</td>\n",
       "    </tr>\n",
       "    <tr>\n",
       "      <th>65</th>\n",
       "      <td>치킨</td>\n",
       "      <td>아웃닭 이대점</td>\n",
       "      <td>4.2</td>\n",
       "      <td>23</td>\n",
       "      <td>19</td>\n",
       "      <td>서울 서대문구 이화여대5길 16</td>\n",
       "      <td>37.558400</td>\n",
       "      <td>126.944781</td>\n",
       "      <td>02-363-4375</td>\n",
       "      <td>매일 14:30 ~ 24:00</td>\n",
       "      <td>https://place.map.kakao.com/651885428#review</td>\n",
       "      <td>None</td>\n",
       "    </tr>\n",
       "    <tr>\n",
       "      <th>71</th>\n",
       "      <td>치킨</td>\n",
       "      <td>삼통치킨 안암본점</td>\n",
       "      <td>3.9</td>\n",
       "      <td>14</td>\n",
       "      <td>16</td>\n",
       "      <td>서울 성북구 고려대로 92</td>\n",
       "      <td>37.589116</td>\n",
       "      <td>127.018215</td>\n",
       "      <td>NaN</td>\n",
       "      <td>매일 14:00 ~ 05:00</td>\n",
       "      <td>https://place.map.kakao.com/8556517#review</td>\n",
       "      <td>None</td>\n",
       "    </tr>\n",
       "    <tr>\n",
       "      <th>74</th>\n",
       "      <td>치킨</td>\n",
       "      <td>참나무닭나라</td>\n",
       "      <td>4.8</td>\n",
       "      <td>17</td>\n",
       "      <td>15</td>\n",
       "      <td>서울 성북구 동소문로8길 12</td>\n",
       "      <td>37.589265</td>\n",
       "      <td>127.009649</td>\n",
       "      <td>02-766-9192</td>\n",
       "      <td>NaN</td>\n",
       "      <td>https://place.map.kakao.com/427186769#review</td>\n",
       "      <td>None</td>\n",
       "    </tr>\n",
       "    <tr>\n",
       "      <th>75</th>\n",
       "      <td>치킨</td>\n",
       "      <td>경성치킨</td>\n",
       "      <td>3.2</td>\n",
       "      <td>15</td>\n",
       "      <td>15</td>\n",
       "      <td>서울 종로구 율곡로4길 5 1,2층</td>\n",
       "      <td>37.575167</td>\n",
       "      <td>126.982250</td>\n",
       "      <td>02-733-3365</td>\n",
       "      <td>NaN</td>\n",
       "      <td>https://place.map.kakao.com/12098170#review</td>\n",
       "      <td>None</td>\n",
       "    </tr>\n",
       "    <tr>\n",
       "      <th>80</th>\n",
       "      <td>치킨</td>\n",
       "      <td>60계 마포역점</td>\n",
       "      <td>3.7</td>\n",
       "      <td>16</td>\n",
       "      <td>14</td>\n",
       "      <td>서울 마포구 마포대로4가길 11</td>\n",
       "      <td>37.537938</td>\n",
       "      <td>126.945172</td>\n",
       "      <td>02-716-6026</td>\n",
       "      <td>토,일 12:00 ~ 23:00</td>\n",
       "      <td>https://place.map.kakao.com/2088300424#review</td>\n",
       "      <td>None</td>\n",
       "    </tr>\n",
       "    <tr>\n",
       "      <th>89</th>\n",
       "      <td>치킨</td>\n",
       "      <td>치킨인더키친 경복궁역점</td>\n",
       "      <td>4.6</td>\n",
       "      <td>9</td>\n",
       "      <td>12</td>\n",
       "      <td>서울 종로구 자하문로 20-1</td>\n",
       "      <td>37.577919</td>\n",
       "      <td>126.972226</td>\n",
       "      <td>NaN</td>\n",
       "      <td>매일 15:00 ~ 02:00</td>\n",
       "      <td>https://place.map.kakao.com/26844956#review</td>\n",
       "      <td>None</td>\n",
       "    </tr>\n",
       "    <tr>\n",
       "      <th>90</th>\n",
       "      <td>치킨</td>\n",
       "      <td>계인전</td>\n",
       "      <td>4.1</td>\n",
       "      <td>12</td>\n",
       "      <td>11</td>\n",
       "      <td>서울 용산구 장문로 84 1층</td>\n",
       "      <td>37.525935</td>\n",
       "      <td>126.998908</td>\n",
       "      <td>070-7783-7007</td>\n",
       "      <td>영업시간 화~일 18:00 ~ 24:00</td>\n",
       "      <td>https://place.map.kakao.com/10710865#review</td>\n",
       "      <td>None</td>\n",
       "    </tr>\n",
       "    <tr>\n",
       "      <th>93</th>\n",
       "      <td>치킨</td>\n",
       "      <td>푸라닭치킨 오류점</td>\n",
       "      <td>5.0</td>\n",
       "      <td>9</td>\n",
       "      <td>11</td>\n",
       "      <td>서울 구로구 천왕로 106 골드프라자 1층 105호</td>\n",
       "      <td>37.495403</td>\n",
       "      <td>126.887369</td>\n",
       "      <td>02-2066-9206</td>\n",
       "      <td>NaN</td>\n",
       "      <td>https://place.map.kakao.com/1802354603#review</td>\n",
       "      <td>None</td>\n",
       "    </tr>\n",
       "  </tbody>\n",
       "</table>\n",
       "</div>"
      ],
      "text/plain": [
       "    업종           가게이름  평가점수  평가인원  리뷰갯수                                   주소  \\\n",
       "0   치킨        한남동한방통닭   4.0   126   299                    서울 용산구 대사관로34길 38   \n",
       "2   치킨    서울숲 누룽지통닭구이   3.7    50   216                     서울 성동구 왕십리로5길 10   \n",
       "3   치킨           양키통닭   4.1   116   150                서울 영등포구 도림로139길 13 1층   \n",
       "4   치킨            장작집   4.0    31   122                    서울 마포구 월드컵북로6길 19   \n",
       "5   치킨     미락치킨 경복궁본점   3.2    40   119                     서울 종로구 자하문로 17-1   \n",
       "7   치킨     철인7호치킨 홍대점   5.0  1394   103                서울 마포구 양화로6길 99-3 반지하   \n",
       "10  치킨          네키드윙즈   4.3    35    83               서울 용산구 녹사평대로 174-11 1층   \n",
       "11  치킨       유진치킨 홍제점   2.9    18    79                     서울 서대문구 세무서7길 13   \n",
       "13  치킨       인근주민 상도점   4.7    29    74                    서울 동작구 양녕로 265 1층   \n",
       "14  치킨           양재닭집   3.1    47    73       서울 서초구 남부순환로356길 15 양재시장 지하 1층   \n",
       "15  치킨  대한맥주집 성신여대직영점   4.2    25    71                    서울 성북구 동소문로24길 49   \n",
       "16  치킨           한신치킨   4.0    11    71                    서울 서초구 신반포로23길 30   \n",
       "18  치킨           남원통닭   4.3    14    62                     서울 동대문구 홍릉로1길 39   \n",
       "19  치킨       계림원 회기역점   4.4    12    62                     서울 동대문구 회기로28길 9   \n",
       "20  치킨       미친닭 종각본점   3.7    23    61                  서울 종로구 우정국로2길 16 1층   \n",
       "21  치킨      도담치킨 한양대점   4.0    12    60                     서울 성동구 마조로1가길 14   \n",
       "25  치킨      고가네숯불구이통닭   3.1    20    52                       서울 동작구 상도로 136   \n",
       "26  치킨           꼬랑치킨   3.0    12    52                     서울 성동구 행당로17길 11   \n",
       "27  치킨      감계무량 당산본점   3.8    20    50          서울 영등포구 당산로45길 2-1 지하1,지상1층   \n",
       "29  치킨           사이치킨   3.9    28    46                        서울 종로구 백석동길 1   \n",
       "33  치킨          달가득치킨   3.6    16    41                  서울 은평구 연서로28길 10 1층   \n",
       "35  치킨      굽네치킨 염창역점   3.7    13    34                      서울 양천구 공항대로 644   \n",
       "37  치킨        참나무숯불통닭   4.8    16    32                      서울 영등포구 도림로 382   \n",
       "39  치킨       아웃닭 연신내점   4.2     9    31                서울 은평구 연서로29길 20-7 1층   \n",
       "40  치킨     한국통닭 종로3호점   4.4    21    31                     서울 종로구 수표로 110-1   \n",
       "41  치킨           삼우치킨   3.3    12    31                     서울 영등포구 시흥대로 671   \n",
       "42  치킨           감미치킨   4.1    16    31                        서울 송파구 토성로 55   \n",
       "43  치킨      계림원 남영숙대점   4.0     9    30                     서울 용산구 한강대로87길 8   \n",
       "45  치킨        이수통닭 본점   3.1    28    30  서울 서초구 방배천로 92 세앙아르비체 102동 107,108호   \n",
       "48  치킨           다글다글   4.7    49    28                   서울 관악구 남현길 63-5 1층   \n",
       "49  치킨        삼성통닭 본점   3.6    20    27                    서울 성북구 고려대로24길 60   \n",
       "50  치킨      바른치킨 종각역점   4.8    16    25                   서울 종로구 인사동3길 35 1층   \n",
       "52  치킨           가본통닭   4.7    10    23                    서울 동작구 노량진로26길 22   \n",
       "53  치킨          종구네통닭   4.6    14    23                     서울 동대문구 홍릉로1길 47   \n",
       "56  치킨        금강바비큐치킨   4.0    13    22                      서울 서초구 사평대로 349   \n",
       "65  치킨        아웃닭 이대점   4.2    23    19                    서울 서대문구 이화여대5길 16   \n",
       "71  치킨      삼통치킨 안암본점   3.9    14    16                       서울 성북구 고려대로 92   \n",
       "74  치킨         참나무닭나라   4.8    17    15                     서울 성북구 동소문로8길 12   \n",
       "75  치킨           경성치킨   3.2    15    15                  서울 종로구 율곡로4길 5 1,2층   \n",
       "80  치킨       60계 마포역점   3.7    16    14                    서울 마포구 마포대로4가길 11   \n",
       "89  치킨   치킨인더키친 경복궁역점   4.6     9    12                     서울 종로구 자하문로 20-1   \n",
       "90  치킨            계인전   4.1    12    11                     서울 용산구 장문로 84 1층   \n",
       "93  치킨      푸라닭치킨 오류점   5.0     9    11         서울 구로구 천왕로 106 골드프라자 1층 105호   \n",
       "\n",
       "     Latitude   Longitude             전화                       영업시간  \\\n",
       "0   37.531514  127.005520    02-797-8677     영업시간 월~토 17:00 ~ 02:00   \n",
       "2   37.546925  127.044399    02-462-9920     영업시간 토,일 15:00 ~ 02:00   \n",
       "3   37.513624  126.892744  070-8800-0815            토 16:00 ~ 01:00   \n",
       "4   37.558287  126.919527  010-3336-8844                        NaN   \n",
       "5   37.577592  126.971877    02-736-6741           매일 14:00 ~ 02:00   \n",
       "7   37.548498  126.919770    02-324-7175      영업시간 매일 16:00 ~ 02:00   \n",
       "10  37.533785  126.989355            NaN          금~일 11:30 ~ 23:00   \n",
       "11  37.591421  126.946061    02-394-9300          화~일 14:00 ~ 23:00   \n",
       "13  37.503699  126.948230    02-817-8599           매일 15:00 ~ 03:00   \n",
       "14  37.484268  127.037883    02-572-1741          월~토 12:00 ~ 24:00   \n",
       "15  37.591442  127.018730    02-924-0815           매일 16:00 ~ 02:00   \n",
       "16  37.508747  127.003531    02-596-5990           매일 11:00 ~ 01:00   \n",
       "18  37.580375  127.042767    02-968-9841           매일 10:00 ~ 22:00   \n",
       "19  37.589427  127.056262    02-959-9292      영업시간 매일 17:00 ~ 02:00   \n",
       "20  37.569412  126.983890    02-722-9992           매일 14:00 ~ 00:00   \n",
       "21  37.560261  127.040069   02-2295-9253      영업시간 매일 16:00 ~ 02:00   \n",
       "25  37.502122  126.935019    02-825-0095                        NaN   \n",
       "26  37.559381  127.033351   02-2298-8498      영업시간 매일 16:00 ~ 03:00   \n",
       "27  37.533446  126.901024   02-2634-7708          월~토 15:00 ~ 01:00   \n",
       "29  37.594902  126.968743            NaN                        NaN   \n",
       "33  37.617761  126.920968   02-6101-9390  월,수,목,금,토,일 14:30 ~ 01:30   \n",
       "35  37.546679  126.876428   02-2648-9294           매일 12:00 ~ 23:00   \n",
       "37  37.505027  126.897522    02-836-8228     영업시간 월~토 17:00 ~ 01:00   \n",
       "39  37.619650  126.918398   02-6338-4469     영업시간 토,일 15:00 ~ 01:00   \n",
       "40  37.571042  126.989404            NaN           매일 10:00 ~ 23:00   \n",
       "41  37.491599  126.908162    02-844-9292           매일 13:00 ~ 01:00   \n",
       "42  37.529327  127.116351    02-488-1294                        NaN   \n",
       "43  37.544415  126.971429    02-704-4747      영업시간 매일 17:00 ~ 02:00   \n",
       "45  37.484591  126.983380    02-581-8892      영업시간 매일 15:00 ~ 01:30   \n",
       "48  37.474088  126.976240    02-583-3231           매일 12:00 ~ 24:00   \n",
       "49  37.583417  127.029321    02-922-0077           매일 10:00 ~ 05:00   \n",
       "50  37.571463  126.984972    02-722-7778          월~토 15:00 ~ 01:00   \n",
       "52  37.511407  126.954524    02-812-7908           매일 12:00 ~ 21:00   \n",
       "53  37.580154  127.042293    02-967-8449           매일 11:30 ~ 22:00   \n",
       "56  37.503771  127.021293    02-511-0976           매일 11:00 ~ 07:00   \n",
       "65  37.558400  126.944781    02-363-4375           매일 14:30 ~ 24:00   \n",
       "71  37.589116  127.018215            NaN           매일 14:00 ~ 05:00   \n",
       "74  37.589265  127.009649    02-766-9192                        NaN   \n",
       "75  37.575167  126.982250    02-733-3365                        NaN   \n",
       "80  37.537938  126.945172    02-716-6026          토,일 12:00 ~ 23:00   \n",
       "89  37.577919  126.972226            NaN           매일 15:00 ~ 02:00   \n",
       "90  37.525935  126.998908  070-7783-7007     영업시간 화~일 18:00 ~ 24:00   \n",
       "93  37.495403  126.887369   02-2066-9206                        NaN   \n",
       "\n",
       "                                             링크주소     구  \n",
       "0     https://place.map.kakao.com/16330571#review  None  \n",
       "2     https://place.map.kakao.com/27417406#review  None  \n",
       "3   https://place.map.kakao.com/1142427389#review  None  \n",
       "4   https://place.map.kakao.com/1191541006#review  None  \n",
       "5    https://place.map.kakao.com/380922242#review  None  \n",
       "7     https://place.map.kakao.com/26871883#review  None  \n",
       "10   https://place.map.kakao.com/931679409#review  None  \n",
       "11  https://place.map.kakao.com/1069880159#review  None  \n",
       "13  https://place.map.kakao.com/1446660533#review  None  \n",
       "14    https://place.map.kakao.com/12428506#review  None  \n",
       "15  https://place.map.kakao.com/1436558312#review  None  \n",
       "16     https://place.map.kakao.com/8611462#review  None  \n",
       "18    https://place.map.kakao.com/27323391#review  None  \n",
       "19  https://place.map.kakao.com/1668979298#review  None  \n",
       "20    https://place.map.kakao.com/26884480#review  None  \n",
       "21  https://place.map.kakao.com/1609269590#review  None  \n",
       "25    https://place.map.kakao.com/16043925#review  None  \n",
       "26     https://place.map.kakao.com/8824523#review  None  \n",
       "27   https://place.map.kakao.com/352486952#review  None  \n",
       "29     https://place.map.kakao.com/9621624#review  None  \n",
       "33  https://place.map.kakao.com/1477357176#review  None  \n",
       "35   https://place.map.kakao.com/514579645#review  None  \n",
       "37    https://place.map.kakao.com/24769374#review  None  \n",
       "39   https://place.map.kakao.com/838438667#review  None  \n",
       "40    https://place.map.kakao.com/27494693#review  None  \n",
       "41    https://place.map.kakao.com/10432160#review  None  \n",
       "42    https://place.map.kakao.com/16047009#review  None  \n",
       "43    https://place.map.kakao.com/27277069#review  None  \n",
       "45   https://place.map.kakao.com/762088017#review  None  \n",
       "48    https://place.map.kakao.com/18358291#review  None  \n",
       "49   https://place.map.kakao.com/946837172#review  None  \n",
       "50  https://place.map.kakao.com/2036009778#review  None  \n",
       "52    https://place.map.kakao.com/12567362#review  None  \n",
       "53    https://place.map.kakao.com/27446296#review  None  \n",
       "56  https://place.map.kakao.com/2067214806#review  None  \n",
       "65   https://place.map.kakao.com/651885428#review  None  \n",
       "71     https://place.map.kakao.com/8556517#review  None  \n",
       "74   https://place.map.kakao.com/427186769#review  None  \n",
       "75    https://place.map.kakao.com/12098170#review  None  \n",
       "80  https://place.map.kakao.com/2088300424#review  None  \n",
       "89    https://place.map.kakao.com/26844956#review  None  \n",
       "90    https://place.map.kakao.com/10710865#review  None  \n",
       "93  https://place.map.kakao.com/1802354603#review  None  "
      ]
     },
     "execution_count": 107,
     "metadata": {},
     "output_type": "execute_result"
    }
   ],
   "source": [
    "# 평가점수의 평균 2.83 이상인 가게\n",
    "ckup=ck[(ck['평가점수'].mean() <= ck['평가점수']) & (ck['리뷰갯수'].mean() <= ck['리뷰갯수']) & (ck['평가인원'].mean() <= ck['평가인원'])]\n",
    "ckup"
   ]
  },
  {
   "cell_type": "code",
   "execution_count": 8,
   "id": "e2689217",
   "metadata": {},
   "outputs": [
    {
     "name": "stderr",
     "output_type": "stream",
     "text": [
      "C:\\Users\\504\\anaconda3\\lib\\site-packages\\pandas\\core\\frame.py:4308: SettingWithCopyWarning: \n",
      "A value is trying to be set on a copy of a slice from a DataFrame\n",
      "\n",
      "See the caveats in the documentation: https://pandas.pydata.org/pandas-docs/stable/user_guide/indexing.html#returning-a-view-versus-a-copy\n",
      "  return super().drop(\n"
     ]
    }
   ],
   "source": [
    "# 링크주소 버리기\n",
    "ckup.drop(['링크주소'],axis=1,inplace=True)"
   ]
  },
  {
   "cell_type": "code",
   "execution_count": 9,
   "id": "36437daf",
   "metadata": {},
   "outputs": [
    {
     "data": {
      "text/html": [
       "<div>\n",
       "<style scoped>\n",
       "    .dataframe tbody tr th:only-of-type {\n",
       "        vertical-align: middle;\n",
       "    }\n",
       "\n",
       "    .dataframe tbody tr th {\n",
       "        vertical-align: top;\n",
       "    }\n",
       "\n",
       "    .dataframe thead th {\n",
       "        text-align: right;\n",
       "    }\n",
       "</style>\n",
       "<table border=\"1\" class=\"dataframe\">\n",
       "  <thead>\n",
       "    <tr style=\"text-align: right;\">\n",
       "      <th></th>\n",
       "      <th>업종</th>\n",
       "      <th>가게이름</th>\n",
       "      <th>평가점수</th>\n",
       "      <th>평가인원</th>\n",
       "      <th>리뷰갯수</th>\n",
       "      <th>주소</th>\n",
       "      <th>Latitude</th>\n",
       "      <th>Longitude</th>\n",
       "      <th>전화</th>\n",
       "      <th>영업시간</th>\n",
       "    </tr>\n",
       "  </thead>\n",
       "  <tbody>\n",
       "    <tr>\n",
       "      <th>0</th>\n",
       "      <td>치킨</td>\n",
       "      <td>한남동한방통닭</td>\n",
       "      <td>4.0</td>\n",
       "      <td>126</td>\n",
       "      <td>299</td>\n",
       "      <td>서울 용산구 대사관로34길 38</td>\n",
       "      <td>37.531514</td>\n",
       "      <td>127.00552</td>\n",
       "      <td>02-797-8677</td>\n",
       "      <td>영업시간 월~토 17:00 ~ 02:00</td>\n",
       "    </tr>\n",
       "  </tbody>\n",
       "</table>\n",
       "</div>"
      ],
      "text/plain": [
       "   업종     가게이름  평가점수  평가인원  리뷰갯수                 주소   Latitude  Longitude  \\\n",
       "0  치킨  한남동한방통닭   4.0   126   299  서울 용산구 대사관로34길 38  37.531514  127.00552   \n",
       "\n",
       "            전화                    영업시간  \n",
       "0  02-797-8677  영업시간 월~토 17:00 ~ 02:00  "
      ]
     },
     "execution_count": 9,
     "metadata": {},
     "output_type": "execute_result"
    }
   ],
   "source": [
    "# 링크주소잘 버려졌나 확인\n",
    "ckup.head(1)"
   ]
  },
  {
   "cell_type": "markdown",
   "id": "16a825a0",
   "metadata": {},
   "source": [
    "# 평균적으로 수치상 별로인가게"
   ]
  },
  {
   "cell_type": "code",
   "execution_count": 50,
   "id": "e72b1469",
   "metadata": {
    "scrolled": true
   },
   "outputs": [
    {
     "data": {
      "text/html": [
       "<div>\n",
       "<style scoped>\n",
       "    .dataframe tbody tr th:only-of-type {\n",
       "        vertical-align: middle;\n",
       "    }\n",
       "\n",
       "    .dataframe tbody tr th {\n",
       "        vertical-align: top;\n",
       "    }\n",
       "\n",
       "    .dataframe thead th {\n",
       "        text-align: right;\n",
       "    }\n",
       "</style>\n",
       "<table border=\"1\" class=\"dataframe\">\n",
       "  <thead>\n",
       "    <tr style=\"text-align: right;\">\n",
       "      <th></th>\n",
       "      <th>업종</th>\n",
       "      <th>가게이름</th>\n",
       "      <th>평가점수</th>\n",
       "      <th>평가인원</th>\n",
       "      <th>리뷰갯수</th>\n",
       "      <th>주소</th>\n",
       "      <th>Latitude</th>\n",
       "      <th>Longitude</th>\n",
       "      <th>전화</th>\n",
       "      <th>영업시간</th>\n",
       "      <th>링크주소</th>\n",
       "    </tr>\n",
       "  </thead>\n",
       "  <tbody>\n",
       "    <tr>\n",
       "      <th>109</th>\n",
       "      <td>치킨</td>\n",
       "      <td>BHC치킨 당산점</td>\n",
       "      <td>2.8</td>\n",
       "      <td>6</td>\n",
       "      <td>8</td>\n",
       "      <td>서울 영등포구 당산로49길 9</td>\n",
       "      <td>37.535600</td>\n",
       "      <td>126.901933</td>\n",
       "      <td>02-2677-9290</td>\n",
       "      <td>매일 12:00 ~ 24:00</td>\n",
       "      <td>https://place.map.kakao.com/1885379343#review</td>\n",
       "    </tr>\n",
       "    <tr>\n",
       "      <th>111</th>\n",
       "      <td>치킨</td>\n",
       "      <td>BHC치킨 명일점</td>\n",
       "      <td>2.5</td>\n",
       "      <td>8</td>\n",
       "      <td>8</td>\n",
       "      <td>서울 강동구 구천면로 502 1층</td>\n",
       "      <td>37.549003</td>\n",
       "      <td>127.153974</td>\n",
       "      <td>02-429-9279</td>\n",
       "      <td>매일 12:00 ~ 24:00</td>\n",
       "      <td>https://place.map.kakao.com/1684336606#review</td>\n",
       "    </tr>\n",
       "    <tr>\n",
       "      <th>124</th>\n",
       "      <td>치킨</td>\n",
       "      <td>BBQ 홍은점</td>\n",
       "      <td>1.7</td>\n",
       "      <td>3</td>\n",
       "      <td>8</td>\n",
       "      <td>서울 서대문구 통일로 510 북한산더샵 상가동 지하2층 117-A호</td>\n",
       "      <td>37.592705</td>\n",
       "      <td>126.941677</td>\n",
       "      <td>02-379-4236</td>\n",
       "      <td>매일 10:30 ~ 05:00</td>\n",
       "      <td>https://place.map.kakao.com/1036820213#review</td>\n",
       "    </tr>\n",
       "    <tr>\n",
       "      <th>133</th>\n",
       "      <td>치킨</td>\n",
       "      <td>60계 서울아현점</td>\n",
       "      <td>2.8</td>\n",
       "      <td>5</td>\n",
       "      <td>7</td>\n",
       "      <td>서울 마포구 마포대로 173-15 상가동 104호</td>\n",
       "      <td>37.549858</td>\n",
       "      <td>126.954419</td>\n",
       "      <td>02-702-2380</td>\n",
       "      <td>NaN</td>\n",
       "      <td>https://place.map.kakao.com/8186226#review</td>\n",
       "    </tr>\n",
       "    <tr>\n",
       "      <th>134</th>\n",
       "      <td>치킨</td>\n",
       "      <td>더블플레이치킨 염창점</td>\n",
       "      <td>0.0</td>\n",
       "      <td>0</td>\n",
       "      <td>7</td>\n",
       "      <td>서울 강서구 양천로73길 5 삼성하나로아파트상가동 1층</td>\n",
       "      <td>37.551630</td>\n",
       "      <td>126.871714</td>\n",
       "      <td>02-6013-9321</td>\n",
       "      <td>영업시간 금,토 16:00 ~ 02:00</td>\n",
       "      <td>https://place.map.kakao.com/1068147074#review</td>\n",
       "    </tr>\n",
       "    <tr>\n",
       "      <th>...</th>\n",
       "      <td>...</td>\n",
       "      <td>...</td>\n",
       "      <td>...</td>\n",
       "      <td>...</td>\n",
       "      <td>...</td>\n",
       "      <td>...</td>\n",
       "      <td>...</td>\n",
       "      <td>...</td>\n",
       "      <td>...</td>\n",
       "      <td>...</td>\n",
       "      <td>...</td>\n",
       "    </tr>\n",
       "    <tr>\n",
       "      <th>645</th>\n",
       "      <td>치킨</td>\n",
       "      <td>굿모닝살로만치킨 서강점</td>\n",
       "      <td>0.0</td>\n",
       "      <td>0</td>\n",
       "      <td>0</td>\n",
       "      <td>서울 마포구 토정로14길 38</td>\n",
       "      <td>37.544072</td>\n",
       "      <td>126.931205</td>\n",
       "      <td>02-718-8292</td>\n",
       "      <td>NaN</td>\n",
       "      <td>https://place.map.kakao.com/259748753#review</td>\n",
       "    </tr>\n",
       "    <tr>\n",
       "      <th>647</th>\n",
       "      <td>치킨</td>\n",
       "      <td>치킨펍</td>\n",
       "      <td>0.0</td>\n",
       "      <td>0</td>\n",
       "      <td>0</td>\n",
       "      <td>서울 종로구 통일로 272</td>\n",
       "      <td>37.576089</td>\n",
       "      <td>126.956382</td>\n",
       "      <td>02-722-4511</td>\n",
       "      <td>NaN</td>\n",
       "      <td>https://place.map.kakao.com/20538983#review</td>\n",
       "    </tr>\n",
       "    <tr>\n",
       "      <th>650</th>\n",
       "      <td>치킨</td>\n",
       "      <td>옛날통닭</td>\n",
       "      <td>0.0</td>\n",
       "      <td>0</td>\n",
       "      <td>0</td>\n",
       "      <td>서울 중구 퇴계로87길 3-8 1층</td>\n",
       "      <td>37.566080</td>\n",
       "      <td>127.020881</td>\n",
       "      <td>02-2232-3777</td>\n",
       "      <td>화~일 14:00 ~ 00:00</td>\n",
       "      <td>https://place.map.kakao.com/564790227#review</td>\n",
       "    </tr>\n",
       "    <tr>\n",
       "      <th>651</th>\n",
       "      <td>치킨</td>\n",
       "      <td>돈치킨 왕십리점</td>\n",
       "      <td>0.0</td>\n",
       "      <td>0</td>\n",
       "      <td>0</td>\n",
       "      <td>서울 중구 난계로 171</td>\n",
       "      <td>37.566833</td>\n",
       "      <td>127.023331</td>\n",
       "      <td>02-2231-3773</td>\n",
       "      <td>NaN</td>\n",
       "      <td>https://place.map.kakao.com/564790227#review</td>\n",
       "    </tr>\n",
       "    <tr>\n",
       "      <th>652</th>\n",
       "      <td>치킨</td>\n",
       "      <td>브라운치킨</td>\n",
       "      <td>0.0</td>\n",
       "      <td>0</td>\n",
       "      <td>0</td>\n",
       "      <td>서울 중구 퇴계로10길 24</td>\n",
       "      <td>37.558421</td>\n",
       "      <td>126.980740</td>\n",
       "      <td>02-755-0658</td>\n",
       "      <td>NaN</td>\n",
       "      <td>https://place.map.kakao.com/40227069#review</td>\n",
       "    </tr>\n",
       "  </tbody>\n",
       "</table>\n",
       "<p>198 rows × 11 columns</p>\n",
       "</div>"
      ],
      "text/plain": [
       "     업종          가게이름  평가점수  평가인원  리뷰갯수  \\\n",
       "109  치킨     BHC치킨 당산점   2.8     6     8   \n",
       "111  치킨     BHC치킨 명일점   2.5     8     8   \n",
       "124  치킨       BBQ 홍은점   1.7     3     8   \n",
       "133  치킨     60계 서울아현점   2.8     5     7   \n",
       "134  치킨   더블플레이치킨 염창점   0.0     0     7   \n",
       "..   ..           ...   ...   ...   ...   \n",
       "645  치킨  굿모닝살로만치킨 서강점   0.0     0     0   \n",
       "647  치킨           치킨펍   0.0     0     0   \n",
       "650  치킨          옛날통닭   0.0     0     0   \n",
       "651  치킨      돈치킨 왕십리점   0.0     0     0   \n",
       "652  치킨         브라운치킨   0.0     0     0   \n",
       "\n",
       "                                        주소   Latitude   Longitude  \\\n",
       "109                       서울 영등포구 당산로49길 9  37.535600  126.901933   \n",
       "111                     서울 강동구 구천면로 502 1층  37.549003  127.153974   \n",
       "124  서울 서대문구 통일로 510 북한산더샵 상가동 지하2층 117-A호  37.592705  126.941677   \n",
       "133            서울 마포구 마포대로 173-15 상가동 104호  37.549858  126.954419   \n",
       "134         서울 강서구 양천로73길 5 삼성하나로아파트상가동 1층  37.551630  126.871714   \n",
       "..                                     ...        ...         ...   \n",
       "645                       서울 마포구 토정로14길 38  37.544072  126.931205   \n",
       "647                         서울 종로구 통일로 272  37.576089  126.956382   \n",
       "650                    서울 중구 퇴계로87길 3-8 1층  37.566080  127.020881   \n",
       "651                          서울 중구 난계로 171  37.566833  127.023331   \n",
       "652                        서울 중구 퇴계로10길 24  37.558421  126.980740   \n",
       "\n",
       "               전화                    영업시간  \\\n",
       "109  02-2677-9290        매일 12:00 ~ 24:00   \n",
       "111   02-429-9279        매일 12:00 ~ 24:00   \n",
       "124   02-379-4236        매일 10:30 ~ 05:00   \n",
       "133   02-702-2380                     NaN   \n",
       "134  02-6013-9321  영업시간 금,토 16:00 ~ 02:00   \n",
       "..            ...                     ...   \n",
       "645   02-718-8292                     NaN   \n",
       "647   02-722-4511                     NaN   \n",
       "650  02-2232-3777       화~일 14:00 ~ 00:00   \n",
       "651  02-2231-3773                     NaN   \n",
       "652   02-755-0658                     NaN   \n",
       "\n",
       "                                              링크주소  \n",
       "109  https://place.map.kakao.com/1885379343#review  \n",
       "111  https://place.map.kakao.com/1684336606#review  \n",
       "124  https://place.map.kakao.com/1036820213#review  \n",
       "133     https://place.map.kakao.com/8186226#review  \n",
       "134  https://place.map.kakao.com/1068147074#review  \n",
       "..                                             ...  \n",
       "645   https://place.map.kakao.com/259748753#review  \n",
       "647    https://place.map.kakao.com/20538983#review  \n",
       "650   https://place.map.kakao.com/564790227#review  \n",
       "651   https://place.map.kakao.com/564790227#review  \n",
       "652    https://place.map.kakao.com/40227069#review  \n",
       "\n",
       "[198 rows x 11 columns]"
      ]
     },
     "execution_count": 50,
     "metadata": {},
     "output_type": "execute_result"
    }
   ],
   "source": [
    "ckdw=ck[(ck['평가점수'].mean() >= ck['평가점수']) & (ck['리뷰갯수'].mean() >= ck['리뷰갯수']) & (ck['평가인원'].mean() >= ck['평가인원'])]\n",
    "ckdw"
   ]
  },
  {
   "cell_type": "code",
   "execution_count": 51,
   "id": "575a85d7",
   "metadata": {
    "scrolled": true
   },
   "outputs": [],
   "source": [
    "# 링크주소 버리기\n",
    "ckdw.drop(['링크주소'],axis=1,inplace=True)"
   ]
  },
  {
   "cell_type": "code",
   "execution_count": 52,
   "id": "a29371c2",
   "metadata": {},
   "outputs": [
    {
     "data": {
      "text/html": [
       "<div>\n",
       "<style scoped>\n",
       "    .dataframe tbody tr th:only-of-type {\n",
       "        vertical-align: middle;\n",
       "    }\n",
       "\n",
       "    .dataframe tbody tr th {\n",
       "        vertical-align: top;\n",
       "    }\n",
       "\n",
       "    .dataframe thead th {\n",
       "        text-align: right;\n",
       "    }\n",
       "</style>\n",
       "<table border=\"1\" class=\"dataframe\">\n",
       "  <thead>\n",
       "    <tr style=\"text-align: right;\">\n",
       "      <th></th>\n",
       "      <th>업종</th>\n",
       "      <th>가게이름</th>\n",
       "      <th>평가점수</th>\n",
       "      <th>평가인원</th>\n",
       "      <th>리뷰갯수</th>\n",
       "      <th>주소</th>\n",
       "      <th>Latitude</th>\n",
       "      <th>Longitude</th>\n",
       "      <th>전화</th>\n",
       "      <th>영업시간</th>\n",
       "    </tr>\n",
       "  </thead>\n",
       "  <tbody>\n",
       "    <tr>\n",
       "      <th>109</th>\n",
       "      <td>치킨</td>\n",
       "      <td>BHC치킨 당산점</td>\n",
       "      <td>2.8</td>\n",
       "      <td>6</td>\n",
       "      <td>8</td>\n",
       "      <td>서울 영등포구 당산로49길 9</td>\n",
       "      <td>37.535600</td>\n",
       "      <td>126.901933</td>\n",
       "      <td>02-2677-9290</td>\n",
       "      <td>매일 12:00 ~ 24:00</td>\n",
       "    </tr>\n",
       "    <tr>\n",
       "      <th>111</th>\n",
       "      <td>치킨</td>\n",
       "      <td>BHC치킨 명일점</td>\n",
       "      <td>2.5</td>\n",
       "      <td>8</td>\n",
       "      <td>8</td>\n",
       "      <td>서울 강동구 구천면로 502 1층</td>\n",
       "      <td>37.549003</td>\n",
       "      <td>127.153974</td>\n",
       "      <td>02-429-9279</td>\n",
       "      <td>매일 12:00 ~ 24:00</td>\n",
       "    </tr>\n",
       "    <tr>\n",
       "      <th>124</th>\n",
       "      <td>치킨</td>\n",
       "      <td>BBQ 홍은점</td>\n",
       "      <td>1.7</td>\n",
       "      <td>3</td>\n",
       "      <td>8</td>\n",
       "      <td>서울 서대문구 통일로 510 북한산더샵 상가동 지하2층 117-A호</td>\n",
       "      <td>37.592705</td>\n",
       "      <td>126.941677</td>\n",
       "      <td>02-379-4236</td>\n",
       "      <td>매일 10:30 ~ 05:00</td>\n",
       "    </tr>\n",
       "    <tr>\n",
       "      <th>133</th>\n",
       "      <td>치킨</td>\n",
       "      <td>60계 서울아현점</td>\n",
       "      <td>2.8</td>\n",
       "      <td>5</td>\n",
       "      <td>7</td>\n",
       "      <td>서울 마포구 마포대로 173-15 상가동 104호</td>\n",
       "      <td>37.549858</td>\n",
       "      <td>126.954419</td>\n",
       "      <td>02-702-2380</td>\n",
       "      <td>NaN</td>\n",
       "    </tr>\n",
       "    <tr>\n",
       "      <th>134</th>\n",
       "      <td>치킨</td>\n",
       "      <td>더블플레이치킨 염창점</td>\n",
       "      <td>0.0</td>\n",
       "      <td>0</td>\n",
       "      <td>7</td>\n",
       "      <td>서울 강서구 양천로73길 5 삼성하나로아파트상가동 1층</td>\n",
       "      <td>37.551630</td>\n",
       "      <td>126.871714</td>\n",
       "      <td>02-6013-9321</td>\n",
       "      <td>영업시간 금,토 16:00 ~ 02:00</td>\n",
       "    </tr>\n",
       "    <tr>\n",
       "      <th>...</th>\n",
       "      <td>...</td>\n",
       "      <td>...</td>\n",
       "      <td>...</td>\n",
       "      <td>...</td>\n",
       "      <td>...</td>\n",
       "      <td>...</td>\n",
       "      <td>...</td>\n",
       "      <td>...</td>\n",
       "      <td>...</td>\n",
       "      <td>...</td>\n",
       "    </tr>\n",
       "    <tr>\n",
       "      <th>645</th>\n",
       "      <td>치킨</td>\n",
       "      <td>굿모닝살로만치킨 서강점</td>\n",
       "      <td>0.0</td>\n",
       "      <td>0</td>\n",
       "      <td>0</td>\n",
       "      <td>서울 마포구 토정로14길 38</td>\n",
       "      <td>37.544072</td>\n",
       "      <td>126.931205</td>\n",
       "      <td>02-718-8292</td>\n",
       "      <td>NaN</td>\n",
       "    </tr>\n",
       "    <tr>\n",
       "      <th>647</th>\n",
       "      <td>치킨</td>\n",
       "      <td>치킨펍</td>\n",
       "      <td>0.0</td>\n",
       "      <td>0</td>\n",
       "      <td>0</td>\n",
       "      <td>서울 종로구 통일로 272</td>\n",
       "      <td>37.576089</td>\n",
       "      <td>126.956382</td>\n",
       "      <td>02-722-4511</td>\n",
       "      <td>NaN</td>\n",
       "    </tr>\n",
       "    <tr>\n",
       "      <th>650</th>\n",
       "      <td>치킨</td>\n",
       "      <td>옛날통닭</td>\n",
       "      <td>0.0</td>\n",
       "      <td>0</td>\n",
       "      <td>0</td>\n",
       "      <td>서울 중구 퇴계로87길 3-8 1층</td>\n",
       "      <td>37.566080</td>\n",
       "      <td>127.020881</td>\n",
       "      <td>02-2232-3777</td>\n",
       "      <td>화~일 14:00 ~ 00:00</td>\n",
       "    </tr>\n",
       "    <tr>\n",
       "      <th>651</th>\n",
       "      <td>치킨</td>\n",
       "      <td>돈치킨 왕십리점</td>\n",
       "      <td>0.0</td>\n",
       "      <td>0</td>\n",
       "      <td>0</td>\n",
       "      <td>서울 중구 난계로 171</td>\n",
       "      <td>37.566833</td>\n",
       "      <td>127.023331</td>\n",
       "      <td>02-2231-3773</td>\n",
       "      <td>NaN</td>\n",
       "    </tr>\n",
       "    <tr>\n",
       "      <th>652</th>\n",
       "      <td>치킨</td>\n",
       "      <td>브라운치킨</td>\n",
       "      <td>0.0</td>\n",
       "      <td>0</td>\n",
       "      <td>0</td>\n",
       "      <td>서울 중구 퇴계로10길 24</td>\n",
       "      <td>37.558421</td>\n",
       "      <td>126.980740</td>\n",
       "      <td>02-755-0658</td>\n",
       "      <td>NaN</td>\n",
       "    </tr>\n",
       "  </tbody>\n",
       "</table>\n",
       "<p>198 rows × 10 columns</p>\n",
       "</div>"
      ],
      "text/plain": [
       "     업종          가게이름  평가점수  평가인원  리뷰갯수  \\\n",
       "109  치킨     BHC치킨 당산점   2.8     6     8   \n",
       "111  치킨     BHC치킨 명일점   2.5     8     8   \n",
       "124  치킨       BBQ 홍은점   1.7     3     8   \n",
       "133  치킨     60계 서울아현점   2.8     5     7   \n",
       "134  치킨   더블플레이치킨 염창점   0.0     0     7   \n",
       "..   ..           ...   ...   ...   ...   \n",
       "645  치킨  굿모닝살로만치킨 서강점   0.0     0     0   \n",
       "647  치킨           치킨펍   0.0     0     0   \n",
       "650  치킨          옛날통닭   0.0     0     0   \n",
       "651  치킨      돈치킨 왕십리점   0.0     0     0   \n",
       "652  치킨         브라운치킨   0.0     0     0   \n",
       "\n",
       "                                        주소   Latitude   Longitude  \\\n",
       "109                       서울 영등포구 당산로49길 9  37.535600  126.901933   \n",
       "111                     서울 강동구 구천면로 502 1층  37.549003  127.153974   \n",
       "124  서울 서대문구 통일로 510 북한산더샵 상가동 지하2층 117-A호  37.592705  126.941677   \n",
       "133            서울 마포구 마포대로 173-15 상가동 104호  37.549858  126.954419   \n",
       "134         서울 강서구 양천로73길 5 삼성하나로아파트상가동 1층  37.551630  126.871714   \n",
       "..                                     ...        ...         ...   \n",
       "645                       서울 마포구 토정로14길 38  37.544072  126.931205   \n",
       "647                         서울 종로구 통일로 272  37.576089  126.956382   \n",
       "650                    서울 중구 퇴계로87길 3-8 1층  37.566080  127.020881   \n",
       "651                          서울 중구 난계로 171  37.566833  127.023331   \n",
       "652                        서울 중구 퇴계로10길 24  37.558421  126.980740   \n",
       "\n",
       "               전화                    영업시간  \n",
       "109  02-2677-9290        매일 12:00 ~ 24:00  \n",
       "111   02-429-9279        매일 12:00 ~ 24:00  \n",
       "124   02-379-4236        매일 10:30 ~ 05:00  \n",
       "133   02-702-2380                     NaN  \n",
       "134  02-6013-9321  영업시간 금,토 16:00 ~ 02:00  \n",
       "..            ...                     ...  \n",
       "645   02-718-8292                     NaN  \n",
       "647   02-722-4511                     NaN  \n",
       "650  02-2232-3777       화~일 14:00 ~ 00:00  \n",
       "651  02-2231-3773                     NaN  \n",
       "652   02-755-0658                     NaN  \n",
       "\n",
       "[198 rows x 10 columns]"
      ]
     },
     "execution_count": 52,
     "metadata": {},
     "output_type": "execute_result"
    }
   ],
   "source": [
    "# 링크주소가 잘 떨어져 나갔나 확인\n",
    "ckdw"
   ]
  },
  {
   "cell_type": "markdown",
   "id": "d965636c",
   "metadata": {},
   "source": [
    "# 모든게 0 인 아마도 폐업된 가게 변수지정"
   ]
  },
  {
   "cell_type": "code",
   "execution_count": 53,
   "id": "7406f7be",
   "metadata": {
    "scrolled": true
   },
   "outputs": [
    {
     "data": {
      "text/plain": [
       "Int64Index([493, 494, 495, 496, 500, 504, 505, 506, 507, 512, 515, 521, 522,\n",
       "            525, 526, 529, 533, 538, 539, 540, 541, 543, 544, 545, 546, 549,\n",
       "            552, 553, 554, 557, 558, 559, 560, 566, 567, 569, 570, 572, 573,\n",
       "            577, 578, 581, 585, 587, 590, 591, 593, 596, 597, 598, 600, 601,\n",
       "            602, 604, 605, 607, 610, 611, 613, 617, 621, 622, 623, 624, 626,\n",
       "            627, 628, 629, 630, 633, 635, 638, 642, 643, 645, 647, 650, 651,\n",
       "            652],\n",
       "           dtype='int64')"
      ]
     },
     "execution_count": 53,
     "metadata": {},
     "output_type": "execute_result"
    }
   ],
   "source": [
    "ckdwm=ckdw[(ckdw['평가점수'] == 0) & (ckdw['리뷰갯수'] == 0) & (ckdw['평가인원'] == 0)].index\n",
    "ckdwm\n",
    "# 맨뒤에 index를 해주어야 드랍할때 index 자체를 삭제할 수 있음"
   ]
  },
  {
   "cell_type": "code",
   "execution_count": 54,
   "id": "fd4812c2",
   "metadata": {
    "scrolled": false
   },
   "outputs": [],
   "source": [
    "# ckdw에서 폐업했을꺼라고 생각되는 가게 즉 0 0 0  인 가게를 삭제\n",
    "ckdw.drop(ckdwm,inplace=True)"
   ]
  },
  {
   "cell_type": "code",
   "execution_count": 55,
   "id": "9773eba0",
   "metadata": {
    "scrolled": true
   },
   "outputs": [
    {
     "data": {
      "text/html": [
       "<div>\n",
       "<style scoped>\n",
       "    .dataframe tbody tr th:only-of-type {\n",
       "        vertical-align: middle;\n",
       "    }\n",
       "\n",
       "    .dataframe tbody tr th {\n",
       "        vertical-align: top;\n",
       "    }\n",
       "\n",
       "    .dataframe thead th {\n",
       "        text-align: right;\n",
       "    }\n",
       "</style>\n",
       "<table border=\"1\" class=\"dataframe\">\n",
       "  <thead>\n",
       "    <tr style=\"text-align: right;\">\n",
       "      <th></th>\n",
       "      <th>업종</th>\n",
       "      <th>가게이름</th>\n",
       "      <th>평가점수</th>\n",
       "      <th>평가인원</th>\n",
       "      <th>리뷰갯수</th>\n",
       "      <th>주소</th>\n",
       "      <th>Latitude</th>\n",
       "      <th>Longitude</th>\n",
       "      <th>전화</th>\n",
       "      <th>영업시간</th>\n",
       "    </tr>\n",
       "  </thead>\n",
       "  <tbody>\n",
       "    <tr>\n",
       "      <th>109</th>\n",
       "      <td>치킨</td>\n",
       "      <td>BHC치킨 당산점</td>\n",
       "      <td>2.8</td>\n",
       "      <td>6</td>\n",
       "      <td>8</td>\n",
       "      <td>서울 영등포구 당산로49길 9</td>\n",
       "      <td>37.535600</td>\n",
       "      <td>126.901933</td>\n",
       "      <td>02-2677-9290</td>\n",
       "      <td>매일 12:00 ~ 24:00</td>\n",
       "    </tr>\n",
       "    <tr>\n",
       "      <th>111</th>\n",
       "      <td>치킨</td>\n",
       "      <td>BHC치킨 명일점</td>\n",
       "      <td>2.5</td>\n",
       "      <td>8</td>\n",
       "      <td>8</td>\n",
       "      <td>서울 강동구 구천면로 502 1층</td>\n",
       "      <td>37.549003</td>\n",
       "      <td>127.153974</td>\n",
       "      <td>02-429-9279</td>\n",
       "      <td>매일 12:00 ~ 24:00</td>\n",
       "    </tr>\n",
       "    <tr>\n",
       "      <th>124</th>\n",
       "      <td>치킨</td>\n",
       "      <td>BBQ 홍은점</td>\n",
       "      <td>1.7</td>\n",
       "      <td>3</td>\n",
       "      <td>8</td>\n",
       "      <td>서울 서대문구 통일로 510 북한산더샵 상가동 지하2층 117-A호</td>\n",
       "      <td>37.592705</td>\n",
       "      <td>126.941677</td>\n",
       "      <td>02-379-4236</td>\n",
       "      <td>매일 10:30 ~ 05:00</td>\n",
       "    </tr>\n",
       "    <tr>\n",
       "      <th>133</th>\n",
       "      <td>치킨</td>\n",
       "      <td>60계 서울아현점</td>\n",
       "      <td>2.8</td>\n",
       "      <td>5</td>\n",
       "      <td>7</td>\n",
       "      <td>서울 마포구 마포대로 173-15 상가동 104호</td>\n",
       "      <td>37.549858</td>\n",
       "      <td>126.954419</td>\n",
       "      <td>02-702-2380</td>\n",
       "      <td>NaN</td>\n",
       "    </tr>\n",
       "    <tr>\n",
       "      <th>134</th>\n",
       "      <td>치킨</td>\n",
       "      <td>더블플레이치킨 염창점</td>\n",
       "      <td>0.0</td>\n",
       "      <td>0</td>\n",
       "      <td>7</td>\n",
       "      <td>서울 강서구 양천로73길 5 삼성하나로아파트상가동 1층</td>\n",
       "      <td>37.551630</td>\n",
       "      <td>126.871714</td>\n",
       "      <td>02-6013-9321</td>\n",
       "      <td>영업시간 금,토 16:00 ~ 02:00</td>\n",
       "    </tr>\n",
       "    <tr>\n",
       "      <th>...</th>\n",
       "      <td>...</td>\n",
       "      <td>...</td>\n",
       "      <td>...</td>\n",
       "      <td>...</td>\n",
       "      <td>...</td>\n",
       "      <td>...</td>\n",
       "      <td>...</td>\n",
       "      <td>...</td>\n",
       "      <td>...</td>\n",
       "      <td>...</td>\n",
       "    </tr>\n",
       "    <tr>\n",
       "      <th>609</th>\n",
       "      <td>치킨</td>\n",
       "      <td>처갓집양념치킨 응봉점</td>\n",
       "      <td>1.0</td>\n",
       "      <td>1</td>\n",
       "      <td>0</td>\n",
       "      <td>서울 성동구 독서당로60길 5 1층</td>\n",
       "      <td>37.549454</td>\n",
       "      <td>127.031153</td>\n",
       "      <td>02-2293-3600</td>\n",
       "      <td>NaN</td>\n",
       "    </tr>\n",
       "    <tr>\n",
       "      <th>612</th>\n",
       "      <td>치킨</td>\n",
       "      <td>BBQ 장위행복점</td>\n",
       "      <td>1.0</td>\n",
       "      <td>2</td>\n",
       "      <td>0</td>\n",
       "      <td>서울 성북구 장위로 64</td>\n",
       "      <td>37.613776</td>\n",
       "      <td>127.043560</td>\n",
       "      <td>02-911-3003</td>\n",
       "      <td>NaN</td>\n",
       "    </tr>\n",
       "    <tr>\n",
       "      <th>614</th>\n",
       "      <td>치킨</td>\n",
       "      <td>치킨하우스</td>\n",
       "      <td>2.0</td>\n",
       "      <td>1</td>\n",
       "      <td>0</td>\n",
       "      <td>서울 종로구 북촌로 6</td>\n",
       "      <td>37.580382</td>\n",
       "      <td>126.986102</td>\n",
       "      <td>02-762-4957</td>\n",
       "      <td>NaN</td>\n",
       "    </tr>\n",
       "    <tr>\n",
       "      <th>618</th>\n",
       "      <td>치킨</td>\n",
       "      <td>호식이두마리치킨 보광점</td>\n",
       "      <td>2.0</td>\n",
       "      <td>2</td>\n",
       "      <td>0</td>\n",
       "      <td>서울 용산구 장문로 90-1 1층</td>\n",
       "      <td>37.525937</td>\n",
       "      <td>126.999562</td>\n",
       "      <td>02-790-5399</td>\n",
       "      <td>NaN</td>\n",
       "    </tr>\n",
       "    <tr>\n",
       "      <th>631</th>\n",
       "      <td>치킨</td>\n",
       "      <td>BHC치킨 종로행복점</td>\n",
       "      <td>2.1</td>\n",
       "      <td>7</td>\n",
       "      <td>0</td>\n",
       "      <td>서울 종로구 율곡로14길 48 1층</td>\n",
       "      <td>37.573999</td>\n",
       "      <td>127.003605</td>\n",
       "      <td>02-742-3300</td>\n",
       "      <td>매일 12:00 ~ 24:00</td>\n",
       "    </tr>\n",
       "  </tbody>\n",
       "</table>\n",
       "<p>119 rows × 10 columns</p>\n",
       "</div>"
      ],
      "text/plain": [
       "     업종          가게이름  평가점수  평가인원  리뷰갯수  \\\n",
       "109  치킨     BHC치킨 당산점   2.8     6     8   \n",
       "111  치킨     BHC치킨 명일점   2.5     8     8   \n",
       "124  치킨       BBQ 홍은점   1.7     3     8   \n",
       "133  치킨     60계 서울아현점   2.8     5     7   \n",
       "134  치킨   더블플레이치킨 염창점   0.0     0     7   \n",
       "..   ..           ...   ...   ...   ...   \n",
       "609  치킨   처갓집양념치킨 응봉점   1.0     1     0   \n",
       "612  치킨     BBQ 장위행복점   1.0     2     0   \n",
       "614  치킨         치킨하우스   2.0     1     0   \n",
       "618  치킨  호식이두마리치킨 보광점   2.0     2     0   \n",
       "631  치킨   BHC치킨 종로행복점   2.1     7     0   \n",
       "\n",
       "                                        주소   Latitude   Longitude  \\\n",
       "109                       서울 영등포구 당산로49길 9  37.535600  126.901933   \n",
       "111                     서울 강동구 구천면로 502 1층  37.549003  127.153974   \n",
       "124  서울 서대문구 통일로 510 북한산더샵 상가동 지하2층 117-A호  37.592705  126.941677   \n",
       "133            서울 마포구 마포대로 173-15 상가동 104호  37.549858  126.954419   \n",
       "134         서울 강서구 양천로73길 5 삼성하나로아파트상가동 1층  37.551630  126.871714   \n",
       "..                                     ...        ...         ...   \n",
       "609                    서울 성동구 독서당로60길 5 1층  37.549454  127.031153   \n",
       "612                          서울 성북구 장위로 64  37.613776  127.043560   \n",
       "614                           서울 종로구 북촌로 6  37.580382  126.986102   \n",
       "618                     서울 용산구 장문로 90-1 1층  37.525937  126.999562   \n",
       "631                    서울 종로구 율곡로14길 48 1층  37.573999  127.003605   \n",
       "\n",
       "               전화                    영업시간  \n",
       "109  02-2677-9290        매일 12:00 ~ 24:00  \n",
       "111   02-429-9279        매일 12:00 ~ 24:00  \n",
       "124   02-379-4236        매일 10:30 ~ 05:00  \n",
       "133   02-702-2380                     NaN  \n",
       "134  02-6013-9321  영업시간 금,토 16:00 ~ 02:00  \n",
       "..            ...                     ...  \n",
       "609  02-2293-3600                     NaN  \n",
       "612   02-911-3003                     NaN  \n",
       "614   02-762-4957                     NaN  \n",
       "618   02-790-5399                     NaN  \n",
       "631   02-742-3300        매일 12:00 ~ 24:00  \n",
       "\n",
       "[119 rows x 10 columns]"
      ]
     },
     "execution_count": 55,
     "metadata": {},
     "output_type": "execute_result"
    }
   ],
   "source": [
    "# 확인\n",
    "ckdw "
   ]
  },
  {
   "cell_type": "markdown",
   "id": "c9e32592",
   "metadata": {},
   "source": [
    "# 최솟값 0,0,0 이 제거된후"
   ]
  },
  {
   "cell_type": "markdown",
   "id": "56d15564",
   "metadata": {},
   "source": [
    "# 평가점수에도 못미치는 가게"
   ]
  },
  {
   "cell_type": "code",
   "execution_count": 56,
   "id": "b8825449",
   "metadata": {
    "scrolled": true
   },
   "outputs": [
    {
     "data": {
      "text/html": [
       "<div>\n",
       "<style scoped>\n",
       "    .dataframe tbody tr th:only-of-type {\n",
       "        vertical-align: middle;\n",
       "    }\n",
       "\n",
       "    .dataframe tbody tr th {\n",
       "        vertical-align: top;\n",
       "    }\n",
       "\n",
       "    .dataframe thead th {\n",
       "        text-align: right;\n",
       "    }\n",
       "</style>\n",
       "<table border=\"1\" class=\"dataframe\">\n",
       "  <thead>\n",
       "    <tr style=\"text-align: right;\">\n",
       "      <th></th>\n",
       "      <th>업종</th>\n",
       "      <th>가게이름</th>\n",
       "      <th>평가점수</th>\n",
       "      <th>평가인원</th>\n",
       "      <th>리뷰갯수</th>\n",
       "      <th>주소</th>\n",
       "      <th>Latitude</th>\n",
       "      <th>Longitude</th>\n",
       "      <th>전화</th>\n",
       "      <th>영업시간</th>\n",
       "    </tr>\n",
       "  </thead>\n",
       "  <tbody>\n",
       "    <tr>\n",
       "      <th>314</th>\n",
       "      <td>치킨</td>\n",
       "      <td>처갓집양념치킨 당산점</td>\n",
       "      <td>1.0</td>\n",
       "      <td>1</td>\n",
       "      <td>2</td>\n",
       "      <td>서울 영등포구 당산로18길 9-2</td>\n",
       "      <td>37.523018</td>\n",
       "      <td>126.897263</td>\n",
       "      <td>02-2678-9282</td>\n",
       "      <td>NaN</td>\n",
       "    </tr>\n",
       "    <tr>\n",
       "      <th>324</th>\n",
       "      <td>치킨</td>\n",
       "      <td>진미통닭</td>\n",
       "      <td>0.0</td>\n",
       "      <td>0</td>\n",
       "      <td>2</td>\n",
       "      <td>서울 종로구 통일로 250</td>\n",
       "      <td>37.574705</td>\n",
       "      <td>126.957927</td>\n",
       "      <td>02-737-1318</td>\n",
       "      <td>NaN</td>\n",
       "    </tr>\n",
       "    <tr>\n",
       "      <th>327</th>\n",
       "      <td>치킨</td>\n",
       "      <td>BBQ 신당점</td>\n",
       "      <td>0.0</td>\n",
       "      <td>0</td>\n",
       "      <td>2</td>\n",
       "      <td>서울 중구 다산로35길 16</td>\n",
       "      <td>37.563824</td>\n",
       "      <td>127.014762</td>\n",
       "      <td>02-2285-2811</td>\n",
       "      <td>NaN</td>\n",
       "    </tr>\n",
       "    <tr>\n",
       "      <th>335</th>\n",
       "      <td>치킨</td>\n",
       "      <td>오븐마루치킨 보문자이점</td>\n",
       "      <td>0.0</td>\n",
       "      <td>0</td>\n",
       "      <td>2</td>\n",
       "      <td>서울 성북구 보문동6가 198-1</td>\n",
       "      <td>37.580629</td>\n",
       "      <td>127.018576</td>\n",
       "      <td>02-921-9245</td>\n",
       "      <td>NaN</td>\n",
       "    </tr>\n",
       "    <tr>\n",
       "      <th>340</th>\n",
       "      <td>치킨</td>\n",
       "      <td>오븐마루 석계역점</td>\n",
       "      <td>1.0</td>\n",
       "      <td>2</td>\n",
       "      <td>2</td>\n",
       "      <td>서울 성북구 한천로78길 61</td>\n",
       "      <td>37.613120</td>\n",
       "      <td>127.064815</td>\n",
       "      <td>02-966-5592</td>\n",
       "      <td>영업시간 매일 15:00 ~ 02:00</td>\n",
       "    </tr>\n",
       "    <tr>\n",
       "      <th>358</th>\n",
       "      <td>치킨</td>\n",
       "      <td>네네치킨 우면점</td>\n",
       "      <td>0.0</td>\n",
       "      <td>0</td>\n",
       "      <td>2</td>\n",
       "      <td>서울 서초구 우면동 712 서초네이처힐2단지상가 102호</td>\n",
       "      <td>37.462854</td>\n",
       "      <td>127.021635</td>\n",
       "      <td>050-7964-1064</td>\n",
       "      <td>매일 11:30 ~ 23:59</td>\n",
       "    </tr>\n",
       "    <tr>\n",
       "      <th>367</th>\n",
       "      <td>치킨</td>\n",
       "      <td>교촌치킨 중화점</td>\n",
       "      <td>1.0</td>\n",
       "      <td>3</td>\n",
       "      <td>2</td>\n",
       "      <td>서울 중랑구 동일로129길 16</td>\n",
       "      <td>37.599537</td>\n",
       "      <td>127.078790</td>\n",
       "      <td>02-433-1992</td>\n",
       "      <td>NaN</td>\n",
       "    </tr>\n",
       "    <tr>\n",
       "      <th>370</th>\n",
       "      <td>치킨</td>\n",
       "      <td>명가통닭 천왕점</td>\n",
       "      <td>0.0</td>\n",
       "      <td>0</td>\n",
       "      <td>2</td>\n",
       "      <td>서울 구로구 천왕로 42 쿠앤하우스 1층</td>\n",
       "      <td>37.481130</td>\n",
       "      <td>126.838972</td>\n",
       "      <td>02-2618-8292</td>\n",
       "      <td>매일 12:00 ~ 23:00</td>\n",
       "    </tr>\n",
       "    <tr>\n",
       "      <th>409</th>\n",
       "      <td>치킨</td>\n",
       "      <td>푸라닭치킨 대림점</td>\n",
       "      <td>1.0</td>\n",
       "      <td>1</td>\n",
       "      <td>1</td>\n",
       "      <td>서울 영등포구 디지털로 408</td>\n",
       "      <td>37.492792</td>\n",
       "      <td>126.903938</td>\n",
       "      <td>NaN</td>\n",
       "      <td>NaN</td>\n",
       "    </tr>\n",
       "    <tr>\n",
       "      <th>418</th>\n",
       "      <td>치킨</td>\n",
       "      <td>처갓집양념치킨 신당점</td>\n",
       "      <td>1.0</td>\n",
       "      <td>1</td>\n",
       "      <td>1</td>\n",
       "      <td>서울 중구 퇴계로74길 21-5 103호</td>\n",
       "      <td>37.564153</td>\n",
       "      <td>127.014930</td>\n",
       "      <td>02-2231-5460</td>\n",
       "      <td>토 11:30 ~ 01:50</td>\n",
       "    </tr>\n",
       "    <tr>\n",
       "      <th>419</th>\n",
       "      <td>치킨</td>\n",
       "      <td>그집숯불바베큐치킨</td>\n",
       "      <td>0.0</td>\n",
       "      <td>0</td>\n",
       "      <td>1</td>\n",
       "      <td>서울 중구 다산로 225</td>\n",
       "      <td>37.563350</td>\n",
       "      <td>127.015326</td>\n",
       "      <td>02-2234-3331</td>\n",
       "      <td>NaN</td>\n",
       "    </tr>\n",
       "    <tr>\n",
       "      <th>424</th>\n",
       "      <td>치킨</td>\n",
       "      <td>바른치킨 북아현점</td>\n",
       "      <td>0.0</td>\n",
       "      <td>0</td>\n",
       "      <td>1</td>\n",
       "      <td>서울 서대문구 북아현동 199-1 신촌힐스테이트상가</td>\n",
       "      <td>37.560046</td>\n",
       "      <td>126.950012</td>\n",
       "      <td>02-392-5852</td>\n",
       "      <td>NaN</td>\n",
       "    </tr>\n",
       "    <tr>\n",
       "      <th>428</th>\n",
       "      <td>치킨</td>\n",
       "      <td>오븐마루 서울역서부점</td>\n",
       "      <td>0.0</td>\n",
       "      <td>0</td>\n",
       "      <td>1</td>\n",
       "      <td>서울 용산구 청파로89길 59 1층</td>\n",
       "      <td>37.553262</td>\n",
       "      <td>126.965605</td>\n",
       "      <td>02-715-9292</td>\n",
       "      <td>영업시간 매일 17:00 ~ 02:00</td>\n",
       "    </tr>\n",
       "    <tr>\n",
       "      <th>430</th>\n",
       "      <td>치킨</td>\n",
       "      <td>미쳐버린파닭 건대세종대점</td>\n",
       "      <td>1.0</td>\n",
       "      <td>1</td>\n",
       "      <td>1</td>\n",
       "      <td>서울 성동구 동일로 241</td>\n",
       "      <td>37.553155</td>\n",
       "      <td>127.069904</td>\n",
       "      <td>02-454-9992</td>\n",
       "      <td>NaN</td>\n",
       "    </tr>\n",
       "    <tr>\n",
       "      <th>436</th>\n",
       "      <td>치킨</td>\n",
       "      <td>지코바 안암점</td>\n",
       "      <td>0.0</td>\n",
       "      <td>0</td>\n",
       "      <td>1</td>\n",
       "      <td>서울 성북구 보문로30가길 20</td>\n",
       "      <td>37.589141</td>\n",
       "      <td>127.020680</td>\n",
       "      <td>02-6408-0031</td>\n",
       "      <td>NaN</td>\n",
       "    </tr>\n",
       "    <tr>\n",
       "      <th>437</th>\n",
       "      <td>치킨</td>\n",
       "      <td>처갓집양념치킨 안암점</td>\n",
       "      <td>0.0</td>\n",
       "      <td>0</td>\n",
       "      <td>1</td>\n",
       "      <td>서울 성북구 고려대로13길 43</td>\n",
       "      <td>37.596792</td>\n",
       "      <td>127.034066</td>\n",
       "      <td>02-929-2975</td>\n",
       "      <td>NaN</td>\n",
       "    </tr>\n",
       "    <tr>\n",
       "      <th>442</th>\n",
       "      <td>치킨</td>\n",
       "      <td>처갓집양념치킨 영등포점</td>\n",
       "      <td>0.0</td>\n",
       "      <td>0</td>\n",
       "      <td>1</td>\n",
       "      <td>서울 영등포구 국회대로54길 10 아크로타워스퀘어 9동 102호</td>\n",
       "      <td>37.524458</td>\n",
       "      <td>126.907660</td>\n",
       "      <td>02-2675-7377</td>\n",
       "      <td>NaN</td>\n",
       "    </tr>\n",
       "    <tr>\n",
       "      <th>445</th>\n",
       "      <td>치킨</td>\n",
       "      <td>양계장집아들 오정동점</td>\n",
       "      <td>0.0</td>\n",
       "      <td>0</td>\n",
       "      <td>1</td>\n",
       "      <td>경기 부천시 산업로 126</td>\n",
       "      <td>37.529713</td>\n",
       "      <td>126.780145</td>\n",
       "      <td>032-677-6699</td>\n",
       "      <td>NaN</td>\n",
       "    </tr>\n",
       "    <tr>\n",
       "      <th>448</th>\n",
       "      <td>치킨</td>\n",
       "      <td>불로만숯불바베큐 원종2점</td>\n",
       "      <td>0.0</td>\n",
       "      <td>0</td>\n",
       "      <td>1</td>\n",
       "      <td>경기 부천시 소사로835번길 7</td>\n",
       "      <td>37.530597</td>\n",
       "      <td>126.804287</td>\n",
       "      <td>032-671-3400</td>\n",
       "      <td>NaN</td>\n",
       "    </tr>\n",
       "    <tr>\n",
       "      <th>451</th>\n",
       "      <td>치킨</td>\n",
       "      <td>둘둘치킨 온수역점</td>\n",
       "      <td>0.0</td>\n",
       "      <td>0</td>\n",
       "      <td>1</td>\n",
       "      <td>서울 구로구 경인로3길 77 세건빌딩 1층 6호</td>\n",
       "      <td>37.491708</td>\n",
       "      <td>126.823570</td>\n",
       "      <td>NaN</td>\n",
       "      <td>NaN</td>\n",
       "    </tr>\n",
       "    <tr>\n",
       "      <th>459</th>\n",
       "      <td>치킨</td>\n",
       "      <td>멕시칸치킨 원효중앙점</td>\n",
       "      <td>0.0</td>\n",
       "      <td>0</td>\n",
       "      <td>1</td>\n",
       "      <td>서울 용산구 새창로 132</td>\n",
       "      <td>37.535624</td>\n",
       "      <td>126.961243</td>\n",
       "      <td>02-706-7890</td>\n",
       "      <td>NaN</td>\n",
       "    </tr>\n",
       "    <tr>\n",
       "      <th>463</th>\n",
       "      <td>치킨</td>\n",
       "      <td>BBQ 동대문점</td>\n",
       "      <td>1.3</td>\n",
       "      <td>3</td>\n",
       "      <td>1</td>\n",
       "      <td>서울 중구 을지로44길 6 1층</td>\n",
       "      <td>37.565835</td>\n",
       "      <td>127.006519</td>\n",
       "      <td>02-2272-0984</td>\n",
       "      <td>NaN</td>\n",
       "    </tr>\n",
       "    <tr>\n",
       "      <th>473</th>\n",
       "      <td>치킨</td>\n",
       "      <td>한국통닭</td>\n",
       "      <td>0.0</td>\n",
       "      <td>0</td>\n",
       "      <td>1</td>\n",
       "      <td>서울 종로구 종로 304</td>\n",
       "      <td>37.571631</td>\n",
       "      <td>127.011524</td>\n",
       "      <td>010-3737-2443</td>\n",
       "      <td>NaN</td>\n",
       "    </tr>\n",
       "    <tr>\n",
       "      <th>481</th>\n",
       "      <td>치킨</td>\n",
       "      <td>서촌강정치킨 경복궁점</td>\n",
       "      <td>0.0</td>\n",
       "      <td>0</td>\n",
       "      <td>1</td>\n",
       "      <td>서울 종로구 자하문로 6</td>\n",
       "      <td>37.578025</td>\n",
       "      <td>126.972800</td>\n",
       "      <td>NaN</td>\n",
       "      <td>NaN</td>\n",
       "    </tr>\n",
       "    <tr>\n",
       "      <th>483</th>\n",
       "      <td>치킨</td>\n",
       "      <td>바렌티나치킨비어 충무본점</td>\n",
       "      <td>0.0</td>\n",
       "      <td>0</td>\n",
       "      <td>1</td>\n",
       "      <td>서울 중구 퇴계로36길 31</td>\n",
       "      <td>37.560481</td>\n",
       "      <td>126.995125</td>\n",
       "      <td>02-2279-7988</td>\n",
       "      <td>NaN</td>\n",
       "    </tr>\n",
       "    <tr>\n",
       "      <th>486</th>\n",
       "      <td>치킨</td>\n",
       "      <td>동근이숯불두마리치킨</td>\n",
       "      <td>0.0</td>\n",
       "      <td>0</td>\n",
       "      <td>1</td>\n",
       "      <td>서울 성북구 오패산로3길 146</td>\n",
       "      <td>37.609480</td>\n",
       "      <td>127.032976</td>\n",
       "      <td>NaN</td>\n",
       "      <td>NaN</td>\n",
       "    </tr>\n",
       "    <tr>\n",
       "      <th>487</th>\n",
       "      <td>치킨</td>\n",
       "      <td>굽네치킨 신수점</td>\n",
       "      <td>1.0</td>\n",
       "      <td>1</td>\n",
       "      <td>1</td>\n",
       "      <td>서울 마포구 토정로18길 11</td>\n",
       "      <td>37.543151</td>\n",
       "      <td>126.935149</td>\n",
       "      <td>02-715-9492</td>\n",
       "      <td>매일 12:00 ~ 24:00</td>\n",
       "    </tr>\n",
       "    <tr>\n",
       "      <th>490</th>\n",
       "      <td>치킨</td>\n",
       "      <td>BHC치킨 휘경점</td>\n",
       "      <td>0.0</td>\n",
       "      <td>0</td>\n",
       "      <td>1</td>\n",
       "      <td>서울 동대문구 한천로 264 1층 107호</td>\n",
       "      <td>37.584264</td>\n",
       "      <td>127.068349</td>\n",
       "      <td>02-6489-1123</td>\n",
       "      <td>NaN</td>\n",
       "    </tr>\n",
       "    <tr>\n",
       "      <th>519</th>\n",
       "      <td>치킨</td>\n",
       "      <td>후라이드참잘하는집 대림점</td>\n",
       "      <td>1.0</td>\n",
       "      <td>2</td>\n",
       "      <td>0</td>\n",
       "      <td>서울 영등포구 디지털로69가길 2 1층</td>\n",
       "      <td>37.494129</td>\n",
       "      <td>126.904113</td>\n",
       "      <td>02-832-2292</td>\n",
       "      <td>NaN</td>\n",
       "    </tr>\n",
       "    <tr>\n",
       "      <th>535</th>\n",
       "      <td>치킨</td>\n",
       "      <td>숯불닭바베큐 성대점</td>\n",
       "      <td>1.0</td>\n",
       "      <td>1</td>\n",
       "      <td>0</td>\n",
       "      <td>서울 종로구 성균관로 56</td>\n",
       "      <td>37.587545</td>\n",
       "      <td>126.996755</td>\n",
       "      <td>02-3673-3273</td>\n",
       "      <td>NaN</td>\n",
       "    </tr>\n",
       "    <tr>\n",
       "      <th>606</th>\n",
       "      <td>치킨</td>\n",
       "      <td>리킨치킨</td>\n",
       "      <td>1.0</td>\n",
       "      <td>1</td>\n",
       "      <td>0</td>\n",
       "      <td>서울 중구 동호로 361</td>\n",
       "      <td>37.566537</td>\n",
       "      <td>127.001887</td>\n",
       "      <td>NaN</td>\n",
       "      <td>NaN</td>\n",
       "    </tr>\n",
       "    <tr>\n",
       "      <th>609</th>\n",
       "      <td>치킨</td>\n",
       "      <td>처갓집양념치킨 응봉점</td>\n",
       "      <td>1.0</td>\n",
       "      <td>1</td>\n",
       "      <td>0</td>\n",
       "      <td>서울 성동구 독서당로60길 5 1층</td>\n",
       "      <td>37.549454</td>\n",
       "      <td>127.031153</td>\n",
       "      <td>02-2293-3600</td>\n",
       "      <td>NaN</td>\n",
       "    </tr>\n",
       "    <tr>\n",
       "      <th>612</th>\n",
       "      <td>치킨</td>\n",
       "      <td>BBQ 장위행복점</td>\n",
       "      <td>1.0</td>\n",
       "      <td>2</td>\n",
       "      <td>0</td>\n",
       "      <td>서울 성북구 장위로 64</td>\n",
       "      <td>37.613776</td>\n",
       "      <td>127.043560</td>\n",
       "      <td>02-911-3003</td>\n",
       "      <td>NaN</td>\n",
       "    </tr>\n",
       "  </tbody>\n",
       "</table>\n",
       "</div>"
      ],
      "text/plain": [
       "     업종           가게이름  평가점수  평가인원  리뷰갯수                                   주소  \\\n",
       "314  치킨    처갓집양념치킨 당산점   1.0     1     2                   서울 영등포구 당산로18길 9-2   \n",
       "324  치킨           진미통닭   0.0     0     2                       서울 종로구 통일로 250   \n",
       "327  치킨        BBQ 신당점   0.0     0     2                      서울 중구 다산로35길 16   \n",
       "335  치킨   오븐마루치킨 보문자이점   0.0     0     2                   서울 성북구 보문동6가 198-1   \n",
       "340  치킨      오븐마루 석계역점   1.0     2     2                     서울 성북구 한천로78길 61   \n",
       "358  치킨       네네치킨 우면점   0.0     0     2      서울 서초구 우면동 712 서초네이처힐2단지상가 102호   \n",
       "367  치킨       교촌치킨 중화점   1.0     3     2                    서울 중랑구 동일로129길 16   \n",
       "370  치킨       명가통닭 천왕점   0.0     0     2               서울 구로구 천왕로 42 쿠앤하우스 1층   \n",
       "409  치킨      푸라닭치킨 대림점   1.0     1     1                     서울 영등포구 디지털로 408   \n",
       "418  치킨    처갓집양념치킨 신당점   1.0     1     1               서울 중구 퇴계로74길 21-5 103호   \n",
       "419  치킨      그집숯불바베큐치킨   0.0     0     1                        서울 중구 다산로 225   \n",
       "424  치킨      바른치킨 북아현점   0.0     0     1         서울 서대문구 북아현동 199-1 신촌힐스테이트상가   \n",
       "428  치킨    오븐마루 서울역서부점   0.0     0     1                  서울 용산구 청파로89길 59 1층   \n",
       "430  치킨  미쳐버린파닭 건대세종대점   1.0     1     1                       서울 성동구 동일로 241   \n",
       "436  치킨        지코바 안암점   0.0     0     1                    서울 성북구 보문로30가길 20   \n",
       "437  치킨    처갓집양념치킨 안암점   0.0     0     1                    서울 성북구 고려대로13길 43   \n",
       "442  치킨   처갓집양념치킨 영등포점   0.0     0     1  서울 영등포구 국회대로54길 10 아크로타워스퀘어 9동 102호   \n",
       "445  치킨    양계장집아들 오정동점   0.0     0     1                       경기 부천시 산업로 126   \n",
       "448  치킨  불로만숯불바베큐 원종2점   0.0     0     1                    경기 부천시 소사로835번길 7   \n",
       "451  치킨      둘둘치킨 온수역점   0.0     0     1           서울 구로구 경인로3길 77 세건빌딩 1층 6호   \n",
       "459  치킨    멕시칸치킨 원효중앙점   0.0     0     1                       서울 용산구 새창로 132   \n",
       "463  치킨       BBQ 동대문점   1.3     3     1                    서울 중구 을지로44길 6 1층   \n",
       "473  치킨           한국통닭   0.0     0     1                        서울 종로구 종로 304   \n",
       "481  치킨    서촌강정치킨 경복궁점   0.0     0     1                        서울 종로구 자하문로 6   \n",
       "483  치킨  바렌티나치킨비어 충무본점   0.0     0     1                      서울 중구 퇴계로36길 31   \n",
       "486  치킨     동근이숯불두마리치킨   0.0     0     1                    서울 성북구 오패산로3길 146   \n",
       "487  치킨       굽네치킨 신수점   1.0     1     1                     서울 마포구 토정로18길 11   \n",
       "490  치킨      BHC치킨 휘경점   0.0     0     1              서울 동대문구 한천로 264 1층 107호   \n",
       "519  치킨  후라이드참잘하는집 대림점   1.0     2     0                서울 영등포구 디지털로69가길 2 1층   \n",
       "535  치킨     숯불닭바베큐 성대점   1.0     1     0                       서울 종로구 성균관로 56   \n",
       "606  치킨           리킨치킨   1.0     1     0                        서울 중구 동호로 361   \n",
       "609  치킨    처갓집양념치킨 응봉점   1.0     1     0                  서울 성동구 독서당로60길 5 1층   \n",
       "612  치킨      BBQ 장위행복점   1.0     2     0                        서울 성북구 장위로 64   \n",
       "\n",
       "      Latitude   Longitude             전화                   영업시간  \n",
       "314  37.523018  126.897263   02-2678-9282                    NaN  \n",
       "324  37.574705  126.957927    02-737-1318                    NaN  \n",
       "327  37.563824  127.014762   02-2285-2811                    NaN  \n",
       "335  37.580629  127.018576    02-921-9245                    NaN  \n",
       "340  37.613120  127.064815    02-966-5592  영업시간 매일 15:00 ~ 02:00  \n",
       "358  37.462854  127.021635  050-7964-1064       매일 11:30 ~ 23:59  \n",
       "367  37.599537  127.078790    02-433-1992                    NaN  \n",
       "370  37.481130  126.838972   02-2618-8292       매일 12:00 ~ 23:00  \n",
       "409  37.492792  126.903938            NaN                    NaN  \n",
       "418  37.564153  127.014930   02-2231-5460        토 11:30 ~ 01:50  \n",
       "419  37.563350  127.015326   02-2234-3331                    NaN  \n",
       "424  37.560046  126.950012    02-392-5852                    NaN  \n",
       "428  37.553262  126.965605    02-715-9292  영업시간 매일 17:00 ~ 02:00  \n",
       "430  37.553155  127.069904    02-454-9992                    NaN  \n",
       "436  37.589141  127.020680   02-6408-0031                    NaN  \n",
       "437  37.596792  127.034066    02-929-2975                    NaN  \n",
       "442  37.524458  126.907660   02-2675-7377                    NaN  \n",
       "445  37.529713  126.780145   032-677-6699                    NaN  \n",
       "448  37.530597  126.804287   032-671-3400                    NaN  \n",
       "451  37.491708  126.823570            NaN                    NaN  \n",
       "459  37.535624  126.961243    02-706-7890                    NaN  \n",
       "463  37.565835  127.006519   02-2272-0984                    NaN  \n",
       "473  37.571631  127.011524  010-3737-2443                    NaN  \n",
       "481  37.578025  126.972800            NaN                    NaN  \n",
       "483  37.560481  126.995125   02-2279-7988                    NaN  \n",
       "486  37.609480  127.032976            NaN                    NaN  \n",
       "487  37.543151  126.935149    02-715-9492       매일 12:00 ~ 24:00  \n",
       "490  37.584264  127.068349   02-6489-1123                    NaN  \n",
       "519  37.494129  126.904113    02-832-2292                    NaN  \n",
       "535  37.587545  126.996755   02-3673-3273                    NaN  \n",
       "606  37.566537  127.001887            NaN                    NaN  \n",
       "609  37.549454  127.031153   02-2293-3600                    NaN  \n",
       "612  37.613776  127.043560    02-911-3003                    NaN  "
      ]
     },
     "execution_count": 56,
     "metadata": {},
     "output_type": "execute_result"
    }
   ],
   "source": [
    "ckdw=ckdw[(ckdw['평가점수'].mean() >= ckdw['평가점수']) & (ckdw['리뷰갯수'].mean() >= ckdw['리뷰갯수']) & (ckdw['평가인원'].mean() >= ckdw['평가인원'])]\n",
    "ckdw"
   ]
  },
  {
   "cell_type": "markdown",
   "id": "49216069",
   "metadata": {},
   "source": [
    "# 필요한 데이터 전처리 완료\n",
    "ckup = 수치상 괜찮은 가게 <br>\n",
    "ckdw = 수치상 별로인 가게"
   ]
  },
  {
   "cell_type": "code",
   "execution_count": 57,
   "id": "558cd682",
   "metadata": {},
   "outputs": [],
   "source": [
    "import matplotlib.pyplot as plt\n",
    "import seaborn as sns\n",
    "import folium as g\n",
    "import warnings\n",
    "warnings.filterwarnings('ignore') #경고메시지가 뜹니다~\n",
    "\n",
    "#from chart_studio import plotly as py\n",
    "import plotly.offline as plot\n",
    "import plotly.express as px\n",
    "import plotly.graph_objs as go\n",
    "import cufflinks as cf\n",
    "\n",
    "from plotly.subplots import make_subplots"
   ]
  },
  {
   "cell_type": "code",
   "execution_count": 68,
   "id": "feba7a2e",
   "metadata": {},
   "outputs": [
    {
     "data": {
      "text/plain": [
       "43"
      ]
     },
     "execution_count": 68,
     "metadata": {},
     "output_type": "execute_result"
    }
   ],
   "source": [
    "len(ckup)"
   ]
  },
  {
   "cell_type": "code",
   "execution_count": 87,
   "id": "1eef76b8",
   "metadata": {},
   "outputs": [
    {
     "data": {
      "text/plain": [
       "Index(['업종', '가게이름', '평가점수', '평가인원', '리뷰갯수', '주소', 'Latitude', 'Longitude',\n",
       "       '전화', '영업시간', '링크주소'],\n",
       "      dtype='object')"
      ]
     },
     "execution_count": 87,
     "metadata": {},
     "output_type": "execute_result"
    }
   ],
   "source": [
    "ck.columns"
   ]
  },
  {
   "cell_type": "markdown",
   "id": "fbf1fd42",
   "metadata": {},
   "source": [
    "# 평가 점수가 좋은곳에 대한 리뷰갯수 비율"
   ]
  },
  {
   "cell_type": "code",
   "execution_count": 84,
   "id": "d5cc7462",
   "metadata": {
    "scrolled": true
   },
   "outputs": [
    {
     "name": "stdout",
     "output_type": "stream",
     "text": [
      "치킨 데이터의 총 리뷰갯수 : 5497\n",
      "평가점수 높은곳 총 리뷰갯수 : 2457\n"
     ]
    },
    {
     "data": {
      "application/vnd.plotly.v1+json": {
       "config": {
        "plotlyServerURL": "https://plot.ly"
       },
       "data": [
        {
         "domain": {
          "x": [
           0,
           1
          ],
          "y": [
           0,
           1
          ]
         },
         "hovertemplate": "가게이름=%{label}<br>리뷰갯수=%{value}<extra></extra>",
         "labels": [
          "한남동한방통닭",
          "서울숲 누룽지통닭구이",
          "양키통닭",
          "장작집",
          "미락치킨 경복궁본점",
          "철인7호치킨 홍대점",
          "네키드윙즈",
          "유진치킨 홍제점",
          "인근주민 상도점",
          "양재닭집",
          "대한맥주집 성신여대직영점",
          "한신치킨",
          "남원통닭",
          "계림원 회기역점",
          "미친닭 종각본점",
          "도담치킨 한양대점",
          "고가네숯불구이통닭",
          "꼬랑치킨",
          "감계무량 당산본점",
          "사이치킨",
          "달가득치킨",
          "굽네치킨 염창역점",
          "참나무숯불통닭",
          "아웃닭 연신내점",
          "한국통닭 종로3호점",
          "삼우치킨",
          "감미치킨",
          "계림원 남영숙대점",
          "이수통닭 본점",
          "다글다글",
          "삼성통닭 본점",
          "바른치킨 종각역점",
          "가본통닭",
          "종구네통닭",
          "금강바비큐치킨",
          "아웃닭 이대점",
          "삼통치킨 안암본점",
          "참나무닭나라",
          "경성치킨",
          "60계 마포역점",
          "치킨인더키친 경복궁역점",
          "계인전",
          "푸라닭치킨 오류점"
         ],
         "legendgroup": "",
         "name": "",
         "showlegend": true,
         "type": "pie",
         "values": [
          299,
          216,
          150,
          122,
          119,
          103,
          83,
          79,
          74,
          73,
          71,
          71,
          62,
          62,
          61,
          60,
          52,
          52,
          50,
          46,
          41,
          34,
          32,
          31,
          31,
          31,
          31,
          30,
          30,
          28,
          27,
          25,
          23,
          23,
          22,
          19,
          16,
          15,
          15,
          14,
          12,
          11,
          11
         ]
        }
       ],
       "layout": {
        "legend": {
         "tracegroupgap": 0
        },
        "template": {
         "data": {
          "bar": [
           {
            "error_x": {
             "color": "#2a3f5f"
            },
            "error_y": {
             "color": "#2a3f5f"
            },
            "marker": {
             "line": {
              "color": "#E5ECF6",
              "width": 0.5
             },
             "pattern": {
              "fillmode": "overlay",
              "size": 10,
              "solidity": 0.2
             }
            },
            "type": "bar"
           }
          ],
          "barpolar": [
           {
            "marker": {
             "line": {
              "color": "#E5ECF6",
              "width": 0.5
             },
             "pattern": {
              "fillmode": "overlay",
              "size": 10,
              "solidity": 0.2
             }
            },
            "type": "barpolar"
           }
          ],
          "carpet": [
           {
            "aaxis": {
             "endlinecolor": "#2a3f5f",
             "gridcolor": "white",
             "linecolor": "white",
             "minorgridcolor": "white",
             "startlinecolor": "#2a3f5f"
            },
            "baxis": {
             "endlinecolor": "#2a3f5f",
             "gridcolor": "white",
             "linecolor": "white",
             "minorgridcolor": "white",
             "startlinecolor": "#2a3f5f"
            },
            "type": "carpet"
           }
          ],
          "choropleth": [
           {
            "colorbar": {
             "outlinewidth": 0,
             "ticks": ""
            },
            "type": "choropleth"
           }
          ],
          "contour": [
           {
            "colorbar": {
             "outlinewidth": 0,
             "ticks": ""
            },
            "colorscale": [
             [
              0,
              "#0d0887"
             ],
             [
              0.1111111111111111,
              "#46039f"
             ],
             [
              0.2222222222222222,
              "#7201a8"
             ],
             [
              0.3333333333333333,
              "#9c179e"
             ],
             [
              0.4444444444444444,
              "#bd3786"
             ],
             [
              0.5555555555555556,
              "#d8576b"
             ],
             [
              0.6666666666666666,
              "#ed7953"
             ],
             [
              0.7777777777777778,
              "#fb9f3a"
             ],
             [
              0.8888888888888888,
              "#fdca26"
             ],
             [
              1,
              "#f0f921"
             ]
            ],
            "type": "contour"
           }
          ],
          "contourcarpet": [
           {
            "colorbar": {
             "outlinewidth": 0,
             "ticks": ""
            },
            "type": "contourcarpet"
           }
          ],
          "heatmap": [
           {
            "colorbar": {
             "outlinewidth": 0,
             "ticks": ""
            },
            "colorscale": [
             [
              0,
              "#0d0887"
             ],
             [
              0.1111111111111111,
              "#46039f"
             ],
             [
              0.2222222222222222,
              "#7201a8"
             ],
             [
              0.3333333333333333,
              "#9c179e"
             ],
             [
              0.4444444444444444,
              "#bd3786"
             ],
             [
              0.5555555555555556,
              "#d8576b"
             ],
             [
              0.6666666666666666,
              "#ed7953"
             ],
             [
              0.7777777777777778,
              "#fb9f3a"
             ],
             [
              0.8888888888888888,
              "#fdca26"
             ],
             [
              1,
              "#f0f921"
             ]
            ],
            "type": "heatmap"
           }
          ],
          "heatmapgl": [
           {
            "colorbar": {
             "outlinewidth": 0,
             "ticks": ""
            },
            "colorscale": [
             [
              0,
              "#0d0887"
             ],
             [
              0.1111111111111111,
              "#46039f"
             ],
             [
              0.2222222222222222,
              "#7201a8"
             ],
             [
              0.3333333333333333,
              "#9c179e"
             ],
             [
              0.4444444444444444,
              "#bd3786"
             ],
             [
              0.5555555555555556,
              "#d8576b"
             ],
             [
              0.6666666666666666,
              "#ed7953"
             ],
             [
              0.7777777777777778,
              "#fb9f3a"
             ],
             [
              0.8888888888888888,
              "#fdca26"
             ],
             [
              1,
              "#f0f921"
             ]
            ],
            "type": "heatmapgl"
           }
          ],
          "histogram": [
           {
            "marker": {
             "pattern": {
              "fillmode": "overlay",
              "size": 10,
              "solidity": 0.2
             }
            },
            "type": "histogram"
           }
          ],
          "histogram2d": [
           {
            "colorbar": {
             "outlinewidth": 0,
             "ticks": ""
            },
            "colorscale": [
             [
              0,
              "#0d0887"
             ],
             [
              0.1111111111111111,
              "#46039f"
             ],
             [
              0.2222222222222222,
              "#7201a8"
             ],
             [
              0.3333333333333333,
              "#9c179e"
             ],
             [
              0.4444444444444444,
              "#bd3786"
             ],
             [
              0.5555555555555556,
              "#d8576b"
             ],
             [
              0.6666666666666666,
              "#ed7953"
             ],
             [
              0.7777777777777778,
              "#fb9f3a"
             ],
             [
              0.8888888888888888,
              "#fdca26"
             ],
             [
              1,
              "#f0f921"
             ]
            ],
            "type": "histogram2d"
           }
          ],
          "histogram2dcontour": [
           {
            "colorbar": {
             "outlinewidth": 0,
             "ticks": ""
            },
            "colorscale": [
             [
              0,
              "#0d0887"
             ],
             [
              0.1111111111111111,
              "#46039f"
             ],
             [
              0.2222222222222222,
              "#7201a8"
             ],
             [
              0.3333333333333333,
              "#9c179e"
             ],
             [
              0.4444444444444444,
              "#bd3786"
             ],
             [
              0.5555555555555556,
              "#d8576b"
             ],
             [
              0.6666666666666666,
              "#ed7953"
             ],
             [
              0.7777777777777778,
              "#fb9f3a"
             ],
             [
              0.8888888888888888,
              "#fdca26"
             ],
             [
              1,
              "#f0f921"
             ]
            ],
            "type": "histogram2dcontour"
           }
          ],
          "mesh3d": [
           {
            "colorbar": {
             "outlinewidth": 0,
             "ticks": ""
            },
            "type": "mesh3d"
           }
          ],
          "parcoords": [
           {
            "line": {
             "colorbar": {
              "outlinewidth": 0,
              "ticks": ""
             }
            },
            "type": "parcoords"
           }
          ],
          "pie": [
           {
            "automargin": true,
            "type": "pie"
           }
          ],
          "scatter": [
           {
            "marker": {
             "colorbar": {
              "outlinewidth": 0,
              "ticks": ""
             }
            },
            "type": "scatter"
           }
          ],
          "scatter3d": [
           {
            "line": {
             "colorbar": {
              "outlinewidth": 0,
              "ticks": ""
             }
            },
            "marker": {
             "colorbar": {
              "outlinewidth": 0,
              "ticks": ""
             }
            },
            "type": "scatter3d"
           }
          ],
          "scattercarpet": [
           {
            "marker": {
             "colorbar": {
              "outlinewidth": 0,
              "ticks": ""
             }
            },
            "type": "scattercarpet"
           }
          ],
          "scattergeo": [
           {
            "marker": {
             "colorbar": {
              "outlinewidth": 0,
              "ticks": ""
             }
            },
            "type": "scattergeo"
           }
          ],
          "scattergl": [
           {
            "marker": {
             "colorbar": {
              "outlinewidth": 0,
              "ticks": ""
             }
            },
            "type": "scattergl"
           }
          ],
          "scattermapbox": [
           {
            "marker": {
             "colorbar": {
              "outlinewidth": 0,
              "ticks": ""
             }
            },
            "type": "scattermapbox"
           }
          ],
          "scatterpolar": [
           {
            "marker": {
             "colorbar": {
              "outlinewidth": 0,
              "ticks": ""
             }
            },
            "type": "scatterpolar"
           }
          ],
          "scatterpolargl": [
           {
            "marker": {
             "colorbar": {
              "outlinewidth": 0,
              "ticks": ""
             }
            },
            "type": "scatterpolargl"
           }
          ],
          "scatterternary": [
           {
            "marker": {
             "colorbar": {
              "outlinewidth": 0,
              "ticks": ""
             }
            },
            "type": "scatterternary"
           }
          ],
          "surface": [
           {
            "colorbar": {
             "outlinewidth": 0,
             "ticks": ""
            },
            "colorscale": [
             [
              0,
              "#0d0887"
             ],
             [
              0.1111111111111111,
              "#46039f"
             ],
             [
              0.2222222222222222,
              "#7201a8"
             ],
             [
              0.3333333333333333,
              "#9c179e"
             ],
             [
              0.4444444444444444,
              "#bd3786"
             ],
             [
              0.5555555555555556,
              "#d8576b"
             ],
             [
              0.6666666666666666,
              "#ed7953"
             ],
             [
              0.7777777777777778,
              "#fb9f3a"
             ],
             [
              0.8888888888888888,
              "#fdca26"
             ],
             [
              1,
              "#f0f921"
             ]
            ],
            "type": "surface"
           }
          ],
          "table": [
           {
            "cells": {
             "fill": {
              "color": "#EBF0F8"
             },
             "line": {
              "color": "white"
             }
            },
            "header": {
             "fill": {
              "color": "#C8D4E3"
             },
             "line": {
              "color": "white"
             }
            },
            "type": "table"
           }
          ]
         },
         "layout": {
          "annotationdefaults": {
           "arrowcolor": "#2a3f5f",
           "arrowhead": 0,
           "arrowwidth": 1
          },
          "autotypenumbers": "strict",
          "coloraxis": {
           "colorbar": {
            "outlinewidth": 0,
            "ticks": ""
           }
          },
          "colorscale": {
           "diverging": [
            [
             0,
             "#8e0152"
            ],
            [
             0.1,
             "#c51b7d"
            ],
            [
             0.2,
             "#de77ae"
            ],
            [
             0.3,
             "#f1b6da"
            ],
            [
             0.4,
             "#fde0ef"
            ],
            [
             0.5,
             "#f7f7f7"
            ],
            [
             0.6,
             "#e6f5d0"
            ],
            [
             0.7,
             "#b8e186"
            ],
            [
             0.8,
             "#7fbc41"
            ],
            [
             0.9,
             "#4d9221"
            ],
            [
             1,
             "#276419"
            ]
           ],
           "sequential": [
            [
             0,
             "#0d0887"
            ],
            [
             0.1111111111111111,
             "#46039f"
            ],
            [
             0.2222222222222222,
             "#7201a8"
            ],
            [
             0.3333333333333333,
             "#9c179e"
            ],
            [
             0.4444444444444444,
             "#bd3786"
            ],
            [
             0.5555555555555556,
             "#d8576b"
            ],
            [
             0.6666666666666666,
             "#ed7953"
            ],
            [
             0.7777777777777778,
             "#fb9f3a"
            ],
            [
             0.8888888888888888,
             "#fdca26"
            ],
            [
             1,
             "#f0f921"
            ]
           ],
           "sequentialminus": [
            [
             0,
             "#0d0887"
            ],
            [
             0.1111111111111111,
             "#46039f"
            ],
            [
             0.2222222222222222,
             "#7201a8"
            ],
            [
             0.3333333333333333,
             "#9c179e"
            ],
            [
             0.4444444444444444,
             "#bd3786"
            ],
            [
             0.5555555555555556,
             "#d8576b"
            ],
            [
             0.6666666666666666,
             "#ed7953"
            ],
            [
             0.7777777777777778,
             "#fb9f3a"
            ],
            [
             0.8888888888888888,
             "#fdca26"
            ],
            [
             1,
             "#f0f921"
            ]
           ]
          },
          "colorway": [
           "#636efa",
           "#EF553B",
           "#00cc96",
           "#ab63fa",
           "#FFA15A",
           "#19d3f3",
           "#FF6692",
           "#B6E880",
           "#FF97FF",
           "#FECB52"
          ],
          "font": {
           "color": "#2a3f5f"
          },
          "geo": {
           "bgcolor": "white",
           "lakecolor": "white",
           "landcolor": "#E5ECF6",
           "showlakes": true,
           "showland": true,
           "subunitcolor": "white"
          },
          "hoverlabel": {
           "align": "left"
          },
          "hovermode": "closest",
          "mapbox": {
           "style": "light"
          },
          "paper_bgcolor": "white",
          "plot_bgcolor": "#E5ECF6",
          "polar": {
           "angularaxis": {
            "gridcolor": "white",
            "linecolor": "white",
            "ticks": ""
           },
           "bgcolor": "#E5ECF6",
           "radialaxis": {
            "gridcolor": "white",
            "linecolor": "white",
            "ticks": ""
           }
          },
          "scene": {
           "xaxis": {
            "backgroundcolor": "#E5ECF6",
            "gridcolor": "white",
            "gridwidth": 2,
            "linecolor": "white",
            "showbackground": true,
            "ticks": "",
            "zerolinecolor": "white"
           },
           "yaxis": {
            "backgroundcolor": "#E5ECF6",
            "gridcolor": "white",
            "gridwidth": 2,
            "linecolor": "white",
            "showbackground": true,
            "ticks": "",
            "zerolinecolor": "white"
           },
           "zaxis": {
            "backgroundcolor": "#E5ECF6",
            "gridcolor": "white",
            "gridwidth": 2,
            "linecolor": "white",
            "showbackground": true,
            "ticks": "",
            "zerolinecolor": "white"
           }
          },
          "shapedefaults": {
           "line": {
            "color": "#2a3f5f"
           }
          },
          "ternary": {
           "aaxis": {
            "gridcolor": "white",
            "linecolor": "white",
            "ticks": ""
           },
           "baxis": {
            "gridcolor": "white",
            "linecolor": "white",
            "ticks": ""
           },
           "bgcolor": "#E5ECF6",
           "caxis": {
            "gridcolor": "white",
            "linecolor": "white",
            "ticks": ""
           }
          },
          "title": {
           "x": 0.05
          },
          "xaxis": {
           "automargin": true,
           "gridcolor": "white",
           "linecolor": "white",
           "ticks": "",
           "title": {
            "standoff": 15
           },
           "zerolinecolor": "white",
           "zerolinewidth": 2
          },
          "yaxis": {
           "automargin": true,
           "gridcolor": "white",
           "linecolor": "white",
           "ticks": "",
           "title": {
            "standoff": 15
           },
           "zerolinecolor": "white",
           "zerolinewidth": 2
          }
         }
        },
        "title": {
         "text": "평가점수 높은곳 리뷰갯수"
        }
       }
      },
      "text/html": [
       "<div>                            <div id=\"4a632dcf-20c2-4e56-af52-c7aa7f29064d\" class=\"plotly-graph-div\" style=\"height:525px; width:100%;\"></div>            <script type=\"text/javascript\">                require([\"plotly\"], function(Plotly) {                    window.PLOTLYENV=window.PLOTLYENV || {};                                    if (document.getElementById(\"4a632dcf-20c2-4e56-af52-c7aa7f29064d\")) {                    Plotly.newPlot(                        \"4a632dcf-20c2-4e56-af52-c7aa7f29064d\",                        [{\"domain\":{\"x\":[0.0,1.0],\"y\":[0.0,1.0]},\"hovertemplate\":\"\\uac00\\uac8c\\uc774\\ub984=%{label}<br>\\ub9ac\\ubdf0\\uac2f\\uc218=%{value}<extra></extra>\",\"labels\":[\"\\ud55c\\ub0a8\\ub3d9\\ud55c\\ubc29\\ud1b5\\ub2ed\",\"\\uc11c\\uc6b8\\uc232 \\ub204\\ub8fd\\uc9c0\\ud1b5\\ub2ed\\uad6c\\uc774\",\"\\uc591\\ud0a4\\ud1b5\\ub2ed\",\"\\uc7a5\\uc791\\uc9d1\",\"\\ubbf8\\ub77d\\uce58\\ud0a8 \\uacbd\\ubcf5\\uad81\\ubcf8\\uc810\",\"\\ucca0\\uc7787\\ud638\\uce58\\ud0a8 \\ud64d\\ub300\\uc810\",\"\\ub124\\ud0a4\\ub4dc\\uc719\\uc988\",\"\\uc720\\uc9c4\\uce58\\ud0a8 \\ud64d\\uc81c\\uc810\",\"\\uc778\\uadfc\\uc8fc\\ubbfc \\uc0c1\\ub3c4\\uc810\",\"\\uc591\\uc7ac\\ub2ed\\uc9d1\",\"\\ub300\\ud55c\\ub9e5\\uc8fc\\uc9d1 \\uc131\\uc2e0\\uc5ec\\ub300\\uc9c1\\uc601\\uc810\",\"\\ud55c\\uc2e0\\uce58\\ud0a8\",\"\\ub0a8\\uc6d0\\ud1b5\\ub2ed\",\"\\uacc4\\ub9bc\\uc6d0 \\ud68c\\uae30\\uc5ed\\uc810\",\"\\ubbf8\\uce5c\\ub2ed \\uc885\\uac01\\ubcf8\\uc810\",\"\\ub3c4\\ub2f4\\uce58\\ud0a8 \\ud55c\\uc591\\ub300\\uc810\",\"\\uace0\\uac00\\ub124\\uc22f\\ubd88\\uad6c\\uc774\\ud1b5\\ub2ed\",\"\\uaf2c\\ub791\\uce58\\ud0a8\",\"\\uac10\\uacc4\\ubb34\\ub7c9 \\ub2f9\\uc0b0\\ubcf8\\uc810\",\"\\uc0ac\\uc774\\uce58\\ud0a8\",\"\\ub2ec\\uac00\\ub4dd\\uce58\\ud0a8\",\"\\uad7d\\ub124\\uce58\\ud0a8 \\uc5fc\\ucc3d\\uc5ed\\uc810\",\"\\ucc38\\ub098\\ubb34\\uc22f\\ubd88\\ud1b5\\ub2ed\",\"\\uc544\\uc6c3\\ub2ed \\uc5f0\\uc2e0\\ub0b4\\uc810\",\"\\ud55c\\uad6d\\ud1b5\\ub2ed \\uc885\\ub85c3\\ud638\\uc810\",\"\\uc0bc\\uc6b0\\uce58\\ud0a8\",\"\\uac10\\ubbf8\\uce58\\ud0a8\",\"\\uacc4\\ub9bc\\uc6d0 \\ub0a8\\uc601\\uc219\\ub300\\uc810\",\"\\uc774\\uc218\\ud1b5\\ub2ed \\ubcf8\\uc810\",\"\\ub2e4\\uae00\\ub2e4\\uae00\",\"\\uc0bc\\uc131\\ud1b5\\ub2ed \\ubcf8\\uc810\",\"\\ubc14\\ub978\\uce58\\ud0a8 \\uc885\\uac01\\uc5ed\\uc810\",\"\\uac00\\ubcf8\\ud1b5\\ub2ed\",\"\\uc885\\uad6c\\ub124\\ud1b5\\ub2ed\",\"\\uae08\\uac15\\ubc14\\ube44\\ud050\\uce58\\ud0a8\",\"\\uc544\\uc6c3\\ub2ed \\uc774\\ub300\\uc810\",\"\\uc0bc\\ud1b5\\uce58\\ud0a8 \\uc548\\uc554\\ubcf8\\uc810\",\"\\ucc38\\ub098\\ubb34\\ub2ed\\ub098\\ub77c\",\"\\uacbd\\uc131\\uce58\\ud0a8\",\"60\\uacc4 \\ub9c8\\ud3ec\\uc5ed\\uc810\",\"\\uce58\\ud0a8\\uc778\\ub354\\ud0a4\\uce5c \\uacbd\\ubcf5\\uad81\\uc5ed\\uc810\",\"\\uacc4\\uc778\\uc804\",\"\\ud478\\ub77c\\ub2ed\\uce58\\ud0a8 \\uc624\\ub958\\uc810\"],\"legendgroup\":\"\",\"name\":\"\",\"showlegend\":true,\"type\":\"pie\",\"values\":[299,216,150,122,119,103,83,79,74,73,71,71,62,62,61,60,52,52,50,46,41,34,32,31,31,31,31,30,30,28,27,25,23,23,22,19,16,15,15,14,12,11,11]}],                        {\"legend\":{\"tracegroupgap\":0},\"template\":{\"data\":{\"bar\":[{\"error_x\":{\"color\":\"#2a3f5f\"},\"error_y\":{\"color\":\"#2a3f5f\"},\"marker\":{\"line\":{\"color\":\"#E5ECF6\",\"width\":0.5},\"pattern\":{\"fillmode\":\"overlay\",\"size\":10,\"solidity\":0.2}},\"type\":\"bar\"}],\"barpolar\":[{\"marker\":{\"line\":{\"color\":\"#E5ECF6\",\"width\":0.5},\"pattern\":{\"fillmode\":\"overlay\",\"size\":10,\"solidity\":0.2}},\"type\":\"barpolar\"}],\"carpet\":[{\"aaxis\":{\"endlinecolor\":\"#2a3f5f\",\"gridcolor\":\"white\",\"linecolor\":\"white\",\"minorgridcolor\":\"white\",\"startlinecolor\":\"#2a3f5f\"},\"baxis\":{\"endlinecolor\":\"#2a3f5f\",\"gridcolor\":\"white\",\"linecolor\":\"white\",\"minorgridcolor\":\"white\",\"startlinecolor\":\"#2a3f5f\"},\"type\":\"carpet\"}],\"choropleth\":[{\"colorbar\":{\"outlinewidth\":0,\"ticks\":\"\"},\"type\":\"choropleth\"}],\"contour\":[{\"colorbar\":{\"outlinewidth\":0,\"ticks\":\"\"},\"colorscale\":[[0.0,\"#0d0887\"],[0.1111111111111111,\"#46039f\"],[0.2222222222222222,\"#7201a8\"],[0.3333333333333333,\"#9c179e\"],[0.4444444444444444,\"#bd3786\"],[0.5555555555555556,\"#d8576b\"],[0.6666666666666666,\"#ed7953\"],[0.7777777777777778,\"#fb9f3a\"],[0.8888888888888888,\"#fdca26\"],[1.0,\"#f0f921\"]],\"type\":\"contour\"}],\"contourcarpet\":[{\"colorbar\":{\"outlinewidth\":0,\"ticks\":\"\"},\"type\":\"contourcarpet\"}],\"heatmap\":[{\"colorbar\":{\"outlinewidth\":0,\"ticks\":\"\"},\"colorscale\":[[0.0,\"#0d0887\"],[0.1111111111111111,\"#46039f\"],[0.2222222222222222,\"#7201a8\"],[0.3333333333333333,\"#9c179e\"],[0.4444444444444444,\"#bd3786\"],[0.5555555555555556,\"#d8576b\"],[0.6666666666666666,\"#ed7953\"],[0.7777777777777778,\"#fb9f3a\"],[0.8888888888888888,\"#fdca26\"],[1.0,\"#f0f921\"]],\"type\":\"heatmap\"}],\"heatmapgl\":[{\"colorbar\":{\"outlinewidth\":0,\"ticks\":\"\"},\"colorscale\":[[0.0,\"#0d0887\"],[0.1111111111111111,\"#46039f\"],[0.2222222222222222,\"#7201a8\"],[0.3333333333333333,\"#9c179e\"],[0.4444444444444444,\"#bd3786\"],[0.5555555555555556,\"#d8576b\"],[0.6666666666666666,\"#ed7953\"],[0.7777777777777778,\"#fb9f3a\"],[0.8888888888888888,\"#fdca26\"],[1.0,\"#f0f921\"]],\"type\":\"heatmapgl\"}],\"histogram\":[{\"marker\":{\"pattern\":{\"fillmode\":\"overlay\",\"size\":10,\"solidity\":0.2}},\"type\":\"histogram\"}],\"histogram2d\":[{\"colorbar\":{\"outlinewidth\":0,\"ticks\":\"\"},\"colorscale\":[[0.0,\"#0d0887\"],[0.1111111111111111,\"#46039f\"],[0.2222222222222222,\"#7201a8\"],[0.3333333333333333,\"#9c179e\"],[0.4444444444444444,\"#bd3786\"],[0.5555555555555556,\"#d8576b\"],[0.6666666666666666,\"#ed7953\"],[0.7777777777777778,\"#fb9f3a\"],[0.8888888888888888,\"#fdca26\"],[1.0,\"#f0f921\"]],\"type\":\"histogram2d\"}],\"histogram2dcontour\":[{\"colorbar\":{\"outlinewidth\":0,\"ticks\":\"\"},\"colorscale\":[[0.0,\"#0d0887\"],[0.1111111111111111,\"#46039f\"],[0.2222222222222222,\"#7201a8\"],[0.3333333333333333,\"#9c179e\"],[0.4444444444444444,\"#bd3786\"],[0.5555555555555556,\"#d8576b\"],[0.6666666666666666,\"#ed7953\"],[0.7777777777777778,\"#fb9f3a\"],[0.8888888888888888,\"#fdca26\"],[1.0,\"#f0f921\"]],\"type\":\"histogram2dcontour\"}],\"mesh3d\":[{\"colorbar\":{\"outlinewidth\":0,\"ticks\":\"\"},\"type\":\"mesh3d\"}],\"parcoords\":[{\"line\":{\"colorbar\":{\"outlinewidth\":0,\"ticks\":\"\"}},\"type\":\"parcoords\"}],\"pie\":[{\"automargin\":true,\"type\":\"pie\"}],\"scatter\":[{\"marker\":{\"colorbar\":{\"outlinewidth\":0,\"ticks\":\"\"}},\"type\":\"scatter\"}],\"scatter3d\":[{\"line\":{\"colorbar\":{\"outlinewidth\":0,\"ticks\":\"\"}},\"marker\":{\"colorbar\":{\"outlinewidth\":0,\"ticks\":\"\"}},\"type\":\"scatter3d\"}],\"scattercarpet\":[{\"marker\":{\"colorbar\":{\"outlinewidth\":0,\"ticks\":\"\"}},\"type\":\"scattercarpet\"}],\"scattergeo\":[{\"marker\":{\"colorbar\":{\"outlinewidth\":0,\"ticks\":\"\"}},\"type\":\"scattergeo\"}],\"scattergl\":[{\"marker\":{\"colorbar\":{\"outlinewidth\":0,\"ticks\":\"\"}},\"type\":\"scattergl\"}],\"scattermapbox\":[{\"marker\":{\"colorbar\":{\"outlinewidth\":0,\"ticks\":\"\"}},\"type\":\"scattermapbox\"}],\"scatterpolar\":[{\"marker\":{\"colorbar\":{\"outlinewidth\":0,\"ticks\":\"\"}},\"type\":\"scatterpolar\"}],\"scatterpolargl\":[{\"marker\":{\"colorbar\":{\"outlinewidth\":0,\"ticks\":\"\"}},\"type\":\"scatterpolargl\"}],\"scatterternary\":[{\"marker\":{\"colorbar\":{\"outlinewidth\":0,\"ticks\":\"\"}},\"type\":\"scatterternary\"}],\"surface\":[{\"colorbar\":{\"outlinewidth\":0,\"ticks\":\"\"},\"colorscale\":[[0.0,\"#0d0887\"],[0.1111111111111111,\"#46039f\"],[0.2222222222222222,\"#7201a8\"],[0.3333333333333333,\"#9c179e\"],[0.4444444444444444,\"#bd3786\"],[0.5555555555555556,\"#d8576b\"],[0.6666666666666666,\"#ed7953\"],[0.7777777777777778,\"#fb9f3a\"],[0.8888888888888888,\"#fdca26\"],[1.0,\"#f0f921\"]],\"type\":\"surface\"}],\"table\":[{\"cells\":{\"fill\":{\"color\":\"#EBF0F8\"},\"line\":{\"color\":\"white\"}},\"header\":{\"fill\":{\"color\":\"#C8D4E3\"},\"line\":{\"color\":\"white\"}},\"type\":\"table\"}]},\"layout\":{\"annotationdefaults\":{\"arrowcolor\":\"#2a3f5f\",\"arrowhead\":0,\"arrowwidth\":1},\"autotypenumbers\":\"strict\",\"coloraxis\":{\"colorbar\":{\"outlinewidth\":0,\"ticks\":\"\"}},\"colorscale\":{\"diverging\":[[0,\"#8e0152\"],[0.1,\"#c51b7d\"],[0.2,\"#de77ae\"],[0.3,\"#f1b6da\"],[0.4,\"#fde0ef\"],[0.5,\"#f7f7f7\"],[0.6,\"#e6f5d0\"],[0.7,\"#b8e186\"],[0.8,\"#7fbc41\"],[0.9,\"#4d9221\"],[1,\"#276419\"]],\"sequential\":[[0.0,\"#0d0887\"],[0.1111111111111111,\"#46039f\"],[0.2222222222222222,\"#7201a8\"],[0.3333333333333333,\"#9c179e\"],[0.4444444444444444,\"#bd3786\"],[0.5555555555555556,\"#d8576b\"],[0.6666666666666666,\"#ed7953\"],[0.7777777777777778,\"#fb9f3a\"],[0.8888888888888888,\"#fdca26\"],[1.0,\"#f0f921\"]],\"sequentialminus\":[[0.0,\"#0d0887\"],[0.1111111111111111,\"#46039f\"],[0.2222222222222222,\"#7201a8\"],[0.3333333333333333,\"#9c179e\"],[0.4444444444444444,\"#bd3786\"],[0.5555555555555556,\"#d8576b\"],[0.6666666666666666,\"#ed7953\"],[0.7777777777777778,\"#fb9f3a\"],[0.8888888888888888,\"#fdca26\"],[1.0,\"#f0f921\"]]},\"colorway\":[\"#636efa\",\"#EF553B\",\"#00cc96\",\"#ab63fa\",\"#FFA15A\",\"#19d3f3\",\"#FF6692\",\"#B6E880\",\"#FF97FF\",\"#FECB52\"],\"font\":{\"color\":\"#2a3f5f\"},\"geo\":{\"bgcolor\":\"white\",\"lakecolor\":\"white\",\"landcolor\":\"#E5ECF6\",\"showlakes\":true,\"showland\":true,\"subunitcolor\":\"white\"},\"hoverlabel\":{\"align\":\"left\"},\"hovermode\":\"closest\",\"mapbox\":{\"style\":\"light\"},\"paper_bgcolor\":\"white\",\"plot_bgcolor\":\"#E5ECF6\",\"polar\":{\"angularaxis\":{\"gridcolor\":\"white\",\"linecolor\":\"white\",\"ticks\":\"\"},\"bgcolor\":\"#E5ECF6\",\"radialaxis\":{\"gridcolor\":\"white\",\"linecolor\":\"white\",\"ticks\":\"\"}},\"scene\":{\"xaxis\":{\"backgroundcolor\":\"#E5ECF6\",\"gridcolor\":\"white\",\"gridwidth\":2,\"linecolor\":\"white\",\"showbackground\":true,\"ticks\":\"\",\"zerolinecolor\":\"white\"},\"yaxis\":{\"backgroundcolor\":\"#E5ECF6\",\"gridcolor\":\"white\",\"gridwidth\":2,\"linecolor\":\"white\",\"showbackground\":true,\"ticks\":\"\",\"zerolinecolor\":\"white\"},\"zaxis\":{\"backgroundcolor\":\"#E5ECF6\",\"gridcolor\":\"white\",\"gridwidth\":2,\"linecolor\":\"white\",\"showbackground\":true,\"ticks\":\"\",\"zerolinecolor\":\"white\"}},\"shapedefaults\":{\"line\":{\"color\":\"#2a3f5f\"}},\"ternary\":{\"aaxis\":{\"gridcolor\":\"white\",\"linecolor\":\"white\",\"ticks\":\"\"},\"baxis\":{\"gridcolor\":\"white\",\"linecolor\":\"white\",\"ticks\":\"\"},\"bgcolor\":\"#E5ECF6\",\"caxis\":{\"gridcolor\":\"white\",\"linecolor\":\"white\",\"ticks\":\"\"}},\"title\":{\"x\":0.05},\"xaxis\":{\"automargin\":true,\"gridcolor\":\"white\",\"linecolor\":\"white\",\"ticks\":\"\",\"title\":{\"standoff\":15},\"zerolinecolor\":\"white\",\"zerolinewidth\":2},\"yaxis\":{\"automargin\":true,\"gridcolor\":\"white\",\"linecolor\":\"white\",\"ticks\":\"\",\"title\":{\"standoff\":15},\"zerolinecolor\":\"white\",\"zerolinewidth\":2}}},\"title\":{\"text\":\"\\ud3c9\\uac00\\uc810\\uc218 \\ub192\\uc740\\uacf3 \\ub9ac\\ubdf0\\uac2f\\uc218\"}},                        {\"responsive\": true}                    ).then(function(){\n",
       "                            \n",
       "var gd = document.getElementById('4a632dcf-20c2-4e56-af52-c7aa7f29064d');\n",
       "var x = new MutationObserver(function (mutations, observer) {{\n",
       "        var display = window.getComputedStyle(gd).display;\n",
       "        if (!display || display === 'none') {{\n",
       "            console.log([gd, 'removed!']);\n",
       "            Plotly.purge(gd);\n",
       "            observer.disconnect();\n",
       "        }}\n",
       "}});\n",
       "\n",
       "// Listen for the removal of the full notebook cells\n",
       "var notebookContainer = gd.closest('#notebook-container');\n",
       "if (notebookContainer) {{\n",
       "    x.observe(notebookContainer, {childList: true});\n",
       "}}\n",
       "\n",
       "// Listen for the clearing of the current output cell\n",
       "var outputEl = gd.closest('.output');\n",
       "if (outputEl) {{\n",
       "    x.observe(outputEl, {childList: true});\n",
       "}}\n",
       "\n",
       "                        })                };                });            </script>        </div>"
      ]
     },
     "metadata": {},
     "output_type": "display_data"
    }
   ],
   "source": [
    "print(\"치킨 데이터의 총 리뷰갯수 :\",ck['리뷰갯수'].sum())\n",
    "print(\"평가점수 높은곳 총 리뷰갯수 :\",ckup['리뷰갯수'].sum())\n",
    "px.pie(ckup,values='리뷰갯수',names='가게이름',title=\"평가점수 높은곳 리뷰갯수\")\n"
   ]
  },
  {
   "cell_type": "markdown",
   "id": "a1974374",
   "metadata": {},
   "source": [
    "# 평가 점수가 낮은곳에 대한 리뷰갯수 비율"
   ]
  },
  {
   "cell_type": "code",
   "execution_count": 85,
   "id": "9f686b42",
   "metadata": {
    "scrolled": true
   },
   "outputs": [
    {
     "name": "stdout",
     "output_type": "stream",
     "text": [
      "치킨 데이터의 총 리뷰갯수 : 5497\n",
      "평가점수 낮은곳 총 리뷰갯수 : 36\n"
     ]
    },
    {
     "data": {
      "application/vnd.plotly.v1+json": {
       "config": {
        "plotlyServerURL": "https://plot.ly"
       },
       "data": [
        {
         "domain": {
          "x": [
           0,
           1
          ],
          "y": [
           0,
           1
          ]
         },
         "hovertemplate": "가게이름=%{label}<br>리뷰갯수=%{value}<extra></extra>",
         "labels": [
          "처갓집양념치킨 당산점",
          "진미통닭",
          "BBQ 신당점",
          "오븐마루치킨 보문자이점",
          "오븐마루 석계역점",
          "네네치킨 우면점",
          "교촌치킨 중화점",
          "명가통닭 천왕점",
          "푸라닭치킨 대림점",
          "처갓집양념치킨 신당점",
          "그집숯불바베큐치킨",
          "바른치킨 북아현점",
          "오븐마루 서울역서부점",
          "미쳐버린파닭 건대세종대점",
          "지코바 안암점",
          "처갓집양념치킨 안암점",
          "처갓집양념치킨 영등포점",
          "양계장집아들 오정동점",
          "불로만숯불바베큐 원종2점",
          "둘둘치킨 온수역점",
          "멕시칸치킨 원효중앙점",
          "BBQ 동대문점",
          "한국통닭",
          "서촌강정치킨 경복궁점",
          "바렌티나치킨비어 충무본점",
          "동근이숯불두마리치킨",
          "굽네치킨 신수점",
          "BHC치킨 휘경점",
          "후라이드참잘하는집 대림점",
          "숯불닭바베큐 성대점",
          "리킨치킨",
          "처갓집양념치킨 응봉점",
          "BBQ 장위행복점"
         ],
         "legendgroup": "",
         "name": "",
         "showlegend": true,
         "type": "pie",
         "values": [
          2,
          2,
          2,
          2,
          2,
          2,
          2,
          2,
          1,
          1,
          1,
          1,
          1,
          1,
          1,
          1,
          1,
          1,
          1,
          1,
          1,
          1,
          1,
          1,
          1,
          1,
          1,
          1,
          0,
          0,
          0,
          0,
          0
         ]
        }
       ],
       "layout": {
        "legend": {
         "tracegroupgap": 0
        },
        "template": {
         "data": {
          "bar": [
           {
            "error_x": {
             "color": "#2a3f5f"
            },
            "error_y": {
             "color": "#2a3f5f"
            },
            "marker": {
             "line": {
              "color": "#E5ECF6",
              "width": 0.5
             },
             "pattern": {
              "fillmode": "overlay",
              "size": 10,
              "solidity": 0.2
             }
            },
            "type": "bar"
           }
          ],
          "barpolar": [
           {
            "marker": {
             "line": {
              "color": "#E5ECF6",
              "width": 0.5
             },
             "pattern": {
              "fillmode": "overlay",
              "size": 10,
              "solidity": 0.2
             }
            },
            "type": "barpolar"
           }
          ],
          "carpet": [
           {
            "aaxis": {
             "endlinecolor": "#2a3f5f",
             "gridcolor": "white",
             "linecolor": "white",
             "minorgridcolor": "white",
             "startlinecolor": "#2a3f5f"
            },
            "baxis": {
             "endlinecolor": "#2a3f5f",
             "gridcolor": "white",
             "linecolor": "white",
             "minorgridcolor": "white",
             "startlinecolor": "#2a3f5f"
            },
            "type": "carpet"
           }
          ],
          "choropleth": [
           {
            "colorbar": {
             "outlinewidth": 0,
             "ticks": ""
            },
            "type": "choropleth"
           }
          ],
          "contour": [
           {
            "colorbar": {
             "outlinewidth": 0,
             "ticks": ""
            },
            "colorscale": [
             [
              0,
              "#0d0887"
             ],
             [
              0.1111111111111111,
              "#46039f"
             ],
             [
              0.2222222222222222,
              "#7201a8"
             ],
             [
              0.3333333333333333,
              "#9c179e"
             ],
             [
              0.4444444444444444,
              "#bd3786"
             ],
             [
              0.5555555555555556,
              "#d8576b"
             ],
             [
              0.6666666666666666,
              "#ed7953"
             ],
             [
              0.7777777777777778,
              "#fb9f3a"
             ],
             [
              0.8888888888888888,
              "#fdca26"
             ],
             [
              1,
              "#f0f921"
             ]
            ],
            "type": "contour"
           }
          ],
          "contourcarpet": [
           {
            "colorbar": {
             "outlinewidth": 0,
             "ticks": ""
            },
            "type": "contourcarpet"
           }
          ],
          "heatmap": [
           {
            "colorbar": {
             "outlinewidth": 0,
             "ticks": ""
            },
            "colorscale": [
             [
              0,
              "#0d0887"
             ],
             [
              0.1111111111111111,
              "#46039f"
             ],
             [
              0.2222222222222222,
              "#7201a8"
             ],
             [
              0.3333333333333333,
              "#9c179e"
             ],
             [
              0.4444444444444444,
              "#bd3786"
             ],
             [
              0.5555555555555556,
              "#d8576b"
             ],
             [
              0.6666666666666666,
              "#ed7953"
             ],
             [
              0.7777777777777778,
              "#fb9f3a"
             ],
             [
              0.8888888888888888,
              "#fdca26"
             ],
             [
              1,
              "#f0f921"
             ]
            ],
            "type": "heatmap"
           }
          ],
          "heatmapgl": [
           {
            "colorbar": {
             "outlinewidth": 0,
             "ticks": ""
            },
            "colorscale": [
             [
              0,
              "#0d0887"
             ],
             [
              0.1111111111111111,
              "#46039f"
             ],
             [
              0.2222222222222222,
              "#7201a8"
             ],
             [
              0.3333333333333333,
              "#9c179e"
             ],
             [
              0.4444444444444444,
              "#bd3786"
             ],
             [
              0.5555555555555556,
              "#d8576b"
             ],
             [
              0.6666666666666666,
              "#ed7953"
             ],
             [
              0.7777777777777778,
              "#fb9f3a"
             ],
             [
              0.8888888888888888,
              "#fdca26"
             ],
             [
              1,
              "#f0f921"
             ]
            ],
            "type": "heatmapgl"
           }
          ],
          "histogram": [
           {
            "marker": {
             "pattern": {
              "fillmode": "overlay",
              "size": 10,
              "solidity": 0.2
             }
            },
            "type": "histogram"
           }
          ],
          "histogram2d": [
           {
            "colorbar": {
             "outlinewidth": 0,
             "ticks": ""
            },
            "colorscale": [
             [
              0,
              "#0d0887"
             ],
             [
              0.1111111111111111,
              "#46039f"
             ],
             [
              0.2222222222222222,
              "#7201a8"
             ],
             [
              0.3333333333333333,
              "#9c179e"
             ],
             [
              0.4444444444444444,
              "#bd3786"
             ],
             [
              0.5555555555555556,
              "#d8576b"
             ],
             [
              0.6666666666666666,
              "#ed7953"
             ],
             [
              0.7777777777777778,
              "#fb9f3a"
             ],
             [
              0.8888888888888888,
              "#fdca26"
             ],
             [
              1,
              "#f0f921"
             ]
            ],
            "type": "histogram2d"
           }
          ],
          "histogram2dcontour": [
           {
            "colorbar": {
             "outlinewidth": 0,
             "ticks": ""
            },
            "colorscale": [
             [
              0,
              "#0d0887"
             ],
             [
              0.1111111111111111,
              "#46039f"
             ],
             [
              0.2222222222222222,
              "#7201a8"
             ],
             [
              0.3333333333333333,
              "#9c179e"
             ],
             [
              0.4444444444444444,
              "#bd3786"
             ],
             [
              0.5555555555555556,
              "#d8576b"
             ],
             [
              0.6666666666666666,
              "#ed7953"
             ],
             [
              0.7777777777777778,
              "#fb9f3a"
             ],
             [
              0.8888888888888888,
              "#fdca26"
             ],
             [
              1,
              "#f0f921"
             ]
            ],
            "type": "histogram2dcontour"
           }
          ],
          "mesh3d": [
           {
            "colorbar": {
             "outlinewidth": 0,
             "ticks": ""
            },
            "type": "mesh3d"
           }
          ],
          "parcoords": [
           {
            "line": {
             "colorbar": {
              "outlinewidth": 0,
              "ticks": ""
             }
            },
            "type": "parcoords"
           }
          ],
          "pie": [
           {
            "automargin": true,
            "type": "pie"
           }
          ],
          "scatter": [
           {
            "marker": {
             "colorbar": {
              "outlinewidth": 0,
              "ticks": ""
             }
            },
            "type": "scatter"
           }
          ],
          "scatter3d": [
           {
            "line": {
             "colorbar": {
              "outlinewidth": 0,
              "ticks": ""
             }
            },
            "marker": {
             "colorbar": {
              "outlinewidth": 0,
              "ticks": ""
             }
            },
            "type": "scatter3d"
           }
          ],
          "scattercarpet": [
           {
            "marker": {
             "colorbar": {
              "outlinewidth": 0,
              "ticks": ""
             }
            },
            "type": "scattercarpet"
           }
          ],
          "scattergeo": [
           {
            "marker": {
             "colorbar": {
              "outlinewidth": 0,
              "ticks": ""
             }
            },
            "type": "scattergeo"
           }
          ],
          "scattergl": [
           {
            "marker": {
             "colorbar": {
              "outlinewidth": 0,
              "ticks": ""
             }
            },
            "type": "scattergl"
           }
          ],
          "scattermapbox": [
           {
            "marker": {
             "colorbar": {
              "outlinewidth": 0,
              "ticks": ""
             }
            },
            "type": "scattermapbox"
           }
          ],
          "scatterpolar": [
           {
            "marker": {
             "colorbar": {
              "outlinewidth": 0,
              "ticks": ""
             }
            },
            "type": "scatterpolar"
           }
          ],
          "scatterpolargl": [
           {
            "marker": {
             "colorbar": {
              "outlinewidth": 0,
              "ticks": ""
             }
            },
            "type": "scatterpolargl"
           }
          ],
          "scatterternary": [
           {
            "marker": {
             "colorbar": {
              "outlinewidth": 0,
              "ticks": ""
             }
            },
            "type": "scatterternary"
           }
          ],
          "surface": [
           {
            "colorbar": {
             "outlinewidth": 0,
             "ticks": ""
            },
            "colorscale": [
             [
              0,
              "#0d0887"
             ],
             [
              0.1111111111111111,
              "#46039f"
             ],
             [
              0.2222222222222222,
              "#7201a8"
             ],
             [
              0.3333333333333333,
              "#9c179e"
             ],
             [
              0.4444444444444444,
              "#bd3786"
             ],
             [
              0.5555555555555556,
              "#d8576b"
             ],
             [
              0.6666666666666666,
              "#ed7953"
             ],
             [
              0.7777777777777778,
              "#fb9f3a"
             ],
             [
              0.8888888888888888,
              "#fdca26"
             ],
             [
              1,
              "#f0f921"
             ]
            ],
            "type": "surface"
           }
          ],
          "table": [
           {
            "cells": {
             "fill": {
              "color": "#EBF0F8"
             },
             "line": {
              "color": "white"
             }
            },
            "header": {
             "fill": {
              "color": "#C8D4E3"
             },
             "line": {
              "color": "white"
             }
            },
            "type": "table"
           }
          ]
         },
         "layout": {
          "annotationdefaults": {
           "arrowcolor": "#2a3f5f",
           "arrowhead": 0,
           "arrowwidth": 1
          },
          "autotypenumbers": "strict",
          "coloraxis": {
           "colorbar": {
            "outlinewidth": 0,
            "ticks": ""
           }
          },
          "colorscale": {
           "diverging": [
            [
             0,
             "#8e0152"
            ],
            [
             0.1,
             "#c51b7d"
            ],
            [
             0.2,
             "#de77ae"
            ],
            [
             0.3,
             "#f1b6da"
            ],
            [
             0.4,
             "#fde0ef"
            ],
            [
             0.5,
             "#f7f7f7"
            ],
            [
             0.6,
             "#e6f5d0"
            ],
            [
             0.7,
             "#b8e186"
            ],
            [
             0.8,
             "#7fbc41"
            ],
            [
             0.9,
             "#4d9221"
            ],
            [
             1,
             "#276419"
            ]
           ],
           "sequential": [
            [
             0,
             "#0d0887"
            ],
            [
             0.1111111111111111,
             "#46039f"
            ],
            [
             0.2222222222222222,
             "#7201a8"
            ],
            [
             0.3333333333333333,
             "#9c179e"
            ],
            [
             0.4444444444444444,
             "#bd3786"
            ],
            [
             0.5555555555555556,
             "#d8576b"
            ],
            [
             0.6666666666666666,
             "#ed7953"
            ],
            [
             0.7777777777777778,
             "#fb9f3a"
            ],
            [
             0.8888888888888888,
             "#fdca26"
            ],
            [
             1,
             "#f0f921"
            ]
           ],
           "sequentialminus": [
            [
             0,
             "#0d0887"
            ],
            [
             0.1111111111111111,
             "#46039f"
            ],
            [
             0.2222222222222222,
             "#7201a8"
            ],
            [
             0.3333333333333333,
             "#9c179e"
            ],
            [
             0.4444444444444444,
             "#bd3786"
            ],
            [
             0.5555555555555556,
             "#d8576b"
            ],
            [
             0.6666666666666666,
             "#ed7953"
            ],
            [
             0.7777777777777778,
             "#fb9f3a"
            ],
            [
             0.8888888888888888,
             "#fdca26"
            ],
            [
             1,
             "#f0f921"
            ]
           ]
          },
          "colorway": [
           "#636efa",
           "#EF553B",
           "#00cc96",
           "#ab63fa",
           "#FFA15A",
           "#19d3f3",
           "#FF6692",
           "#B6E880",
           "#FF97FF",
           "#FECB52"
          ],
          "font": {
           "color": "#2a3f5f"
          },
          "geo": {
           "bgcolor": "white",
           "lakecolor": "white",
           "landcolor": "#E5ECF6",
           "showlakes": true,
           "showland": true,
           "subunitcolor": "white"
          },
          "hoverlabel": {
           "align": "left"
          },
          "hovermode": "closest",
          "mapbox": {
           "style": "light"
          },
          "paper_bgcolor": "white",
          "plot_bgcolor": "#E5ECF6",
          "polar": {
           "angularaxis": {
            "gridcolor": "white",
            "linecolor": "white",
            "ticks": ""
           },
           "bgcolor": "#E5ECF6",
           "radialaxis": {
            "gridcolor": "white",
            "linecolor": "white",
            "ticks": ""
           }
          },
          "scene": {
           "xaxis": {
            "backgroundcolor": "#E5ECF6",
            "gridcolor": "white",
            "gridwidth": 2,
            "linecolor": "white",
            "showbackground": true,
            "ticks": "",
            "zerolinecolor": "white"
           },
           "yaxis": {
            "backgroundcolor": "#E5ECF6",
            "gridcolor": "white",
            "gridwidth": 2,
            "linecolor": "white",
            "showbackground": true,
            "ticks": "",
            "zerolinecolor": "white"
           },
           "zaxis": {
            "backgroundcolor": "#E5ECF6",
            "gridcolor": "white",
            "gridwidth": 2,
            "linecolor": "white",
            "showbackground": true,
            "ticks": "",
            "zerolinecolor": "white"
           }
          },
          "shapedefaults": {
           "line": {
            "color": "#2a3f5f"
           }
          },
          "ternary": {
           "aaxis": {
            "gridcolor": "white",
            "linecolor": "white",
            "ticks": ""
           },
           "baxis": {
            "gridcolor": "white",
            "linecolor": "white",
            "ticks": ""
           },
           "bgcolor": "#E5ECF6",
           "caxis": {
            "gridcolor": "white",
            "linecolor": "white",
            "ticks": ""
           }
          },
          "title": {
           "x": 0.05
          },
          "xaxis": {
           "automargin": true,
           "gridcolor": "white",
           "linecolor": "white",
           "ticks": "",
           "title": {
            "standoff": 15
           },
           "zerolinecolor": "white",
           "zerolinewidth": 2
          },
          "yaxis": {
           "automargin": true,
           "gridcolor": "white",
           "linecolor": "white",
           "ticks": "",
           "title": {
            "standoff": 15
           },
           "zerolinecolor": "white",
           "zerolinewidth": 2
          }
         }
        },
        "title": {
         "text": "평가점수 낮은곳 리뷰갯수"
        }
       }
      },
      "text/html": [
       "<div>                            <div id=\"21bc7532-fc0f-4b65-aa28-aef9f044f9c1\" class=\"plotly-graph-div\" style=\"height:525px; width:100%;\"></div>            <script type=\"text/javascript\">                require([\"plotly\"], function(Plotly) {                    window.PLOTLYENV=window.PLOTLYENV || {};                                    if (document.getElementById(\"21bc7532-fc0f-4b65-aa28-aef9f044f9c1\")) {                    Plotly.newPlot(                        \"21bc7532-fc0f-4b65-aa28-aef9f044f9c1\",                        [{\"domain\":{\"x\":[0.0,1.0],\"y\":[0.0,1.0]},\"hovertemplate\":\"\\uac00\\uac8c\\uc774\\ub984=%{label}<br>\\ub9ac\\ubdf0\\uac2f\\uc218=%{value}<extra></extra>\",\"labels\":[\"\\ucc98\\uac13\\uc9d1\\uc591\\ub150\\uce58\\ud0a8 \\ub2f9\\uc0b0\\uc810\",\"\\uc9c4\\ubbf8\\ud1b5\\ub2ed\",\"BBQ \\uc2e0\\ub2f9\\uc810\",\"\\uc624\\ube10\\ub9c8\\ub8e8\\uce58\\ud0a8 \\ubcf4\\ubb38\\uc790\\uc774\\uc810\",\"\\uc624\\ube10\\ub9c8\\ub8e8 \\uc11d\\uacc4\\uc5ed\\uc810\",\"\\ub124\\ub124\\uce58\\ud0a8 \\uc6b0\\uba74\\uc810\",\"\\uad50\\ucd0c\\uce58\\ud0a8 \\uc911\\ud654\\uc810\",\"\\uba85\\uac00\\ud1b5\\ub2ed \\ucc9c\\uc655\\uc810\",\"\\ud478\\ub77c\\ub2ed\\uce58\\ud0a8 \\ub300\\ub9bc\\uc810\",\"\\ucc98\\uac13\\uc9d1\\uc591\\ub150\\uce58\\ud0a8 \\uc2e0\\ub2f9\\uc810\",\"\\uadf8\\uc9d1\\uc22f\\ubd88\\ubc14\\ubca0\\ud050\\uce58\\ud0a8\",\"\\ubc14\\ub978\\uce58\\ud0a8 \\ubd81\\uc544\\ud604\\uc810\",\"\\uc624\\ube10\\ub9c8\\ub8e8 \\uc11c\\uc6b8\\uc5ed\\uc11c\\ubd80\\uc810\",\"\\ubbf8\\uccd0\\ubc84\\ub9b0\\ud30c\\ub2ed \\uac74\\ub300\\uc138\\uc885\\ub300\\uc810\",\"\\uc9c0\\ucf54\\ubc14 \\uc548\\uc554\\uc810\",\"\\ucc98\\uac13\\uc9d1\\uc591\\ub150\\uce58\\ud0a8 \\uc548\\uc554\\uc810\",\"\\ucc98\\uac13\\uc9d1\\uc591\\ub150\\uce58\\ud0a8 \\uc601\\ub4f1\\ud3ec\\uc810\",\"\\uc591\\uacc4\\uc7a5\\uc9d1\\uc544\\ub4e4 \\uc624\\uc815\\ub3d9\\uc810\",\"\\ubd88\\ub85c\\ub9cc\\uc22f\\ubd88\\ubc14\\ubca0\\ud050 \\uc6d0\\uc8852\\uc810\",\"\\ub458\\ub458\\uce58\\ud0a8 \\uc628\\uc218\\uc5ed\\uc810\",\"\\uba55\\uc2dc\\uce78\\uce58\\ud0a8 \\uc6d0\\ud6a8\\uc911\\uc559\\uc810\",\"BBQ \\ub3d9\\ub300\\ubb38\\uc810\",\"\\ud55c\\uad6d\\ud1b5\\ub2ed\",\"\\uc11c\\ucd0c\\uac15\\uc815\\uce58\\ud0a8 \\uacbd\\ubcf5\\uad81\\uc810\",\"\\ubc14\\ub80c\\ud2f0\\ub098\\uce58\\ud0a8\\ube44\\uc5b4 \\ucda9\\ubb34\\ubcf8\\uc810\",\"\\ub3d9\\uadfc\\uc774\\uc22f\\ubd88\\ub450\\ub9c8\\ub9ac\\uce58\\ud0a8\",\"\\uad7d\\ub124\\uce58\\ud0a8 \\uc2e0\\uc218\\uc810\",\"BHC\\uce58\\ud0a8 \\ud718\\uacbd\\uc810\",\"\\ud6c4\\ub77c\\uc774\\ub4dc\\ucc38\\uc798\\ud558\\ub294\\uc9d1 \\ub300\\ub9bc\\uc810\",\"\\uc22f\\ubd88\\ub2ed\\ubc14\\ubca0\\ud050 \\uc131\\ub300\\uc810\",\"\\ub9ac\\ud0a8\\uce58\\ud0a8\",\"\\ucc98\\uac13\\uc9d1\\uc591\\ub150\\uce58\\ud0a8 \\uc751\\ubd09\\uc810\",\"BBQ \\uc7a5\\uc704\\ud589\\ubcf5\\uc810\"],\"legendgroup\":\"\",\"name\":\"\",\"showlegend\":true,\"type\":\"pie\",\"values\":[2,2,2,2,2,2,2,2,1,1,1,1,1,1,1,1,1,1,1,1,1,1,1,1,1,1,1,1,0,0,0,0,0]}],                        {\"legend\":{\"tracegroupgap\":0},\"template\":{\"data\":{\"bar\":[{\"error_x\":{\"color\":\"#2a3f5f\"},\"error_y\":{\"color\":\"#2a3f5f\"},\"marker\":{\"line\":{\"color\":\"#E5ECF6\",\"width\":0.5},\"pattern\":{\"fillmode\":\"overlay\",\"size\":10,\"solidity\":0.2}},\"type\":\"bar\"}],\"barpolar\":[{\"marker\":{\"line\":{\"color\":\"#E5ECF6\",\"width\":0.5},\"pattern\":{\"fillmode\":\"overlay\",\"size\":10,\"solidity\":0.2}},\"type\":\"barpolar\"}],\"carpet\":[{\"aaxis\":{\"endlinecolor\":\"#2a3f5f\",\"gridcolor\":\"white\",\"linecolor\":\"white\",\"minorgridcolor\":\"white\",\"startlinecolor\":\"#2a3f5f\"},\"baxis\":{\"endlinecolor\":\"#2a3f5f\",\"gridcolor\":\"white\",\"linecolor\":\"white\",\"minorgridcolor\":\"white\",\"startlinecolor\":\"#2a3f5f\"},\"type\":\"carpet\"}],\"choropleth\":[{\"colorbar\":{\"outlinewidth\":0,\"ticks\":\"\"},\"type\":\"choropleth\"}],\"contour\":[{\"colorbar\":{\"outlinewidth\":0,\"ticks\":\"\"},\"colorscale\":[[0.0,\"#0d0887\"],[0.1111111111111111,\"#46039f\"],[0.2222222222222222,\"#7201a8\"],[0.3333333333333333,\"#9c179e\"],[0.4444444444444444,\"#bd3786\"],[0.5555555555555556,\"#d8576b\"],[0.6666666666666666,\"#ed7953\"],[0.7777777777777778,\"#fb9f3a\"],[0.8888888888888888,\"#fdca26\"],[1.0,\"#f0f921\"]],\"type\":\"contour\"}],\"contourcarpet\":[{\"colorbar\":{\"outlinewidth\":0,\"ticks\":\"\"},\"type\":\"contourcarpet\"}],\"heatmap\":[{\"colorbar\":{\"outlinewidth\":0,\"ticks\":\"\"},\"colorscale\":[[0.0,\"#0d0887\"],[0.1111111111111111,\"#46039f\"],[0.2222222222222222,\"#7201a8\"],[0.3333333333333333,\"#9c179e\"],[0.4444444444444444,\"#bd3786\"],[0.5555555555555556,\"#d8576b\"],[0.6666666666666666,\"#ed7953\"],[0.7777777777777778,\"#fb9f3a\"],[0.8888888888888888,\"#fdca26\"],[1.0,\"#f0f921\"]],\"type\":\"heatmap\"}],\"heatmapgl\":[{\"colorbar\":{\"outlinewidth\":0,\"ticks\":\"\"},\"colorscale\":[[0.0,\"#0d0887\"],[0.1111111111111111,\"#46039f\"],[0.2222222222222222,\"#7201a8\"],[0.3333333333333333,\"#9c179e\"],[0.4444444444444444,\"#bd3786\"],[0.5555555555555556,\"#d8576b\"],[0.6666666666666666,\"#ed7953\"],[0.7777777777777778,\"#fb9f3a\"],[0.8888888888888888,\"#fdca26\"],[1.0,\"#f0f921\"]],\"type\":\"heatmapgl\"}],\"histogram\":[{\"marker\":{\"pattern\":{\"fillmode\":\"overlay\",\"size\":10,\"solidity\":0.2}},\"type\":\"histogram\"}],\"histogram2d\":[{\"colorbar\":{\"outlinewidth\":0,\"ticks\":\"\"},\"colorscale\":[[0.0,\"#0d0887\"],[0.1111111111111111,\"#46039f\"],[0.2222222222222222,\"#7201a8\"],[0.3333333333333333,\"#9c179e\"],[0.4444444444444444,\"#bd3786\"],[0.5555555555555556,\"#d8576b\"],[0.6666666666666666,\"#ed7953\"],[0.7777777777777778,\"#fb9f3a\"],[0.8888888888888888,\"#fdca26\"],[1.0,\"#f0f921\"]],\"type\":\"histogram2d\"}],\"histogram2dcontour\":[{\"colorbar\":{\"outlinewidth\":0,\"ticks\":\"\"},\"colorscale\":[[0.0,\"#0d0887\"],[0.1111111111111111,\"#46039f\"],[0.2222222222222222,\"#7201a8\"],[0.3333333333333333,\"#9c179e\"],[0.4444444444444444,\"#bd3786\"],[0.5555555555555556,\"#d8576b\"],[0.6666666666666666,\"#ed7953\"],[0.7777777777777778,\"#fb9f3a\"],[0.8888888888888888,\"#fdca26\"],[1.0,\"#f0f921\"]],\"type\":\"histogram2dcontour\"}],\"mesh3d\":[{\"colorbar\":{\"outlinewidth\":0,\"ticks\":\"\"},\"type\":\"mesh3d\"}],\"parcoords\":[{\"line\":{\"colorbar\":{\"outlinewidth\":0,\"ticks\":\"\"}},\"type\":\"parcoords\"}],\"pie\":[{\"automargin\":true,\"type\":\"pie\"}],\"scatter\":[{\"marker\":{\"colorbar\":{\"outlinewidth\":0,\"ticks\":\"\"}},\"type\":\"scatter\"}],\"scatter3d\":[{\"line\":{\"colorbar\":{\"outlinewidth\":0,\"ticks\":\"\"}},\"marker\":{\"colorbar\":{\"outlinewidth\":0,\"ticks\":\"\"}},\"type\":\"scatter3d\"}],\"scattercarpet\":[{\"marker\":{\"colorbar\":{\"outlinewidth\":0,\"ticks\":\"\"}},\"type\":\"scattercarpet\"}],\"scattergeo\":[{\"marker\":{\"colorbar\":{\"outlinewidth\":0,\"ticks\":\"\"}},\"type\":\"scattergeo\"}],\"scattergl\":[{\"marker\":{\"colorbar\":{\"outlinewidth\":0,\"ticks\":\"\"}},\"type\":\"scattergl\"}],\"scattermapbox\":[{\"marker\":{\"colorbar\":{\"outlinewidth\":0,\"ticks\":\"\"}},\"type\":\"scattermapbox\"}],\"scatterpolar\":[{\"marker\":{\"colorbar\":{\"outlinewidth\":0,\"ticks\":\"\"}},\"type\":\"scatterpolar\"}],\"scatterpolargl\":[{\"marker\":{\"colorbar\":{\"outlinewidth\":0,\"ticks\":\"\"}},\"type\":\"scatterpolargl\"}],\"scatterternary\":[{\"marker\":{\"colorbar\":{\"outlinewidth\":0,\"ticks\":\"\"}},\"type\":\"scatterternary\"}],\"surface\":[{\"colorbar\":{\"outlinewidth\":0,\"ticks\":\"\"},\"colorscale\":[[0.0,\"#0d0887\"],[0.1111111111111111,\"#46039f\"],[0.2222222222222222,\"#7201a8\"],[0.3333333333333333,\"#9c179e\"],[0.4444444444444444,\"#bd3786\"],[0.5555555555555556,\"#d8576b\"],[0.6666666666666666,\"#ed7953\"],[0.7777777777777778,\"#fb9f3a\"],[0.8888888888888888,\"#fdca26\"],[1.0,\"#f0f921\"]],\"type\":\"surface\"}],\"table\":[{\"cells\":{\"fill\":{\"color\":\"#EBF0F8\"},\"line\":{\"color\":\"white\"}},\"header\":{\"fill\":{\"color\":\"#C8D4E3\"},\"line\":{\"color\":\"white\"}},\"type\":\"table\"}]},\"layout\":{\"annotationdefaults\":{\"arrowcolor\":\"#2a3f5f\",\"arrowhead\":0,\"arrowwidth\":1},\"autotypenumbers\":\"strict\",\"coloraxis\":{\"colorbar\":{\"outlinewidth\":0,\"ticks\":\"\"}},\"colorscale\":{\"diverging\":[[0,\"#8e0152\"],[0.1,\"#c51b7d\"],[0.2,\"#de77ae\"],[0.3,\"#f1b6da\"],[0.4,\"#fde0ef\"],[0.5,\"#f7f7f7\"],[0.6,\"#e6f5d0\"],[0.7,\"#b8e186\"],[0.8,\"#7fbc41\"],[0.9,\"#4d9221\"],[1,\"#276419\"]],\"sequential\":[[0.0,\"#0d0887\"],[0.1111111111111111,\"#46039f\"],[0.2222222222222222,\"#7201a8\"],[0.3333333333333333,\"#9c179e\"],[0.4444444444444444,\"#bd3786\"],[0.5555555555555556,\"#d8576b\"],[0.6666666666666666,\"#ed7953\"],[0.7777777777777778,\"#fb9f3a\"],[0.8888888888888888,\"#fdca26\"],[1.0,\"#f0f921\"]],\"sequentialminus\":[[0.0,\"#0d0887\"],[0.1111111111111111,\"#46039f\"],[0.2222222222222222,\"#7201a8\"],[0.3333333333333333,\"#9c179e\"],[0.4444444444444444,\"#bd3786\"],[0.5555555555555556,\"#d8576b\"],[0.6666666666666666,\"#ed7953\"],[0.7777777777777778,\"#fb9f3a\"],[0.8888888888888888,\"#fdca26\"],[1.0,\"#f0f921\"]]},\"colorway\":[\"#636efa\",\"#EF553B\",\"#00cc96\",\"#ab63fa\",\"#FFA15A\",\"#19d3f3\",\"#FF6692\",\"#B6E880\",\"#FF97FF\",\"#FECB52\"],\"font\":{\"color\":\"#2a3f5f\"},\"geo\":{\"bgcolor\":\"white\",\"lakecolor\":\"white\",\"landcolor\":\"#E5ECF6\",\"showlakes\":true,\"showland\":true,\"subunitcolor\":\"white\"},\"hoverlabel\":{\"align\":\"left\"},\"hovermode\":\"closest\",\"mapbox\":{\"style\":\"light\"},\"paper_bgcolor\":\"white\",\"plot_bgcolor\":\"#E5ECF6\",\"polar\":{\"angularaxis\":{\"gridcolor\":\"white\",\"linecolor\":\"white\",\"ticks\":\"\"},\"bgcolor\":\"#E5ECF6\",\"radialaxis\":{\"gridcolor\":\"white\",\"linecolor\":\"white\",\"ticks\":\"\"}},\"scene\":{\"xaxis\":{\"backgroundcolor\":\"#E5ECF6\",\"gridcolor\":\"white\",\"gridwidth\":2,\"linecolor\":\"white\",\"showbackground\":true,\"ticks\":\"\",\"zerolinecolor\":\"white\"},\"yaxis\":{\"backgroundcolor\":\"#E5ECF6\",\"gridcolor\":\"white\",\"gridwidth\":2,\"linecolor\":\"white\",\"showbackground\":true,\"ticks\":\"\",\"zerolinecolor\":\"white\"},\"zaxis\":{\"backgroundcolor\":\"#E5ECF6\",\"gridcolor\":\"white\",\"gridwidth\":2,\"linecolor\":\"white\",\"showbackground\":true,\"ticks\":\"\",\"zerolinecolor\":\"white\"}},\"shapedefaults\":{\"line\":{\"color\":\"#2a3f5f\"}},\"ternary\":{\"aaxis\":{\"gridcolor\":\"white\",\"linecolor\":\"white\",\"ticks\":\"\"},\"baxis\":{\"gridcolor\":\"white\",\"linecolor\":\"white\",\"ticks\":\"\"},\"bgcolor\":\"#E5ECF6\",\"caxis\":{\"gridcolor\":\"white\",\"linecolor\":\"white\",\"ticks\":\"\"}},\"title\":{\"x\":0.05},\"xaxis\":{\"automargin\":true,\"gridcolor\":\"white\",\"linecolor\":\"white\",\"ticks\":\"\",\"title\":{\"standoff\":15},\"zerolinecolor\":\"white\",\"zerolinewidth\":2},\"yaxis\":{\"automargin\":true,\"gridcolor\":\"white\",\"linecolor\":\"white\",\"ticks\":\"\",\"title\":{\"standoff\":15},\"zerolinecolor\":\"white\",\"zerolinewidth\":2}}},\"title\":{\"text\":\"\\ud3c9\\uac00\\uc810\\uc218 \\ub0ae\\uc740\\uacf3 \\ub9ac\\ubdf0\\uac2f\\uc218\"}},                        {\"responsive\": true}                    ).then(function(){\n",
       "                            \n",
       "var gd = document.getElementById('21bc7532-fc0f-4b65-aa28-aef9f044f9c1');\n",
       "var x = new MutationObserver(function (mutations, observer) {{\n",
       "        var display = window.getComputedStyle(gd).display;\n",
       "        if (!display || display === 'none') {{\n",
       "            console.log([gd, 'removed!']);\n",
       "            Plotly.purge(gd);\n",
       "            observer.disconnect();\n",
       "        }}\n",
       "}});\n",
       "\n",
       "// Listen for the removal of the full notebook cells\n",
       "var notebookContainer = gd.closest('#notebook-container');\n",
       "if (notebookContainer) {{\n",
       "    x.observe(notebookContainer, {childList: true});\n",
       "}}\n",
       "\n",
       "// Listen for the clearing of the current output cell\n",
       "var outputEl = gd.closest('.output');\n",
       "if (outputEl) {{\n",
       "    x.observe(outputEl, {childList: true});\n",
       "}}\n",
       "\n",
       "                        })                };                });            </script>        </div>"
      ]
     },
     "metadata": {},
     "output_type": "display_data"
    }
   ],
   "source": [
    "print(\"치킨 데이터의 총 리뷰갯수 :\",ck['리뷰갯수'].sum())\n",
    "print(\"평가점수 낮은곳 총 리뷰갯수 :\",ckdw['리뷰갯수'].sum())\n",
    "px.pie(ckdw,values='리뷰갯수',names='가게이름',title=\"평가점수 낮은곳 리뷰갯수\")"
   ]
  },
  {
   "cell_type": "markdown",
   "id": "edce1b4f",
   "metadata": {},
   "source": [
    "# 평가점수에 대한 선그래프"
   ]
  },
  {
   "cell_type": "code",
   "execution_count": 104,
   "id": "31dc25cf",
   "metadata": {},
   "outputs": [
    {
     "data": {
      "application/vnd.plotly.v1+json": {
       "config": {
        "plotlyServerURL": "https://plot.ly"
       },
       "data": [
        {
         "mode": "lines+markers",
         "name": "평점높은곳 리뷰갯수",
         "type": "scatter",
         "x": [
          "한남동한방통닭",
          "서울숲 누룽지통닭구이",
          "양키통닭",
          "장작집",
          "미락치킨 경복궁본점",
          "철인7호치킨 홍대점",
          "네키드윙즈",
          "유진치킨 홍제점",
          "인근주민 상도점",
          "양재닭집",
          "대한맥주집 성신여대직영점",
          "한신치킨",
          "남원통닭",
          "계림원 회기역점",
          "미친닭 종각본점",
          "도담치킨 한양대점",
          "고가네숯불구이통닭",
          "꼬랑치킨",
          "감계무량 당산본점",
          "사이치킨",
          "달가득치킨",
          "굽네치킨 염창역점",
          "참나무숯불통닭",
          "아웃닭 연신내점",
          "한국통닭 종로3호점",
          "삼우치킨",
          "감미치킨",
          "계림원 남영숙대점",
          "이수통닭 본점",
          "다글다글",
          "삼성통닭 본점",
          "바른치킨 종각역점",
          "가본통닭",
          "종구네통닭",
          "금강바비큐치킨",
          "아웃닭 이대점",
          "삼통치킨 안암본점",
          "참나무닭나라",
          "경성치킨",
          "60계 마포역점",
          "치킨인더키친 경복궁역점",
          "계인전",
          "푸라닭치킨 오류점"
         ],
         "y": [
          299,
          216,
          150,
          122,
          119,
          103,
          83,
          79,
          74,
          73,
          71,
          71,
          62,
          62,
          61,
          60,
          52,
          52,
          50,
          46,
          41,
          34,
          32,
          31,
          31,
          31,
          31,
          30,
          30,
          28,
          27,
          25,
          23,
          23,
          22,
          19,
          16,
          15,
          15,
          14,
          12,
          11,
          11
         ]
        },
        {
         "mode": "lines+markers",
         "name": "평점낮은곳 리뷰갯수",
         "type": "scatter",
         "x": [
          "처갓집양념치킨 당산점",
          "진미통닭",
          "BBQ 신당점",
          "오븐마루치킨 보문자이점",
          "오븐마루 석계역점",
          "네네치킨 우면점",
          "교촌치킨 중화점",
          "명가통닭 천왕점",
          "푸라닭치킨 대림점",
          "처갓집양념치킨 신당점",
          "그집숯불바베큐치킨",
          "바른치킨 북아현점",
          "오븐마루 서울역서부점",
          "미쳐버린파닭 건대세종대점",
          "지코바 안암점",
          "처갓집양념치킨 안암점",
          "처갓집양념치킨 영등포점",
          "양계장집아들 오정동점",
          "불로만숯불바베큐 원종2점",
          "둘둘치킨 온수역점",
          "멕시칸치킨 원효중앙점",
          "BBQ 동대문점",
          "한국통닭",
          "서촌강정치킨 경복궁점",
          "바렌티나치킨비어 충무본점",
          "동근이숯불두마리치킨",
          "굽네치킨 신수점",
          "BHC치킨 휘경점",
          "후라이드참잘하는집 대림점",
          "숯불닭바베큐 성대점",
          "리킨치킨",
          "처갓집양념치킨 응봉점",
          "BBQ 장위행복점"
         ],
         "y": [
          2,
          2,
          2,
          2,
          2,
          2,
          2,
          2,
          1,
          1,
          1,
          1,
          1,
          1,
          1,
          1,
          1,
          1,
          1,
          1,
          1,
          1,
          1,
          1,
          1,
          1,
          1,
          1,
          0,
          0,
          0,
          0,
          0
         ]
        }
       ],
       "layout": {
        "template": {
         "data": {
          "bar": [
           {
            "error_x": {
             "color": "#2a3f5f"
            },
            "error_y": {
             "color": "#2a3f5f"
            },
            "marker": {
             "line": {
              "color": "#E5ECF6",
              "width": 0.5
             },
             "pattern": {
              "fillmode": "overlay",
              "size": 10,
              "solidity": 0.2
             }
            },
            "type": "bar"
           }
          ],
          "barpolar": [
           {
            "marker": {
             "line": {
              "color": "#E5ECF6",
              "width": 0.5
             },
             "pattern": {
              "fillmode": "overlay",
              "size": 10,
              "solidity": 0.2
             }
            },
            "type": "barpolar"
           }
          ],
          "carpet": [
           {
            "aaxis": {
             "endlinecolor": "#2a3f5f",
             "gridcolor": "white",
             "linecolor": "white",
             "minorgridcolor": "white",
             "startlinecolor": "#2a3f5f"
            },
            "baxis": {
             "endlinecolor": "#2a3f5f",
             "gridcolor": "white",
             "linecolor": "white",
             "minorgridcolor": "white",
             "startlinecolor": "#2a3f5f"
            },
            "type": "carpet"
           }
          ],
          "choropleth": [
           {
            "colorbar": {
             "outlinewidth": 0,
             "ticks": ""
            },
            "type": "choropleth"
           }
          ],
          "contour": [
           {
            "colorbar": {
             "outlinewidth": 0,
             "ticks": ""
            },
            "colorscale": [
             [
              0,
              "#0d0887"
             ],
             [
              0.1111111111111111,
              "#46039f"
             ],
             [
              0.2222222222222222,
              "#7201a8"
             ],
             [
              0.3333333333333333,
              "#9c179e"
             ],
             [
              0.4444444444444444,
              "#bd3786"
             ],
             [
              0.5555555555555556,
              "#d8576b"
             ],
             [
              0.6666666666666666,
              "#ed7953"
             ],
             [
              0.7777777777777778,
              "#fb9f3a"
             ],
             [
              0.8888888888888888,
              "#fdca26"
             ],
             [
              1,
              "#f0f921"
             ]
            ],
            "type": "contour"
           }
          ],
          "contourcarpet": [
           {
            "colorbar": {
             "outlinewidth": 0,
             "ticks": ""
            },
            "type": "contourcarpet"
           }
          ],
          "heatmap": [
           {
            "colorbar": {
             "outlinewidth": 0,
             "ticks": ""
            },
            "colorscale": [
             [
              0,
              "#0d0887"
             ],
             [
              0.1111111111111111,
              "#46039f"
             ],
             [
              0.2222222222222222,
              "#7201a8"
             ],
             [
              0.3333333333333333,
              "#9c179e"
             ],
             [
              0.4444444444444444,
              "#bd3786"
             ],
             [
              0.5555555555555556,
              "#d8576b"
             ],
             [
              0.6666666666666666,
              "#ed7953"
             ],
             [
              0.7777777777777778,
              "#fb9f3a"
             ],
             [
              0.8888888888888888,
              "#fdca26"
             ],
             [
              1,
              "#f0f921"
             ]
            ],
            "type": "heatmap"
           }
          ],
          "heatmapgl": [
           {
            "colorbar": {
             "outlinewidth": 0,
             "ticks": ""
            },
            "colorscale": [
             [
              0,
              "#0d0887"
             ],
             [
              0.1111111111111111,
              "#46039f"
             ],
             [
              0.2222222222222222,
              "#7201a8"
             ],
             [
              0.3333333333333333,
              "#9c179e"
             ],
             [
              0.4444444444444444,
              "#bd3786"
             ],
             [
              0.5555555555555556,
              "#d8576b"
             ],
             [
              0.6666666666666666,
              "#ed7953"
             ],
             [
              0.7777777777777778,
              "#fb9f3a"
             ],
             [
              0.8888888888888888,
              "#fdca26"
             ],
             [
              1,
              "#f0f921"
             ]
            ],
            "type": "heatmapgl"
           }
          ],
          "histogram": [
           {
            "marker": {
             "pattern": {
              "fillmode": "overlay",
              "size": 10,
              "solidity": 0.2
             }
            },
            "type": "histogram"
           }
          ],
          "histogram2d": [
           {
            "colorbar": {
             "outlinewidth": 0,
             "ticks": ""
            },
            "colorscale": [
             [
              0,
              "#0d0887"
             ],
             [
              0.1111111111111111,
              "#46039f"
             ],
             [
              0.2222222222222222,
              "#7201a8"
             ],
             [
              0.3333333333333333,
              "#9c179e"
             ],
             [
              0.4444444444444444,
              "#bd3786"
             ],
             [
              0.5555555555555556,
              "#d8576b"
             ],
             [
              0.6666666666666666,
              "#ed7953"
             ],
             [
              0.7777777777777778,
              "#fb9f3a"
             ],
             [
              0.8888888888888888,
              "#fdca26"
             ],
             [
              1,
              "#f0f921"
             ]
            ],
            "type": "histogram2d"
           }
          ],
          "histogram2dcontour": [
           {
            "colorbar": {
             "outlinewidth": 0,
             "ticks": ""
            },
            "colorscale": [
             [
              0,
              "#0d0887"
             ],
             [
              0.1111111111111111,
              "#46039f"
             ],
             [
              0.2222222222222222,
              "#7201a8"
             ],
             [
              0.3333333333333333,
              "#9c179e"
             ],
             [
              0.4444444444444444,
              "#bd3786"
             ],
             [
              0.5555555555555556,
              "#d8576b"
             ],
             [
              0.6666666666666666,
              "#ed7953"
             ],
             [
              0.7777777777777778,
              "#fb9f3a"
             ],
             [
              0.8888888888888888,
              "#fdca26"
             ],
             [
              1,
              "#f0f921"
             ]
            ],
            "type": "histogram2dcontour"
           }
          ],
          "mesh3d": [
           {
            "colorbar": {
             "outlinewidth": 0,
             "ticks": ""
            },
            "type": "mesh3d"
           }
          ],
          "parcoords": [
           {
            "line": {
             "colorbar": {
              "outlinewidth": 0,
              "ticks": ""
             }
            },
            "type": "parcoords"
           }
          ],
          "pie": [
           {
            "automargin": true,
            "type": "pie"
           }
          ],
          "scatter": [
           {
            "marker": {
             "colorbar": {
              "outlinewidth": 0,
              "ticks": ""
             }
            },
            "type": "scatter"
           }
          ],
          "scatter3d": [
           {
            "line": {
             "colorbar": {
              "outlinewidth": 0,
              "ticks": ""
             }
            },
            "marker": {
             "colorbar": {
              "outlinewidth": 0,
              "ticks": ""
             }
            },
            "type": "scatter3d"
           }
          ],
          "scattercarpet": [
           {
            "marker": {
             "colorbar": {
              "outlinewidth": 0,
              "ticks": ""
             }
            },
            "type": "scattercarpet"
           }
          ],
          "scattergeo": [
           {
            "marker": {
             "colorbar": {
              "outlinewidth": 0,
              "ticks": ""
             }
            },
            "type": "scattergeo"
           }
          ],
          "scattergl": [
           {
            "marker": {
             "colorbar": {
              "outlinewidth": 0,
              "ticks": ""
             }
            },
            "type": "scattergl"
           }
          ],
          "scattermapbox": [
           {
            "marker": {
             "colorbar": {
              "outlinewidth": 0,
              "ticks": ""
             }
            },
            "type": "scattermapbox"
           }
          ],
          "scatterpolar": [
           {
            "marker": {
             "colorbar": {
              "outlinewidth": 0,
              "ticks": ""
             }
            },
            "type": "scatterpolar"
           }
          ],
          "scatterpolargl": [
           {
            "marker": {
             "colorbar": {
              "outlinewidth": 0,
              "ticks": ""
             }
            },
            "type": "scatterpolargl"
           }
          ],
          "scatterternary": [
           {
            "marker": {
             "colorbar": {
              "outlinewidth": 0,
              "ticks": ""
             }
            },
            "type": "scatterternary"
           }
          ],
          "surface": [
           {
            "colorbar": {
             "outlinewidth": 0,
             "ticks": ""
            },
            "colorscale": [
             [
              0,
              "#0d0887"
             ],
             [
              0.1111111111111111,
              "#46039f"
             ],
             [
              0.2222222222222222,
              "#7201a8"
             ],
             [
              0.3333333333333333,
              "#9c179e"
             ],
             [
              0.4444444444444444,
              "#bd3786"
             ],
             [
              0.5555555555555556,
              "#d8576b"
             ],
             [
              0.6666666666666666,
              "#ed7953"
             ],
             [
              0.7777777777777778,
              "#fb9f3a"
             ],
             [
              0.8888888888888888,
              "#fdca26"
             ],
             [
              1,
              "#f0f921"
             ]
            ],
            "type": "surface"
           }
          ],
          "table": [
           {
            "cells": {
             "fill": {
              "color": "#EBF0F8"
             },
             "line": {
              "color": "white"
             }
            },
            "header": {
             "fill": {
              "color": "#C8D4E3"
             },
             "line": {
              "color": "white"
             }
            },
            "type": "table"
           }
          ]
         },
         "layout": {
          "annotationdefaults": {
           "arrowcolor": "#2a3f5f",
           "arrowhead": 0,
           "arrowwidth": 1
          },
          "autotypenumbers": "strict",
          "coloraxis": {
           "colorbar": {
            "outlinewidth": 0,
            "ticks": ""
           }
          },
          "colorscale": {
           "diverging": [
            [
             0,
             "#8e0152"
            ],
            [
             0.1,
             "#c51b7d"
            ],
            [
             0.2,
             "#de77ae"
            ],
            [
             0.3,
             "#f1b6da"
            ],
            [
             0.4,
             "#fde0ef"
            ],
            [
             0.5,
             "#f7f7f7"
            ],
            [
             0.6,
             "#e6f5d0"
            ],
            [
             0.7,
             "#b8e186"
            ],
            [
             0.8,
             "#7fbc41"
            ],
            [
             0.9,
             "#4d9221"
            ],
            [
             1,
             "#276419"
            ]
           ],
           "sequential": [
            [
             0,
             "#0d0887"
            ],
            [
             0.1111111111111111,
             "#46039f"
            ],
            [
             0.2222222222222222,
             "#7201a8"
            ],
            [
             0.3333333333333333,
             "#9c179e"
            ],
            [
             0.4444444444444444,
             "#bd3786"
            ],
            [
             0.5555555555555556,
             "#d8576b"
            ],
            [
             0.6666666666666666,
             "#ed7953"
            ],
            [
             0.7777777777777778,
             "#fb9f3a"
            ],
            [
             0.8888888888888888,
             "#fdca26"
            ],
            [
             1,
             "#f0f921"
            ]
           ],
           "sequentialminus": [
            [
             0,
             "#0d0887"
            ],
            [
             0.1111111111111111,
             "#46039f"
            ],
            [
             0.2222222222222222,
             "#7201a8"
            ],
            [
             0.3333333333333333,
             "#9c179e"
            ],
            [
             0.4444444444444444,
             "#bd3786"
            ],
            [
             0.5555555555555556,
             "#d8576b"
            ],
            [
             0.6666666666666666,
             "#ed7953"
            ],
            [
             0.7777777777777778,
             "#fb9f3a"
            ],
            [
             0.8888888888888888,
             "#fdca26"
            ],
            [
             1,
             "#f0f921"
            ]
           ]
          },
          "colorway": [
           "#636efa",
           "#EF553B",
           "#00cc96",
           "#ab63fa",
           "#FFA15A",
           "#19d3f3",
           "#FF6692",
           "#B6E880",
           "#FF97FF",
           "#FECB52"
          ],
          "font": {
           "color": "#2a3f5f"
          },
          "geo": {
           "bgcolor": "white",
           "lakecolor": "white",
           "landcolor": "#E5ECF6",
           "showlakes": true,
           "showland": true,
           "subunitcolor": "white"
          },
          "hoverlabel": {
           "align": "left"
          },
          "hovermode": "closest",
          "mapbox": {
           "style": "light"
          },
          "paper_bgcolor": "white",
          "plot_bgcolor": "#E5ECF6",
          "polar": {
           "angularaxis": {
            "gridcolor": "white",
            "linecolor": "white",
            "ticks": ""
           },
           "bgcolor": "#E5ECF6",
           "radialaxis": {
            "gridcolor": "white",
            "linecolor": "white",
            "ticks": ""
           }
          },
          "scene": {
           "xaxis": {
            "backgroundcolor": "#E5ECF6",
            "gridcolor": "white",
            "gridwidth": 2,
            "linecolor": "white",
            "showbackground": true,
            "ticks": "",
            "zerolinecolor": "white"
           },
           "yaxis": {
            "backgroundcolor": "#E5ECF6",
            "gridcolor": "white",
            "gridwidth": 2,
            "linecolor": "white",
            "showbackground": true,
            "ticks": "",
            "zerolinecolor": "white"
           },
           "zaxis": {
            "backgroundcolor": "#E5ECF6",
            "gridcolor": "white",
            "gridwidth": 2,
            "linecolor": "white",
            "showbackground": true,
            "ticks": "",
            "zerolinecolor": "white"
           }
          },
          "shapedefaults": {
           "line": {
            "color": "#2a3f5f"
           }
          },
          "ternary": {
           "aaxis": {
            "gridcolor": "white",
            "linecolor": "white",
            "ticks": ""
           },
           "baxis": {
            "gridcolor": "white",
            "linecolor": "white",
            "ticks": ""
           },
           "bgcolor": "#E5ECF6",
           "caxis": {
            "gridcolor": "white",
            "linecolor": "white",
            "ticks": ""
           }
          },
          "title": {
           "x": 0.05
          },
          "xaxis": {
           "automargin": true,
           "gridcolor": "white",
           "linecolor": "white",
           "ticks": "",
           "title": {
            "standoff": 15
           },
           "zerolinecolor": "white",
           "zerolinewidth": 2
          },
          "yaxis": {
           "automargin": true,
           "gridcolor": "white",
           "linecolor": "white",
           "ticks": "",
           "title": {
            "standoff": 15
           },
           "zerolinecolor": "white",
           "zerolinewidth": 2
          }
         }
        }
       }
      },
      "text/html": [
       "<div>                            <div id=\"d26af4f2-7c15-4218-9f58-33ba757d859f\" class=\"plotly-graph-div\" style=\"height:525px; width:100%;\"></div>            <script type=\"text/javascript\">                require([\"plotly\"], function(Plotly) {                    window.PLOTLYENV=window.PLOTLYENV || {};                                    if (document.getElementById(\"d26af4f2-7c15-4218-9f58-33ba757d859f\")) {                    Plotly.newPlot(                        \"d26af4f2-7c15-4218-9f58-33ba757d859f\",                        [{\"mode\":\"lines+markers\",\"name\":\"\\ud3c9\\uc810\\ub192\\uc740\\uacf3 \\ub9ac\\ubdf0\\uac2f\\uc218\",\"type\":\"scatter\",\"x\":[\"\\ud55c\\ub0a8\\ub3d9\\ud55c\\ubc29\\ud1b5\\ub2ed\",\"\\uc11c\\uc6b8\\uc232 \\ub204\\ub8fd\\uc9c0\\ud1b5\\ub2ed\\uad6c\\uc774\",\"\\uc591\\ud0a4\\ud1b5\\ub2ed\",\"\\uc7a5\\uc791\\uc9d1\",\"\\ubbf8\\ub77d\\uce58\\ud0a8 \\uacbd\\ubcf5\\uad81\\ubcf8\\uc810\",\"\\ucca0\\uc7787\\ud638\\uce58\\ud0a8 \\ud64d\\ub300\\uc810\",\"\\ub124\\ud0a4\\ub4dc\\uc719\\uc988\",\"\\uc720\\uc9c4\\uce58\\ud0a8 \\ud64d\\uc81c\\uc810\",\"\\uc778\\uadfc\\uc8fc\\ubbfc \\uc0c1\\ub3c4\\uc810\",\"\\uc591\\uc7ac\\ub2ed\\uc9d1\",\"\\ub300\\ud55c\\ub9e5\\uc8fc\\uc9d1 \\uc131\\uc2e0\\uc5ec\\ub300\\uc9c1\\uc601\\uc810\",\"\\ud55c\\uc2e0\\uce58\\ud0a8\",\"\\ub0a8\\uc6d0\\ud1b5\\ub2ed\",\"\\uacc4\\ub9bc\\uc6d0 \\ud68c\\uae30\\uc5ed\\uc810\",\"\\ubbf8\\uce5c\\ub2ed \\uc885\\uac01\\ubcf8\\uc810\",\"\\ub3c4\\ub2f4\\uce58\\ud0a8 \\ud55c\\uc591\\ub300\\uc810\",\"\\uace0\\uac00\\ub124\\uc22f\\ubd88\\uad6c\\uc774\\ud1b5\\ub2ed\",\"\\uaf2c\\ub791\\uce58\\ud0a8\",\"\\uac10\\uacc4\\ubb34\\ub7c9 \\ub2f9\\uc0b0\\ubcf8\\uc810\",\"\\uc0ac\\uc774\\uce58\\ud0a8\",\"\\ub2ec\\uac00\\ub4dd\\uce58\\ud0a8\",\"\\uad7d\\ub124\\uce58\\ud0a8 \\uc5fc\\ucc3d\\uc5ed\\uc810\",\"\\ucc38\\ub098\\ubb34\\uc22f\\ubd88\\ud1b5\\ub2ed\",\"\\uc544\\uc6c3\\ub2ed \\uc5f0\\uc2e0\\ub0b4\\uc810\",\"\\ud55c\\uad6d\\ud1b5\\ub2ed \\uc885\\ub85c3\\ud638\\uc810\",\"\\uc0bc\\uc6b0\\uce58\\ud0a8\",\"\\uac10\\ubbf8\\uce58\\ud0a8\",\"\\uacc4\\ub9bc\\uc6d0 \\ub0a8\\uc601\\uc219\\ub300\\uc810\",\"\\uc774\\uc218\\ud1b5\\ub2ed \\ubcf8\\uc810\",\"\\ub2e4\\uae00\\ub2e4\\uae00\",\"\\uc0bc\\uc131\\ud1b5\\ub2ed \\ubcf8\\uc810\",\"\\ubc14\\ub978\\uce58\\ud0a8 \\uc885\\uac01\\uc5ed\\uc810\",\"\\uac00\\ubcf8\\ud1b5\\ub2ed\",\"\\uc885\\uad6c\\ub124\\ud1b5\\ub2ed\",\"\\uae08\\uac15\\ubc14\\ube44\\ud050\\uce58\\ud0a8\",\"\\uc544\\uc6c3\\ub2ed \\uc774\\ub300\\uc810\",\"\\uc0bc\\ud1b5\\uce58\\ud0a8 \\uc548\\uc554\\ubcf8\\uc810\",\"\\ucc38\\ub098\\ubb34\\ub2ed\\ub098\\ub77c\",\"\\uacbd\\uc131\\uce58\\ud0a8\",\"60\\uacc4 \\ub9c8\\ud3ec\\uc5ed\\uc810\",\"\\uce58\\ud0a8\\uc778\\ub354\\ud0a4\\uce5c \\uacbd\\ubcf5\\uad81\\uc5ed\\uc810\",\"\\uacc4\\uc778\\uc804\",\"\\ud478\\ub77c\\ub2ed\\uce58\\ud0a8 \\uc624\\ub958\\uc810\"],\"y\":[299,216,150,122,119,103,83,79,74,73,71,71,62,62,61,60,52,52,50,46,41,34,32,31,31,31,31,30,30,28,27,25,23,23,22,19,16,15,15,14,12,11,11]},{\"mode\":\"lines+markers\",\"name\":\"\\ud3c9\\uc810\\ub0ae\\uc740\\uacf3 \\ub9ac\\ubdf0\\uac2f\\uc218\",\"type\":\"scatter\",\"x\":[\"\\ucc98\\uac13\\uc9d1\\uc591\\ub150\\uce58\\ud0a8 \\ub2f9\\uc0b0\\uc810\",\"\\uc9c4\\ubbf8\\ud1b5\\ub2ed\",\"BBQ \\uc2e0\\ub2f9\\uc810\",\"\\uc624\\ube10\\ub9c8\\ub8e8\\uce58\\ud0a8 \\ubcf4\\ubb38\\uc790\\uc774\\uc810\",\"\\uc624\\ube10\\ub9c8\\ub8e8 \\uc11d\\uacc4\\uc5ed\\uc810\",\"\\ub124\\ub124\\uce58\\ud0a8 \\uc6b0\\uba74\\uc810\",\"\\uad50\\ucd0c\\uce58\\ud0a8 \\uc911\\ud654\\uc810\",\"\\uba85\\uac00\\ud1b5\\ub2ed \\ucc9c\\uc655\\uc810\",\"\\ud478\\ub77c\\ub2ed\\uce58\\ud0a8 \\ub300\\ub9bc\\uc810\",\"\\ucc98\\uac13\\uc9d1\\uc591\\ub150\\uce58\\ud0a8 \\uc2e0\\ub2f9\\uc810\",\"\\uadf8\\uc9d1\\uc22f\\ubd88\\ubc14\\ubca0\\ud050\\uce58\\ud0a8\",\"\\ubc14\\ub978\\uce58\\ud0a8 \\ubd81\\uc544\\ud604\\uc810\",\"\\uc624\\ube10\\ub9c8\\ub8e8 \\uc11c\\uc6b8\\uc5ed\\uc11c\\ubd80\\uc810\",\"\\ubbf8\\uccd0\\ubc84\\ub9b0\\ud30c\\ub2ed \\uac74\\ub300\\uc138\\uc885\\ub300\\uc810\",\"\\uc9c0\\ucf54\\ubc14 \\uc548\\uc554\\uc810\",\"\\ucc98\\uac13\\uc9d1\\uc591\\ub150\\uce58\\ud0a8 \\uc548\\uc554\\uc810\",\"\\ucc98\\uac13\\uc9d1\\uc591\\ub150\\uce58\\ud0a8 \\uc601\\ub4f1\\ud3ec\\uc810\",\"\\uc591\\uacc4\\uc7a5\\uc9d1\\uc544\\ub4e4 \\uc624\\uc815\\ub3d9\\uc810\",\"\\ubd88\\ub85c\\ub9cc\\uc22f\\ubd88\\ubc14\\ubca0\\ud050 \\uc6d0\\uc8852\\uc810\",\"\\ub458\\ub458\\uce58\\ud0a8 \\uc628\\uc218\\uc5ed\\uc810\",\"\\uba55\\uc2dc\\uce78\\uce58\\ud0a8 \\uc6d0\\ud6a8\\uc911\\uc559\\uc810\",\"BBQ \\ub3d9\\ub300\\ubb38\\uc810\",\"\\ud55c\\uad6d\\ud1b5\\ub2ed\",\"\\uc11c\\ucd0c\\uac15\\uc815\\uce58\\ud0a8 \\uacbd\\ubcf5\\uad81\\uc810\",\"\\ubc14\\ub80c\\ud2f0\\ub098\\uce58\\ud0a8\\ube44\\uc5b4 \\ucda9\\ubb34\\ubcf8\\uc810\",\"\\ub3d9\\uadfc\\uc774\\uc22f\\ubd88\\ub450\\ub9c8\\ub9ac\\uce58\\ud0a8\",\"\\uad7d\\ub124\\uce58\\ud0a8 \\uc2e0\\uc218\\uc810\",\"BHC\\uce58\\ud0a8 \\ud718\\uacbd\\uc810\",\"\\ud6c4\\ub77c\\uc774\\ub4dc\\ucc38\\uc798\\ud558\\ub294\\uc9d1 \\ub300\\ub9bc\\uc810\",\"\\uc22f\\ubd88\\ub2ed\\ubc14\\ubca0\\ud050 \\uc131\\ub300\\uc810\",\"\\ub9ac\\ud0a8\\uce58\\ud0a8\",\"\\ucc98\\uac13\\uc9d1\\uc591\\ub150\\uce58\\ud0a8 \\uc751\\ubd09\\uc810\",\"BBQ \\uc7a5\\uc704\\ud589\\ubcf5\\uc810\"],\"y\":[2,2,2,2,2,2,2,2,1,1,1,1,1,1,1,1,1,1,1,1,1,1,1,1,1,1,1,1,0,0,0,0,0]}],                        {\"template\":{\"data\":{\"bar\":[{\"error_x\":{\"color\":\"#2a3f5f\"},\"error_y\":{\"color\":\"#2a3f5f\"},\"marker\":{\"line\":{\"color\":\"#E5ECF6\",\"width\":0.5},\"pattern\":{\"fillmode\":\"overlay\",\"size\":10,\"solidity\":0.2}},\"type\":\"bar\"}],\"barpolar\":[{\"marker\":{\"line\":{\"color\":\"#E5ECF6\",\"width\":0.5},\"pattern\":{\"fillmode\":\"overlay\",\"size\":10,\"solidity\":0.2}},\"type\":\"barpolar\"}],\"carpet\":[{\"aaxis\":{\"endlinecolor\":\"#2a3f5f\",\"gridcolor\":\"white\",\"linecolor\":\"white\",\"minorgridcolor\":\"white\",\"startlinecolor\":\"#2a3f5f\"},\"baxis\":{\"endlinecolor\":\"#2a3f5f\",\"gridcolor\":\"white\",\"linecolor\":\"white\",\"minorgridcolor\":\"white\",\"startlinecolor\":\"#2a3f5f\"},\"type\":\"carpet\"}],\"choropleth\":[{\"colorbar\":{\"outlinewidth\":0,\"ticks\":\"\"},\"type\":\"choropleth\"}],\"contour\":[{\"colorbar\":{\"outlinewidth\":0,\"ticks\":\"\"},\"colorscale\":[[0.0,\"#0d0887\"],[0.1111111111111111,\"#46039f\"],[0.2222222222222222,\"#7201a8\"],[0.3333333333333333,\"#9c179e\"],[0.4444444444444444,\"#bd3786\"],[0.5555555555555556,\"#d8576b\"],[0.6666666666666666,\"#ed7953\"],[0.7777777777777778,\"#fb9f3a\"],[0.8888888888888888,\"#fdca26\"],[1.0,\"#f0f921\"]],\"type\":\"contour\"}],\"contourcarpet\":[{\"colorbar\":{\"outlinewidth\":0,\"ticks\":\"\"},\"type\":\"contourcarpet\"}],\"heatmap\":[{\"colorbar\":{\"outlinewidth\":0,\"ticks\":\"\"},\"colorscale\":[[0.0,\"#0d0887\"],[0.1111111111111111,\"#46039f\"],[0.2222222222222222,\"#7201a8\"],[0.3333333333333333,\"#9c179e\"],[0.4444444444444444,\"#bd3786\"],[0.5555555555555556,\"#d8576b\"],[0.6666666666666666,\"#ed7953\"],[0.7777777777777778,\"#fb9f3a\"],[0.8888888888888888,\"#fdca26\"],[1.0,\"#f0f921\"]],\"type\":\"heatmap\"}],\"heatmapgl\":[{\"colorbar\":{\"outlinewidth\":0,\"ticks\":\"\"},\"colorscale\":[[0.0,\"#0d0887\"],[0.1111111111111111,\"#46039f\"],[0.2222222222222222,\"#7201a8\"],[0.3333333333333333,\"#9c179e\"],[0.4444444444444444,\"#bd3786\"],[0.5555555555555556,\"#d8576b\"],[0.6666666666666666,\"#ed7953\"],[0.7777777777777778,\"#fb9f3a\"],[0.8888888888888888,\"#fdca26\"],[1.0,\"#f0f921\"]],\"type\":\"heatmapgl\"}],\"histogram\":[{\"marker\":{\"pattern\":{\"fillmode\":\"overlay\",\"size\":10,\"solidity\":0.2}},\"type\":\"histogram\"}],\"histogram2d\":[{\"colorbar\":{\"outlinewidth\":0,\"ticks\":\"\"},\"colorscale\":[[0.0,\"#0d0887\"],[0.1111111111111111,\"#46039f\"],[0.2222222222222222,\"#7201a8\"],[0.3333333333333333,\"#9c179e\"],[0.4444444444444444,\"#bd3786\"],[0.5555555555555556,\"#d8576b\"],[0.6666666666666666,\"#ed7953\"],[0.7777777777777778,\"#fb9f3a\"],[0.8888888888888888,\"#fdca26\"],[1.0,\"#f0f921\"]],\"type\":\"histogram2d\"}],\"histogram2dcontour\":[{\"colorbar\":{\"outlinewidth\":0,\"ticks\":\"\"},\"colorscale\":[[0.0,\"#0d0887\"],[0.1111111111111111,\"#46039f\"],[0.2222222222222222,\"#7201a8\"],[0.3333333333333333,\"#9c179e\"],[0.4444444444444444,\"#bd3786\"],[0.5555555555555556,\"#d8576b\"],[0.6666666666666666,\"#ed7953\"],[0.7777777777777778,\"#fb9f3a\"],[0.8888888888888888,\"#fdca26\"],[1.0,\"#f0f921\"]],\"type\":\"histogram2dcontour\"}],\"mesh3d\":[{\"colorbar\":{\"outlinewidth\":0,\"ticks\":\"\"},\"type\":\"mesh3d\"}],\"parcoords\":[{\"line\":{\"colorbar\":{\"outlinewidth\":0,\"ticks\":\"\"}},\"type\":\"parcoords\"}],\"pie\":[{\"automargin\":true,\"type\":\"pie\"}],\"scatter\":[{\"marker\":{\"colorbar\":{\"outlinewidth\":0,\"ticks\":\"\"}},\"type\":\"scatter\"}],\"scatter3d\":[{\"line\":{\"colorbar\":{\"outlinewidth\":0,\"ticks\":\"\"}},\"marker\":{\"colorbar\":{\"outlinewidth\":0,\"ticks\":\"\"}},\"type\":\"scatter3d\"}],\"scattercarpet\":[{\"marker\":{\"colorbar\":{\"outlinewidth\":0,\"ticks\":\"\"}},\"type\":\"scattercarpet\"}],\"scattergeo\":[{\"marker\":{\"colorbar\":{\"outlinewidth\":0,\"ticks\":\"\"}},\"type\":\"scattergeo\"}],\"scattergl\":[{\"marker\":{\"colorbar\":{\"outlinewidth\":0,\"ticks\":\"\"}},\"type\":\"scattergl\"}],\"scattermapbox\":[{\"marker\":{\"colorbar\":{\"outlinewidth\":0,\"ticks\":\"\"}},\"type\":\"scattermapbox\"}],\"scatterpolar\":[{\"marker\":{\"colorbar\":{\"outlinewidth\":0,\"ticks\":\"\"}},\"type\":\"scatterpolar\"}],\"scatterpolargl\":[{\"marker\":{\"colorbar\":{\"outlinewidth\":0,\"ticks\":\"\"}},\"type\":\"scatterpolargl\"}],\"scatterternary\":[{\"marker\":{\"colorbar\":{\"outlinewidth\":0,\"ticks\":\"\"}},\"type\":\"scatterternary\"}],\"surface\":[{\"colorbar\":{\"outlinewidth\":0,\"ticks\":\"\"},\"colorscale\":[[0.0,\"#0d0887\"],[0.1111111111111111,\"#46039f\"],[0.2222222222222222,\"#7201a8\"],[0.3333333333333333,\"#9c179e\"],[0.4444444444444444,\"#bd3786\"],[0.5555555555555556,\"#d8576b\"],[0.6666666666666666,\"#ed7953\"],[0.7777777777777778,\"#fb9f3a\"],[0.8888888888888888,\"#fdca26\"],[1.0,\"#f0f921\"]],\"type\":\"surface\"}],\"table\":[{\"cells\":{\"fill\":{\"color\":\"#EBF0F8\"},\"line\":{\"color\":\"white\"}},\"header\":{\"fill\":{\"color\":\"#C8D4E3\"},\"line\":{\"color\":\"white\"}},\"type\":\"table\"}]},\"layout\":{\"annotationdefaults\":{\"arrowcolor\":\"#2a3f5f\",\"arrowhead\":0,\"arrowwidth\":1},\"autotypenumbers\":\"strict\",\"coloraxis\":{\"colorbar\":{\"outlinewidth\":0,\"ticks\":\"\"}},\"colorscale\":{\"diverging\":[[0,\"#8e0152\"],[0.1,\"#c51b7d\"],[0.2,\"#de77ae\"],[0.3,\"#f1b6da\"],[0.4,\"#fde0ef\"],[0.5,\"#f7f7f7\"],[0.6,\"#e6f5d0\"],[0.7,\"#b8e186\"],[0.8,\"#7fbc41\"],[0.9,\"#4d9221\"],[1,\"#276419\"]],\"sequential\":[[0.0,\"#0d0887\"],[0.1111111111111111,\"#46039f\"],[0.2222222222222222,\"#7201a8\"],[0.3333333333333333,\"#9c179e\"],[0.4444444444444444,\"#bd3786\"],[0.5555555555555556,\"#d8576b\"],[0.6666666666666666,\"#ed7953\"],[0.7777777777777778,\"#fb9f3a\"],[0.8888888888888888,\"#fdca26\"],[1.0,\"#f0f921\"]],\"sequentialminus\":[[0.0,\"#0d0887\"],[0.1111111111111111,\"#46039f\"],[0.2222222222222222,\"#7201a8\"],[0.3333333333333333,\"#9c179e\"],[0.4444444444444444,\"#bd3786\"],[0.5555555555555556,\"#d8576b\"],[0.6666666666666666,\"#ed7953\"],[0.7777777777777778,\"#fb9f3a\"],[0.8888888888888888,\"#fdca26\"],[1.0,\"#f0f921\"]]},\"colorway\":[\"#636efa\",\"#EF553B\",\"#00cc96\",\"#ab63fa\",\"#FFA15A\",\"#19d3f3\",\"#FF6692\",\"#B6E880\",\"#FF97FF\",\"#FECB52\"],\"font\":{\"color\":\"#2a3f5f\"},\"geo\":{\"bgcolor\":\"white\",\"lakecolor\":\"white\",\"landcolor\":\"#E5ECF6\",\"showlakes\":true,\"showland\":true,\"subunitcolor\":\"white\"},\"hoverlabel\":{\"align\":\"left\"},\"hovermode\":\"closest\",\"mapbox\":{\"style\":\"light\"},\"paper_bgcolor\":\"white\",\"plot_bgcolor\":\"#E5ECF6\",\"polar\":{\"angularaxis\":{\"gridcolor\":\"white\",\"linecolor\":\"white\",\"ticks\":\"\"},\"bgcolor\":\"#E5ECF6\",\"radialaxis\":{\"gridcolor\":\"white\",\"linecolor\":\"white\",\"ticks\":\"\"}},\"scene\":{\"xaxis\":{\"backgroundcolor\":\"#E5ECF6\",\"gridcolor\":\"white\",\"gridwidth\":2,\"linecolor\":\"white\",\"showbackground\":true,\"ticks\":\"\",\"zerolinecolor\":\"white\"},\"yaxis\":{\"backgroundcolor\":\"#E5ECF6\",\"gridcolor\":\"white\",\"gridwidth\":2,\"linecolor\":\"white\",\"showbackground\":true,\"ticks\":\"\",\"zerolinecolor\":\"white\"},\"zaxis\":{\"backgroundcolor\":\"#E5ECF6\",\"gridcolor\":\"white\",\"gridwidth\":2,\"linecolor\":\"white\",\"showbackground\":true,\"ticks\":\"\",\"zerolinecolor\":\"white\"}},\"shapedefaults\":{\"line\":{\"color\":\"#2a3f5f\"}},\"ternary\":{\"aaxis\":{\"gridcolor\":\"white\",\"linecolor\":\"white\",\"ticks\":\"\"},\"baxis\":{\"gridcolor\":\"white\",\"linecolor\":\"white\",\"ticks\":\"\"},\"bgcolor\":\"#E5ECF6\",\"caxis\":{\"gridcolor\":\"white\",\"linecolor\":\"white\",\"ticks\":\"\"}},\"title\":{\"x\":0.05},\"xaxis\":{\"automargin\":true,\"gridcolor\":\"white\",\"linecolor\":\"white\",\"ticks\":\"\",\"title\":{\"standoff\":15},\"zerolinecolor\":\"white\",\"zerolinewidth\":2},\"yaxis\":{\"automargin\":true,\"gridcolor\":\"white\",\"linecolor\":\"white\",\"ticks\":\"\",\"title\":{\"standoff\":15},\"zerolinecolor\":\"white\",\"zerolinewidth\":2}}}},                        {\"responsive\": true}                    ).then(function(){\n",
       "                            \n",
       "var gd = document.getElementById('d26af4f2-7c15-4218-9f58-33ba757d859f');\n",
       "var x = new MutationObserver(function (mutations, observer) {{\n",
       "        var display = window.getComputedStyle(gd).display;\n",
       "        if (!display || display === 'none') {{\n",
       "            console.log([gd, 'removed!']);\n",
       "            Plotly.purge(gd);\n",
       "            observer.disconnect();\n",
       "        }}\n",
       "}});\n",
       "\n",
       "// Listen for the removal of the full notebook cells\n",
       "var notebookContainer = gd.closest('#notebook-container');\n",
       "if (notebookContainer) {{\n",
       "    x.observe(notebookContainer, {childList: true});\n",
       "}}\n",
       "\n",
       "// Listen for the clearing of the current output cell\n",
       "var outputEl = gd.closest('.output');\n",
       "if (outputEl) {{\n",
       "    x.observe(outputEl, {childList: true});\n",
       "}}\n",
       "\n",
       "                        })                };                });            </script>        </div>"
      ]
     },
     "metadata": {},
     "output_type": "display_data"
    }
   ],
   "source": [
    "fig = go.Figure()\n",
    "\n",
    "fig.add_trace(go.Scatter(x=ckup['가게이름'],\n",
    "                         y=ckup['리뷰갯수'],\n",
    "                    mode='lines+markers', # Line Plot에 마커찍기\n",
    "                    name='평점높은곳 리뷰갯수'))\n",
    "\n",
    "fig.add_trace(go.Scatter(x=ckdw['가게이름'],\n",
    "                         y=ckdw['리뷰갯수'],\n",
    "                    mode='lines+markers', # Line Plot에 마커찍기\n",
    "                    name='평점낮은곳 리뷰갯수'))\n",
    "\n",
    "# 결과적으로 리뷰갯수 자체가 엄청나게 차이가 난다.\n",
    "# 이 차이가 인구수와 관련이있을까 의심이든다"
   ]
  },
  {
   "cell_type": "code",
   "execution_count": null,
   "id": "3e9e755b",
   "metadata": {},
   "outputs": [],
   "source": [
    "# 구에 대한 데이터가 오면 구별 빈도를 알수 있고 그 빈도에 따른 위치를 보고 \n",
    "# 위 시각화 결과 리뷰갯수에서 심각하게 차이가 나기때문에 이 리뷰갯수가"
   ]
  }
 ],
 "metadata": {
  "kernelspec": {
   "display_name": "Python 3",
   "language": "python",
   "name": "python3"
  },
  "language_info": {
   "codemirror_mode": {
    "name": "ipython",
    "version": 3
   },
   "file_extension": ".py",
   "mimetype": "text/x-python",
   "name": "python",
   "nbconvert_exporter": "python",
   "pygments_lexer": "ipython3",
   "version": "3.8.8"
  }
 },
 "nbformat": 4,
 "nbformat_minor": 5
}
